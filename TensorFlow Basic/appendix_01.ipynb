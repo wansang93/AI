{
 "cells": [
  {
   "cell_type": "code",
   "execution_count": 2,
   "metadata": {},
   "outputs": [],
   "source": [
    "import pandas as pd\n",
    "import tensorflow as tf"
   ]
  },
  {
   "cell_type": "code",
   "execution_count": 3,
   "metadata": {},
   "outputs": [
    {
     "data": {
      "text/html": [
       "<div>\n",
       "<style scoped>\n",
       "    .dataframe tbody tr th:only-of-type {\n",
       "        vertical-align: middle;\n",
       "    }\n",
       "\n",
       "    .dataframe tbody tr th {\n",
       "        vertical-align: top;\n",
       "    }\n",
       "\n",
       "    .dataframe thead th {\n",
       "        text-align: right;\n",
       "    }\n",
       "</style>\n",
       "<table border=\"1\" class=\"dataframe\">\n",
       "  <thead>\n",
       "    <tr style=\"text-align: right;\">\n",
       "      <th></th>\n",
       "      <th>꽃잎길이</th>\n",
       "      <th>꽃잎폭</th>\n",
       "      <th>꽃받침길이</th>\n",
       "      <th>꽃받침폭</th>\n",
       "      <th>품종</th>\n",
       "    </tr>\n",
       "  </thead>\n",
       "  <tbody>\n",
       "    <tr>\n",
       "      <th>0</th>\n",
       "      <td>5.1</td>\n",
       "      <td>3.5</td>\n",
       "      <td>1.4</td>\n",
       "      <td>0.2</td>\n",
       "      <td>0</td>\n",
       "    </tr>\n",
       "    <tr>\n",
       "      <th>1</th>\n",
       "      <td>4.9</td>\n",
       "      <td>3.0</td>\n",
       "      <td>1.4</td>\n",
       "      <td>0.2</td>\n",
       "      <td>0</td>\n",
       "    </tr>\n",
       "    <tr>\n",
       "      <th>2</th>\n",
       "      <td>4.7</td>\n",
       "      <td>3.2</td>\n",
       "      <td>1.3</td>\n",
       "      <td>0.2</td>\n",
       "      <td>0</td>\n",
       "    </tr>\n",
       "    <tr>\n",
       "      <th>3</th>\n",
       "      <td>4.6</td>\n",
       "      <td>3.1</td>\n",
       "      <td>1.5</td>\n",
       "      <td>0.2</td>\n",
       "      <td>0</td>\n",
       "    </tr>\n",
       "    <tr>\n",
       "      <th>4</th>\n",
       "      <td>5.0</td>\n",
       "      <td>3.6</td>\n",
       "      <td>1.4</td>\n",
       "      <td>0.2</td>\n",
       "      <td>0</td>\n",
       "    </tr>\n",
       "  </tbody>\n",
       "</table>\n",
       "</div>"
      ],
      "text/plain": [
       "   꽃잎길이  꽃잎폭  꽃받침길이  꽃받침폭  품종\n",
       "0   5.1  3.5    1.4   0.2   0\n",
       "1   4.9  3.0    1.4   0.2   0\n",
       "2   4.7  3.2    1.3   0.2   0\n",
       "3   4.6  3.1    1.5   0.2   0\n",
       "4   5.0  3.6    1.4   0.2   0"
      ]
     },
     "execution_count": 3,
     "metadata": {},
     "output_type": "execute_result"
    }
   ],
   "source": [
    "iris_csv = 'https://raw.githubusercontent.com/blackdew/tensorflow1/master/csv/iris2.csv'\n",
    "iris = pd.read_csv(iris_csv)\n",
    "iris.head()"
   ]
  },
  {
   "cell_type": "code",
   "execution_count": 12,
   "metadata": {},
   "outputs": [
    {
     "name": "stdout",
     "output_type": "stream",
     "text": [
      "꽃잎길이      float64\n",
      "꽃잎폭       float64\n",
      "꽃받침길이     float64\n",
      "꽃받침폭      float64\n",
      "품종       category\n",
      "dtype: object\n"
     ]
    }
   ],
   "source": [
    "# Onehot-encoding\n",
    "print(iris.dtypes)"
   ]
  },
  {
   "cell_type": "code",
   "execution_count": 13,
   "metadata": {},
   "outputs": [
    {
     "name": "stdout",
     "output_type": "stream",
     "text": [
      "꽃잎길이      float64\n",
      "꽃잎폭       float64\n",
      "꽃받침길이     float64\n",
      "꽃받침폭      float64\n",
      "품종       category\n",
      "dtype: object\n"
     ]
    }
   ],
   "source": [
    "iris['품종'] = iris['품종'].astype('category')\n",
    "print(iris.dtypes)"
   ]
  },
  {
   "cell_type": "code",
   "execution_count": 15,
   "metadata": {},
   "outputs": [
    {
     "data": {
      "text/html": [
       "<div>\n",
       "<style scoped>\n",
       "    .dataframe tbody tr th:only-of-type {\n",
       "        vertical-align: middle;\n",
       "    }\n",
       "\n",
       "    .dataframe tbody tr th {\n",
       "        vertical-align: top;\n",
       "    }\n",
       "\n",
       "    .dataframe thead th {\n",
       "        text-align: right;\n",
       "    }\n",
       "</style>\n",
       "<table border=\"1\" class=\"dataframe\">\n",
       "  <thead>\n",
       "    <tr style=\"text-align: right;\">\n",
       "      <th></th>\n",
       "      <th>꽃잎길이</th>\n",
       "      <th>꽃잎폭</th>\n",
       "      <th>꽃받침길이</th>\n",
       "      <th>꽃받침폭</th>\n",
       "      <th>품종_0</th>\n",
       "      <th>품종_1</th>\n",
       "      <th>품종_2</th>\n",
       "    </tr>\n",
       "  </thead>\n",
       "  <tbody>\n",
       "    <tr>\n",
       "      <th>0</th>\n",
       "      <td>5.1</td>\n",
       "      <td>3.5</td>\n",
       "      <td>1.4</td>\n",
       "      <td>0.2</td>\n",
       "      <td>1</td>\n",
       "      <td>0</td>\n",
       "      <td>0</td>\n",
       "    </tr>\n",
       "    <tr>\n",
       "      <th>1</th>\n",
       "      <td>4.9</td>\n",
       "      <td>3.0</td>\n",
       "      <td>1.4</td>\n",
       "      <td>0.2</td>\n",
       "      <td>1</td>\n",
       "      <td>0</td>\n",
       "      <td>0</td>\n",
       "    </tr>\n",
       "    <tr>\n",
       "      <th>2</th>\n",
       "      <td>4.7</td>\n",
       "      <td>3.2</td>\n",
       "      <td>1.3</td>\n",
       "      <td>0.2</td>\n",
       "      <td>1</td>\n",
       "      <td>0</td>\n",
       "      <td>0</td>\n",
       "    </tr>\n",
       "    <tr>\n",
       "      <th>3</th>\n",
       "      <td>4.6</td>\n",
       "      <td>3.1</td>\n",
       "      <td>1.5</td>\n",
       "      <td>0.2</td>\n",
       "      <td>1</td>\n",
       "      <td>0</td>\n",
       "      <td>0</td>\n",
       "    </tr>\n",
       "    <tr>\n",
       "      <th>4</th>\n",
       "      <td>5.0</td>\n",
       "      <td>3.6</td>\n",
       "      <td>1.4</td>\n",
       "      <td>0.2</td>\n",
       "      <td>1</td>\n",
       "      <td>0</td>\n",
       "      <td>0</td>\n",
       "    </tr>\n",
       "  </tbody>\n",
       "</table>\n",
       "</div>"
      ],
      "text/plain": [
       "   꽃잎길이  꽃잎폭  꽃받침길이  꽃받침폭  품종_0  품종_1  품종_2\n",
       "0   5.1  3.5    1.4   0.2     1     0     0\n",
       "1   4.9  3.0    1.4   0.2     1     0     0\n",
       "2   4.7  3.2    1.3   0.2     1     0     0\n",
       "3   4.6  3.1    1.5   0.2     1     0     0\n",
       "4   5.0  3.6    1.4   0.2     1     0     0"
      ]
     },
     "execution_count": 15,
     "metadata": {},
     "output_type": "execute_result"
    }
   ],
   "source": [
    "encoding = pd.get_dummies(iris)\n",
    "encoding.head()"
   ]
  },
  {
   "cell_type": "code",
   "execution_count": 17,
   "metadata": {},
   "outputs": [
    {
     "data": {
      "text/plain": [
       "꽃잎길이     0\n",
       "꽃잎폭      1\n",
       "꽃받침길이    0\n",
       "꽃받침폭     0\n",
       "품종_0     0\n",
       "품종_1     0\n",
       "품종_2     0\n",
       "dtype: int64"
      ]
     },
     "execution_count": 17,
     "metadata": {},
     "output_type": "execute_result"
    }
   ],
   "source": [
    "encoding.isna().sum()"
   ]
  },
  {
   "cell_type": "code",
   "execution_count": 20,
   "metadata": {},
   "outputs": [
    {
     "data": {
      "text/html": [
       "<div>\n",
       "<style scoped>\n",
       "    .dataframe tbody tr th:only-of-type {\n",
       "        vertical-align: middle;\n",
       "    }\n",
       "\n",
       "    .dataframe tbody tr th {\n",
       "        vertical-align: top;\n",
       "    }\n",
       "\n",
       "    .dataframe thead th {\n",
       "        text-align: right;\n",
       "    }\n",
       "</style>\n",
       "<table border=\"1\" class=\"dataframe\">\n",
       "  <thead>\n",
       "    <tr style=\"text-align: right;\">\n",
       "      <th></th>\n",
       "      <th>꽃잎길이</th>\n",
       "      <th>꽃잎폭</th>\n",
       "      <th>꽃받침길이</th>\n",
       "      <th>꽃받침폭</th>\n",
       "      <th>품종_0</th>\n",
       "      <th>품종_1</th>\n",
       "      <th>품종_2</th>\n",
       "    </tr>\n",
       "  </thead>\n",
       "  <tbody>\n",
       "    <tr>\n",
       "      <th>145</th>\n",
       "      <td>6.7</td>\n",
       "      <td>3.000000</td>\n",
       "      <td>5.2</td>\n",
       "      <td>2.3</td>\n",
       "      <td>0</td>\n",
       "      <td>0</td>\n",
       "      <td>1</td>\n",
       "    </tr>\n",
       "    <tr>\n",
       "      <th>146</th>\n",
       "      <td>6.3</td>\n",
       "      <td>2.500000</td>\n",
       "      <td>5.0</td>\n",
       "      <td>1.9</td>\n",
       "      <td>0</td>\n",
       "      <td>0</td>\n",
       "      <td>1</td>\n",
       "    </tr>\n",
       "    <tr>\n",
       "      <th>147</th>\n",
       "      <td>6.5</td>\n",
       "      <td>3.000000</td>\n",
       "      <td>5.2</td>\n",
       "      <td>2.0</td>\n",
       "      <td>0</td>\n",
       "      <td>0</td>\n",
       "      <td>1</td>\n",
       "    </tr>\n",
       "    <tr>\n",
       "      <th>148</th>\n",
       "      <td>6.2</td>\n",
       "      <td>3.400000</td>\n",
       "      <td>5.4</td>\n",
       "      <td>2.3</td>\n",
       "      <td>0</td>\n",
       "      <td>0</td>\n",
       "      <td>1</td>\n",
       "    </tr>\n",
       "    <tr>\n",
       "      <th>149</th>\n",
       "      <td>5.9</td>\n",
       "      <td>3.054362</td>\n",
       "      <td>5.1</td>\n",
       "      <td>1.8</td>\n",
       "      <td>0</td>\n",
       "      <td>0</td>\n",
       "      <td>1</td>\n",
       "    </tr>\n",
       "  </tbody>\n",
       "</table>\n",
       "</div>"
      ],
      "text/plain": [
       "     꽃잎길이       꽃잎폭  꽃받침길이  꽃받침폭  품종_0  품종_1  품종_2\n",
       "145   6.7  3.000000    5.2   2.3     0     0     1\n",
       "146   6.3  2.500000    5.0   1.9     0     0     1\n",
       "147   6.5  3.000000    5.2   2.0     0     0     1\n",
       "148   6.2  3.400000    5.4   2.3     0     0     1\n",
       "149   5.9  3.054362    5.1   1.8     0     0     1"
      ]
     },
     "execution_count": 20,
     "metadata": {},
     "output_type": "execute_result"
    }
   ],
   "source": [
    "encoding.tail()"
   ]
  },
  {
   "cell_type": "code",
   "execution_count": 23,
   "metadata": {},
   "outputs": [
    {
     "data": {
      "text/html": [
       "<div>\n",
       "<style scoped>\n",
       "    .dataframe tbody tr th:only-of-type {\n",
       "        vertical-align: middle;\n",
       "    }\n",
       "\n",
       "    .dataframe tbody tr th {\n",
       "        vertical-align: top;\n",
       "    }\n",
       "\n",
       "    .dataframe thead th {\n",
       "        text-align: right;\n",
       "    }\n",
       "</style>\n",
       "<table border=\"1\" class=\"dataframe\">\n",
       "  <thead>\n",
       "    <tr style=\"text-align: right;\">\n",
       "      <th></th>\n",
       "      <th>꽃잎길이</th>\n",
       "      <th>꽃잎폭</th>\n",
       "      <th>꽃받침길이</th>\n",
       "      <th>꽃받침폭</th>\n",
       "      <th>품종_0</th>\n",
       "      <th>품종_1</th>\n",
       "      <th>품종_2</th>\n",
       "    </tr>\n",
       "  </thead>\n",
       "  <tbody>\n",
       "    <tr>\n",
       "      <th>145</th>\n",
       "      <td>6.7</td>\n",
       "      <td>3.000000</td>\n",
       "      <td>5.2</td>\n",
       "      <td>2.3</td>\n",
       "      <td>0</td>\n",
       "      <td>0</td>\n",
       "      <td>1</td>\n",
       "    </tr>\n",
       "    <tr>\n",
       "      <th>146</th>\n",
       "      <td>6.3</td>\n",
       "      <td>2.500000</td>\n",
       "      <td>5.0</td>\n",
       "      <td>1.9</td>\n",
       "      <td>0</td>\n",
       "      <td>0</td>\n",
       "      <td>1</td>\n",
       "    </tr>\n",
       "    <tr>\n",
       "      <th>147</th>\n",
       "      <td>6.5</td>\n",
       "      <td>3.000000</td>\n",
       "      <td>5.2</td>\n",
       "      <td>2.0</td>\n",
       "      <td>0</td>\n",
       "      <td>0</td>\n",
       "      <td>1</td>\n",
       "    </tr>\n",
       "    <tr>\n",
       "      <th>148</th>\n",
       "      <td>6.2</td>\n",
       "      <td>3.400000</td>\n",
       "      <td>5.4</td>\n",
       "      <td>2.3</td>\n",
       "      <td>0</td>\n",
       "      <td>0</td>\n",
       "      <td>1</td>\n",
       "    </tr>\n",
       "    <tr>\n",
       "      <th>149</th>\n",
       "      <td>5.9</td>\n",
       "      <td>3.054362</td>\n",
       "      <td>5.1</td>\n",
       "      <td>1.8</td>\n",
       "      <td>0</td>\n",
       "      <td>0</td>\n",
       "      <td>1</td>\n",
       "    </tr>\n",
       "  </tbody>\n",
       "</table>\n",
       "</div>"
      ],
      "text/plain": [
       "     꽃잎길이       꽃잎폭  꽃받침길이  꽃받침폭  품종_0  품종_1  품종_2\n",
       "145   6.7  3.000000    5.2   2.3     0     0     1\n",
       "146   6.3  2.500000    5.0   1.9     0     0     1\n",
       "147   6.5  3.000000    5.2   2.0     0     0     1\n",
       "148   6.2  3.400000    5.4   2.3     0     0     1\n",
       "149   5.9  3.054362    5.1   1.8     0     0     1"
      ]
     },
     "execution_count": 23,
     "metadata": {},
     "output_type": "execute_result"
    }
   ],
   "source": [
    "# NA 값에 꽃잎폭 평균 값을 넣어준다.\n",
    "mean = encoding['꽃잎폭'].mean()\n",
    "encoding['꽃잎폭'] = encoding['꽃잎폭'].fillna(mean)\n",
    "encoding.tail()"
   ]
  },
  {
   "cell_type": "code",
   "execution_count": 24,
   "metadata": {},
   "outputs": [
    {
     "name": "stdout",
     "output_type": "stream",
     "text": [
      "Index(['꽃잎길이', '꽃잎폭', '꽃받침길이', '꽃받침폭', '품종_0', '품종_1', '품종_2'], dtype='object')\n"
     ]
    }
   ],
   "source": [
    "print(encoding.columns)\n",
    "x = encoding[['꽃잎길이', '꽃잎폭', '꽃받침길이', '꽃받침폭']]\n",
    "y = encoding[['품종_0', '품종_1', '품종_2']]"
   ]
  },
  {
   "cell_type": "code",
   "execution_count": 44,
   "metadata": {},
   "outputs": [
    {
     "name": "stdout",
     "output_type": "stream",
     "text": [
      "Model: \"functional_5\"\n",
      "_________________________________________________________________\n",
      "Layer (type)                 Output Shape              Param #   \n",
      "=================================================================\n",
      "input_3 (InputLayer)         [(None, 4)]               0         \n",
      "_________________________________________________________________\n",
      "dense_5 (Dense)              (None, 5)                 25        \n",
      "_________________________________________________________________\n",
      "dense_6 (Dense)              (None, 5)                 30        \n",
      "_________________________________________________________________\n",
      "dense_7 (Dense)              (None, 5)                 30        \n",
      "_________________________________________________________________\n",
      "dense_8 (Dense)              (None, 3)                 18        \n",
      "=================================================================\n",
      "Total params: 103\n",
      "Trainable params: 103\n",
      "Non-trainable params: 0\n",
      "_________________________________________________________________\n"
     ]
    }
   ],
   "source": [
    "# build a model\n",
    "X = tf.keras.layers.Input(shape=[4])\n",
    "H = tf.keras.layers.Dense(5, activation='swish')(X)\n",
    "H = tf.keras.layers.Dense(5, activation='swish')(H)\n",
    "H = tf.keras.layers.Dense(5, activation='swish')(H)\n",
    "Y = tf.keras.layers.Dense(3, activation='softmax')(H)\n",
    "model = tf.keras.models.Model(X, Y)\n",
    "model.compile(loss='categorical_crossentropy',\n",
    "             metrics='accuracy')\n",
    "model.summary()"
   ]
  },
  {
   "cell_type": "code",
   "execution_count": 33,
   "metadata": {},
   "outputs": [
    {
     "name": "stdout",
     "output_type": "stream",
     "text": [
      "Epoch 1/10\n",
      "5/5 [==============================] - 0s 606us/step - loss: 0.0506 - accuracy: 0.9800\n",
      "Epoch 2/10\n",
      "5/5 [==============================] - 0s 598us/step - loss: 0.0452 - accuracy: 0.9867\n",
      "Epoch 3/10\n",
      "5/5 [==============================] - 0s 791us/step - loss: 0.0463 - accuracy: 0.9867\n",
      "Epoch 4/10\n",
      "5/5 [==============================] - 0s 1ms/step - loss: 0.0481 - accuracy: 0.9800\n",
      "Epoch 5/10\n",
      "5/5 [==============================] - 0s 798us/step - loss: 0.0468 - accuracy: 0.9800\n",
      "Epoch 6/10\n",
      "5/5 [==============================] - 0s 603us/step - loss: 0.0476 - accuracy: 0.9867\n",
      "Epoch 7/10\n",
      "5/5 [==============================] - 0s 1ms/step - loss: 0.0440 - accuracy: 0.9867\n",
      "Epoch 8/10\n",
      "5/5 [==============================] - 0s 594us/step - loss: 0.0485 - accuracy: 0.9867\n",
      "Epoch 9/10\n",
      "5/5 [==============================] - 0s 798us/step - loss: 0.0469 - accuracy: 0.9800\n",
      "Epoch 10/10\n",
      "5/5 [==============================] - 0s 992us/step - loss: 0.0441 - accuracy: 0.9800\n"
     ]
    },
    {
     "data": {
      "text/plain": [
       "<tensorflow.python.keras.callbacks.History at 0x1d21feafe50>"
      ]
     },
     "execution_count": 33,
     "metadata": {},
     "output_type": "execute_result"
    }
   ],
   "source": [
    "model.fit(x, y, epochs=1000, verbose=0)\n",
    "model.fit(x, y, epochs=10)"
   ]
  },
  {
   "cell_type": "code",
   "execution_count": 39,
   "metadata": {},
   "outputs": [
    {
     "data": {
      "text/plain": [
       "array([[1.0000000e+00, 1.2307834e-08, 9.1413768e-14],\n",
       "       [1.0000000e+00, 1.2295539e-08, 8.6231125e-14],\n",
       "       [1.0000000e+00, 9.1038164e-09, 5.4793863e-14],\n",
       "       [1.0000000e+00, 8.4762268e-09, 4.5447285e-14],\n",
       "       [1.0000000e+00, 1.5744481e-08, 1.0511911e-13]], dtype=float32)"
      ]
     },
     "execution_count": 39,
     "metadata": {},
     "output_type": "execute_result"
    }
   ],
   "source": [
    "model.predict(x[0:5])"
   ]
  },
  {
   "cell_type": "code",
   "execution_count": 40,
   "metadata": {},
   "outputs": [
    {
     "name": "stdout",
     "output_type": "stream",
     "text": [
      "   품종_0  품종_1  품종_2\n",
      "0     1     0     0\n",
      "1     1     0     0\n",
      "2     1     0     0\n",
      "3     1     0     0\n",
      "4     1     0     0\n"
     ]
    }
   ],
   "source": [
    "print(y[0:5])"
   ]
  },
  {
   "cell_type": "code",
   "execution_count": 41,
   "metadata": {},
   "outputs": [
    {
     "data": {
      "text/plain": [
       "array([[1.71895445e-05, 2.26299721e-03, 9.97719824e-01],\n",
       "       [3.23540298e-05, 3.42167611e-03, 9.96545970e-01],\n",
       "       [1.03282517e-04, 1.12095615e-02, 9.88687158e-01],\n",
       "       [7.58241804e-05, 1.49434535e-02, 9.84980702e-01],\n",
       "       [3.29558461e-05, 3.10237636e-03, 9.96864617e-01]], dtype=float32)"
      ]
     },
     "execution_count": 41,
     "metadata": {},
     "output_type": "execute_result"
    }
   ],
   "source": [
    "model.predict(x[-6:-1])"
   ]
  },
  {
   "cell_type": "code",
   "execution_count": 42,
   "metadata": {},
   "outputs": [
    {
     "name": "stdout",
     "output_type": "stream",
     "text": [
      "     품종_0  품종_1  품종_2\n",
      "144     0     0     1\n",
      "145     0     0     1\n",
      "146     0     0     1\n",
      "147     0     0     1\n",
      "148     0     0     1\n"
     ]
    }
   ],
   "source": [
    "print(y[-6:-1])"
   ]
  },
  {
   "cell_type": "code",
   "execution_count": 43,
   "metadata": {},
   "outputs": [
    {
     "data": {
      "text/plain": [
       "[array([[ 0.6755006 ,  0.00535846, -0.18528229,  0.43668646,  0.18438812],\n",
       "        [ 0.5425636 ,  0.08755983,  1.064205  , -0.18922281, -0.1117766 ],\n",
       "        [-0.6402648 , -0.4229297 , -0.5022555 ,  0.3397778 , -0.8450607 ],\n",
       "        [-0.89725935, -0.72044253, -1.489894  ,  1.0151193 , -0.19090003]],\n",
       "       dtype=float32),\n",
       " array([ 0.28151947,  0.6327271 ,  0.47574604, -0.3135926 ,  0.29148468],\n",
       "       dtype=float32),\n",
       " array([[ 0.1266336 ,  0.07932285, -1.0724405 , -0.43457833,  0.04595942],\n",
       "        [-0.12185576, -0.53553474,  1.192123  , -1.0502815 ,  0.02795548],\n",
       "        [-0.5646591 , -1.1534551 ,  0.38142362,  0.2679518 , -1.8030653 ],\n",
       "        [-0.52850485, -0.06840092,  0.76699954, -0.3987854 ,  0.83486944],\n",
       "        [-0.08273188,  0.22736341,  0.73012596, -0.19545028,  0.15346617]],\n",
       "       dtype=float32),\n",
       " array([ 0.33683842,  0.5162077 , -0.30923712,  0.35247767,  0.34782392],\n",
       "       dtype=float32),\n",
       " array([[ 0.00393922, -1.4757864 , -1.0100495 , -0.9781309 , -0.5607791 ],\n",
       "        [ 0.66449106,  0.67234486, -1.548969  , -1.1411402 ,  0.6360902 ],\n",
       "        [-1.4191778 , -1.0070331 , -0.5036299 , -0.23559223, -0.51279783],\n",
       "        [-0.3857486 , -1.116109  , -0.9873488 , -1.5432037 ,  0.0176732 ],\n",
       "        [ 0.5912236 ,  0.25403646, -0.07573595, -0.26271886, -0.0110898 ]],\n",
       "       dtype=float32),\n",
       " array([0.15259452, 0.3877774 , 1.1758984 , 1.2570658 , 0.6320025 ],\n",
       "       dtype=float32),\n",
       " array([[-3.972227  ,  1.728102  , -0.6111395 ],\n",
       "        [ 0.8852115 ,  2.589375  , -2.1776602 ],\n",
       "        [ 5.257869  ,  0.05367578, -2.3170485 ],\n",
       "        [ 5.066967  , -0.32504126, -2.1712022 ],\n",
       "        [ 4.5187397 ,  1.6193092 , -2.0601437 ]], dtype=float32),\n",
       " array([-4.1608276 , -0.91570836,  1.085363  ], dtype=float32)]"
      ]
     },
     "execution_count": 43,
     "metadata": {},
     "output_type": "execute_result"
    }
   ],
   "source": [
    "model.get_weights()"
   ]
  },
  {
   "cell_type": "code",
   "execution_count": null,
   "metadata": {},
   "outputs": [],
   "source": []
  }
 ],
 "metadata": {
  "kernelspec": {
   "display_name": "Python 3",
   "language": "python",
   "name": "python3"
  },
  "language_info": {
   "codemirror_mode": {
    "name": "ipython",
    "version": 3
   },
   "file_extension": ".py",
   "mimetype": "text/x-python",
   "name": "python",
   "nbconvert_exporter": "python",
   "pygments_lexer": "ipython3",
   "version": "3.8.3"
  }
 },
 "nbformat": 4,
 "nbformat_minor": 4
}
