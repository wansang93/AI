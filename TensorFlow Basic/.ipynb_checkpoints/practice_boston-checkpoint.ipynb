{
 "cells": [
  {
   "cell_type": "code",
   "execution_count": 1,
   "metadata": {
    "colab": {},
    "colab_type": "code",
    "id": "09jyZz7Na7Lf"
   },
   "outputs": [],
   "source": [
    "import pandas as pd\n",
    "import tensorflow as tf"
   ]
  },
  {
   "cell_type": "code",
   "execution_count": 6,
   "metadata": {
    "colab": {},
    "colab_type": "code",
    "id": "_IIhNWktbCnA"
   },
   "outputs": [],
   "source": [
    "boston_csv = r'https://raw.githubusercontent.com/blackdew/tensorflow1/master/csv/boston.csv'"
   ]
  },
  {
   "cell_type": "code",
   "execution_count": 9,
   "metadata": {
    "colab": {
     "base_uri": "https://localhost:8080/",
     "height": 246
    },
    "colab_type": "code",
    "id": "GS-DIl2MbHkn",
    "outputId": "c6032033-60a2-4dab-f470-d667fa30c01b"
   },
   "outputs": [
    {
     "name": "stdout",
     "output_type": "stream",
     "text": [
      "Index(['crim', 'zn', 'indus', 'chas', 'nox', 'rm', 'age', 'dis', 'rad', 'tax',\n",
      "       'ptratio', 'b', 'lstat', 'medv'],\n",
      "      dtype='object')\n"
     ]
    },
    {
     "data": {
      "text/html": [
       "<div>\n",
       "<style scoped>\n",
       "    .dataframe tbody tr th:only-of-type {\n",
       "        vertical-align: middle;\n",
       "    }\n",
       "\n",
       "    .dataframe tbody tr th {\n",
       "        vertical-align: top;\n",
       "    }\n",
       "\n",
       "    .dataframe thead th {\n",
       "        text-align: right;\n",
       "    }\n",
       "</style>\n",
       "<table border=\"1\" class=\"dataframe\">\n",
       "  <thead>\n",
       "    <tr style=\"text-align: right;\">\n",
       "      <th></th>\n",
       "      <th>crim</th>\n",
       "      <th>zn</th>\n",
       "      <th>indus</th>\n",
       "      <th>chas</th>\n",
       "      <th>nox</th>\n",
       "      <th>rm</th>\n",
       "      <th>age</th>\n",
       "      <th>dis</th>\n",
       "      <th>rad</th>\n",
       "      <th>tax</th>\n",
       "      <th>ptratio</th>\n",
       "      <th>b</th>\n",
       "      <th>lstat</th>\n",
       "      <th>medv</th>\n",
       "    </tr>\n",
       "  </thead>\n",
       "  <tbody>\n",
       "    <tr>\n",
       "      <th>0</th>\n",
       "      <td>0.00632</td>\n",
       "      <td>18.0</td>\n",
       "      <td>2.31</td>\n",
       "      <td>0</td>\n",
       "      <td>0.538</td>\n",
       "      <td>6.575</td>\n",
       "      <td>65.2</td>\n",
       "      <td>4.0900</td>\n",
       "      <td>1</td>\n",
       "      <td>296</td>\n",
       "      <td>15.3</td>\n",
       "      <td>396.90</td>\n",
       "      <td>4.98</td>\n",
       "      <td>24.0</td>\n",
       "    </tr>\n",
       "    <tr>\n",
       "      <th>1</th>\n",
       "      <td>0.02731</td>\n",
       "      <td>0.0</td>\n",
       "      <td>7.07</td>\n",
       "      <td>0</td>\n",
       "      <td>0.469</td>\n",
       "      <td>6.421</td>\n",
       "      <td>78.9</td>\n",
       "      <td>4.9671</td>\n",
       "      <td>2</td>\n",
       "      <td>242</td>\n",
       "      <td>17.8</td>\n",
       "      <td>396.90</td>\n",
       "      <td>9.14</td>\n",
       "      <td>21.6</td>\n",
       "    </tr>\n",
       "    <tr>\n",
       "      <th>2</th>\n",
       "      <td>0.02729</td>\n",
       "      <td>0.0</td>\n",
       "      <td>7.07</td>\n",
       "      <td>0</td>\n",
       "      <td>0.469</td>\n",
       "      <td>7.185</td>\n",
       "      <td>61.1</td>\n",
       "      <td>4.9671</td>\n",
       "      <td>2</td>\n",
       "      <td>242</td>\n",
       "      <td>17.8</td>\n",
       "      <td>392.83</td>\n",
       "      <td>4.03</td>\n",
       "      <td>34.7</td>\n",
       "    </tr>\n",
       "    <tr>\n",
       "      <th>3</th>\n",
       "      <td>0.03237</td>\n",
       "      <td>0.0</td>\n",
       "      <td>2.18</td>\n",
       "      <td>0</td>\n",
       "      <td>0.458</td>\n",
       "      <td>6.998</td>\n",
       "      <td>45.8</td>\n",
       "      <td>6.0622</td>\n",
       "      <td>3</td>\n",
       "      <td>222</td>\n",
       "      <td>18.7</td>\n",
       "      <td>394.63</td>\n",
       "      <td>2.94</td>\n",
       "      <td>33.4</td>\n",
       "    </tr>\n",
       "    <tr>\n",
       "      <th>4</th>\n",
       "      <td>0.06905</td>\n",
       "      <td>0.0</td>\n",
       "      <td>2.18</td>\n",
       "      <td>0</td>\n",
       "      <td>0.458</td>\n",
       "      <td>7.147</td>\n",
       "      <td>54.2</td>\n",
       "      <td>6.0622</td>\n",
       "      <td>3</td>\n",
       "      <td>222</td>\n",
       "      <td>18.7</td>\n",
       "      <td>396.90</td>\n",
       "      <td>5.33</td>\n",
       "      <td>36.2</td>\n",
       "    </tr>\n",
       "  </tbody>\n",
       "</table>\n",
       "</div>"
      ],
      "text/plain": [
       "      crim    zn  indus  chas    nox  ...  tax  ptratio       b  lstat  medv\n",
       "0  0.00632  18.0   2.31     0  0.538  ...  296     15.3  396.90   4.98  24.0\n",
       "1  0.02731   0.0   7.07     0  0.469  ...  242     17.8  396.90   9.14  21.6\n",
       "2  0.02729   0.0   7.07     0  0.469  ...  242     17.8  392.83   4.03  34.7\n",
       "3  0.03237   0.0   2.18     0  0.458  ...  222     18.7  394.63   2.94  33.4\n",
       "4  0.06905   0.0   2.18     0  0.458  ...  222     18.7  396.90   5.33  36.2\n",
       "\n",
       "[5 rows x 14 columns]"
      ]
     },
     "execution_count": 9,
     "metadata": {
      "tags": []
     },
     "output_type": "execute_result"
    }
   ],
   "source": [
    "boston = pd.read_csv(boston_csv)\n",
    "print(boston.columns)\n",
    "boston.head()"
   ]
  },
  {
   "cell_type": "code",
   "execution_count": 13,
   "metadata": {
    "colab": {
     "base_uri": "https://localhost:8080/",
     "height": 34
    },
    "colab_type": "code",
    "id": "5jv76HSvdptD",
    "outputId": "f243a3c0-d5f6-4880-ced1-35c75d48f24a"
   },
   "outputs": [
    {
     "name": "stdout",
     "output_type": "stream",
     "text": [
      "(506, 13) (506, 1)\n"
     ]
    }
   ],
   "source": [
    "x = boston[['crim', 'zn', 'indus', 'chas', 'nox', 'rm', 'age', 'dis', 'rad',\n",
    "            'tax', 'ptratio', 'b', 'lstat']]\n",
    "y = boston[['medv']]\n",
    "print(x.shape, y.shape)"
   ]
  },
  {
   "cell_type": "code",
   "execution_count": 16,
   "metadata": {
    "colab": {},
    "colab_type": "code",
    "id": "GMzWur-hebYe"
   },
   "outputs": [],
   "source": [
    "X = tf.keras.layers.Input(shape=[13])\n",
    "Y = tf.keras.layers.Dense(1)(X)\n",
    "model = tf.keras.models.Model(X, Y)\n",
    "model.compile(loss='mse')"
   ]
  },
  {
   "cell_type": "code",
   "execution_count": 17,
   "metadata": {
    "colab": {
     "base_uri": "https://localhost:8080/",
     "height": 1000
    },
    "colab_type": "code",
    "id": "VWWOK0p-e2L0",
    "outputId": "38d87168-a490-480a-d47a-95da60f7b4c3"
   },
   "outputs": [
    {
     "name": "stdout",
     "output_type": "stream",
     "text": [
      "Epoch 1/100\n",
      "16/16 [==============================] - 0s 1ms/step - loss: 26.0154\n",
      "Epoch 2/100\n",
      "16/16 [==============================] - 0s 1ms/step - loss: 26.0547\n",
      "Epoch 3/100\n",
      "16/16 [==============================] - 0s 1ms/step - loss: 26.0107\n",
      "Epoch 4/100\n",
      "16/16 [==============================] - 0s 1ms/step - loss: 26.0482\n",
      "Epoch 5/100\n",
      "16/16 [==============================] - 0s 1ms/step - loss: 26.3547\n",
      "Epoch 6/100\n",
      "16/16 [==============================] - 0s 1ms/step - loss: 25.9039\n",
      "Epoch 7/100\n",
      "16/16 [==============================] - 0s 1ms/step - loss: 25.6530\n",
      "Epoch 8/100\n",
      "16/16 [==============================] - 0s 1ms/step - loss: 26.2459\n",
      "Epoch 9/100\n",
      "16/16 [==============================] - 0s 1ms/step - loss: 26.2432\n",
      "Epoch 10/100\n",
      "16/16 [==============================] - 0s 1ms/step - loss: 25.8187\n",
      "Epoch 11/100\n",
      "16/16 [==============================] - 0s 1ms/step - loss: 25.8917\n",
      "Epoch 12/100\n",
      "16/16 [==============================] - 0s 1ms/step - loss: 25.9353\n",
      "Epoch 13/100\n",
      "16/16 [==============================] - 0s 1ms/step - loss: 26.5181\n",
      "Epoch 14/100\n",
      "16/16 [==============================] - 0s 1ms/step - loss: 26.3084\n",
      "Epoch 15/100\n",
      "16/16 [==============================] - 0s 1ms/step - loss: 26.3029\n",
      "Epoch 16/100\n",
      "16/16 [==============================] - 0s 1ms/step - loss: 25.3419\n",
      "Epoch 17/100\n",
      "16/16 [==============================] - 0s 1ms/step - loss: 25.8177\n",
      "Epoch 18/100\n",
      "16/16 [==============================] - 0s 1ms/step - loss: 25.6369\n",
      "Epoch 19/100\n",
      "16/16 [==============================] - 0s 1ms/step - loss: 26.2117\n",
      "Epoch 20/100\n",
      "16/16 [==============================] - 0s 1ms/step - loss: 25.9778\n",
      "Epoch 21/100\n",
      "16/16 [==============================] - 0s 1ms/step - loss: 25.9416\n",
      "Epoch 22/100\n",
      "16/16 [==============================] - 0s 1ms/step - loss: 25.6943\n",
      "Epoch 23/100\n",
      "16/16 [==============================] - 0s 1ms/step - loss: 26.1221\n",
      "Epoch 24/100\n",
      "16/16 [==============================] - 0s 1ms/step - loss: 26.0404\n",
      "Epoch 25/100\n",
      "16/16 [==============================] - 0s 1ms/step - loss: 25.8238\n",
      "Epoch 26/100\n",
      "16/16 [==============================] - 0s 1ms/step - loss: 26.4316\n",
      "Epoch 27/100\n",
      "16/16 [==============================] - 0s 1ms/step - loss: 25.5019\n",
      "Epoch 28/100\n",
      "16/16 [==============================] - 0s 1ms/step - loss: 25.6747\n",
      "Epoch 29/100\n",
      "16/16 [==============================] - 0s 1ms/step - loss: 26.3099\n",
      "Epoch 30/100\n",
      "16/16 [==============================] - 0s 1ms/step - loss: 26.0019\n",
      "Epoch 31/100\n",
      "16/16 [==============================] - 0s 1ms/step - loss: 25.6229\n",
      "Epoch 32/100\n",
      "16/16 [==============================] - 0s 1ms/step - loss: 26.1471\n",
      "Epoch 33/100\n",
      "16/16 [==============================] - 0s 1ms/step - loss: 26.0288\n",
      "Epoch 34/100\n",
      "16/16 [==============================] - 0s 2ms/step - loss: 25.6220\n",
      "Epoch 35/100\n",
      "16/16 [==============================] - 0s 2ms/step - loss: 26.2327\n",
      "Epoch 36/100\n",
      "16/16 [==============================] - 0s 1ms/step - loss: 25.7025\n",
      "Epoch 37/100\n",
      "16/16 [==============================] - 0s 1ms/step - loss: 25.7287\n",
      "Epoch 38/100\n",
      "16/16 [==============================] - 0s 1ms/step - loss: 26.2459\n",
      "Epoch 39/100\n",
      "16/16 [==============================] - 0s 1ms/step - loss: 25.9095\n",
      "Epoch 40/100\n",
      "16/16 [==============================] - 0s 1ms/step - loss: 25.9378\n",
      "Epoch 41/100\n",
      "16/16 [==============================] - 0s 960us/step - loss: 25.8617\n",
      "Epoch 42/100\n",
      "16/16 [==============================] - 0s 1ms/step - loss: 26.1560\n",
      "Epoch 43/100\n",
      "16/16 [==============================] - 0s 1ms/step - loss: 26.0916\n",
      "Epoch 44/100\n",
      "16/16 [==============================] - 0s 1ms/step - loss: 25.4817\n",
      "Epoch 45/100\n",
      "16/16 [==============================] - 0s 1ms/step - loss: 26.0066\n",
      "Epoch 46/100\n",
      "16/16 [==============================] - 0s 1ms/step - loss: 25.8220\n",
      "Epoch 47/100\n",
      "16/16 [==============================] - 0s 1ms/step - loss: 26.1330\n",
      "Epoch 48/100\n",
      "16/16 [==============================] - 0s 1ms/step - loss: 26.2080\n",
      "Epoch 49/100\n",
      "16/16 [==============================] - 0s 994us/step - loss: 25.8966\n",
      "Epoch 50/100\n",
      "16/16 [==============================] - 0s 1ms/step - loss: 26.2270\n",
      "Epoch 51/100\n",
      "16/16 [==============================] - 0s 966us/step - loss: 25.8249\n",
      "Epoch 52/100\n",
      "16/16 [==============================] - 0s 923us/step - loss: 25.8051\n",
      "Epoch 53/100\n",
      "16/16 [==============================] - 0s 987us/step - loss: 26.6136\n",
      "Epoch 54/100\n",
      "16/16 [==============================] - 0s 1ms/step - loss: 25.5149\n",
      "Epoch 55/100\n",
      "16/16 [==============================] - 0s 1ms/step - loss: 25.7914\n",
      "Epoch 56/100\n",
      "16/16 [==============================] - 0s 1ms/step - loss: 26.2982\n",
      "Epoch 57/100\n",
      "16/16 [==============================] - 0s 1ms/step - loss: 25.9407\n",
      "Epoch 58/100\n",
      "16/16 [==============================] - 0s 1ms/step - loss: 25.7007\n",
      "Epoch 59/100\n",
      "16/16 [==============================] - 0s 985us/step - loss: 26.3987\n",
      "Epoch 60/100\n",
      "16/16 [==============================] - 0s 1ms/step - loss: 25.3864\n",
      "Epoch 61/100\n",
      "16/16 [==============================] - 0s 911us/step - loss: 25.8989\n",
      "Epoch 62/100\n",
      "16/16 [==============================] - 0s 978us/step - loss: 25.5476\n",
      "Epoch 63/100\n",
      "16/16 [==============================] - 0s 958us/step - loss: 26.2262\n",
      "Epoch 64/100\n",
      "16/16 [==============================] - 0s 954us/step - loss: 25.7589\n",
      "Epoch 65/100\n",
      "16/16 [==============================] - 0s 1ms/step - loss: 25.7720\n",
      "Epoch 66/100\n",
      "16/16 [==============================] - 0s 1ms/step - loss: 25.6502\n",
      "Epoch 67/100\n",
      "16/16 [==============================] - 0s 1ms/step - loss: 25.3806\n",
      "Epoch 68/100\n",
      "16/16 [==============================] - 0s 1ms/step - loss: 25.8360\n",
      "Epoch 69/100\n",
      "16/16 [==============================] - 0s 1ms/step - loss: 25.6717\n",
      "Epoch 70/100\n",
      "16/16 [==============================] - 0s 1ms/step - loss: 26.2685\n",
      "Epoch 71/100\n",
      "16/16 [==============================] - 0s 1ms/step - loss: 25.6402\n",
      "Epoch 72/100\n",
      "16/16 [==============================] - 0s 1ms/step - loss: 25.5924\n",
      "Epoch 73/100\n",
      "16/16 [==============================] - 0s 1ms/step - loss: 25.6862\n",
      "Epoch 74/100\n",
      "16/16 [==============================] - 0s 1ms/step - loss: 25.9896\n",
      "Epoch 75/100\n",
      "16/16 [==============================] - 0s 1ms/step - loss: 25.9072\n",
      "Epoch 76/100\n",
      "16/16 [==============================] - 0s 1ms/step - loss: 26.0952\n",
      "Epoch 77/100\n",
      "16/16 [==============================] - 0s 996us/step - loss: 25.5620\n",
      "Epoch 78/100\n",
      "16/16 [==============================] - 0s 1ms/step - loss: 25.7138\n",
      "Epoch 79/100\n",
      "16/16 [==============================] - 0s 2ms/step - loss: 25.8278\n",
      "Epoch 80/100\n",
      "16/16 [==============================] - 0s 1ms/step - loss: 26.4725\n",
      "Epoch 81/100\n",
      "16/16 [==============================] - 0s 1ms/step - loss: 25.9473\n",
      "Epoch 82/100\n",
      "16/16 [==============================] - 0s 1ms/step - loss: 26.0651\n",
      "Epoch 83/100\n",
      "16/16 [==============================] - 0s 997us/step - loss: 25.4741\n",
      "Epoch 84/100\n",
      "16/16 [==============================] - 0s 1ms/step - loss: 25.8092\n",
      "Epoch 85/100\n",
      "16/16 [==============================] - 0s 1ms/step - loss: 25.6931\n",
      "Epoch 86/100\n",
      "16/16 [==============================] - 0s 1ms/step - loss: 25.6805\n",
      "Epoch 87/100\n",
      "16/16 [==============================] - 0s 1ms/step - loss: 25.6429\n",
      "Epoch 88/100\n",
      "16/16 [==============================] - 0s 1ms/step - loss: 25.6196\n",
      "Epoch 89/100\n",
      "16/16 [==============================] - 0s 1ms/step - loss: 25.6913\n",
      "Epoch 90/100\n",
      "16/16 [==============================] - 0s 1ms/step - loss: 25.7547\n",
      "Epoch 91/100\n",
      "16/16 [==============================] - 0s 1ms/step - loss: 26.1929\n",
      "Epoch 92/100\n",
      "16/16 [==============================] - 0s 1ms/step - loss: 25.6768\n",
      "Epoch 93/100\n",
      "16/16 [==============================] - 0s 1ms/step - loss: 26.0437\n",
      "Epoch 94/100\n",
      "16/16 [==============================] - 0s 995us/step - loss: 25.9510\n",
      "Epoch 95/100\n",
      "16/16 [==============================] - 0s 1ms/step - loss: 25.9047\n",
      "Epoch 96/100\n",
      "16/16 [==============================] - 0s 1ms/step - loss: 25.3488\n",
      "Epoch 97/100\n",
      "16/16 [==============================] - 0s 1ms/step - loss: 25.7148\n",
      "Epoch 98/100\n",
      "16/16 [==============================] - 0s 1ms/step - loss: 26.2249\n",
      "Epoch 99/100\n",
      "16/16 [==============================] - 0s 1ms/step - loss: 25.6827\n",
      "Epoch 100/100\n",
      "16/16 [==============================] - 0s 1ms/step - loss: 25.9207\n"
     ]
    },
    {
     "data": {
      "text/plain": [
       "<tensorflow.python.keras.callbacks.History at 0x7feb0eb00d30>"
      ]
     },
     "execution_count": 17,
     "metadata": {
      "tags": []
     },
     "output_type": "execute_result"
    }
   ],
   "source": [
    "model.fit(x, y, epochs=1000, verbose=0)\n",
    "model.fit(x, y, epochs=100)"
   ]
  },
  {
   "cell_type": "code",
   "execution_count": 18,
   "metadata": {
    "colab": {
     "base_uri": "https://localhost:8080/",
     "height": 101
    },
    "colab_type": "code",
    "id": "qBXEXYxbgAyG",
    "outputId": "cc4a73ca-68eb-4285-87fd-442c31d4204c"
   },
   "outputs": [
    {
     "data": {
      "text/plain": [
       "array([[29.69807 ],\n",
       "       [24.937506],\n",
       "       [30.776478],\n",
       "       [29.972729],\n",
       "       [29.406359]], dtype=float32)"
      ]
     },
     "execution_count": 18,
     "metadata": {
      "tags": []
     },
     "output_type": "execute_result"
    }
   ],
   "source": [
    "model.predict(x[0:5])"
   ]
  },
  {
   "cell_type": "code",
   "execution_count": 20,
   "metadata": {
    "colab": {
     "base_uri": "https://localhost:8080/",
     "height": 195
    },
    "colab_type": "code",
    "id": "ae5sn7PLgM4u",
    "outputId": "54162df6-59ad-48b9-9371-332183929b96"
   },
   "outputs": [
    {
     "data": {
      "text/html": [
       "<div>\n",
       "<style scoped>\n",
       "    .dataframe tbody tr th:only-of-type {\n",
       "        vertical-align: middle;\n",
       "    }\n",
       "\n",
       "    .dataframe tbody tr th {\n",
       "        vertical-align: top;\n",
       "    }\n",
       "\n",
       "    .dataframe thead th {\n",
       "        text-align: right;\n",
       "    }\n",
       "</style>\n",
       "<table border=\"1\" class=\"dataframe\">\n",
       "  <thead>\n",
       "    <tr style=\"text-align: right;\">\n",
       "      <th></th>\n",
       "      <th>medv</th>\n",
       "    </tr>\n",
       "  </thead>\n",
       "  <tbody>\n",
       "    <tr>\n",
       "      <th>0</th>\n",
       "      <td>24.0</td>\n",
       "    </tr>\n",
       "    <tr>\n",
       "      <th>1</th>\n",
       "      <td>21.6</td>\n",
       "    </tr>\n",
       "    <tr>\n",
       "      <th>2</th>\n",
       "      <td>34.7</td>\n",
       "    </tr>\n",
       "    <tr>\n",
       "      <th>3</th>\n",
       "      <td>33.4</td>\n",
       "    </tr>\n",
       "    <tr>\n",
       "      <th>4</th>\n",
       "      <td>36.2</td>\n",
       "    </tr>\n",
       "  </tbody>\n",
       "</table>\n",
       "</div>"
      ],
      "text/plain": [
       "   medv\n",
       "0  24.0\n",
       "1  21.6\n",
       "2  34.7\n",
       "3  33.4\n",
       "4  36.2"
      ]
     },
     "execution_count": 20,
     "metadata": {
      "tags": []
     },
     "output_type": "execute_result"
    }
   ],
   "source": [
    "y[0:5]"
   ]
  },
  {
   "cell_type": "code",
   "execution_count": 21,
   "metadata": {
    "colab": {
     "base_uri": "https://localhost:8080/",
     "height": 235
    },
    "colab_type": "code",
    "id": "Cz5DMlcbgPDe",
    "outputId": "479add71-a112-4c00-f283-98f40149e90b"
   },
   "outputs": [
    {
     "data": {
      "text/plain": [
       "[array([[-0.08945623],\n",
       "        [ 0.06961975],\n",
       "        [-0.05448231],\n",
       "        [ 3.3169293 ],\n",
       "        [ 1.7919648 ],\n",
       "        [ 4.2684402 ],\n",
       "        [ 0.0105953 ],\n",
       "        [-0.9172185 ],\n",
       "        [ 0.15213127],\n",
       "        [-0.00934376],\n",
       "        [-0.06309344],\n",
       "        [ 0.01589774],\n",
       "        [-0.5540471 ]], dtype=float32), array([2.631171], dtype=float32)]"
      ]
     },
     "execution_count": 21,
     "metadata": {
      "tags": []
     },
     "output_type": "execute_result"
    }
   ],
   "source": [
    "model.get_weights()"
   ]
  }
 ],
 "metadata": {
  "colab": {
   "name": "practice_boston.ipynb",
   "provenance": []
  },
  "kernelspec": {
   "display_name": "Python 3",
   "language": "python",
   "name": "python3"
  },
  "language_info": {
   "codemirror_mode": {
    "name": "ipython",
    "version": 3
   },
   "file_extension": ".py",
   "mimetype": "text/x-python",
   "name": "python",
   "nbconvert_exporter": "python",
   "pygments_lexer": "ipython3",
   "version": "3.8.3"
  }
 },
 "nbformat": 4,
 "nbformat_minor": 1
}
