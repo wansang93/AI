{
  "cells": [
    {
      "cell_type": "markdown",
      "metadata": {
        "id": "view-in-github",
        "colab_type": "text"
      },
      "source": [
        "<a href=\"https://colab.research.google.com/github/wansang93/AI/blob/master/%EB%B9%85%EB%8D%B0%EC%9D%B4%ED%84%B0%EB%B6%84%EC%84%9D%EA%B8%B0%EC%82%AC.ipynb\" target=\"_parent\"><img src=\"https://colab.research.google.com/assets/colab-badge.svg\" alt=\"Open In Colab\"/></a>"
      ]
    },
    {
      "cell_type": "markdown",
      "source": [
        "## 예시문제"
      ],
      "metadata": {
        "id": "K73OqLdy5V0m"
      }
    },
    {
      "cell_type": "markdown",
      "metadata": {
        "id": "77Q31uVKBopR"
      },
      "source": [
        "### 작업1유형\n",
        "mtcars 데이터셋(mtcars.csv)의 qsec 컬럼을 최소 최대 척도(Min-Max Scale)로 변환한 후 0.5보다 큰 값을 가지는 레코드 수를 구하시오."
      ]
    },
    {
      "cell_type": "code",
      "metadata": {
        "colab": {
          "base_uri": "https://localhost:8080/",
          "height": 112
        },
        "id": "mdiPkJp_ByQv",
        "outputId": "3c4072b3-4a56-483c-e6d3-67e8cecc3ae3"
      },
      "source": [
        "import pandas as pd\n",
        "\n",
        "df = pd.read_csv('https://raw.githubusercontent.com/Soyoung-Yoon/bigdata/main/mtcars.csv')\n",
        "df.head(2)"
      ],
      "execution_count": null,
      "outputs": [
        {
          "output_type": "execute_result",
          "data": {
            "text/plain": [
              "      Unnamed: 0   mpg  cyl   disp   hp  drat     wt   qsec  vs  am  gear  \\\n",
              "0      Mazda RX4  21.0    6  160.0  110   3.9  2.620  16.46   0   1     4   \n",
              "1  Mazda RX4 Wag  21.0    6  160.0  110   3.9  2.875  17.02   0   1     4   \n",
              "\n",
              "   carb  \n",
              "0     4  \n",
              "1     4  "
            ],
            "text/html": [
              "\n",
              "  <div id=\"df-d27d640d-a494-4ed0-ba32-be44205582bd\">\n",
              "    <div class=\"colab-df-container\">\n",
              "      <div>\n",
              "<style scoped>\n",
              "    .dataframe tbody tr th:only-of-type {\n",
              "        vertical-align: middle;\n",
              "    }\n",
              "\n",
              "    .dataframe tbody tr th {\n",
              "        vertical-align: top;\n",
              "    }\n",
              "\n",
              "    .dataframe thead th {\n",
              "        text-align: right;\n",
              "    }\n",
              "</style>\n",
              "<table border=\"1\" class=\"dataframe\">\n",
              "  <thead>\n",
              "    <tr style=\"text-align: right;\">\n",
              "      <th></th>\n",
              "      <th>Unnamed: 0</th>\n",
              "      <th>mpg</th>\n",
              "      <th>cyl</th>\n",
              "      <th>disp</th>\n",
              "      <th>hp</th>\n",
              "      <th>drat</th>\n",
              "      <th>wt</th>\n",
              "      <th>qsec</th>\n",
              "      <th>vs</th>\n",
              "      <th>am</th>\n",
              "      <th>gear</th>\n",
              "      <th>carb</th>\n",
              "    </tr>\n",
              "  </thead>\n",
              "  <tbody>\n",
              "    <tr>\n",
              "      <th>0</th>\n",
              "      <td>Mazda RX4</td>\n",
              "      <td>21.0</td>\n",
              "      <td>6</td>\n",
              "      <td>160.0</td>\n",
              "      <td>110</td>\n",
              "      <td>3.9</td>\n",
              "      <td>2.620</td>\n",
              "      <td>16.46</td>\n",
              "      <td>0</td>\n",
              "      <td>1</td>\n",
              "      <td>4</td>\n",
              "      <td>4</td>\n",
              "    </tr>\n",
              "    <tr>\n",
              "      <th>1</th>\n",
              "      <td>Mazda RX4 Wag</td>\n",
              "      <td>21.0</td>\n",
              "      <td>6</td>\n",
              "      <td>160.0</td>\n",
              "      <td>110</td>\n",
              "      <td>3.9</td>\n",
              "      <td>2.875</td>\n",
              "      <td>17.02</td>\n",
              "      <td>0</td>\n",
              "      <td>1</td>\n",
              "      <td>4</td>\n",
              "      <td>4</td>\n",
              "    </tr>\n",
              "  </tbody>\n",
              "</table>\n",
              "</div>\n",
              "      <button class=\"colab-df-convert\" onclick=\"convertToInteractive('df-d27d640d-a494-4ed0-ba32-be44205582bd')\"\n",
              "              title=\"Convert this dataframe to an interactive table.\"\n",
              "              style=\"display:none;\">\n",
              "        \n",
              "  <svg xmlns=\"http://www.w3.org/2000/svg\" height=\"24px\"viewBox=\"0 0 24 24\"\n",
              "       width=\"24px\">\n",
              "    <path d=\"M0 0h24v24H0V0z\" fill=\"none\"/>\n",
              "    <path d=\"M18.56 5.44l.94 2.06.94-2.06 2.06-.94-2.06-.94-.94-2.06-.94 2.06-2.06.94zm-11 1L8.5 8.5l.94-2.06 2.06-.94-2.06-.94L8.5 2.5l-.94 2.06-2.06.94zm10 10l.94 2.06.94-2.06 2.06-.94-2.06-.94-.94-2.06-.94 2.06-2.06.94z\"/><path d=\"M17.41 7.96l-1.37-1.37c-.4-.4-.92-.59-1.43-.59-.52 0-1.04.2-1.43.59L10.3 9.45l-7.72 7.72c-.78.78-.78 2.05 0 2.83L4 21.41c.39.39.9.59 1.41.59.51 0 1.02-.2 1.41-.59l7.78-7.78 2.81-2.81c.8-.78.8-2.07 0-2.86zM5.41 20L4 18.59l7.72-7.72 1.47 1.35L5.41 20z\"/>\n",
              "  </svg>\n",
              "      </button>\n",
              "      \n",
              "  <style>\n",
              "    .colab-df-container {\n",
              "      display:flex;\n",
              "      flex-wrap:wrap;\n",
              "      gap: 12px;\n",
              "    }\n",
              "\n",
              "    .colab-df-convert {\n",
              "      background-color: #E8F0FE;\n",
              "      border: none;\n",
              "      border-radius: 50%;\n",
              "      cursor: pointer;\n",
              "      display: none;\n",
              "      fill: #1967D2;\n",
              "      height: 32px;\n",
              "      padding: 0 0 0 0;\n",
              "      width: 32px;\n",
              "    }\n",
              "\n",
              "    .colab-df-convert:hover {\n",
              "      background-color: #E2EBFA;\n",
              "      box-shadow: 0px 1px 2px rgba(60, 64, 67, 0.3), 0px 1px 3px 1px rgba(60, 64, 67, 0.15);\n",
              "      fill: #174EA6;\n",
              "    }\n",
              "\n",
              "    [theme=dark] .colab-df-convert {\n",
              "      background-color: #3B4455;\n",
              "      fill: #D2E3FC;\n",
              "    }\n",
              "\n",
              "    [theme=dark] .colab-df-convert:hover {\n",
              "      background-color: #434B5C;\n",
              "      box-shadow: 0px 1px 3px 1px rgba(0, 0, 0, 0.15);\n",
              "      filter: drop-shadow(0px 1px 2px rgba(0, 0, 0, 0.3));\n",
              "      fill: #FFFFFF;\n",
              "    }\n",
              "  </style>\n",
              "\n",
              "      <script>\n",
              "        const buttonEl =\n",
              "          document.querySelector('#df-d27d640d-a494-4ed0-ba32-be44205582bd button.colab-df-convert');\n",
              "        buttonEl.style.display =\n",
              "          google.colab.kernel.accessAllowed ? 'block' : 'none';\n",
              "\n",
              "        async function convertToInteractive(key) {\n",
              "          const element = document.querySelector('#df-d27d640d-a494-4ed0-ba32-be44205582bd');\n",
              "          const dataTable =\n",
              "            await google.colab.kernel.invokeFunction('convertToInteractive',\n",
              "                                                     [key], {});\n",
              "          if (!dataTable) return;\n",
              "\n",
              "          const docLinkHtml = 'Like what you see? Visit the ' +\n",
              "            '<a target=\"_blank\" href=https://colab.research.google.com/notebooks/data_table.ipynb>data table notebook</a>'\n",
              "            + ' to learn more about interactive tables.';\n",
              "          element.innerHTML = '';\n",
              "          dataTable['output_type'] = 'display_data';\n",
              "          await google.colab.output.renderOutput(dataTable, element);\n",
              "          const docLink = document.createElement('div');\n",
              "          docLink.innerHTML = docLinkHtml;\n",
              "          element.appendChild(docLink);\n",
              "        }\n",
              "      </script>\n",
              "    </div>\n",
              "  </div>\n",
              "  "
            ]
          },
          "metadata": {},
          "execution_count": 5
        }
      ]
    },
    {
      "cell_type": "code",
      "metadata": {
        "id": "2nbKdQyvJ_jD"
      },
      "source": [
        "# min_max_scaler 직접구현하는 방법\n"
      ],
      "execution_count": null,
      "outputs": []
    },
    {
      "cell_type": "code",
      "metadata": {
        "id": "fC325ancKcOl"
      },
      "source": [
        "# sklearn의 MinMaxScaler 객체를 사용하는 방법\n"
      ],
      "execution_count": null,
      "outputs": []
    },
    {
      "cell_type": "markdown",
      "source": [
        "다음은 추가적으로 알아보는 내용입니다."
      ],
      "metadata": {
        "id": "3NFA-LXf_YQB"
      }
    },
    {
      "cell_type": "code",
      "source": [
        "# Standard Scaler 함수 생성\n"
      ],
      "metadata": {
        "id": "jFTtWTVf3OtO"
      },
      "execution_count": null,
      "outputs": []
    },
    {
      "cell_type": "code",
      "source": [
        "# StandardScaler 객체 사용\n"
      ],
      "metadata": {
        "id": "CXqE0U8z27KS"
      },
      "execution_count": null,
      "outputs": []
    },
    {
      "cell_type": "code",
      "source": [],
      "metadata": {
        "id": "0ehb7L5j5X8w"
      },
      "execution_count": null,
      "outputs": []
    },
    {
      "cell_type": "code",
      "source": [],
      "metadata": {
        "id": "fVxDeccT5h-R"
      },
      "execution_count": null,
      "outputs": []
    },
    {
      "cell_type": "markdown",
      "source": [
        "### 작업2유형 - 2진분류, roc_auc\n"
      ],
      "metadata": {
        "id": "fhH7_ENXcf-x"
      }
    },
    {
      "cell_type": "markdown",
      "metadata": {
        "id": "Yl9vbFVvLQlg"
      },
      "source": [
        "**2-01. 문제이해**"
      ]
    },
    {
      "cell_type": "markdown",
      "source": [
        "제공된 데이터는 백화점 고객이 1년간 상품을 구매한 속성데이터이다. 제공된 학습용 데이터(data/customer_train.csv)를 이용하여 백화점 구매 고객의 성별을 예측하는 모델을 개발하고, 개발한 모델에 기반하여 평가용 데이터(data/customer_test.csv)에 적용하여 얻은 성별 예측 결과를 아래 [제출형식]에 따라 csv 파일로 생성하여 제출하시오.\n",
        "- 예측 결과는 ROC-AUC 평가지표에 따라 평가함\n",
        "- 성능이 우수한 예측 모델을 구축하기 위해서는 데이터 정제, Feature Engineering, 하이퍼 파라미터(hyper parameter) 최적화, 모델 비교 등이 필요할 수 있음. 다만, 과적합에 유의하여야 함\n",
        "\n",
        "\n",
        "[[제출 형식]]\n",
        "- 가. CSV 파일명: result.csv(파일명에 디렉토리/폴더 지정불가\n",
        "- 나. 예측 성별 칼럼명 : pred\n",
        "- 다. 제출 칼럼 개수 : pred 칼럼 1개\n",
        "- 라. 평가용 데이터 개수와 예측 결과 데이터 개수 일치 : 2,482개\n",
        "\n",
        "[[제공 데이터]]\n",
        "- 데이터 목록\n",
        "- data/customer_train.csv : 학습용 데이터, 3,500개\n",
        "- data/customer_test.csv : 평가용 데이터, 2,482개\n",
        "- 평가용 데이터는 '성별' 칼럼 미제공\n"
      ],
      "metadata": {
        "id": "TLmBe38Hdqvs"
      }
    },
    {
      "cell_type": "markdown",
      "source": [
        "![image.png](data:image/png;base64,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)"
      ],
      "metadata": {
        "id": "fiUpAXXbfLYU"
      }
    },
    {
      "cell_type": "markdown",
      "source": [
        "![image.png](data:image/png;base64,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)"
      ],
      "metadata": {
        "id": "wm1E3JG6fTjo"
      }
    },
    {
      "cell_type": "markdown",
      "source": [
        "![image.png](data:image/png;base64,iVBORw0KGgoAAAANSUhEUgAAAo4AAAEPCAYAAADMCkUAAAAAAXNSR0IArs4c6QAAAARnQU1BAACxjwv8YQUAAAAJcEhZcwAADsMAAA7DAcdvqGQAANQhSURBVHhe7J0FfFU3w4efurtSB1paKFLcbbgMpowpjPneMf+Y750LY0wYgwm+4e6uBUoLdQp1d/db/3JuL1CgQLG9bMuz5UdvTk6Sk+Qk/+jRahDQQioqKhg4cCBTp05l+vTpGluJRCKRSCQSyT+BOXPmsGjRIvz9/TE2NtbYXkBb869EIpFIJBKJRHJVpHCUSCQSiUQikbQIKRwlEolEIpFIJC1CCkeJRCKRSCQSSYuQwlEikUgkEolE0iKkcJRIJBKJRCKRtAgpHCUSiUQikUgkLUIKx78rDfVQXUpRcTmllTWIX1ehlurKUoqzs8kRJltt8sgrKKWiDuqbnOTZIPytLsujsKSUElWtxvbGqasqp7K0gEIRUG3TgM6jxK2S0vxyqhoarvEcLaOmvIDSsjLKqm6Fby2gvpZ6VSl5ReWUV4m/NdY3Q131tdLtf0uDeOa6igLyi0Q6q2qoq6umtqKQoooaqmpvPr71VcLfslIKyms0NjdKPXU1lZQX5lJYXn1L4tYialVUlpeRV6yiRpTr5kOtpVY8Z4l4H3PPv5e55OYVU17TQN0lNynlurikRJ3GV6S+ClVZEfnn/bvU5FNcXkX1X/RqXERtJRXivcwvUSGqnSukyTWoqRDloozCsirhh0jXmnJKikpEfVVJtbh8+3K3BpWoE8vEO15ZW09DdZnICxF2RbX6WW6GOlEGKkoLKayso+6G3vXbF7eWIeIt3rHSnELKRZtRc1NlSzy/kqelZRSJ9/Wvib/kepHC8e9KRQ4Efs/rny1h9uZIcjXWzRNH6IbZvD9gAEOEGaA29zL5ue9Ylw4FTdqhGiEaQ355kFe+mcus3Yka2xsnPWApG+c8y3/WppNUoFTtlxJH2Mb1zH1iIf6iMSjS2N4oDfV1RP7xLHMW/MKvx/M1treZghgKDn7L5BkrWB6QTKHG+mZID1jGxh+f5sW1aSTmN5du/1uqc+NIXf0C0976nfl7YkhLDyNmzRu8tyac40nlGlc3Tt7Rn/n597m8uPy0xuZGKSYjbCPLp4/hjcWBHEu8+bi1iIQdbFv2M5P+u4MzZdVUaqwvJoU4/4V8Jt7H0effy7u5e9J/WXKmlPRLbjq9/EU++OZL3t4QrbFphvyj7Jn3Nk+c96+pGSzMNP677ChBt6KQXi/RG1gh3stpM/eTIgTSDZXq08uZP/d3Xp7rT4YQ57VhC5j5xje8+tl2QsXlm+1mNI/SgQ5j18zZ/PzeEnYkF6EKnMt7Xy7my7Vh16h7r03KkV9Z+9NLvL4hg4yS6+2sN8Zt96zv+PmdRWxPLlbH7f2vFvPFmsa43T4xfY4sss5u5dshL7J0VzSi6N44ogNK+CK+/W4hby86IXxWZKnkTkNX8+8/EKUKiefw/I0cCThLbKOlGuuOw+g+ZDyP9rDS2AhUWZSkBLB03h6iC8tpLPsmwnTjvjf7YFsYRkZIAnEdnmVKLytameupXVyGqkBooe3MWlOLaZcujLyvK200l66EqjBV3PI5a0+phLjSWF6R9nQZOohx97nhWZlHZrY2xqIH32x1U18lRE0gm/5cy/Ezteg+9D5vtgUdpbtQnk1BRiq733iKwqfeZ3iP1nSwFZVMXS2VBcmk5+VjUnrzgkU9SpKbRrpZDdWXDqGoEY1qcTH5KQWUi8ak+Uoig6Sg4+yeu4Vg8UultjPHwsGXkS9OpbejAbYGaktBg0jPNPIq8jEqv4EqpyqbstQQlvyci8d9fekywBMXzSU1OeFEn47k6+N2vDilFx2cLTCuq6KuLJfkDBOKmuvla+75SnOPr3KP5pJC6pHfCM2sId3lIab2tMJQT5uaikJK8tJIu2K6/TWk+v9OWEYVac6T1eXeSMRNoV48c3VROqmZBeQLwV9TU0lVUYao6Cspv+JwlhBtDfFs/9wfVTvxXozsi5+l5tIl1JXnk5dfT3pNY26fpySF0jO7+HxlMFmFzcsxsBCmK5PfG0t3Lx1qKospzEggQ7ivuIHhkLSjCzh8+Ai7r6LXGrHB0LSHOtzOVaWUFOWTlO1IVX395Y13YRD7N21k37EMyu97n2fEe2mklGFRf1RkJxL4+SuU3T+duwZ2o0erxltUIr2zcoypaiXe60tQRn8LAhezeEsM8VU2dP3P+0xqUr2paRAlsyCW06ErWZ4SRdi4h9XlzVj/JsYPKoQ0EfXdF6uCiUkvVlvpGhjTdfL7jOjiRDtrtVUjVSIfCvJJzS1Ti8YLOVFCdflZUS5WciKjgEyN7XksfXDrMpQXp/bCpqqIgvxi0hvKG0dyKwvIzcwho65ULc6v/01R3tYCwtYu4VBAJMF5jbbOw59jbP/O9G+ttAGKr5WU5uaSn6uDfXUdDRV5Ii9E3eVUqa57FRdawlxA8TeeY4u3EpNjhtmEZxjrKfK4mRZXXUfmpZNhVUPNRe+6Jm7rlnLoeMT5uOH3IPff1ZO7O9trLFTquOVlaanjVl+Zr46bmWNj3K6LvCgSg/fy2cqQC6Of1h4Ydp3I++1i2Hc0jAPhGY32AscBj4ky6kA7VQm58enol1ahOp+xyh9xHF+yjcMHwjjTaHk5XR7kPvE8E7qI51E+ZKfkaV69qEsqzqet5M7inzniKCqz8tgDrFgmeofByaRUGGBgcME0FGaQnxDJ6RJRRsW7qcqMIPLQLpatOEVCVQO159zqNmBQFcPZhFzio6JICD3I0h1RpBSrrthbViqBtIBlbD0RQWha6SWVyZXQQltXHz39i+PZvNFDT0+nRRlXV11B5snV7AxIIsmwPcOmTuHxKVOYopipk5h4VztcM3eza38wpxLyxWt6c1SmBRO8dyW//vrrebNy50n8I3PIPLaSNcsWnrdfsHgZ609mkFp0NXEqqozyeJE329i17QCn8kTe6WjSQatcaLwQdi1ZyIGQVJIa26ybp6aU6tzTHFoXSGR87uUjoKWi8Y4OYunOsyQXN06PXRNxT3ZMEMt2nCG56PJ7CuOPEhF8mCPxojG8fl1zWymME3E7JeKWIOJ20wK2WuRoOpE7DhEanEjalXTf1RCNiio5gI0HznImu4L6y94PxegLoys6SFotfP+ujpa2Lrp6zYVzqRHh6otwta4dbk74Vg4cP02oyoMh4r185Nx7OeUhHpzQC6+Soxz3D8L/TJYit69BDVVl6UTvWcGpFG30vEdwz3n/mpgnHhfv/UTu8qhDlRDM2gOx5Aqhcd3i4hylaWRH+PPbguOcyVdRpU6DenREHoevX8Hu/SGEtCiTRWpp6aAj6j/9S9K0LjuMsKBjbDmeRLEofjcc1ytQW1lCxok/2XIslJNpFSJMXWFUpJ8QndRToZy+4eFE5V3JITFgL8d3+xOSLXJJ0YHXQa0QY0rctl4UtyrSA7dy9OgJApJvtsZuhrIM8uJO8sfuGFJKaxABijItyrV2A1q5YQQERXDodA7Vwl5PGH1dkW+ivF8ZbXT0RJulyc+mRreugqrY3ew4GU1YmmiMJX8b/nnCsa6c8tRwIjctZuYPu0htN56JX/7CL79cMB9N7sMQ40TChdiorKshL2wre1au4Ycd1vR/9ws+Puf258/5ZWZXnHSsMDd0xsPdlsyjx0gsLKO42UqghvKyfAIPh6Dl40qbDu601ly5GoZWLnR46Efe++p7Zn32KR+//RFfzvmFufOVePzMnNlf8sW7b/DRzDl8P/d1XnqkF6Lzes3Mq1VVEn1kG0k2vjj0G8F4cZNmwAiMPXDyHshTD3uTHhpMVFyi6NveHBXJgQTuWMyPP/543qzYH0topjH6EStYs/jn8/Y/zf+NlQFpJDedJ7+UhnoqEneya/kGdoVp0e6DX/hqriZv5rzN+0+2RbXqM9ZtDeJoQsUtnKZS1Fsx+emJxJ8+zemmJjaZpOwbmIupF6KpIovUuGjOXuJnfHoR2XklFKfHcCaq0S42OYcbCebWoTR8NdTWCmFxq1pr9bpcZX1dJeVVKirUa2iFXU0RuakJxDZJk+iUPPLLriDLRecBt7Hc+9JHzDr3rl5kvhHmMUa0tcNWc8vN4Nx3CpPe/Im5P87k49ff5bOvvuO7n5Vw5gszh28+eotPP/2cL7//kh9mP8hAR3MuHey7lITA/STo2mM88F4ebA/m50bMDZ2w8BjMEw91pCI1lvDws0J+XItqamoKSYnPxNa3O527daadqeZSU4QAxsyHHr0707GtBdnJaRTW1d3ge6OiLCGA4G0beWezIwOeeo9v1Gn/PT/MfJ4uZ5ayb/Um1gRkqDukV+9ymKFv3J27P/ryQt2rMd+8NIYxXW5FLjZHDaridIJ+/5kArS60e/IrEebPwnzDI+ZBZAVuYfkBpTxGCZNEuqj3/6KFDoLGuJ1c8AP+tR1o/cS5uM1kRpt4ioL3s+RACmXC5S3vaxpYQ5sHmfbe13yn5MNX7/LDQx1wtjQE2+74TXiFL4X9PGE+mTqUYc0WNgWlsfGk1yMv8bomP5uaubM+5rOH29HGwajRueRvwz9POBaJ3tn+vXz+cyUTP13Jm1NHMNxDc02DeYd++I58iPucG7DSF73C2FjKdU0Y/8Hz9LeyuNDY6FuKVkNU7CN8GTOqixCOHrSPOCga9VIylTf2MrIpL47h6DYfBnfsSd/Orhr7lnKW44t/Yc5z36vXHhaq280iUk+tYcXrE/lub+YN9YBdbK1xtrl8TtDA0BBnZw/0UgsoEsLlZlcEWveeytRPVqs/jH4tc2DXFhY83Y0+7pd/QP0cDfX1RO5aRaZ9Z7wff50Xu4PluQbWpA1OXR5g9ucTKROCKzAkknMzOTePMhW4l5WfP8fjl64Te+hNXpp3tNHZ9VCeTn3493zw+IQm69kazZQvdvDrH3vZ8+n9jBw6SG330Bvz+fkGgrl1KM1RFgW5FcI02tw0VaJAp6WSUX2Gk8nxhJ8VJa5OpHXWDpa+/ywPNUmTiW/9yZ/+2Zob7wRyKUjdxU/jXmHJxjB1p7OxnKSx/5tp/PL7ctZfcyr7YhxFXeNhb6P5dQE9PT2cnN0xyi2jNKugBcLRGCNjN3oO7Ejc1j9Zv2I9+5vLM9F5IXsXyxZtYPPhdDr06YqrCEvIgRsgmqBD+9m+OYG7v/4/BrV2wUltb4WBUT+m/d84bMqyCdkdQIiwvXWdultJHpXlsQTsGsa43oO5+y53YacvjDNDR98lsvYA3z2tlMchwrzIJ5uEUFbf91eQh6r8tIhbW3q16cGgbhfiNmTUXViXVRK26SAnhc1tGHeUSK7KP0g4Kn3aPCL27yAgPIGGB55hfCcXvCz10ddpdHEOLR099bSIevhdiL389BJy07VEr9cIPW2tJomiJVJIuNPXRd/GFWsPd/q3CWfHkVOExzVTnedmUBIfw3b3fji2tsPd6nqTV/T+VZVUllaibAhu7Ek2UF9bRVV5CRXV9ZfttGwJWYXF5BRdPhVQU11FdnY6ta0sMLM05QrLzVqMlq4hhibmGNQVkbj6WT569TEee+xi88bczWyObcDSQoRpqIuuzpWmOappaMgkM6UUHR1rHFs5qdcHnZ8V0dJB29AUU882uGQVoZuR34IGtqUoFXRfxjz3EV/98Qd/NDWzZ/D+5G6NzppSWwnxq1j43xd4dPxjPP7sLNbEV5J9bjmakQPa3k/w8tdzhUi82M8vnx3IpLv70u+FH/h98TK13ewZD/FwM8H8ZdSLpj4njOjYXE4E5xJ9KoKM2jrN+tJziMKYtIk137zCM8+8zevLYskuvsIooaC6tJjMwEOofL2pzUwibcNGdubqU2Y5kImvfMzsJmky943xjO92u0aaboR6GuqU9bjlqKpqubA5u56ailIqVSqqr3MqMq+klIz8y7eD1dbWkpudQZW1MSa2FlwuLS9FC11TB5zv/pSPP5jAEP0Alj4h0m/8Jebu+xk/ZTVnnSby4Ntv8+4oJ8wNtK85rd4shUJI55tRoNeTQYONsbbQ1tSbWmjpGWHYsyedbLRwL84iQ7yYdbd8WOwWkC86+tGh7HZ2RsvKHDu9cw2FNnpOLtgZd6Gfz2Te/GMJv//xAS/c1YUOGhe3HSVuZ0+z26kHlm0caWvdJG6d/PB2NMa7JJ2ULFGP3+r5e4nkGvylwrG6IInUI4uY891Mvvjii0vMb6zaLRqqG56eU2rybFJO54pK1wyfUX1pbWOISTOLkS+gVJk2mIsKWqsyiZBNazmZUUazm1j1bLFz8WLcKFcKTp0hJi5DhHYxJZmppMaEUdejN86OVtheYf/MX4Uijt39BmCbH0NW8HH8U0WjdK4CV4n4JwazdmsMtr6+eLURwlhz6WYoSQkhdO9C5ofpomPnRZcuXS4ydpWniT66gh/3Jzc5ViSf4twjbJj9Dd+LsrBw4yFOZIi80TJAX19bCMhaqmubGbPQTH2qhLCvF+bWJbdSSTvRpks/Bo0bx7imZkhP+vicW5TeBC3xKhnZ49TGG98uvnTwccPeSAf9c62yrihjVh3oNmg4Iy/xc2AXF7zbtsKpy12MGjNWbTeklzfNBXNtakV6FXBmx0KWL13LioNx6nWa19du14gOTDYR2zeSbdKBVu3b0alsE1uCs8kouiQfjGyxd2uHj09bvByN0Ne9QpVSlED6mZPMPmRJ67vuZ9K9HelgEMWOn+awI9YYQ6/+DGmSJsN6tKWN/RWmsBRRm3WUg6t/5YfL6hHF/MiXX+7gRFrhTe/Sv104+/bAviqP4qC97E2C86cOCbvS9FNs3B6FvrMH3u3bYqe5dDW0hVgzdutJ77tGM3rUYIb0vvi9Uxu/rnTpM5Sho8cwcnA3urqIjvIVO27XIC+H/Do9cpxEORURNG768invgnVb3FqpsDXIJF2Im/pzoro0meyQDfzy5Zd8I/Jq8dbjnMqqEOXtDEd+FZ2qS/Lyx9XHOBZ7m3JRdNJriwpINzNS1x9Kd/E8dg7YmtvgZeVCu/5jGD66L35udi0Q8RqUB04V7V1JMTFVVRQUFVNffx1voeiI1BYVkm5uh56pEaZNI2dphaVJBfWJB1n/7Vd8++UyNgfHk6y5fOegPG8qp3euZvkl+aqYmT/8yrzdKWQUXL7ZS3Jn89cKx7w4kvbP5atPP+S99967xHzPoq0nOX0zwrEqm4JcE+pqW+Pna4XBNXcLKpWmO2179MDTS4uCXT+wbuceth8/y9m0IvVE1AWMsLBvTd+Jw/HIiCYnIZXoi6ary8hKSyfmdBad+3bExcrsop2zt42KTDJiQgg4dEi98/N0eilFmmEhZXdj64EPM8RdF/PUALZsOsTBg4c4JNwe2rubw/7BHM1vTf9BPenu2QqzxttuiqKkE4TuX8YftfczfMq7fP755xeZKV1EC3lmBV/tjKfgvHAso7IsntB9ezm4ezfHw2NJKtZDS8sGt/Ye6KoySTsdSoJoP85vHqktR5WfQviRcApb2WHi4cQN6axmUQLJIS06hJNKWjU1gRGEJTYzqa+su3Mayugpr/Lu5+/wzuuTGOykj9W5Cr9ORUNxPFEnj3P0Ej9PRWeh2ZB6CxBp2pBLxMaf+P2XP1i066z6eKCWD4bVUFmcQmLwHtbujkXHdzT3PjaGB9ulErxnD0Gn08goPpdv4v1x6M/gh/7DG288wwsjXLBqrqdWmkFqyDEOHopgj+4Y+gyawFPPjWf08FbUBW3m6L4DHAg4Q1RKofqdu+qgur4pejat6elegyo5lKPbN7B55QK+/e9cFq5Yz0ZRfnbvPsiu3VEkFVVc4Ricv4jqUlQ5Zwk+6o+/ks9RCUJINF5y7TmRAV52uOUHsnn9Ifbv15SH/Xs4dOAwBzMc8e3WjX6dPNR7xC9HSaVismNEeWxSlg4JcV9k6EaXkSMZeZkRnZaRnWillU36qSb3HAonKiGX69qeUFpMiU49+aKDrIipi3NdqXctMbcpR88kH2VQ9fzxhFUFlKSF4797F3tFXgVEJpBSXEaN6FDu++Fn/vx9Bau2KnnYaI4pasjcne7t7NX1qbpGV+VTlBZJ4BF/joQmk1lwGyZrzS0wNarDuLqI/AJR3VznaHJDXR3FoSdIriwjobaB7LAz5NeIDrDm+s2jorwwiajDeziwJ5Dw1LybXqN+cygJVELG2WBCjooyFRCMf1w+5VUJhG1ezarZv7F082527LqQt/uOifq1xI3Wrexxt7mkk1iZS15SBCdE+TwsTHhiLrlyTv6O4S8VjrcVZRt/ThZ5ZQaUGtvj5Cja8kumqK+E+10v88Bzr/NqrxNs/2ASTz77OZ8uDyK9VrzoosZTvFZjbol2z34MNg2hITmBMzFNmriGODKSiok+6cuA7i7YKAuJb5gmYapRBK7WhWnapiRvZdN3rzB5xAhGjh7DR+ujEW1HIzriZXQcw5TP32Jyfz2SXx/BxNEjGCHcjrjvEz7frMPwP/bywgQfuon0UiMC0VZ2kYrEU3alXi9aWtrifnGvqEjq62qpqam5yNQqc+1aOuop6gu+u+PYeiofb9vFxoMH+e3Dp3mofaNfylpUp4IzxK/4gXmBNeSVavwqjiUldB0zPt6Buas3vbr63pKNEOpE1q5BR/cw62e9yrNKWjU1U97nzQVB6OkqU3MtTB/xHFqV2eicncdnzzzEvZf4+dy3+9l8WqR5k7dRS5mK11HsbmRnsLhHuVdXSefrmYoU5a6+kLSQnaz+4B1+M5pKa78ePDZxKH0feo27QmawfrPIo/DCFk49Cv/qRJ6fWc+ffxzl+/32zPzpfnq2scHUohOdJ07nm1Vf0z3sHeZ/9qX6CBCl6F7VaytPLO96l2VrtolO0EEObl/MqlnP0dt0ItM/X8Ayxe7geg4eeIOHOjqjOcnmFiKeqfGfJih5JFL50oQuOkPWwZm8dM847lby+ZPfWH1Gc6vdECa++RrPP+FN+dsjeOpuTXmY+H/858dsunyzhqcfGcBgN7VPapTd3Trn30tlfjKCvbPf4Y0mZenGzDt8/MsRooSPFz3W1RDvifpxL66omqDUYY0JclGy2HbF6+7/suyAEPcir+a//Sj3eisXlMrak6FPf86sDUoeNjHrvuP3N4fiKp5bvcQ5R3ROV3/I46PHM+b1pWwLTFFsby3iuc49WrP17lVpoK5GRejJQ+g6WONmYkXNss2cLKukoMUJfC0ccPebzOsr97F57xzen9ibrpor/xuU0YooNn31Ai/dJ8rUI/9h4s+nSMhT1J4T3gOe5K1VB9m575K8VcyXj/BEH2e1L+fJPMTxpe/wqCifo4WZseAQB++8IdV/Lf8s4ZidSWZZCakaq+vBxmcYoz7cz5Y9c3i7fS5ZP73Mo/c8yvN/xhGVfW5ll4VozHvRdbCJqACSOHm2yemQcWdJLFER1KEXPVx1uHHdmENlVSLJ6VB9vntqIRoMH1wc9TG9dBjTYyL3vTWfjf6i933oAF9Mak+PcyLwPJ50vfd1PhNuDp7foLKelb++xv3ifbVuMs2kZ2pL1+fW8MOM//DmyJbsCb8YB797GPXkTL4y+ILf3hx3frPDOfPoahUp3q+y6cXuOF0rkZQpL/vhPPjuGzw7yY38VwYwabjGr1Gv8sIPuXT/aRvPTe7DwOvdh3QljJwx953Kp+u3sfV8Wl1idq3i8NwHGNzaumWjtM598Hvk6+b90pjN8z/mw1GOGOs1tlLOfR5n4su/8fODzrS2uWgS7RoYiGRzY9iMhfw47yu+e76fWjxddcXGeXIJWzePTesOEzlyEQtfGc3YjspEqQlmjt2Y+O0iRjfsI37br3x74NorSivzkwmaM5Znf40js/1oZv/8CH2E/YU0M8LArANjPl7Db/P+yyeP90ApundupaSMh0aRk1dCwUUjxG2xsrTD4dKei1UHWg17n9927mOPyOPFn73II75NhZQbngOe4j1xbef5srCFras/5okOZjhfMgjj+8jPfDrjXb6+T1FaSo52YdRb3/LT+Xtv1Mzm85eG0FH42GKNZGOPbY0OrvGZpImfF8/OKNI/i/x0S1SFLjiLAqg+O/ZW4dCPbuJ9WnNwLwfnTmNCH2XjyC0mL4fCUl2KDR1xdlI2LGnsW0JhApXHfmbW9k5oeT/D1Oc6M6LPLrbsVur1WzUGbo2RiJvL9cbttqEU1o7c/+FCftsuytT639n9Si/a2t3gvJvzXQx46lvWivJ5SJjvn7+LYZdscpX879D5SKD5+5ooIz2LFi3Cz8+P3r17a2xbTnV+AlmRe1l7IodS1aVj/3Z49u5L9wHdaH8jc6aKcCyO5Jh/CtlVprQb2R9P0T09v8bsGujoG2Fs7UQrJyfsLexxdzXFwrCA4F2BnFWZYGBhiae9mahY9TEpPsnR8Hoyyq3pM9JLNISFxO5YQUhKDdXdHuDh3nZY6DbdZNNSysgMDyQ1I5vynlPoJ0SdpWEFBYmJxB2PQfeuu/FyNGs87Lq6VDmZmD+j7HHt0osHJ/TBx9kZG1N9DC5TCXpUZEWRdGo1Gw5GEh4RSWRkGKHBJzi6T5ky2sWuXY1m9x5RGR8P41S+IdpCRPo6XemohebRMTDB2MIOJwtDzJx8Ma/LorYkkQTHexk3sBsDBt/FoN49GOxlrR5NU9alJp9MISaoAvdp/XE11FMfu34eHSNMrWywsrLD2swKl04dad+xIx07d6drr34MHTUIX0eTC7utG+pFsiwkqqY1ei69r3JUxBXQ0kVb3wxrx1a0Eunp3JxxcsDZzhSjc+dpaot/jW2xdvOhd0dXnC2NLl5vqWsoBJKNuK8VNdHriCszRGXfnaF+bc772crOGmtj4Y9meKM4KZDYiGMcrWxPWxsDTA1aWpqU+3UxshQNu50NtuaGaonRstdAGSnRwsTBC8+eQxjsbY2VsXK3Ntq6BpjYthLvhDF2bl44e7TFy8MFu7Y96NnJAw97C0zMW2Hv3glfZ3Nxn446LxSj79qXbj1FndHRCXPFt6JQ/DetZ/nClWzYc4AjQWEEBwcRdOwge3cdYveubLRaO+Mi8rinZxtRBhsrhPIEf07uXs53C9efL6+7du1lz6FAAqNiySqJJyLIn8Pnr6VRKDKiQSeHtIP7SGz9IL3bu9DO7lxhuR6qUZVkE7N7PaWdJ+DWzof2tsqoXwlRW49TIdLMtlNnvM/VXTlhhMQXc6zEmxefHUGXth64WFtgdlEfQJeqglQyg5ex+XAkp0KV9zKc8LAgjh3Yw74m76ViDhwLJihTCHJDe7q5KRPYBhhb2WLrbIO1SRWZ+1dzJDCEgBDFn2uY7GqyLToyvm8HWruLd8vC6OI1ftdCt5q82Ejyk85S0u0evE20OP9NBOXrH0n7WbcpgwTd1vR9qBeeoo+om3WSY9ElRJQ58sB4XyxEWW+8pZwaVSpHF4ZC5264dfOm7ZVe2/Rj7IvRIte0E888MQCfqggOn1RRaOLKoHv81If1t6yTJNAup6JS1PErCmg/tD1uXvYXNggmHWbXgQC2BUeQlh5O4O79HDqcSqm1B97DeuBbcpQNpw0wdPRgaG93dblufMdyyYw6zI7vlnDa/TGGjBnCsK4m2Brnc2p5CkYuLlg4211YwiLIj95PfLKoA20mMt5X8+5ol1GpyhVxi8a5qy+t2oh26dw9yf7sCcrjtJYLo+7viINWGme2nSa7zAS7YT3Vcdso4mbgcGncWkBRAhmJMSwMs2Ti6A60a2WuloTKZ1WV9mbb6QbKRFqPHuzZ+C4r1yiiKCOJYwvP0GrqE/Qe3INere1xstRDTyeDCBG3rFJRb4wZjHg8rrqC7Fw40YbUOvrx5COD1e2avbmRqG81biS3ncDAQEJDQ5k2bZr6lIdLuX5tc6eiNLgObXF3qMO2IYWzceVU11zvvIBS5bjQccwDTHrlPzz/0EiGaQdwSPSg9pxMVa8hUaZPnfz60hoVOjHhBGXXUlUaT/CpHIrKzRg0xAdrXe2WV14XIcSImSHmF63ArqKmSkVZoXinWjQ92DzK91DL8lNJS00l9SomOTGOs0dWs2pfIPuV41JahBKxXJKCDnNw7Vo27zxIYJ49+pauQhBZYCVaSwPLVjg6u+CqU4Qq+jBr129i7b7TxGSXXDJa0Rx66Bvb4+DZi+GPPs/T01/jtdee5dmpo+lpr3ehwbod1BRTnhXJkU0b2CyebW0zZvPRaEJ0ezN5bDd6eFhfcW1rg+jcZAat5PDxoxxNvPqCnSIhHCMOrWB1SBH5FX/VtklTnP1GMHDcfUzsJESORqzWlGSSHXmATRv3EZzdQGFxISXxp9gXr4NBTTpZEacJOa2CrvcyuqvT+RFSPRNr3Aa/wOR7hzOssxNGlcWUxR5g39YVbNkr0iC8mfIXH8vZQ5s5EJlDubYVfm0uTDbXV4syXJB58T05FRRrO9Dj7nbY6qsob3otNY/C0isf1n996KOjKxp1B9F1PD9QrnR+yygvqaP6BgeSlG/8VijiMb1pvJs3Mcc3sXH/ETaHXbotTzl5QTx7rsiLFvgTe3IPe/fvZvHxdCqvdyv4OUzcaONtg697Fnv/PEhkcnHj8WG15dQWxhC46SBnVIY0tPWkrRALoh9952Fqj7FrR4YaR5GalMjpNGWBfWOepp+OolS3Bv02NmiLNMtOzSG/THXJqQKXUkBGpD/+e46zM9ONofcOpF8HZzxatcOr/4PcZS7SP+A4RwPjSBXl5aqtkzpuvgwxDic5IV6krxI3pZ4VcQs8QVaDqBO6eKuPQJJ6SvJXc2P65k5Emda08cXLS5czOQkcP57M496iV2QgKnyNk+vC2B1H33F8+M5ZAmfkk5OQRhzd6KUtwvHuSie3vWSdiuR4YCl3uZ4kKsWFMtdOdPXh+sITFUCdaHWKC5VPaOWQV1ROaWWVaEwyyRHtg35FvKjsU4iLVeGalU2uPVhU6IsOfyWWyjocjTfXwspzAAOndaLLo4qA0Vg2g/Lpsswtb/Fh8vWM1CnCJo6ApT+xap0/JxotL+FzZu7Q/KmgZwY+T/Ph2964mphgZqvCUPtKo7RpJBzfwYIXD+Cxcj7jezrf2Kj0dVIvxHZFTiRnj23im7fXcFZVRdllDWA9Zm174/vg+3x4tydeTmYYGehetUdWp1IEUDaZmVfOiNyCUkqurahvI0rcaqgsKhOi8TBB2+fx3sp4yi6bKRDUdsB38DiebfsI/c1ssBXPf+kRWEqDrMqLIW7FDN5bnYvZ8Ld47LsXmNJJc1lDTVGauvy9Pu9r5oamkvT8J7w71FD9Tpn5jGakYl4QcasTnakS8e5o62Jk0TjC27w2ySfhSOwNnr93LpxyKlWF5OcUUFxVL4RiIYW5mWSaK/PVp4mPK6HMugj7HGGndGB1RXmuqr36Wk0NZk4d6fbYj3g+KIK6xg2ZW97muxjLZjaxGGJk5U2/57+iS039hZMTrkDeEfGeBueyRvP7xrCiTfvuFIqO5n/f/4TNrf8rMsCHLnoplCds4Yclpyjq9RxjhvVo4RE2SnmrRVWqpLNIx0ufQUuUAD0TLGvqWpSuLcMaI9O29B4fzafhRygxsKDrGGXNSyZ7Doeh6zGR6dNfYZqyoY8A/nhuFRHNnmmqxL0eVfEpDv+5hm0HKql78Xvu798Kd/VJ8NaY23Xn8a8z+Or/9nA0u5g6m2nc394C9YB+s1hjaOIj4lbG3rRTaB9vxWArZcGriNshETeHCdw1pCcOt/xbOgLl05TVJRTl5ZCVqYNKvGPKgImVKFj14n1QlRaQk5mpfidF11HEU6VsybtKW6QcM1dKscjXLHGTMqB6OTroih6Ziak+hlf2SHKH8M8Rjupmw57W7bxwCMpg+YKNnLjvBdGo6N/4bls9fXB2x8MwqckhuYok6ET3Qd2I145l/pHjTPY4QIxbN+w6edJZXG32vbgSZfGkndzIBy8vJqKigtzSYiorq6k9PoD9yvSOdjVVZZWUFlaiO30ii0WjrGffnTZ+Q/hxnKhoNd5ci+zQDexf8iFf7gPVuU2xzdBQX0ddeR753Tvi0UNjeU2UZrsr4z74gUGvVbYsTorQ17fAxkoP3e719B1aJyogg8bF73cIBYFLWLVqNwtPWTH+p63M8DDC6ZJ1Z1BIWuh+9vw6hScPPc0LL0/g/sGeVz22I/PIMnYv28y25mtQNTUVRejYtcVFdET+NygNUijbv/iJ1YEqMga/wpqtvuqzNy8j4QBH9m5jxqjljH9nNU8Obn1hs9V50snNCGL5nNP4vPgHYyYOY0w7zaUm6Jo74jTxWz6o/4Tfjxaxf8d+pgwdq177eL5sKIeGZ+9g2RexZJm2Y/xX9+InrG/5yIvyrXd1OH+yZkcwibWi45BXSk3Y22z47VO+0FMkjIqijFIaYgNYuXU2nxiIAtJuKm8OL6bZbwRcgvK5yYAFz/LlXlEurrGtuVa8l0U+DzHkso/fl1OWE8b296ezNLSY6GucXlNXWUSpUx9sx2osbhSnXviOM+Ww4VyeXfAGT39eLPKoRggAXfye+o0XRnVncLuW9vCUDkkM+359m6UrPsHo0lfDxFl02Kfy/dg8Sm/wyPLmMLR0pPtLv/L4zK/ZNHc5Az5XSlEtzmPfYcrAsTzQovdPGWrN4sDs7zhW3A7b559kxj1O2DU9YUBHdMRbTeDZd3XY9GcAu2d8Tf3cTxnrfOU6wNDSge7/+YXHvvmGTfMeZcAXF+L2RIvjdgNUZov+0Co+nbaAb5VOsHlbjDs8JNqbYsozjnLk8BIeWGesbue06M+IJ3szcpThVYRjOmePHObPB9bzg7hJvULpMpxo23M0U758g7F/1QSL5IbRalDmz1pIhRA2AwcOZOrUqaInNl1j23JqSzIpSArhyJkiKi6bIrHEyac9Xr6euN3EOTZV2WcI2buRFYtXEWM3ilFPPM6o/h0vGqEqjw8lKzuLRM9R9LKKI2pftnqaucf9XdSfCmt8lYVYywwjcO4MvogcQt+JE3j1yR7nd+5WxW1g26YDfLSomEE+h8jq8j4Dhz7AKwOu8xjtmkJKcxI5cfgs+bV1LZtWM7LHwtSYgQ2rmbTCEe+Bd/HOM325ZF/aRaQcmseePz7lB9V/uE+06m1tr7GiybED7TxFb7z19R8LripMJW7bZ6w5WUlii86IcMLWpTcPvz8OH2P9ZjacnCF4bQtHHEVxzj29k+Q6R3RtffC7dIfBdRC7ajqrjyRzwPgpvn5zDN7W+pheppuqKE0J5PSW33lrri3j/vsI9z3UXf1JyEtRRHnAzAEsjrYj03okD/o1f9CKgvIt45ikRKIGLmf+JBd8HVvaWCoHp+cTuOhn9qfboOM9hCcn+anP6LxyE9UMteUQt4S33zrKKbwZ+cnz/MfXFuPmzmksTiEucCsr/1zIJrfPePv+Xtzf5dJTQROI81/PN4NmwCx/7r+3H1fbe6WMOn63PY/9jGblvAfVa9cuzBBXQtoavnjzNOkWvjz0+xP0FdbNC0ch9nKSSQ4T77zjQHzcbHG2aKHEVEZeKpKJPBVNXLIiWFqA8lk/Sx+66vhzODSNWWG+rJr/IB0sjC5eu6shJ2wzh+c+LN7Ll+jVoe21y6utJ65tvBni3TR9SyhKPcHq5ydzyPEJbLy70fNa28nNW2Hu0YlRHewwPP8d0hugWsjjvNPsOpVKTlHjfL2OngEu3Ufh42yBfdO6PHgeszalsjzLjxUiT92Egmh8WhW11dlE7TpFUlE5zZ5MpSeEl0jXgQ1rmHOghpCGnvz+xXBcAmYy/ctMEuz78v7iqerNV9fX+VTEfwXpISeITcogVaP2LX0G4NvGmTbqZRdNRxwdaf/5c0xKnckTq8yx8BvMx9P7i7q3gtRAf9Ib7NF36kB31yvkY2U6SWfTSUyvx3Fgb9xNtUjb+j67Dvuz1Wsh8x500YSpoIlb6AniEjNIaTZuisoK4M8XVhGWZU+HL17gwbSZTF1lhlnnwXzy8iB1u9D8aHwzlGWSnxajzs+6c2coiQ6+nrUXA9uWkZiUKeLeNIda4dpeD5OGOBYNWILLgu8ZPq6baFeVa8r9uSSeiCQuJl1I66thgoWDOz69fHEPn8lra+vJsO3LDx+OUsf/HzTC9bdgzpw56v0syuY5Y+PLBdlfKhz/KoqTT3F29y+s25NDZqvO2Lk6XfTtVq26BkxsnHEZdjfdrRKI3hVGVFgGKmtddVFvTBAVVRWi0EckU+33EGOG9ubuzk3GLsvCCdy4ntkz/iDCUJ++b87kwXvHM+rWn//RPKXpor6YyZhl9rRtoXA8sP4Hlnis5It729HH4ybU+TVQFYmKcfcsNoaqSFEOEbwq+WREieQs8OUl/xkMEA3s5QceX4dwvIXErXmZVQcT2Ks/lS/fmoCvENtml9VgKkqSAgjb8Cvv/N6KCf99lPsndaOt5mpTzgnHtRVDMej9Ml+Mu2xY7jzxO79k764N/NH6eoVjpQgnhTUvPMz8SDd0Bz3NL1+OVwuv6xqRq62AxGW8938HOVHuzqC3p/HswLbY6utcXokXiXfo+GaW/bGUvV5f8dZ9vbi386Udjjwyw/ex4cVX2dtuGt3HTeKewV1Emmoua6ivKqUs/ghbls9nW7ordV2e4qdXu6k3LZyP/3UJx/8REUtZuO00n7VAOPr/MoXFHqt4dlwf9eaI6+eCcIwZsYC+o+/h/v/ZSPVVuKJwvA5OzOLddcUE3DLh2BKuJRyvU5xdQsymKwnHlnCLheMNkURS0D6+EcLR+SLheAPUqtTt2ourpXD8X3It4XgTXc07Fwv37vR+YhYz/28ozmWn2Lv0Z37++YJZG1FEmm0fhthpCSHQlh793PB2z2K/uPbbeXcLWb49ktxBH/LCpBEXi0YFU1ccvNoxZLAN1tZ34+vujudfJRpvkPqaKiqy4oiPPk1ERMQ1TCJJ6UXqj/q3uGehwdBSCLtJ3/HOF/OYN+9a5n3eeHgIytf1rj4iVkd9bSk5iWeJPd1cfC818SSkFKinC290TZSVc0fsjM2ojdzD3qNhBAU3F04QgScC2X8kgYaurbFzslSPWl+N6pIccpPONOPXBROTlE3WDR2Gr7zSBlg4e9KmrTutHc3Uu2Wvu+HQFTLMqwe9OpmJd+gMe5dtwz80lOBm4hpxeDeHDxxlXaIZAzp709qhuVFqW6xbdWX888PRy9xKwO5NbN1/uV9hp4I4tnkh64OyUNl4MfqubuqORPOisFx0ONJIEPdFXuLPZSZSlPm4bHJLq9RN7Z2E0qFQ5Yr3LTaq+bhfZOKJT86/YrlWRldTYpq771JzhjPRqeRU1lF9oy+IRCL5V/KPHHFsRDxWbTWV1TXUXLJaXFtXH119AwzPbfVrqKO2ppoqVY16pc051IdZGxgJd9rNHIat7GQUfldVUV2ni56RPvrnjmf5K7iBEcdtc1/irZ1G1Dc09zyXMpCR057g9e8m0VP8un09vnAOz/dny9xcBvrPoO8VRxz/5PtJX7PTyJBKHZEv11RCPekz4RHeXTaNXuLXjUxYN9SKvK0RDfHpPcyb+Bk7SitQvoR4MQ249hjN2DcW8EIvfZyVIyhEeWkueudGHGevCWHLWeXYpCs/hPJ9cmPXzrR78XpHHBXq1d88r6kT/ouybniNzTpXpo6ayiryI7ZzYv0sXlwcQ6kQGpfFut6PriPv543FT9LP0ARLkT/Nntsn3rP6GpV4JwPY/PGv/DFvJ/6X9hYMban3mspXH93D3f3b4Sje08s22pwfcfyVpZuCSTPSu/Y0vK4JdHiej96fxGOjfFr0Gb+b4jpGHA9+dw8zxHuZW66jOaLqavSgx5jJfLDyGfV72ejnhRHH+SEqzpaK+uiaGW6HrftAXlj0Pff7WNC6ucjdauSIY7PIEccmyBHHO4J/5VT1v4LrFI6VBSnkJp/mbI5od1s0wmCDnZsLbX2d1NOEt6/iaYlwLKMkK4OkkHj1l0VaNmJkiZWjC15dXdXxv671fRehoqosh4SAaLJrapv9hJ2xlSMOXl1pIwK6fDdxE8SrVpQYQGJGUYtGE3WNLTDz8KOjEI0tP8fx1lMrnr8oI5bQpFIhRpurLkRaOzjj1c2thWktnj86kdSELPI0NudRPt1o5k5Hn1Y4Whk3P9KorD1UZRF/NoW0rCJa9CUybRErUw+8vZxwsTe9vjMLb4QWCsfq0hzyE0+p38urbVq7gCWW9s606940rWtFR0GkaWQoyUU1lLbIHyHIja3x8POllaneFXa63mKkcGwWKRybIIXjHYEUjv9UqkogzZ+loSZYu7dhUA9X9YGsfz+yRKWTQvSJctyfHnD5AeASyd+R7FCCo3M4lG3PpLs7Ymeoe/vF6p1ORiBHzxYTVtZKpIkvllpa1y8I0o6y57SKNCEn7hnRFvNUf7YdLqXAxJUh93VFOUzn1mtgpaedStjmCLLLzbAb3oOOxf6sizTAwNGDYX08bqruzT+zl9hkUQfa3MuEcweAt5jGuIVviRSdURPsRvTCt/gI6zVxu0vE7cpb8G4VRRSlJ+D/ewjm94yhTTvRObuRKR4F5QBwkadbIuspNXZj7NCmB41L/iqkcJRIJBKJRCKRtIh/5eYYiUQikUgkEsmtRwpHiUQikUgkEkmLkMJRIpFIJBKJRNIipHCUSCQSiUQikbQIKRwlEolEIpFIJC1CCkeJRCKRSCQSSYuQwlEikUgkEolE0iKkcJRIJBKJRCKRtAgpHCUSiUQikUgkLUIKR4lEIpFIJBJJi5DCUSKRSCQSiUTSIv61wrGmJIPcgMXM2xlKYGKRxvb20FBfR6r/b+w6eIADsWUa2+bIIPbwRrb+spTt8VBcpbFuSnYIJ4/sY+7GCLJr6qjRWN8YNSJueURuns+m7deKW8upLs0hYedXbDwSwqnUSo1tU8qoKjvL/h93cSo8jRyN7c1QGHeEk7sWsDiwgNyyWo2tRCKRSCSSW4nORwLN39ekpqZG/eFrPz8/evfurbG9wynNIC0xmsDQKBISEs6bmNCjnNoyhy8PVVBZVop+hRA7Ta5nl1RTa2iLhQFoaWn8UmioR5V9hujos4RHxV50j9okp5OQB4amhhga6qKj3FJXQ9Ty/7A5Tod0Iz/u8jJt9OsyoglYupgtS48Q330K3R3B0lBz6RzxO9i0O4gf/WHM2PZY6umgp7l0gXJKc1KJOx5MlIhTnBKv7BJyag1xFA+kff6BqqmvzeDg7LfYlqBPns3V4tZyKvISiFgyjVV5XdCzbkt310s/kl5AeX4Ifzy3n4r2rth0ccFec+UCQtQ2FJJ8MpSzZ6I5q07fJGFyqdAxRNfYGCMlcTVkBPyB/+4VLK0Yq34GO1NdzRWJRCKRSCQtJTAwkNDQUKZNm4ae3uUK458/4pi4m23z32LChAlNzN088OSrPDcvguQNs5n/zjTG3d30+gRe+nQ+K6OEfKnX+KOhob6WvMM/8sM7Uy5yr5i7x49j3L2PMOLlVew6k05BdRWVlZVqUyU8qrvIrwbqaqupVjVebzQqqmvrqK0XproS1flrKvF3tYhLg7jrGjQo98YTte93vh4/gUnquN3N+Oc/5IUlwRSUVYt4XNOXliOEdH1tVZO4KvGuoqpWPF+NeL4q1Xl79bXqGmrqrhG+4mddAZWlh1j+ynP853ze3MuEu6czc9UxTubWiHTSuJdIJBKJRPKXoNUg0Px9TSoqKhg4cCBTp05l+vTpGts7nMp8cvPySc1tOg2bSlLgXpa9MJeDeNLtmae558Hh9LfRXBYYWthh7eCKg8mlI44NVBelkJlbQn7ZxRPFZbEHCDm0jbcjx/Lzk7XkJJ5m9bYocUs95dkxGA95nfGP/odPx9oJ1zkc+3Umm7YeZm964/0ihSnOzKG4qAYtZy912PrqUTULTK39ePjLdxlds5kd+2L4IaYTq+Y/iJexPufH80Q45Oxhxbw/2BsB5iNf457OYGZQQNzxvRzYfYJT3d7ju8e607+tlbihUoi7JNa88BC7DCbgPO4lPhvr2OhXC6lIPUnczh94e0Uc2cXVaru6mkr18xboumBqZoGtyYXRP6eh0xh9zxAeaxvDzAFHcP9oEv0f74Ov5rqaktOcPbqJmR8uRXfsJ/Tv6UknJ2FfVyWez5/1K/3JNOtF72feY4p4PgORRvHbP2fPni0sb/Mn8x90poPjpUO1EolEIpFIrsWcOXPUs8v+/v4YG186Y/hvEI7nUda9FRG+/g+OhQZzNEVFeJw1g23iyDOxpcyoPb7OXbnn1WH4WJsIqXb9FIev58iGBTy0/y5+etMLJ0MVMWez1aOUSXu/J979CTqPVYSjMjFbTkrgYaLOJhBb3Hj/lTHCwLgVXUYPoV3mKlbubF44NtTXkLTxP3y7vZh08+G8+foz6uluQ90K8hOOcGLHWmYvzMXZxw4LGyNxRy319SXEHdhJWbfnGfLw9QvHmqI08mOPsTMsn9LKa68tNG/bE+8O9rQ3CLuicMwLXsaR3Wv4Lrg7z0x/miFdnHE1FxcahP9lsQSt/I31YQ1Euj7CnFe6inTWJVUKR4lEIpFIbpprCcd/7hpHRWRUJBF5IojA40EER4YTGRnIUf9golPLUJl70mrMEzw3UB+dmgpSYlLJjYkjQ7eU9Nho4iPjiU8Ris6uFUZ62uifm9RvqKciRfgXfBL/E6HCz8jzJuJUAKci4wgo9mH8vXdx16D+DBHp1LNHN8xTVpGp74m+Sy/u8jITHhlg4dwOzy696d2tM71bG6Gq06ZeWx8TExNMTM0waTeAgYMGM/auPnTv1g4Xc32MckM4GZPPiXwHHhzvi835NY51NNSVELz8a4K0/LDrP5nn+liiq463HsZWlpib61C65jsOZjeQXqnEQEVFeQk5KSnUOveibWclbte3xlHH0BxTZ1/8uglBaN+AqW6N8FXEX3kGjbF0dMOt992MHdqP3u3dcLGsoqosjaMLU7Ac4ovbRWscK0kO2ExI8Gkyhn7DtH62tLHWLGbUEg9jYIezWSHpKYXsP1pOv3u7YGOgS0XsERISYoiwup/xvuZyjaNEIpFIJDfAv3eNY30VFAaxZ9EPfDVjBjNmvCvMLA6ZjGPo/y1kxc9fsezpbvSY8Bov/nceS+ZM5917czny0xd8qXb/CZ/NWsnBzBqKGmdg1Sijh/nH5jPvq//jqRdfFe4Ut43mvz+tYWVwNfbWpphoVVJWkE1qaqowaeQUV1PZzBbo+ppKKnNiSdu/mNlff8Tr5/x7621e+WkdGwNiyS1WqcdLrz40XEVDQzpZaeBs6YZfOw+N/TlsMTHzoddwI7wffIYn//sLK1Ys4c8/ZvHyUFc6WGqc3QDKrvGq4kzCds1n8azXLkoTxbz/2SxmbwklLKWIUtW5UUnlaSooLcghS6RRemYWBZX11NSXCDFbQUWZHg62NqLQNiMAzSwwa9DFISOfwvp6mmSPRCKRSCSS28g/VzjqGIPjeJ6auZA1R49yVGP+/L9xTOiozHtejLFrdzpPW8DGHQc1brewafkHPOppQLOznp3u4a63Fp/397zZt4mjvz7KOK3DrP/kKfr378/AQUN47pezHEnQ3NuE8vhDHFv8KcPfUtH52dms1Phz5OAefvHZyanVc3jzt+NkCrd1jbdcAZXQYulkxLmiW2eLfZP1mufQ0zfE2d2XrJIqsotKNLY3T015PiG/PMiPp62pveePy9Jk7awXeSThYd7+fQOrTipPoiDiyx6Wf/Isj4k0Gn3/43x+oJyEQlvMLc0xt64iMTUdVVUzsjA/lwKtahK9nGmlo42clJZIJBKJ5K/hHyociygv8Gfla6/z4fRXL4ziCfPai0/z9JRHefjhhy8yjzz+JFOfe5U33vw/jds3eOO1t3j2iV/YHJFGlsbn8+ibYGzliKur68XGxQlXBzNM2g5hxOSXmTlzJl9//SX/Ge2C72XLB5NJjIwlcD/0e+UJhvfpSleNP27uHgyY9DzD3FVYJe9i52khMq86tKbsuK6lrkYPrQYddJocVXMOLS1tdHX1qa1voK7u6jL0ejg34lhULQI1vTxNWtlZYFaTRV5xOaWqc+HqC+PH4Idf4g2RRh+/8zqTOhniaKpDK28/2nm2oWrRK2w8lkxkbuMd6lHkvEOsX72ToOgyeo8ZgquenhSOEolEIpH8RfxDhaM2WtqGmFjbYG1nh10zxsqwAe30w+w5k0tGlUGzbuzsbIQxw1iv8TzGi8iKJPbASvUi0ubMn+FCIHkMYvLkyTw06UGGd7bG+dIdNxUZZKUUEpvViv73d8ezlRBYmkuKyLPtMAa/1qY4NMQQFFtCVbXm/JkKIdKid7Ni/s/MF2Gt2hVAaLauuMcCc5tC6rTLKStvdNqUuroaiguzMDfUxdTo1sktHSGinfs+wUDHCrQil1+WFr+tP8wOrfGM7O6Dn+u5J1RS1B2f3sMZI9LovrvH0NtVT31upqlzZ3z6juHe3iKZ96xh7c/n/JrHnJ83cTTPBnu//jw40ANrPSGGGz2USCQSiURym/mHCkdzjC17cvfHX/Dhjz8y64sP+ODVqUx7cqp6R7hiHp90N/f2csSywwB6j3rwvL3aTH+L//toJj/++JUwjzKqvSPKATqNaKFv5Y67bglaMXtYvHhxs2bj8Vhicpr79EsTKiuoUjVQrmOGmZkWuhcpIOUMIGMMjfTR1ReCr7SMeuW4HYXKHIrjDrN52VKWibA2HwrhdK6hEI7OtGqTR3l9NilZFY1uz1Mtwiog/kwSekWZlGbEExwcSkhIFIl5lZTexCdodI3M8Rz/Xx7tbo1H7k4W/DaPHz97jY+++pZZc39n9YHTnHL/P54f35+h3s3MoV+KsTsuPe7m1e9ex6/sFGc2a9J16QoWb8rGqM/DTHhyMmPagtCNEolEIpFI/iL+FcfxpB7+he3zX+OdbaA6J5DUh0zXUNOgi46ONrraTQ5rHPwazz75GN9Paq+xuJiGumpqapUDva+cdNq6+uf9VQ7IDpg5gDVVozHtrRzHo5mzbgjl0PytrPsxjjarfuZeT2PcLxzKKEw6h3/4gEOR5ZRMXsVbfbWwjV3IvM1n+f5se5b9eD9tjfUw1RHPoKuHdn0Vx78eyLep3dHv8Twrn+7S6JWaVNIjtvHt4DdYX1ZLhva5Z26grroa14nvMPmp6z+Opyn1Il3qausoSjvNidl3scJuJn0H381TfW0REcRAV1vz1ZosijOPX/kcRzXK89dTW1WjTucLZ31ro6Oni66OjvBLYyWQ5zhKJBKJRHLzKDN8VzuO518xXmPXaRzj3t7Mug2b2bxZY7ZsZev2XezasY3tW7eo7TasWspv/+mBn1BvijC8Elo6+ugbGGJkZHRFY6Cnc16Mauno4fvIXF6YMpWpvazVdmq0PGnb0YMefXNY9NJc9kQkCanYSENdLaeX/5e1IeWcsR7FxG5amBhoLmppq+NgYNQYBwN9PfWxO9pCnHV89EWG6BdgvPtPfguFEvWgZyGJR3ex4edVbB7wFq/8vFzzzGvZuGEu/zfSnY5NotVyUog9soivRoxgojCjRo9jrPK1mien8+GWSg78MYefZzzKhLvHM2HsaEaNHMmIxz/i3UUn1GtGr77KskwI7pOseeMbVq48QXjlubQ1QF/3YtEokUgkEonkr+FfMeJYnBRI9Int7I7mqp+pq68qpyRqGzvNHmLY2AeY+8jl42DnyY3kdFgwa/yb2Sp9BSzbD6Jzt4vPSqzKPkvKyb2sXRdFoq0FBsYGKJO5Srak5adj7tSLnn2HMnaoF8pecO2whczbcoUvx6hH6dI4vWsTR/dGEpLjiI0L6OqVkZ1fSk6FGb7jn+SJ/q3xtFfuutkvx+SRGRVOwJojiKTlGhPzjVj54NmxHcN6GRG5MBmrIb64dm7uW9UFIm7KqORiKoc/QO/pDzHuKlGTI44SiUQikdw81xpx/FcIx+SDc9nx21t8HNoZdxtjLIya2XLclC4PMn7MCKYPdddYNEPKIQ7v28HnK0M0FldG+eRgcWIg9HuZkQ81mao+R0UenF3NewuPcTJWs4VYW8Sx77O8MKEv9/g5NNopXFU4niOF2MP7WP/5So6LX5WKlVsvWg95iNkPtse48TuGgpv/5GBTStMjSc/IIKVQY3FVlDjY4dHJHadWFlx+7Pj1CcfMoBWcOhXAgVZv8fIgW9ytlF3bEolEIpFIrgcpHAWKcDywYS5LPFby1X2e9L6wkPAv4YprHG+EFgnHlnJrhWPksmdYtGwFvxzTWFyRBiGmDaipHM2rS15mSrNrHK9POEokEolEIrl55BpHyV9G23Ef8NrP/urCdnWzmV2bPuQJZxtcNfdKJBKJRCK58/nXjDjuXPQBXyWNpIeHBQ5ml3978WLsaNNjAAMnDqObJejc5EaMf8uIY8tpya5qZcTxmHDzJSfqTKnt5IWHiebSFTFHS7sz970+gs4eNuq1ohKJRCKRSFqOHHEUmDi0o023sQzx0MWgrpyioqJrmFLKKqqoucpGGsntRl+IQGd8R/WlvY8dljXN5dOlpkSYSqrq6psc3yORSCQSieRW8a8YcfxfU19bTcgvD7C9ejAmXZ/g9SEXjhO/bs6s5o99iSxK9Oanz8bhYaSHkebS9aMScUtj23vTOWwwHMehT/DG0JuIW4vJpTQnmF8eDMT51fF0v7cr7TRXJBKJRCKR/O+Qm2PuCBqoLs2jssEALX0TzA2vsav7atRUUK6qpaxWF2tLI3S1tNTfmLkxlKyvo7KoQEhIQ3QMbzJuLaZOfVh4WV41OmZG6Bvrc63FAxKJRCKRSG4/cqr6jkALfTM7LMzNb16Y6RljYmaOg5UxejclGhWUu3UxsrTHyvIWxK3F6KCtY4S5gwUmUjRKJBKJRPK3QQpHiUQikUgkEkmLkMJRIpFIJBKJRNIipHCUSCQSiUQikbQIKRwlEolEIpFIJC1CCkeJRCKRSCQSSYuQwlEikUgkEolE0iKkcJRIJBKJRCKRtAgpHCUSiUQikUgkLUIKR4lEIpFIJBJJi5DCUSKRSCQSiUTSIqRwlEgkEolEIpG0CCkcJRKJRCKRSCQtQgpHiUQikUgkEkmLkMJRIpFIJBKJRNIitBoEmr+vSUVFBQMHDmTq1KlMnz5dY3t16uvrOXPmDOXl5RobiUQikUgkEsntxNPTE2tra82vljNnzhwWLVqEv78/xsbGGtsL3HbhWFlZyZAhQwgJCdHYSCQSiUQikUhuJ3/88QeTJk3S/Go5d4RwHDBgAF27dmXs2LEaW4lEIrmzKSkp4b333uPee+/lrrvu0thKJBLJnU1ubi7vv/++WgBOnjxZY9ty7hjhqFS+06ZN09hKJBLJnU1BQQH33HMPL7744g1VvhKJRPK/ID09XV13ffvtt7dFOMrNMRKJRCKRSCSSFiGFo0QikUgkEomkRUjhKJFIJBKJRCJpEVI4Sm4baUcXsnPnBjaGl2hs/gnkk5cQwPq353EgIpv05Agij2zj40UniCuupErj6nopSjzBqU0z+eVwOkkF1RpbiUTy76CcGlUke2cvZs++08Skp5AfsolPfzvEsfg8cfXmyYvaxdGt8/nteAH55XUaW4nk+pHC8V+IKj2MMP9trFmz5mKzaQ+bjyaQW1lDrcbtzZAfvZ/Q0CACUyo0Nnc6VZTlxhG1dw2b1zemyZb9AZxIrqC2/twesjJKcmIIXL6byNRiCvJSSD0TzNoDsWRV1FCjcXWBQrLOBHFq90GCs0TzcLkDNRU5cSSe3MTeMwXklt2K1JdIJNekTnT1csI5tn/75fXhmn3s848jWzi7uTeylprKHBL8N7N7U6PfG7btYX9MKYWV5wScirqaVCK2HiI8MpWMwjzKkoJYt+8M0dmlV+mQKvVSHinB/pw6FEhkLtTUN165lJLUMKJP7WFfTBllVVI4Sm4cKRz/hRRHbGTj71/z1odfMOv77/lOmO+/n803389j5i/bORaXrRaP/7aqpaY8g8TQXayd+xU//fCdSJNv+WnRClYdPEtmSR3VN5QgKZzZ+yerv/qRNWeEmK7UWEskkv891WUQs4mFP3/H+598xbfqurDRzP76V35bsIsjKQXk19TdsHisqxL3Jx9j28LZ/Prjt+q6ds78X/l1WwjRGWVU3pQqVSqleE6t/oXVc/9gW5yQoLLfKbnNSOH4b8XGD++xM5i/cSNrhNm4cSnzZoxgTMkivvp6I7uD0/gnTTC3hLRja9l/5DA7On/CzN9XiTRZwif3ueN+/BOWnKokuVjjUCKR/LNwHsbwZz5ngboubDTLvhzOSOsgvnx0AYeEeMzTOL1e8qMDOLbqO5baPMXkjxcLv/9k3ocPMejEyxwMiuFUpsahRPI3QQrHfys6eugammNtZ4etMHZ27vh06c7YBwbhlBxJRlI2KaUat1elmMrik2x45wc2747kTIvuudNQpnviSYnSoya/G4893AcPdyeRJq3p4NOB7u1MODDvNd5/9Wmefvod3p+5jsPijr/lo0okksvRMcDQxLJJfWiHe48BdB3YmaHGu0mMLyWnQOP2ukgnL72MxFOdefDefnTu3Fr47SrqFx/GDu9EzO55fPOWUq+8xovT57MpI58MzZ0SyZ2KFI4SDfqY2DrRumdn2lQlUJZTSHaLRtiqqK3KJObgSeIScsn/W+7rEMIxO4q4Qi1yjb0Y6GODkb6OsNfHzM6RVq1bUxueToO+GRbuzrRysMRUXJUvj0Tyz0XPyhEbF0c8zVJJTyukqPgGKreCJLJyigjHl97ejtibGwhLPQxMrPHo1gndjFLqKrUwdnfB1dUOCz1dcVUiubORbZ/kAro6aBkZYapdSmlaNLExcURlllF3fmOIhoYGqguSSYoJ59SpcELDE8iqLiYjPY6YsFOERUSRVFh3fu1OQ00FquyzREWECPenhIkkLDyNvKraC5tJGoTjqlzSYk4ToXZzwZxNziavyf6ayvwkMtMTScgppTInhpjToY1uQyMJjs6h8HrXZyqPl5pMGtWk2ZhjJX4qslGNsQkG9m601fZh+ANP8+w7L/GfKcPoJi6ZNLq4OhXlVKhUFIg0q1RVUV9/hZXrEonkDqOW+roaKsuhtFxFTe0NLB7MzaagrIAzjlaYaWuLrqgGffGXkzPO+u0YOPBBnnj7Dd6ZcT9D7Cyw0zhpEcqH38pEfV1dTVFdPaqqamF1SX0tkdxipHCUXKBSRV2OEG+17iSdWMSfSz/hlVVRVNZcLMMaGurIPzKHOe89yT33PMkjT37DmqxgVi76mA+n3MNjz77CnOOVpGhGLKvzEkjbOINXn5ms/gzSPfc8x2NPLmFfdgn5jU5EHV0K2TtY+N5LPK12c8G8/fMWdiVo3AmS9n3PmiWzmLk5kuTNH/LeS482un34Be57ZwvHUwtvyfEVaoRw1LO1wlUrjcqCSkqud346LoaEjFSOiAo9KT2LquorbKuWSCR3GKWoyvLJitfC3sIWU5PLP712w+gJ4ejohKN+IVqlxeTd0DS4oE7UzVERROXmcLyykvTsHGElO6eS24sUjhINacSH7GfhR5sI6zCI0RPHco+dDeVHIwitrWuyUaZU9MKDObg5Cp1WE3n2m99Z+tsb3O/QlYemvM9HC9eyeN5s/tPHCDcL4TwtkLTIAObpvMJrXy1m7dpFzPloPGMd9rBkdRARMaLGzIsiZe98Hnt1Aakdp/DUj2uFO8WsYe0vr9Kv9gT75nzK57tz1OePKT3qhqwI8oJ3MK/2SR597zfhdgm/fDKJx+oWsWi9P/vCcxqjeyvQUv+vHpi8XuKig1Hp1uHq2pqGxRuJzi1UH+8hkUjubDJO7Cfg8FGOeD9G765WeNhqLtxybnyEsK6uVujGY+jYmuFoZEHVmj2EV6oo0lyXSG4HUjj+WylNJP3UeuZ98QUzhfniix9YsC2SGNcxTH5wMMPGjqantw1d6gMJS6yj6NxUcWUpDQmnOFbRGhOf3owc1pUe3TxxMrDE2dUbn2696e7XiTbWOhjpimC0Tam2dKd/rx707tWL3r0HiL870ddXm8yzqWTmZZGUHEnI0UBSLYbSvd8ARgztLdxpzKAJjOrdmrbamexfd4zoskr1ppRyLSPKTF3p1a0bfdT+9mdQ757c18+K/JRsUjKLbs2oY5WK2uIychtsMDDVx9hIY38tlGM+Evey83gd+Sb9GX53L/pZ7SA8JoXELJXGkUQiuSPIDydszx/8JOrCL9X14ResPlFCZZv7mfrMRLq7m2N1fp75FqBMexcWUFRrSoORCWbKounrpSKX6th9rD1ihJbrMIYNa0MHo/0cDsshU35EQHIbkcLx34qy7rAog4SYGGKFiYnJpUTPlQ6TpzBtuA/evl3x8HKkj0saQUdTyCqoVK9HrCktIi/4GOlO3bFt54nPNRbk1Jq7YdGmO/d1tsDaWFk5aIi5hT1e7dzQy8qnqCCJyMQkgqOq8Rn9BP07u9HasvFe9TifqRddevegZztLyk6cILZQRXGd6GmbOmHQpjcTuljjaC4UKgaYmtnTuXsHjIvKKBFi77pmfyytsEAHi3IVylGL5yd7KsqpyRXitqGSxJhTBB/x59jJWNLEpStXzSqqSpOI3raS8PzWGLUZx5gR3Rh1vx5FIRHER2aQe6OfmJFIJLeemhKKc1KJV9eFMUQc2cyJM5UUmg/k/gkdcTE3vLA+8XowMcPYwBj70gqqGhounAVZI2qPrHQyqktJSDvL6WOH2H8gnHhR/4guZwuooCz7DFHb1hNa2QuH9qMZM8qXvgPrSN0TREJCPoVyVYzkNiGF478Va1/aDnuJbxYv5jdhFgvz0yev8+pgWyyNFIFnjp2jG+5tbDmxfTexmUJYNtRTWlJASNAJHL1c8HC2F2Lr6liZmuJkY6351YiBoRF2Ng7opBdQLCrNuLQS4nLb0MXXEUvzZqpnM3NMLQ1xq8ugML9WWYqJubERbrY26Ggpk8hNUGZ90vIoKSpv+XSN4oenL956Bnhm55BUWUuNeoF5A3VlJZRnJZBmGMrmhbP46tXP+HzOFo6Lq81X8HXUVmeQmXycZQtO4dCzJwMGdaOzgytdHn8Tn5gQMgODCcyspFqoU7mMXSK5A3AcwKBH3+E7UQ8uEuaHV8fSriyJgA3bCRT1QcWlGwRbiosHTtb29M4QIrFMRbl6/WED9VWVVCUnk0UEB/YsFOG9z/+9vZgdmQUtWMpSR40qifioE6z8I4qO94yir583ndv60mnMI3gf3UpMyFnCc6rUdYxEcquRwlFyRYztHXH2aod3QhAZqYWkl2ZSUpDHyb0j6dulLe3atGhf8d8ARXz64OZdSK35AWYvCaewWBkSLCI5/jRBp1IZ+NoSflyiHAw8n58/n8JIcbV50ZxE1K6NLPtwM3H3fsnQoR3p46TYm6Kl3Z37Z/TFojiEAz8sY1cOlN/ARk2JRHJ7se7/AIP7WdK67gDfLAglt/BGl5e4Y+tkgFvnPfy08iRnEpTurOjUFiSwdc1u2ox5gw/nK/XKElYvn8HDbva4Nt54FaI58cdy1i4KJ2vqd9zX3wlf9cyPNeZ2PZjydX+qg3awb8kWjuTDjWpeieRKSOEouSLapm5Yt+7F6C6x5OWlczYwlKS4SA6270NrO0ucDG5B8TFzxtbRFHfrVM7E5lJS1swEcHmp6KlDllsHEa4+lspRaLccQ1x7DaFHd0/aBHzHdx+/w5tvfsicnYnEeT7Ow0Pa06uTF15eHri72KhF4/kje9QoXftCovduJSA0lVy/STx+T086u1tgoh5EFa61TLHyGcDgUb50ss3h0KwFHE4oJltOW0skdxS6pq3p1K8X/TvZo7V9O8EpJWTekHbUx8azEz0mjqdHwnK2/PihqFfe4/P5Wzng9Az9+vbiru5KvdKGtm0dsdHXvcqUuNLLzCd8wyoCk2up7Xkf0yb44elgpF5PLmKNjr4Ntp2HMfpuL5yqYzn0y2qO5NZTLKetJbcQKRwlV0bPElP7tgwdYElRTiKnDocSn5SP2dgeOFiaNDnHsFE0KecUqq63cjVshXNrV/y864jau4FTZzNJP3/kjegqV6QQExrJ2ZQKrPoNoq2NEeoljbcBc7eudO45jHs622Gsp0V9vR5mrTrgM3AsPVyEYDXUOLwa9ebYtu5Gr3vGM7yDNbaml0TW2J12vXszYEhn2hjVo6clhwMkkjsPI+y8etC5a0d61hzhUEAUUenF3Ih2NLJtTZue93BfD1ecLfRFvaKDvugwew2bTFdPe5yuc2NMQ70VTp360mfsMIZ6mWLatAOvrQcmnnQZ0p/evbxwM2xQL4eRtYzkViKFo+SqGBiZ4d19BDr58USGxhNXYMNDw32wNj+nonTR0jLA3CqfwpwU4s8mkJSSRm55PdUtOoXbFCePjvTo2xm9qGUcPBLIweAEEhKEiY8nIXw/uw+HcyZbj9Gj++JiYsRtGXBUY4Kt5wBGvj6bT2fOZvbs2XzyyuM81sMKA91L1lJehvIqWeE98knue+wa95i0pW3/Cbz46TOM8LLE4fY9kEQiuVGMW+Po1YGRd5UStWcPAaeiSS69kd3KBhhZeNH36U9587PGeuXLD97klSH2uFhez3dilE6oDV3uf5XJkyYysZN5o3VzmHWg69gHePrNhxhir811BSORXAMpHCVXx0hUTn53M8o8DUvR3z5rIEReK6F9zldElhgad2PkJB+KIhcwe/pEHnvmZX48VkHKhcMfr46dL+4jXmDFj0/jGrGI314QleJEYe65j4lPrSXCegzj3nqLqZ3BQoosiUTyF2Hu7kWPJ19lePERDm3czZL9SZorEsm/Fykc/4VYdpvM5CnTeP+xHurPW121M6rsONYzxEC7Dhsn0UP28cFZlBr984Np2ugYWuE04hX+8+5X/PjdLD55700e6mxIn4mvcf/9j/N4T+Ujfk2wcMei7xRmfjeFSX3bCv900TF2wMpzPI+8/h6fCD9mzdKY2e/y/AOD6OVsirGIqBId1wFPc/eDz/NsP5uLR/VMHdDxm8IHX0xh6qgOuGusJRKJpFn0zaD9Q7w0bQJPjvBWf2606TyBto4VJrZDmPTJ5/z31Qd4ROk1SyT/cqRw/BdiYO+Nt68vvds7oHxE66qFoK4GSlLIyLXDXNzXs4fzZfdo6ehh5OxH1z5DGTVqFHcN6kdHB12cPbvj5dWe9pfOxRqYY9CqAwOHdMDbyQL1Eh9lbY6RK949+zNI+KH4M2rUSGH60dXLEbsmXpg5d6JNu850cjJER7tJNa9ngpZdB3oP6ICvuw1XmciRSCQS0NEHm3b4dWxLRzcrLl/GrI+OriNt+w+ify8fOjoLoSmR/MuRwlFyFeqorSwgJ/QgcaVtsHTuQp/2//aK0wBDM3vce/jQysoIY1MrrBxd8PMSwlpf55Kd1i1H38wOG7fO+DgYY2pwo75IJJK/J7rq0U2njl44tbLCwtgEA2s3/LwdcTAzUK9uvFkMrZxxcPXB294AA13Z9EtuHFl6JFehgpL8GHb8vJScdm44dm9PO82Vfy+OOPmO5oX1X/JAX1faevejz4QnWfbBKDrbmNDSLxJeim2HkQx9Zh6f3tP28hFaiUTyD8cCfeM+PPTjuzw8qTdd23jjOPhZFn98D2M7Od2S2ROnXo8ybtrnfDzGQfO1LYnkxpDCUdIsSfu+59d3H+GJN3/hF9uXGTm0J6N85DSNRCKRSCT/ZqRwlDSLso6wfa8xjB0zgcfuH0MfHyfsLj2TUCKRSCQSyb8KKRwlzWLjM4yB97zIi9Me48WhbXGzvtFJWIlEIpFIJP8UpHCUSCQSiUQikbQIKRwlEolEIpFIJC1Cq0Gg+fuaVFRUMHDgQKZOncr06dM1tlensrKSAQMGqP/28vJS/yuRSCR3OlVVVezbt4/27dvTunVrja1EIpHc2ShaTam7FixYwOTJkzW2LWfOnDksWrQIf39/jI2Vk5sv5i8TjgYGBvj6+mpsJRKJ5M5GpVKxZcsWOnfujLe3t8ZWIpFI7mzKysrUddfvv//+9xaO13OPRCKR/K/Jy8tT110zZsxg2rRpGluJRCK5s0lJSVHXXTNnzrwtwlGucZRIJBKJRCKRtAgpHCUSiUQikUgkLUIKR4lEIpFIJBJJi5DCUSKRSCQSiUTSIqRwlEgkEolEIpG0CCkcJRKJRCKRSCQtQgpHiUQikUgkEkmLkMJRIpFIJBKJRNIipHCUSCQSiUQikbQIKRwlEolEIpFIJC1CCkeJRCKRSCQSSYuQwlEikUgkEolE0iKkcJRIJBKJRCKRtAgpHCUSiUQikUgkLUIKR4lEIpFIJBJJi5DCUSKRSCQSiUTSIqRwlEgkEolEIpG0CCkcJTdEQ30tdXV11DVoLCRXp6GBhroa6urrqZdpJpFIJJK/KVI4Sq4bRQBFLH2aOQt+5bdj+RpbydUoSQvl2DeD+GDZQfbGlGpsJRKJRCL5e3FHCkdFmCTu+ZYFa9ayNCBdYyu5U2hoaKAsM4qUtDTSimo0tpKrUasqpTgxiLjMAgrK6zS2EolEIpH8vbgjhWN9fS0ZgcvZtHc/2yNyNbYSiUQikUgkkv8ld6Rw1BL/6ZvaYm1hjqWxnsb270gdtdUVFGflU6aqpaZeYy2RSCQSiUTyN+SOFI7augZ0mrKQr2a8yScTvDS2f0fSSDm1gW+GTOePw8nElmmsJRKJRCKRSP6G3JmbY7S0MLR0xtHWFnszfY3l35EaaipLyEvMoKiihmo54iiRSCQSieRvjFaDstOhhVRUVDBw4ECmTp3K9OnTNbZXp7KykgEDBlzXPcpRL9mhmwgts0fXrj1D2xiJ3xs5WdUWUwM92jYksicin1rlLBg7L1y8OjG+kw1l8UcIikolOqMcdAzAuhP9enviblRIUWoMe0u9Gdm6koqURMLCUyjQhIejL57e7Rne3lZjIajOpzgzliN7I8itqaNKY62to4tH34n4utvhbAb1NSrKEw5zNNUUPSN9PC0L2Hs8iZpaRSXmkh19hn0/ncLm6UfwbedAhzZtadNjBH4OYKjb6GezNNSL5zlMUL4ptUZWDLQv4rCIS2aZikrluqE5IiKM69IKVytDYVErbikl/sheolLyUZIAlGl+d/yGdcbbyx7T8nx1usYY9cNarxqT4rPsi9Skgnlr3LzaM7CnGybip7pHUZZJQXIkG8XzVNc2bujQt3DAuv1A9NeNYq/WaIx7T+ezceJhKCP11DHORicSX6J2KnDDs1sHOvfywF5jA4XkJcQSvjuYJPGrWhgrtw54dh1EF+GNbou6MpUUJJ0h9mQgESL66qTGFhsnL/pM6IISG32KRDgxNxmOuK8giayUs+qyM9xDhSotidCw5Atlx6E9bbx9GdlBU3byozlz9iyHIjIbfwtMXXwx1ytDd/3dLG69kvtGDmdyN0vNVcmdSl5enrrumjFjBtOmTdPYSiQSyZ1NSkqKuu6aOXMmkydP1ti2nDlz5rBo0SL8/f0xNjbW2F5A5yOB5u9rUlNTo/bMz8+P3r17a2yvTm1tLQsXLryue+prq4hY8iTf+xcSUevFBC9twhY+xlf7CgiPS8ckdS8/Ld9LwImDQvjkkVCkTx93fU4fWMLqDdtYv/MwJ4KC2BNUhKFzK8wrI0g6sIin9unRXjuOxCN7WL18M3uDAgkKOsye08VkVpnT2csJcyNddKqLyE8OJHDfan76dgMHAwMJOBVE0IljBAXsJ1m7PcZm1thbGmJUV0z2rk/4dPlpjp1JwqAilHkLNhIQoPgdSmhEDMmFuWTmJhMbGUK6EFX6PiPpZHd14aiI55y9X/DdvgT2xZXSpT6CP+atZOfho/gHHeNYcAhbow1o4yIErK0ZxtqVVOVHsn/JPNZt3cP2w0EEBpzi0LZoVG1csW3rjF2pED2/PsTSOHvSUpMoCt/MXJGOQcK/g0FppJTq49rFk1YiDfREGhSc9efo5qW8v2gngScCCT4ZRHh8Oul6LujEbiLDsAOm7r0Z6mlAbVE0ARuWsnHdBtYfEGkl0v/wzrPk6Jti4dcOH/Va1QohxoMJ3rGBP2auZHtIEAHCz6RiHWjVnc6uBujpKCtcr05tmUjLY9vYunQBy/cIPwKDOLo/ktMJZRgN64mHQTV1OSEinI38qQnnuAgnsUgHLaeWh6NQLsT7qR3zeGavPl5a8aQc3cvqPzeJsqM84yH2ni4ivdKcLl6OWNQXkBm4iXVr1/Dtyr2EizJzUoQbnVdDfmUdhim7iLZ7gE5ebejYShH7kjsZpaOs1F39+/ena9euGluJRCK5sykuLlbXXSNGjKBjx44a25YTKDRPaGiousOsp3f5PpM7c6r6Spz6k5PhqRz0+podew8JNfw7MwdoYb3wNZ5/6VUeDeiMz7RfhP1u9myYyTuOW9i9dSsL9yRCVQEk/smcBRkUtXmS74SS9vc/Isw8PvHJp/iPH7h3XjBZxVUQt5UNv3zLs98H4vDhduZtU9wKs289+xY9g+mmd/htzm/8drzJGYapu9h98iy/lkxiy879je79V7L8xze5R68rz3/xJ4t3+rN67qe82A0sDDT3XYt8IdgOHeSzP22Z/NsaVqv9XceGOY/w4MFP+HruRn73T6MqJ5v0DeuovvdrXvmzMb77d65kzhOnORt6kHVKGpwjbCX+CbWc7jZbuFPSYD0/TTLBOnoZL/wcTG6Rkgbb2PjnWl5bo88T83awdm+jn5t/fIP/q/+S1YczORzf6F29SkXm9s1U+D3GxF8b3Snm91dBr2gv81ZGCVfKwLYQtj/+wqbVqdj+6M+afY3uvn3+Pjpn7SK7oQaV2serUxB4nMKGVrT5yp+dBxv9WDVrCKPcdjBjVgApmQEcmCPCWZWMtQhnlSac7168vnDOI0Q0ycuZuyiNPNfHma1+PiXd5vNppxIq/pzNhO8Pk3ZgDp/NOcD2gr58sE6k/5HGcJc815EB+UuZsVl4U6jxUyKRSCSSvyF/L+HoOJCOvYbz8DB3rKwsMDfvSo8+XejRz5WwMHseGN+dfr1aC3sHbGy86NOnDWa1KvKzC8hR6dFwxpE+9w+h75guuJqbC3eKHz0YdfcgRve2o2DnMUIrUtjtf5j4QnN8J73Pfwbb0t5ZcSuMbWusfR7i9eeH4l6ZzcmdAYSLaCnToNR3oGuHQTw1uSs21paN7s1NMTU2RA8dDIxNMTEzx9TECANd9TLOlpFpjpO5L2PfHoOPqz12an9b49FmEC/PGIx9VgaJUUkk2TjTaszTDO/gQQeHxvja2NjSp+8ALFOLSQ+N47TwTplwTrXpi2+Pfjw7yFW4U9KgNb379KRX59aUxCWTVZOB/9EjxBXW0+7+KTzQ3pa2dho/3b3wnPA893ayp71mtlXbwBi7IQ/Tv2tnejo1ulOMX9ceuFTrk3cknFMNDZTnZZKTr0uhthMubcyxtGp05+HTju5DBuKkq0tL9LRl56F07jeM4e7m6p33ih9eXj50dG5L+YYjnI6JIVyEU6DjhGuTcNy9ry+c81SJDDvjQO97BtN3vN9FZWfkuEGM7W9Gxvo/+fzPdcQ7tqf7qLGMay3SShM3x0798BtxD496gp0caJRIJBLJ35i/mXBsh7OnNz2cDNFRCy8LLG2tsWtjR4lpa3p6OeJmYyTsddDVM6dNu7aYG+hTW1WNSt8Y3LvSvZsX7V0taWy/FU+saNXNj05+rvikRJIWH86RwELya4SYGjaUTo66mJ7bn6NjiLapB536dcbdoJKaxFjiimk8ZsfaQ4gUL/p6WqGj3VJV2AJsXHFo34kh3VywFoqzcXbbCEMLN9o/cBdddcvQz84hvcYEE7f2mKXt4+Dy7/n000/5fOZs5m5PIPZ0DqrCUpTBLmXcz1CkY+vWrengeE7FGGJta4edsRF1MYlk5kVwPKyAvOpW9LqrJ23MdTDSaXSpY2iJqccgunmZ4WTVaKelo4uRczvMCiOI2vKTOmzF/LgumMCQHKpzCskVSrlWrw3O7qaYaYdwYPFMZi0+SEB8HvVmZtg4OWGirS1y7tro27pgqlVKxfHfmPX15+qwvl28jc3HcyEtlyLcsHY3w1wJZ9FMvl10kOMinLrrDOc8eqJMibLTrVs7OrhaacqOgiWOfl3o1M2JdknHOHCsEn0nb/y6t8NJ3HKuGOiJvHJo7Ud/LzCTwlEikUgkf2P+XsLRwgxDM1MhFxsl33mEONRytcVCXwgYjZW2EAeWVrYYGGhaamMD6OaNs4UpNo02F7C0xtzajDa1mZQJMRifpE9VQys8PSxE43+JCFR+W1hhaViLWXUxhUKN1SvDeLYibsIPZRDuFspGcHXArK0zbcSfF600UNYdOLniaqjCtDKXzORkzuzfz759e9mzX4jHgwc5eOgIB0OSyS5Sb6c5j52FORYm51KqCZVV1KdmU5QXR3ymHqr6Vni5izS4SAgrsbDGwlqktdqLamqrs0k47s/h/XvZdS5sxZyMJSHr3Of1lHTrROcBnejRBYpObmX90j9Zv3krO0+EEZhYRO01P+KsKPQiMqNCCBTh7BDPuv/AgcawAsIJEeJQjXlHOvXvRM8uWhSdEuEsE+Fs2squFodzCUai7HQVYlCUnSbbpxqxtMLMxpS2dZnkZdhhZeaAk4OyvagpRujqm2Nrj+jQaKwkEolEIvkb8vcSjjeLsoFcmMtkQ1Eh5QX5pIjkqBOCU0tLcVFPfbMCo9EPtRDS0j4/qnQ7UUdb8/d5amogI51MVRWFDemkhiznm5HjefFIW9pN+UkIyH3s27GJvbMfYZifs+amFqI8mvoPkVbNJYHGvvFSPuW5e/jtsYd4bbWKooGfN4YtzN6f/8O0ke3Urs7hNvhFnpq5jW1rZvK22wGOfvssk59+j6cXh1Giqrv8OS9CPHN9CNu/msF7n+1gofHLrNq4szG8pV8w+5k+GndKOC8wTYSzfe03vON+kGOzRThPvdvCcJpBXRaaKTvFRZTn56l3bteIMnPlQwqulJYSiUQikfx9+PcIx2ohOpLSyKtUcf60mHMUFVCUX0mcvie2XXvTs6sKE+1YAsNyqLtUPCqtf04GGWaOlHt3pHsr1GsWbxt5hVRm56Ec7lLbaNNITTWkJ5OksqCytBTt3Ex26ExgyhMDGahESlBXX0dWRgoVFedG/VqAjg44OmFnXIBBWQbp2UIzXXT+pHIwUTrZ6dWUFos/hWhSBYeyVzWAgeOGcP/I1mpXCnm5WZQUN7cbxAgji46M/XQ9vy+dzRfDnbHfvYnNydVCCGucNIfyzKFBhOQ6Y9xlBG8+2QUjg8ZJ55KSInJzLhyB04gRhuYinE/WqcP5cqRLy8K5FKXsJKeTV9F82SnJz+GsyJ1qYsgrKFKy7BJKqKrMJTVReHVdu3IkEolEIrmz+PcIR5Vozc+uYcn2QPZHar5/3SAUUVEwB3ce4FhMGZ2feJiuTr6M7NcBZ8M0jq/6iTWRVWSpz0QU1BRRl32YFcsOkNNgiW/fnnjog95VRx1VQmsmUVBYRcXFM8YtIzuY0wE7mLk5lsJyIWAUVBnkxR3i55/3o+3bDb/+PfE21sVUiBcLQxMM9ESkqnKpSDvC6o2RxCcqCq+FaOmBvi9+vd2x1klk/5I/OJRZTYF6BxCUC3EWtWYxQZm5ZCpKVhmhFeEZa9Vjrm+Ikb6RULgiwfKPsntPKCeF+G5ECG6R1qGR0RyLKkNb1xTbtp1p7+uFp7UB+gW55Knqr3FIukhoEZaiFc10dTEzMhVWwq4kgrCgILbvU8b9lHBC1OEcVYdjgo06nHYXhVPVeCxly6gS6Re9lmXbA9gT0fR5Qjiy+yBHorTo+cznvPagN7rRhziwbR8nRXGr1fQ58s6EEbFvOwEi/0uv+nwSiUQikdzZ/HuEoyLuDBsoigskaM8mVq9ezeo1wqxYwpaQAkocu/HwYwPxNrOnQ/fh9OzmRVtVENtWrmPtSuFOcb9qLWtWbedQjjVuHTozoocH5hqvm8cUYzNLvDpVkXByDzvXr2b7geOEC+1R3VLhoteAqiyDtBPb2LJ+rSYey1m3ZSe7ctrQdWR/hgwbSMfWnozvnEf8kZ1sWSXcbNzB5kNRZFZoUa3ZUtMyFLfO+AweSdcuNhicWcNyEeYKJVxhNm8/wPGYWiqFeNNWtiYb22Do5seIzhWURR9hh5JW60X67jpFXG6VkM1NFvXVqShKjSTsyLbG51DM5hCiS4xxG9wbL0tdTK62a0VH+OXoR3cfQ+yqwtkjwlqr+LHtKCdjcylr0OyVrqukOC2S8IvCCeZs03CuJ0mUt0SUneKEk5w8V3YUs3IJm4NzKbQbwtTnpvPC00/Qzzqf3MDVLFmhcSPMzoPhnE6vQ9dClJWrPZ9EIpFIJHc4d6RwVI5m1jezw8bSAisTPbS0dTAwd8TW0hwLo4tbfG19E4wtrHGyNcVIV/uCiNMSj2ZgjpWlGVamBugIQcjQN3jJrxy94F95/fXXhXmT1z9fR7zDMIY+8yqP+IL6C4fuQxn56PN8/cJAWPcBP/9XcSvM29/y9o8pOE/9iIceG8MwDyUYbXSNrbGxEnFVwmkMXYMjds49mPBsT4qCfmXhl6/z+U9L2RoH5wYPr0m74XTrP5C37fYw7+v3G+Px3vfM2Z6B55sLmDTKjx6enrh2GsiLz1qRtOsnfnxfuPnsT745aMPEp8fRd7APNhZGGGrrYWjZCiszY0z0L8l6XSOMzC1p5WiOsUhH6y73M27yJF4ZriLg5/f48u3GNJj15w4SBnzMkK4iXOXoHQsnTDxGMHWqC7Vx61jwkRK/b3l9hS7ewwYzamJ3HETeGCq5atOPztbFGEXP16S/MB9v43iFOyP/+xJj3IUgvNo5OYpSFSJt5N0+eFtFsOHz15nxhvDj10RyrbrwyHPDcHKywrTVILpaiXBiLgmn/EI49lcL51JMbGHIa7zop8I47HeNn2+INF5LtPVgBj/3BlO6m9J25Ks8N2Ugg60i2fCFJm7C7bLwMqr6vsjDnZzwtBHprPfv6a9J7hwaGuqpLskmv6iYwoqWVkCSq1FXVUZ5cQ65ZbXUKF8yk9xW6utqqCrKIKeolFLVRYu3JH8hd+QnB5V1hFUlmRTXGqClb4atiQ5VxZkU1ZugZ2iKjRCT56gXL64Sr/wqI+xsjDHU02lUw8o0dFUxueVaFEdtJ+LYWh5LmsKap9rTx9WYksoLhc7AzBpTM/NG0XiO+mpqVOUU5JZQJeLTOMOobJzRx9zOBhNDPdTaq6GO2vJ8Cip10TIwxsrc8KLxvYbaamor8sktqaG6th5dQxNMLO3UB4BfbWNNg3hB0tY8zwdhbpS5jOTPRz2EH8IvzZpLbV19jK0dhT/aiEe+LBx09MX/ptiZ1lJS2kCDniHmliLdirMo17HGwNAYM3HveWrKKS9TkV8mRGMri0YRXl1BVXmR2s96TTHR0TfE2MoBQ1UWVVpCDiri3FCrMQ1KVVQoc8DKsJqyi9ikjurqBlS1elgJQapotQZVCRVlpSKccw2XHgYmppgL4W0sEu4qSXKeusoiSsvKKCrX5KGeGWbGOkIY15FbBNaOFhg0VFB9k+EolERu5uj2hUwWZWfZlA4MaG1CScWVy05dZTFlItzCc3ET6JuI9DQSwr0qizJde4yNDC8X7pI7jn/aJwdrxXsT/MuDzM0ZiH33SXxzv4/miuRGSfNfwNH961jr8hMfj3VqcsSZ5HZQmh5ByC8P8FXtq4wZMZbpQ901VyRNud2fHLwzWy8tLQwsnLC3scFOtMjKiKOhlQuONlYXiUYFbQNTTK3scXc0w/icaFRQRhwNrYSYtMTO4oKY0zG2xtrBBQ8Pj/Omlc0lolFBWx89Yysc3N1xO+/WDXd3R6yMNaJRQYgkXVN77O2ssbtENCpoCYGnZ94KJxc3tR8ujnZCaF1dNF6KthB9BpatcHFzPx9nNxcnbI0bRaPCpeF4uDrh6mCOoYk19o42ONiYYCTEpJG1G7YWpheLRgU9IWitbHBztcJUiEbFW219Y4ysnHATaXAuXFcnR2yMtITbVlhbWmGlHPAo0lrX1A77Vq6N7tzFv0J8mpqLtLa1wUmIRuXkHiVEHUOR1rbO5/3z8HCmlZ2Feuq4pUmiY2SJpV2TPHS2wcbKEhMLGxG2DeYGukIY33w4l6IuO/ZXLzs6RhZYNI2bME52Ip1MDTGy8RBlsZnRXonkL6Chvp6qonSy8wuadKgkN0ONqpjSggyylA77HTziWBi4hMW/L+SzRTtJTd/NnDWnOHk2kYzwI+z87kd2JpaR/TfYuKd8jrgyP5mM/GKK/k6j5unHOXZgI6+uCqOgPIwDc35n1fyd7ItJJHTxk7y3YDPrQ7I1ju98ZAsmkUgkEsk/kepSSDnM5oNRBCeXUFtTRFHkTvyjc0jLSiE9/iz7j6RQUlNL3Y32qCXXpCD+OKdP7eNoQglVhTGEhsQSEZtHtY4OuobmVMTuIjT4GEcTz+3EvbORwlEikUj+1VRSmpNFenQquVU0fglL8g+gjtqSVPIOzmVVnBNWXYYzZbgr1WEB6FuZolObT3ZxGeHG3fC21cfyetZ931EoI73lFKalk5GYpT4B5Hq/8XB7qSE1KZni7Bx83WxpSE8m394Ng3ZedGvrhu/kH3jKpwCtuCOs3JeMcnje9Rz68b9ACkeJRCL5VxNN0Irf+XHaTFanNpCnOXpL8nenjIK8GNYu3YJXl0706NwB08pSMlPP4GBjgXmNiqLqCuLdWmGno3P+q2t/PxSZFc6eb7/n57cWsi1LdIXuGOWl9MKyKcwzR6/Bm96+lhRGBFDhaIFpu9bYi6vKQG+Hu+7FpdyI4g37CRS/K4S5k/lXCEeT1v3pM+lDNr/clx5uygE6dz5a2rrYDXmdN6c9xntjPTW2kr8aY4++9Jz0ERum96d3a+VjlxLJP4166mpqqKps3HzX8u2SkjuaskyKc7LZX/0k3X1d6OiSSVFOOid2t8PS2IiCrAjyM2Jo49IKPZ0mJ5L8LamjtrqK6qoaUYYbxyDvDJSYZFPQ4ESDkS9+9rXkp5/B1EhXvS7/XJprO3SkdZtKXEyPc+yUyLo7XDnembuqJRKJ5H/MjeyqbqitoiRqG3vijWkwMKK7Yy5r90RT6dyf/t07MtzLAOGAbetOEJNR2PglIh19sO/NsCGd6NrOjgtfOs8k/phydmgw0eKXUlG7dB1O55796dlK+VVCgv8eUkv0qPedSH8X0Ndslqsty6Hk9DbWJXrg0cGbvp2dMCgvIOCbAXyeORKnfk/x20NulAo3W4KC2LshhJiIMiwfuBtf0T/y6TGcLr2UcBr9+19TW5Yrkm0r68XzuNs3YKOdyRb/FPAeyd29vOimDAjUqaA0iv1bA4mIz6ZIc6+Stn37daZvFyfMNFbK1GZeXBgR+/dwIgfNBwEcsHXpyIgn++OqrXVhBK6+BtKOsfXIaU7FaT4eIbDtOhbb3N2URqxhiccq5jzohp/zFcbt6kXcRL7v3xZERFzW+bjZ97qPfl086eKk3KeMTqURsdWfkFOxJKpdQJuBD9K9cwfa6KaLaCxib/1QfH06MNDTSuOikeq8ODLOBLA2sTWDBrXHk2AiD+1g6mY/5n88koEddSmNjSNwTbQ6ny2Kj1JSVEa67WjGdzTHWE8bVdZpks6Gq/2Y2KmY1ORkglK1MPAZxjRRwOyVnYDVeZRmRKrLcGqZqnF0TF8UGofe3DfGF89WjZshzz/PtqOEnIy56Hm6iefxtVVOnijlzI4NZBp4YuIziN5OjW4UqvPixfMcZ11SawYO8KFjaxtqkk8SMHMAb9V+xP0THuDtAUIAR25n7YlTHFgZSlaJMXZjB+MrioP3uXDsNB42pUFkuMiP4/tOcioihXyNta3fGHr4daS3u/IipRGwbC/hCVnqL7fp6OnjPWIavdo5YF0WQXzIbvYwgrHd2uDrZKq+/xyVaeKdjY5jR4YH948zp+SsSghbUzx721Lsv5A0m5HYuHak4/m4lRK7+Ud2HjjF6rbfsOAhF9pd9Wy6q3O7d1XrfCTQ/H1NakSvVPHMz8+P3r17a2yvTm1tLQsXLryueyQSieR/jdJRVuqu/v3707VrV43t1amvLid33zd8tyaEA6fT0dfKYN/+UyRqueJsbUxbkjm6fzubhYAIjoojMT2FpOQUws+kUG1oipmtLQ6W+ugIaZEetg//zXvZtSOU0zkp6sagWMsWEzt3vF0NhZtcgpd/z5GgBBJcJ9LbGfVXlRSq8xPI3vUp724ResrWWQgPJ4xrKoXwWMiRsraYuXbjbh8jIS63sPlgCMdDk8gpKKa0roLijFSwaYtdm4742DT6d02qckiLi+Z06GmiE0R8rmByy+qoNbTB8jpPrakuSGp8nhXJJGRnUFacxOGjp0kx9BaCwpF2lrVUZAohcHAHW7efIDBMCBWRtkqaRZxNo0xLD1M7B5xsTNQnRtQUiPiEHGL/7n0cjUohUeRBdGgMcULUVXTvgaepPhbKkRXVZdTmRBO4dSV/7gniYHgCeRp/C+r0KcmKoSAnk1TnBxkrFLej+cWnfqipKqYy8zQBB1ezbkMgx0PiSMlq9KMIZ+xa2ePibIhebS6JgVvZu+YgB4RIPZvd6KbCuA3WDq1w1Mkgc/NbfHJAyF8LF3p2dFAfcdZIGbmR+/FfNp8fz7bGp6MrduXhQtwcYZfVRB4RhaO1cvKEjRAkA7vgZmOEg3M73Np2xLeVCFunceyrLPYAQdsWMH1JGmYGmcTGnOFkdAHZZu0Z5mOLVX0+mTFBHN63S5Thk5xOTCIpLYWExFTCopLQsbHHwtoSGzMttOtySQrcxt61BzkonufMuecxao2NvSPujrroks2ROe9zLE2fIpfBFwnHipQgzuyaz2sbdWjTSTyTEI46xRmkHV0oxPMQOnh3oJ99JXnhW1i1L5zwqDTyypTzHUspzEhB17UHzm6i43TpRFFNOXV50QQdWceGTUc5FBBLiiZuBbV2mNuJfLQpEuFsZOvyo+LdiCEmM4XU9AyqLDvi3MoK06KTRG39jnf22uLt44q3uyUXDtcoIfXwGnZt2M5viV4M6dORLp08aONhLcS5IdZt++Ih8tz+Qg9RYIB+WTJpudn8GmHJg0KkO4qX5EanhIuLi9V114gRI+jYsaPGtuUEBgYSGhqq7jDr6V1epuUaR4lEIrnVZBzGPyyaXwrvYcnKTez58gmeapNJxMZfGfPscQwnf8KnG/ewZ88edm5czg8DT3B623J++vMkmQ0q6huC2fzfnzhy1pyOc/awW7hT3L49rjNti4JEcys65Y0h3TDKEVqO4z7n61+/5utnH+dez3G8uGg3K7ftYc6bk5nopXHYEvL92TH3A16cMIEJVzEvf7WQdWeFwL7RucSkLawPLSLIehp7tm9mzwfjGdfJloacSFJ3zeXhlw9TOnA676xvTC/FzB2bQuHRP/lqvj/pIlwl3YrDQyiutcHt4z2sFs+ruPtz5mgmeO7lv98fJz61hAblv8J4ig//wDPfRKHq8izfrLng7+whxRilHOK341d7HuFH7mkRt9k8NP134ttP4flFF/z4qpsR7tpZxFFMVZk/S5+ZSYR+f0b+dsHNc52EyCuJRGVmRY8Bd2MdnU56bDJnmh7/U59I4tkQ9m7OYdC4kXR0d0K7JJ+q0hzG9O2BjcWFsdZrUpkLUb/z7Slb7Ed+yJ7lc9n0Ynda2xpSnyDitGwpz8/OpP0ny5izuTGOG3//iK/bL2P970Jg7zxDbkMx1eXHWPrcTMJ1+jD81ybP09kYh9LT5ImgbrQYnMPAoT1tH/qehSu/4p0J9zCp7xO8+cceNu/cw8ynBjPETePwPCI/ihIpPfwtz8/4lUCLkTzaJK1n3+VKZ+0gDkXv5vtx/yWt2/NMWdp4bfumDTxgkYpxhRDI9i74dRqI8bEwYtNySGxaAOqjCA8MIyqkhvEPT8DT2qLJLMKVMTMXgtvEgvrkDHKra7iT91dL4SiRSCS3HD96dRrJW0/7YWKs9NjziY48ReiZDO7+Zh4P9PLER9OW6xoZ0+XpGYywNscp5gwhaTXUpKWTpbKj1syRVvYXzh5169QJv/79UWaQmxnb+t9hN5R7/+97/vT3V09vXcks/uwlHusoGp4bXlDXn7GDhvHURYeXF5EUH87hQ+EMeetT7h/clS5NRpk6PPwiw1t74H02nMAMUI7/s+o+im5DxjLGEQw1rWArl7Z09OiK1pajROUXk04JmWlRbF63H4fxjzBiQFd6Wje6VbDuez9Dh43gobZXa0iVuIWxd18ErR/7kSfG9qLpmdV2Q4bQoX17fFSV1Gdkklbjgb6VNXZNwvHq25eOfn7Ymdqg1Xsy93eJQyf7JHuPKNJLQ2IsaflaBHSeytjexrhZF1BaXER2+o2IM0th7ub5yQMZ1s+50UqzyePU8WNkVOpxz4ef8aC3Ba6aWUzTVq70fuNrRteVYBSXxJk05XkyxPO4o2dlc/Hz9Ounfp5zG0P+WkrISo9i0+p92I15n4cmjmB8ky0E1iKtfTw9aZdTQnJDByzsTLDUbIvQ1tWl84gR+LRti5WtB+a9RvBUZ38yz0RwIuT8wggQv6NrnEjqIoRsT1HWLp/p/dsjhaNEIpHcamydsffwwK+VKbqKSiqJF217HIf8zxKz5yfmff4Wb7/2Mi+//DKvvPoG7365ge0nY0mtKKes1ogG0x507Kgj2upN/DnzI6Z/d5Dg9GLqTU0xtbBQT1H+9Y3uVdCzwtbNiw7dutHtKqZ9G2ccWjL8ciVatcHN3QUfuyatcVky6QnR7DuaSNTe31k0613efb0xbRXzzucrWXskiqSKMkqqQBmo0zWzRleVTf6embw34zW1uze/XMj87QnU5xZRXlNLVXkGuclJHAqxpF23zni1tsO8yRce9Cw8cXJ1xcdF5MUVM6OQwpxSks/a0b1/P3yEH8oHIM6hZ2kpOhbGGOtaomvZgx7dK8kPXcxv38zivwtPkFRejY7IbxOR7/o6RmDuS8+uduhV5REWHK9em6eMoGbGRZJTlIt170G0tzHAXK+GutpaqsXzXjcGIpzWvvi62+NirpkMV77EVniGqKhEjh4+SfCm75n13uv836uNafzamx/w/je7OByTQnqliooGK3QtxPN0q6IgXDzPrG/4cEEAicrzmJs3Pk+jz38xJZQVFXLmpCXtu/TCt50zNk2WpeqJuBlbe+Ho4MPAvnlE7/yOH2bN5/v14eSLTDa0tsbYyAg9PUuM7HwY3MeKkoxUzpxNEzndKNKTI05QotWAvV8P2gvRaahZPvJPQgpHiUQiudVYmKAvjDKoqNYU5TkU5qlIzxP29bmUiEY+N/ecKRBGH5vOnejQvwMeZgZCLAiBMKofvbvZYJAdxrG1i1i3ejkr9gRyJFZpou4wKlOJO3mQ7StXsvIqZufRUM7k3cQUpY0ZhqZGF0/9VeRTml9KSq452rWFlBY3TVvF6GDu2Z4Od/nhaVqPgXYuSUGH2L95NxsCYkjPzG50l19EUVnVhbipCikvKCYpVxn1tcLiss+LGWNgaCiEvOZnc1QVCqFSSXahA27Kd/TVo8/NoGuOrq0fQ+4bQBdPPWoSjnNw7WJWrhLpdjCckFRlG5WiQCxo3acXTvpa1EZGEl1WT1VZEpHheSIMYwYM9cbWQA89DNE3MMD44j0bLUNPqGNHK0z0FV80KMKxNIOc3AZyC/VFOudSkN80jUuEMcZlQE/ad/XA2cxMPE9X9fP4eepTmxDAobVLRBlYwQrleVLU28L+eqqLqSgqITXHEcdm81RgYIuFe3fGPzFYdFBUFEbsZ9+apSxfvYaVR2OJy1G2A4k0NrLH565B2JeJPI6JJ6lMRUNZLIGBRdTr2tCjl4fIrcZc+6chhaNEIpHcbnT00dOzwdlrIA98uYyfFgsRuEI0oheZ7/n01XsYZIv6k6atR7zBs58u5NcvnuI/Dgc5NP8D/u+T+czaFElZ7YV1dfX19dTUXnxwnXJYRm2tEEFKg/9XUBzO8XW/MmvGDPUu9CuZ75Zu5WCKEj/NfbcCHT10lRFPx25MeG8e3y5oLm3nMOuDRxluV4dpXRj75s9i1pwDrDd/mm/nL1a7+fOHd/jo0a7onJtH19ZGW0cLvYZqausaRDo3Wl+gTv0Zx7qrLTYtK6WytJgc4Ud5VQ11V1ncqaNvjM/93/DWrN/54fWR3M0Wln78Ki9/8SdLDsRTocli697D6G5vjFdaOAFJlZQm7SEw3ITsyr5MGGyLkfpzspaYmJphY6+Ug1pRVm5BgusaoK9vj1eviUz9ZhmL/rg0jRUj4v/4YHpYieTTM8T7vq+ZIZ7nxzdGMUFrC3988jqviOdZfPDC8yjUiXSsvbQMq+2qb6KX0QwV5VSXFJJFNaXK0T11zb8fxrat6fzkUr76eT5fP+5Np+zlfPPGdJ6fuZntIRmoRFR1jEywGzqRfgblWKfGEJKUT3XSRvaHtEHbuCtDe1686/1a1NfXqdNBSwh3HS2tO1qcSeEokUgktxsbH9w8TfD8//buAz6KMm/g+C+bzab33nsnJBBKgIQWRBBFxYaCgh298+7Us5yenr53nneeYm+cir0Cioh0CC0h1CSQkEZ67z2b/j6zu0BAxIAteM/343wkM7PPzPPM7M5/Zp7ifJStyWU0tQy1l21x8Q+czjVv7OKLj/7Bn4NEILN9K6sroMUQsLS2d1BaWUVf38kLb5dWzCs8QlfXL1TFXqnj+OCLfLx7N7vPMr331I+t43gG9oG4BTgR45vF3kOl1NZ3GhacgRLlpe8nvcYV1YiZ/OWOUVgbngK2tTRRU1WuC7p1bO2wcDTDZyCL2iqtKGf97JPqaWlqPns9QnsHrB1UOGkzSd5XSs3Z9u0Ee3zjbuD2ZRvZ9OnDLFKV0bpnH5trjt8sROIXrsY9NJuk3SUc272LPDcLtKPDUNr+D36m2dXdTUFpOVrt+byzHkSlBtdoQoP7cDDNIflgFV09pwZ6388en/HXc9t/N7JRyY9xOa0pewflBxqbW6iqHVRnU2hvb6KyNEec1z/hmNQ2tpg7mePTd4S0tGLKqn7o++HMiLn38cDbq9j6zh3MKkym6FA2qQ3KMuU1fizhY9oxdcojeXc+pbu3cTTSC9NQX8KVVc5BS3MjdW2NGPl74arRDKlBza9FBo6SJEk/N2MXvHx9CXDrJH3ZPXy685gIXgzLdLXUstmxI01MJeJPcTGr2cKmlBxSs9sxNrHA2sUbdzdH7DVg1NlBW59KXHSd8Anww7a/i8wVm0jXdtOsJFeTQdm+1Ty1oYvSxqE+rmmku7tEXEhFsHE+12ljC6zsnXHz9sb7LJObkx1nejv4o6iccPHwY0SohtxP/8qKbWmkisD6pHz27Utjw4YCfWVEaztsNX26cuvtMRVBn5jXdJBDKbv5fE3hyaehKk/cfEcy60oXMj5bxvqk/WToClivaPO37EvZSZo4fCdLuY3a3K18/bebuOtvn/DlQRW2wSOYmmjFsRXLSTqYT7YyppxBQ2oq+ceOUdBVS3f5RlYmFZFdqsXEzBpbV0883eyxMeqlX6sd9IROg49/IB6eThxMWsPapBocPXyYFBd0St1XZzcfvL0iOJp8gLLm1h/ZSlekauxJYJgfTsaFpL77N97b20zhiTYhyuvbdNauTePQoWpxEtXSU7GRVSI/R0sM+XHx0nVlo+RnQMlPr1qUmytBEYGoqqs5siGZwyIVXWhdtpsjKVt4ZUcPrV1DPYdr6OisFAGo8gRT+buJoj2f8+Hffs+Cv61lZ2E9beKYunpHM+cad6q2rmRHSgbpg45pU1oaBfvXkVy4nbc3VFJR34fG0h57V3e8XG2x7NHS09VNpy59paRNCY6MxMp8gNSkLXyV1MaImDCiRfB4bqd5I+UlhdSVNTJ1/GjsLM2HdXAm+3Ecgpr0r0k+WszhZivC3M6n0siFp+7oJjLz8snqcMVHXK1OvL4ZRnra66lI/ZC9teZ0GlnjYj2o5rp03jpqCyjc+wVfF5ljZm6Os9VPfaW/MJxPP45KB+BKp9obj1mKK3cIMxMCURplqjBBrVahMe6mt3QfGRXdFOZmUXB4L3v3HhBTIaUdlti5uxKsdAbdXUf+4Uwy0/axZ+8eXb9qe1OPUqp1xHXUOCZOCMPbwgRLTSdNlRVk70ymtLeOvEMHSMs6xpHSOnrqiilSjSJ6zAhdB+Cn9+N4eYyrfqdF4NpWkkNlQRpJZV005++ltktNn5XHj2vI8hPSdQCe+Y2uQ3PfiDAmntKZtxq1SoW5iJq6y9PIrmgnJyeXkkylbJVJnM+NJpi7uhGhdOqnNqK9JJe66mOkFZdTlrGX/ZklFBeX0dLYRlqJKzMWTxTrivybmGHvqKYyaz+F1RVk5eVRkKZPN6+8k/rmKrr6m6j3ON6Po5aanBS2v/ks7xX44TcyinEjvfGwMxb7lk9BXQ1ZRzPFcdKnkVUmgignV1zFdcWqs4bsg4cMxzxVLN8vjnk+NWp/Xb3GsTF+uItTQxeuqEVA1VTH/k2bKDIKJHbyNC4aF8LgPqM1xu10tDaz6b2jhEyJxt1T3Hj8wE/kKR2Az44k5ERn3spWTcR2RdDQ20J76WFSCtqpyDtEtq480sRUSpW4mXH3csbb0Zh+kZ+jB9PITB+cnzyRH1/8x49jzKgAPMw1mJu0UpFbSH76QQraq8kT5XIgp5ic0mo6mxopIIYZ0yOJOkM/jlNCjjfX7qM59wBFZcfYU9pMQ544hzGmNCOZA19+zjsFQUydGkKAhzM2Sl+KLhq6lb40a6s4nJ194phmFnfQJX7zbGx6qdon/j68j1Tdvh9i/4FSmu2jiJoyjugQtxNlbW7STWVJMempoiyMRnDJ3JlMDHPH7ly6PWg/yv4NB8nIMWHkousZ62KM5Y+4nP3c/TjKwHEIsj77I8u25bK1LYybJhzvnuC3Lf+bJ1mXfIitffHMDrcRP0LDL3DsqCsg7a3r+bAyAiM78eN5vG+IYaSnuZyqmiYqWwawtjVD1dNIXWMnzR19WJr20lBcSlu/+JHVmKKrmjQMNOQlkfzuPTx8JIJQP29ivA39UQw3nQ3iwt1MUXM/9pZd1BdUUV1eRlVrPaVtptiYqdGIYO18nU/gqLwK1VYdJrvNFTvvEOJHeaHcauouu7YeuPuGMTu4j6TtyexPTdH9OKelZYnJnqhZIiBMDMZBJX6oLXywq99O+p71vLd6l369bGO8ps1hzqLLSHAS6YmsmTo5Y67uQF26jW27j5AhLtRp7c70+8fzz2n9FBtFEhoZzKhgsV5fD00FyRSbRODhH8XUExddW3GR0mLUV8z6DdvIzUyjydwPh4CYM4+68Svo17airc4ivSOUMCU/Ic4M/rYrfVI6+kUzI7CfQ/v3k7Jrp6Fslcka33GjmHZFFM5GotDMPXExr6a1LoNvvtnB4XSxTqMfAeHBzJnqTVaxHdOuiiXY3RZ7C3usfUYx0vYYOUcOsT3p+DFLw3T8QiJDfYmyaKTe7WKmBtvgZNlPZ2M11XkF1DhOFNe8cKJHhOLlN0LsWyMpu0VQufXkvrWEzSYqMoKx7nYYmbnhVLWGTVu2sHKD2E56Dmk55kQvWMjsyyYy2k5/HulYWqHq78Lm2C5ywhZw0YQYJvud9lDDwohebRvtn3xD7Yg4HMRNSYDt2aORnpYKGurqyewKYfbUYPycrHRPMY/TOAbg7+dDrFMba7/dyJFD+w15KRaTK9NuTmBUjAc2xuaozNxxrF7D5q1bWDEoPyMXLGD23EnEGvJj5uaBeXcF2sLdbExK44iSHuG4B4/g7vEm5PaFkxAXTIinLerOJpoLUymwmcLI0BBG+yjNT5RUxHEyaaS56Rhbt2wnMyMNrWsUFmpxcyU+U+c4QeQnBD9nKyzM7bDxGyPKq5mcjP1sFOf88ePR4DOJoFFTme5phUfV53y0Zgcbtosg6nAJWaUOTPvz3Vw8MYTQwd1i2oj9aq1CXVdCWvgtLE4IEt+bc+vhviNvjfhNaCG/ezRX3hmDlzhMP+Z2/ecOHOWQg0Ow78VZvJTlSGXYH9l87zjD3N+2jOU3sSanl5yof/H6NV5YKrX1hxll2Ctl+KkPnZ9j0rQruGPiUIe5+OVUfvMIL21oZJfxTN574Qo8yleyfGMfVX1ePHSVBav+8G+aL76ZyIvFhWeYXKSr075k6+u38Gee5anFs1g8XG+WMj/ivZRynq+MYet98MXiFSQd2kF+mCVZ/k/rvqsTApQ+6c7P+Qw5qLy0HBABWk+fuJipjDERgeuJi71C+bnt76Wrt4/+UxpKGKPWqDE2Vp14RaWk09vXp2uYoafCWC3WURtz8j5O2Z5Yp1c/Rq+O2K5KpUJj1Ed3v9LAQ6StG4t4gP6eLnqVdp5iHY2Yd9xAv9gfEfR2GxJRGZvotvUj4u6f1kC/rjxOzc/p9GXb3aM0Mji1bI1NxGdEuZ0oW7Ge0l1Nz/GyNRLriEJVyrW7RwTlpqKcVUYntjHQ102PKJvB6arUGrG++HtAbM9Ioxt9RSX+VspSGfu7V3kSqhwrQ9mfad+UNJS8HH+j893tiGXiwq2sc+pLH2U7yhjj3fQaKU+zRf6+81ZoQPcEsfjj33FL+QIuvWgGf5kVYFh2ZvrzQH/eaESZqQaVwQnKsVDOYZGXk9GDspY433+w3M6UH3FeimOhHI/eE6vp01Er53CfyJvYF10ZKdvu7aIHcX6Kc1g96IHG6cdUJYJG5XigfD/EsfhOfsT6SqOywQ1kjJSGVkpZKpsS+94tdkjfsEj5lNgfjf7t28l9V4h1xHenT0lL3PSZii+N6vv7Zzqj/S/PYlV1GB0x97P0au8T5+n5UkbB+TmHHBwuPwuS9NvSWQ8HX2fpdg2tvon8Zckk3MQPUPOR/TS3N9FjNkB3ZQbJHWGYWjuju3GWzklh7kHqynLwdrBDVV1Oha0PvvPu5b4ld/HX7odZlbSfLblthrV/KeLCZKxBozHRPe38zuVDuaCIi5OpqRnm5uaDJiXwEBccw2oK5SJmohm8nqnu4jfoWiko21OLC/agtEw1mJqoMVKbYir2Q0lX/xFxwTMxE2mIfRPzBjMSF2FjE9MTaZiKIHbYBI0KI5GH7+TndGKuuHBrzlC2mkFBo8JIBCbqwWVrJtYR5WIsgg1zcxE8DA4wBN0xPS1dU10wKtIR5WYqIg19MCE+p6QtjoeZqT5AOl72Z9o3JY3jQaPiu9sRx1wXiBhWOEHZjti+sh3dsfrOCoIRGgd/fK5ZyhLHrRTsep9Hvso1LDsz/XmgEefQqQHgKZRjIfbTzOxkPszNlX0eSrmdKT+i7ES5mwxOT5SdRpzDKnHMzcS+HE/XSGxbZaKUm5h36hfhO8dUWcdESVfZ/pnyI9Y30Zw855XpRFmK76nufDM7np7yf1PDzYHh8yeIecp3VdmOEpyeQ9DYXpMngsY5LE1xR+s+jeumuFwQQdmFsI/DjHL3UcqRdevZ+NFWDjZB18kbFkkSuuhsKWH/mk+pVXvjP3I88WEumIvAsa7oqLgz1mJrpaG3uoAjItgxsbHDddhXI1RaARew9+Ov2LJmH5m/Ujdsesp3sJmq8h4GtFZEB9jSlp1Oi6cHLnFTSRw3gasnuVG7LZ0j6UVU6j8kSf9zVBpLzL1jmT5tNrPiYhjh8b9RR/9CoTa1wj5wIlMuuYaZk8YwYnAl1WFMBo7nTB84Zm7YwKaPt6GMNNQ11F4JpP8NvU20NBTwbXIrgWFBjInwxgalqWodxbki4upWY2faS13BUVpcHdFYWQ7rrhf09IHjvk+/Yuva/WQNahn6y1O+cFXUtzijMQklxk9D7dF94GKLrZc7LnYuBCUuwKP8MHX5ORz9VYNcSfr1eU5YxFWXXsEN4zwMc6ThwNTWncBLHuXOhZcwK8ZzUIOv4W3YBo5KPYaurm60Sqep4t9K/cp2rVLnoJf+PjG/vZ0OMbUrU0enWKbvXFUJ65TgbmCgl27xmU7DOh2dnXTp6isYliv1G7Ttujo9J6oQGejqKHV30dkltmWYp1A60+3v6aSzQ0tXj1int4euDpG2mLTdvSfrGP2KdOXWLfarp1eXjy5RBifLSZShyNOJ+iZK58B9Ip+dYv6gdTq7+0ReTiuU0ww+Pv2Djk+XrhDEZwd66NZ2nty2MnUqx6/fcIwUA/T1iLLsHLROu/hbbP+UohTHqrdbO2gdUeZasf0TFWLOhbJv4tw4bd86dcdPSc9w7ogyOXHuiPNL2ZayD11dXWh7znSgxeeOl0ljBa1VxexkMREhvkR5KcvbRLppZB/0oq/VBTPjOo4eSSXI1RZHGwtxKJR6UVqRrx56e0Q5dYlzWjmvlbJQ6tgo9ah6xLEatM/Kct05eqIYlLo24pgr+2xYRyknkYSyd7rPK+e18vcpdOe1lk7d92vw8dHT7ZvIe4c4Nsr3r1vsn3LeK+krZXH69+dM+6rbjxPHq1+UpSjHQctPfH/EvvR1i7IX5Xi8vt0pRNr9PeKc1lZQp/JFYxvOCIceGmpLcbIxx9neBjTWGHnEERueRW/nMTJzznS8JEmSpPMxLBvHKJVSqzc+xasp5jSpHbgltpiHliZRG3Qt184IZYFLNk899DFHRdCie/Bh5YNJ2A38+9GLGOPnIKL2OlqqU3nv5qVsqmygVKxi6xXK1Hvf4abRFgTYtVCVtYMtz/2d8rnvMm1cOGPdlYT06pPfZMXOMta3TRBpzqT6zUtZluVIod1FvBe5lYc+TufAwUo6ulSYeumb3cctfoorL7uE2YGGRH4FSjBcI8rttTw3Ou38eWRkka6cDlQ368bRxFbcbU65j1duGs2kQHtoLqIn7X1uFmWbWaIfxszEyoGgG/5NQuXTNHSbnrFxzIntpGjExduJO8bqj091wFVcfcVcHr3IEao3sfSJT9h0oJAq5UNKa8agG7j11jnMvzgMJ91ToxpSlj3Dl2uS2FSmrKSYxMW3XsXC30/jRFuwwk1sXruSB95ONcwAx+iLiZw0g8S0eaz0eH7ojWN6mnT79vyTn7Jxf4Fu35R6PUqeb50zjovDummr38t7i8W5U1ZHsVhu4x4ozp3lxOY/yv56cyp8FvLWTVG65I7r07aIMvkHz+5xoWugg4meudx7aC5v/2EKs6JdUSv5HWinJr+BfitbTCxVGLeU0qDxFQGPBaqynWRs/YKH9o3j3un1FGcf4v1kLaqpf+LdxSOJsszjwMavef7p1eSL7em683UYiff4a3XnvZ+lBnPKKDm4hfdufYEksVjpo9YjehqJd/+HxVE15H70HGl1tjDzMUSSmBkaWHbV5lK18Z88tHccE2eJ9d2zyRjUOOYal3zSv31Vd94XZdXRY2KBuZsTdhojpt73LtdNG0nc4PYzDXvY/uVXvP7KBt2+KkfaZfxVTL7qDnFuuIi/Mtj8wvusem8LKcr6QuzCJ7ji8stJtC8i493FvNo5n9gJs/hjop9hDb3OsoMc2/w6D++LZNq0SVyWEIaPo4ae6jzazb0xt7TF1lQJFLvJeecOXjwWQGvIdXyw6Fy74z3fxjGSJEm/rp+7cczw7I5HBCZNBz9i1cY9bMpuotYukknRIxnn1k1HQSbrd1Wgjr2IcRPGEDc2ljAvayxLVrK3wga1TTf9FfvEheljshymEzZhPJMmxhIZGopleyvuPnZYWffTXpzB/k/foiTkRvx9PfAf1PhS6Yct6UARSTWeXHlpJJ0HPuFgrQVtTnEsnhyIqYsVVPSIC683kddfz2yRftzYMYR6OZ4yYPoZddXQVryd955bxuerVvPVt9/y7RmmdRs2UmYeKfbVFqeh9jLT30fjwY/56mAuu7KaGag2wzU6iogxsYyODSDQrZ/Kr7aQ12uHurcKo7ztPPFqMp1hUxg7cSLTxscyKioM/9500vbs4lCzC9ZhM7g08rTueAzbWb0phQ1ZjVTbi+Oj9Fc2ZgxjXLrQFGzhiRe2U+80gpDxk0iIiyV21CgcGrZRWNFMmdaBEH8bOvatI6fDigGf0YwZLdaJjcW5LZXy7i6KNQHMEOtQuJGVX2ziq7RO7OPnMEuU9XiRn0h3E8yrd/H15gNUuc8hKjzsh7vjacynYt8qnnjxQ3KNRxEwZiozJouyGT2aQCMjHDw6qK5OY+dzH5BlO5XgCXG6c2dEWBhWnW249x/kUGYbBwqsiL8iStfNir6jgha6WjJY96/XREg0EjMbI9xFPqqCbmVOtBu+ug69ROBsZIqlo3L+mWNhaibWc8HeUqlYr0JbkUF+8kpe++oQJcYu4kYngunjRXmOjGBMfyobv97Gqr3N2IyfSfyEWFHWsQTadzFQupUtRXa4eLRRs3cz2z/dSZ7P5YyfIs5JcTxDfH2x7GzGI0BN0daV5Inzti3kMiZ6iX03DKLa01xGw74PefOQM67BQYQ7N1O3fzUbmUliTBAx4vtlbGaOtaclPTla7LxGMmrelVw6SRwzccyDXK1EsCYS6hXhbMF6PvjoE7461IIqfC6zp8cyVuxrhLMz7upWVBFdpDz3BgePaRiITCRxmv64u1tZ4yAOn4OLOK5Fm/hok/iqWLgRNcGPkwN3VVOWvo11L37GscAbmDp5JGOC7DBXqTEVZWllLspUFwwr56ox5vUH2S4i11KtE7Mn++u6FTmXVyzn1R2PJEnSr+zn7o5n2L6q1mlppbPThHafKdyw6Hqu8GnDoqGCrP4YLrrlTm6+627uvvtu7rr5cm5OVFG1ZRfpycmk7ktj8xd5GE+7jtm36de5ecE1JHgNYKv57qu4oVL6CnOImcf8my7jopHRxPjGMm3h3dx2593MnRBC8PFu0c5G6U6gr4uOlhZaxMFVDvD3TR1dfSe7JzgXNXW0VbZTYTOSqTfezM0i/3ffvYQlCy7lZs9i0rYl8elnn/Htzm18WRNOwmULudNQlnfeehNXxZhgY9SnFP/ZtSrHR02r91RRJrdx9+WjiTYt4fDWb9hc5on/9Gu54fgxuutO7rjcA5vKbA6sP0CuSLtLa4JbzEUk3qBfR7f9Kzyway9m+9p0KgZayEv+km3p1VTaJ3DbkrtZYkhv0eXxTPbS0tAg0hnSaFpamkrSSN+8mlVZlnjGX8F8cdx0271rCdeM88bfopayzHQ2fpqDavLVzLpVv/yWhdcx2duI4FETCHW2wLliD+tyWmlSBizVJd2AtvwA6/JEABfgy0h/S3prmgn19sTK4ofuJAYRN1nU1FBvFkhwwpXcvehqlky2Q3vkW/akV1BtO5G5ogzuOF5WC6dz6QgtRz7awOFDe9m9/RB7djdhd/3dXHOHfp0Fl89knEsPGrXysvr8aBz88I67gltvv5QEv1BiIyczc5FyTO9itgiM9d089tLXXUdB0mds3lcu9nUMc8U+3GnY1xsviSfes5ee1iPsWLGfMvyIvEm/TJkuGx9EoE0vxhY2eI2bS5RxNV0lmaSUKCNSGLQUUVFSzIZSbyZOiiTcx8HQOfGZWVrZYCoOUW9buwjtlRfkkiRJ0o81vANHdRjhIZP5/fwQbM2q2Ze8l4p2I0bPuZiwnnLaKoooKiqirtsIuyk3MLKxgp6jJeRXG9Nu6YZpfyWNjXXUtWgxsbYmasYMfJycdE+KfjVmbliHXMkfX36T1z/8kA+/Z/rgvXf508X+RDoZPncuWpzx9hjFVfdNxc/OHH1XpI44uI7hxocvIbj9KLu/WcenOU2Muv0upoe54Gt4WKcytcRp8iJmjg1l4qDX92ckjk9YyBT+cH0Edso4Yn21FOamk5yay8irr2WEsxqTOv0xKi4pxWTkDILMRPqFeRxttcB60rXE+jnh0VWmW0eZjKy8MWtS0XYwnbTuQr7duI8Ox0DiLpvNNGewMDwlM/eOJCjxBm6M0uA1pBrFDRQfyyY1tYrwBf/kqimRjDmeP+VpY1wcQS4eeHaqaLdyQzNQLc6dWmqbteKGwYoRiYn4iIAmIdqG8Xb7+fzLImoaunTBSF99LS3phzjgPxevGDdCHFqoq9bdI5wblTgzNdO59uJxTFV2bkDLgCiDpI3JaK1dGTV5HP7tYrul+rJqNXXAefRMRpccpuFoFcWNZmjNbTHrLaK6roHG9m6sXF2JmjYNTwuLswZZP16nCOCL2fbtXox8xM3AlddzVRiYGo6XZUAA3rFjiG5ox8jEmQF1L70dFZRUi5uP3n48xV1xiJicTK1QjbiEi6ObsGlLZ8v2ShGSiqIQU0/xMSqrWkmPuYlJMXb4DuVGTZIkSfpJDe/A0cMRCx8X3Hu7Ma46QGZOLRtWrOKtu+OZNiVe9w5fP81hyvSHWZZTRqH9KPyiIpg9ZgefPzCXG275O//3yUGUYWH/Z544jAjEcWwEo8U/T2ncb2EJYycSZ9+CY00/TfVhTIvzxOaUIeWUK70bji4W2P9Q0OruII6PM0o7Pd0bwoY8ygsK2LSjgK//MpMbLx18jBLEtITHP9/BPmVdg4a97/LuY9edXO/W51m2Lhu6mhko28O+o66YWQcy4sQoF8dZYqJxxctPhfmQXuU30NpgRFN5BPFjvHGyP0PP/rYx+I6I5LLxu1n5lytYeMv/8beP9iNiQMO544inXxD+/o4c2baHopY2lF4CG+orST+4FZ+YUALcnDnvLqdNTSDCR1fnUdetY1eLKIMU9me3su6dV3j2lsHlqUzzuHzBf/i8tYMqp3iixrox0vFLXpifwOW3vcQbm3Ko1yX8S+ikv6+GslwRIDoGEK7UoT2dxgkjr2uYndhM454neWjhTVzywNfsr2nVjXSrp5xJ7oRFh2Gh7uPogSMo1V+VNt0lhZlU1eQTmTAWHwuzC6AluiRJ0m/PMH/iqHT6aiwuJQMY9XbR3eOKz6h5LHpyKc8+t5SlS49PL/D886/x3w+f5g/zpzBzwhRm/Xk5zy/9K7eGlFG96lHuvPUe5r++l/SyX7UfEdBW0pKzgqV33cpt113Hdd8zXX/DAp5bV8CRWsPnzoXGBGMRhChB4yldkfb1QVMTrT2dtIl/9vdrMDdT63rTP5WxbrQDY8PTou+ldG6rOz4G/UqLYEvMHCZwxUP/5vFnBh8jZXqF19/+D3//yyziTHbx9b138thn1RQH3nRynfvmcclYb/3jul6lhbUxRkYmaDSn74w4dZXRHsTGh9TfarMIHBubqejTYGqqH0HgO1QanEITmHn/crEvj3FbeBUNX/2VJbf8jvmv7eFgSTu2oSMIjY1lUnoSpaUtVFYdpfRoEd/uGMfUhEACfT2xtrTB2U3s17l+u5SMKKOHiH3TfVRXBkoreW8iExdz598Hl6UyvciLL7/M2588xa0zo5mReDVXP/wmb77wZ+bbp3Bw2f3c9vvHuP2DI1Q1D+l9/vnr6qSvuoKyTiO6lA6plfHwTieOF2prYuY/yZ/+/h/+tiiG2MLn+c89i7npyfd5c0eJspKY1LhOmEyUqz2BWQfZVwVtVSkc2tfPsYpRzLvUG3srk1PPbUmSJOkXca6Xtl+HSlxwbLxxczHFw88Dj1Gzuerqa7j22msHTcrfM5k4wgt/d298x1/L3HnXs/DaWcwa64FjRyF7Pv6G/bk1VGn1ySoNyptb29CeVkmuvb2Jzo5mw18/MSMRqGmssXNxxdXdHffvmdzc3LG3FAHTDwVvZ9LRQXfrGep19fRARSml2k5qaaOnt56GJn3VupOUT7TQ3tpNR7t+zpBZOGPrZI+flylW4dOZNmveacdImeYwc4zIY0UyX685QpHKj5Dpc08snxMXRJCrmYgdTMDWDlvjJvo722n7zr5009/bKuLBAXqUx1E/RCWCXJWWvu4qjpU00dGp9Kv4XWb2XviIc+eyK+eLc2c2s8d74aQtJPWTtRzIqabeIhCPgAgSXfdSUFJF/uE0ispL2Ws1lbH+TnjZWOlGIzC16KOxpVnXoOy8qUU52Pnh7arCNSCIwPFzBpXj8Ukp40TGBDjh6xtGaLwy73puumYGU0fYYioC292frOdgeTsNopyU7oSaWlp15/5xyrBlTQ2V4jwYSkF+DyXoNVaGbKulpq5eTIPqJp7GMWw6E2fO5/prrmTB5XGMdOqgek8ye5LSOSru65R6vWYesYT62hJifpjth5soP7yTI83GVDuMITHAckhDYLa1tqDVxapWKNUwL4wfO0mSpOHtAgkcNeAwgogwNVYDOaTu3E9hYz/aEwFPr7gQNlNZ2UxrQz3tbY2U1SnjvNoTPut2bn7gIR69YSwhB7eTX1xHUYdaxCVm2NhZUpFXSFVNvf5VWX8ftJaTV1BEQcUPveTroq9PK4JOff2rITN1xsr/Ym558p889cILvPA90/NLn+WWyd585w3tUNSWUXssh+SyVlFGhtCxr5OuxnJyUzOps3DD1t8OF9MKjqTkUN6gpcPQzkPpB7C1PIOS8nqqdbGzkjsRbJTmkJedy9GSRl1XMGfMs7WfCOydifASgdS2HWQX19NkCNL12mhsbKa2qIae4jKye4IZETuCCdFKfT5xMLtqyc0tpFwpexNzjJwDCfXqpK++iLyj5dSJDR/vM7C7tYb6kiPkVvbRPpSHadauOLlZ42NVwd6tB8TxbaZtUMDc3dBAe0s1dW0NJ86dsJm3sOiBh3n8xgmEZezkWHEthe1O2Dp4MXFWKwXFeezfnUFxcwtGl4wn0Mpc94pZY2qOqaklhflFNLV16OronRcTK1EGoxg9ooeexgwO7DtCmbgbONm9YbcITJspLW2ms6VO16CqqnFAxHAujLruAX734B+4JzEAt71JHKropcXYgp7ODgqz8mjUjd8qdDXTUlNMypFCWjuGUpBaXYDZfSLG7KatpoiigmIR2Fni5dJEbcFRMjKKqBfrHO9jsq+9nc76apq7aiivFzc1HWY4BU5i5r3/4R+P3MAcyzZ6MzPZ13g8f954BdjhF1HPrt1HSNudRo29BZZx4YSIpWcfaEckMNBFeUkJPWoVzl7uKB01nc89mCRJknSqC+QmXPnJdyM4IhRb7WF2v/UQS3drKTzxULBZXMz28P77eziwdR3ZaVt5/ZsqcXEyREPfYYOtvR/j4sOo/CaJA2m55Cmzu1vh0Jt8vCGLVRm6Fc+ikvaOUkorT39iNwxU7mDPpg9Z8toBao6/omw/RnnaCu59ZDXW8Q/yyOOPcnd0D6sf+j0rDojAzDCkb09bqyiCV9iedZhs/RwxVbDzld/zwJL7uPP5JMrFnDM/m7LHzTOQsEAzcpbdyvINaexUOtHUUSKII2zduofVG8sw8fAgVF1Jf4MSTIpFIgCi4ks+/WwP25KVWoU2qFRxXHxdNL2l2/jyzWV8Lcr6eLBXnX6I5OXL2NbVNcR6fEEERY0hcbYtee8s5dv9+Rw2jCgy0N9P7ZYtHNn7Bd+kb+VVsaGmwVHlaWxsnRgffynVOXvZtOUoFU0O3DYvFjsrfb1JFzdfQsPiyEk+RGF9o+7J7/kxFUGgF1Gx4RgVr2fzB0t55QCION9ABM/1e3jppT0cS11Damoyn2w7U90G/fcnSHx/7Hu1ZHywllRtt75vz4pUCnZ+zANfQ7G+K88fUExzaxWVSqVhnVrSV/6Lfy35E1c+Xo3rrAB6Knaxc/Va1ovD2G0IHFuzsylY/wV7yj7njfVH2Zvzw1VGPLyD8fML5fCWj1m9pQ5HR18unRxqWHo2ytlZxuEDR7ETwfK4yKF8RpIkSRqKC+jtjRGO4xezaMn9PHOlM5v+Ppebr0wkMVGZbmfOpcloRvvgNnkG3naWjK16gtuun6NfPvch7ltWyZhX/sVl08IJtwYzV398r76fBaNyKPzoPm5X1rvyRhLXuBEQFc3ChO9rUqzUrIpkdHw0fh75fHJfIlfOTuTPy7awpUi/xq8uYjZjJsXxiMmb/PGmy/VlcNmt3PVSCrb3fc6Cyydy6aw5TLvhHpYt7mDvK3dx+1x9WV6x4Ha+druVwLBYxp3oT3uA/l7l6ZYyWs7ZujMywjIgngk3/pM1T15C387nePQmfbqJiReJ6VP2VasInjcFy8A53LXYgsptT3P/PLH88ltJ/EcLnpNiiZ+hPFNSkjPBdcYD3LFoChfbbOM/NyQyd6Y+vYc+SiE/9gGuCDDDY0iNY4ywCkhgwk1PsOaJQGq+/j/uuUKf1oyZF/NwphGV1olMtrdhQt2TLFl4qX6/L/sz97xSSszSp7hseiSRyjtPGxfU46/jKotMjO1sqfCZyuVeKqwM3V0ZubhjExrOzJxkGorqKTn/yFEkpsI18X4e+MMS7ohq5ZP7E7nqEv1+JyY+wN33ZxJ6QxR2sRcTat2EfdpDhmVimvcvXtqlYvrr/+TyaBdiplzKpMQIpqmW8/S8S5inrPP4t7xWM4a37owk0PVsBam0yR5NwiVRWHRt5c3fic/OmMHjKzLZV95Lrzg3elWWuM16jCfuu4RZdin8c34is2fo9+XWZWv5Sj2JMe6Xc6nxWra9cYt+Hy+6jMQbVlEUOp2L77memS5w/C20kUc4HhGjuav/a/Jcx2LpE8kk5yHUbBQ3gAPl4iby6AiMzQOJDJW1IX9rmgr2sH3ppVy/9BvWHj5xFyNJ0i9geHYALi7yRio15m7hRIQFM8LPQdeljNrCHntHF9zdxIXb1JZAf1/8/Px0TyUCAmKYNjMCPzcnrNXG2Jj20WHijIeXD34BIliMGc/0uVOIFBdHW3GBN1KbYGLjioOVKY4ePrh6iHQCg/GLmcrM2ABGRo4gICScsaEuWKnVOHhHExEawUgvJXIww9zSAisXV2ztXQkM8CM8egxB3i64/JpNPQf6ackSF+UmL9Reo/njVHe0GlFenkoZhBA6Mo6pl17J+EBrXO2tsbRzwsfDBrWVO56e3rqyDAwJYdTUOcT4OREUJMpTlF2YqznGxla4BI8menQ0o4KdMVcZY+kaRnhYCFH++v70lMuzMqi+hb0bfp4uqCwcxbFyNxwjfzGNIi5hBFGRXuL42ODkbI6JrRvOLp5iO6H4hccxMyGM4PBIQiJCGRPtjbOVEy4OVjg6O2Ju7UKAv5KWHxGj4oiJm8Rob1vcQ+MJ93XH3ea7HZUOptJYYGHngq+nHQOmdjg76/fNP8CfiAlTiAnxx9/WTOxbr+7c0ZdbBGEjxzH98qlEulnqRgnStcgxdxD/NsF9RBwjRo0mzseKE+1txLmlPMU0ydrIHhG4aBxcGOX+Q9GtESYif87+I4kX+XYX+6HPjRFqSyecnJxwdHLGzEKc9+J805epODbhMUy5KBQ3azusjcVumaroFPuuWx44guhxE5gyK45QOzXWVuKYW9vg5mKHrWsA/r5incgxRI8ay+XjA3EIiGXMCD8CXGywFsGxmyjXCSHuuNkc7zrbHEsbC8yd3MXxcMPf359wcRyC3F0JCBbnwpjxTJ0QresI397eDo25vVhHv68h4vsRGTOKaA9nbFQd9GusMLPzwM8/EL+g0Uy6eArjYgJQ+nA/0djJRJSBmTWeNla4jpvNxJFBhDqdoTX8aTrriyjc8CzrGiYSNDGOKaNczmsM2OHQAXhj/i4O7VrNf3PsCXC2wM787Of4j9HbWkPToU94b0cj9f2muLrZnNorwzDSUpZG1rrneLt+gvjeBhDrq+uH4IzKdr/N+rQiDjXZit/v8zkTJOnColRb+jk7AB+WQw5K50cZm7rsi7t4PN2bdv+5fH7H/8poF83UFpRQmluu63bpjCw9cPfyJNTf8butzX8Gva1V1O14mSdS1Fj6juO6GZMYN3h4Iuln0VFXyLH961n9wcvUTnuROVMmMDP4/HpuHQ5DDhZu/A9frlyuG/5xxwMTiA86QzdHP4XOOmry9rP207f4tnsmiZdM49rpwQzXrjJrDn/D9leu15XLowsv4Y4Eb8OS78pe+QAfHmqlzDaB38+fJ24ATTE/U6t/SfqN+LmHHJTfHuk3oIC0Va/y79O6NDpl+uPLvPj1EerE2kO+U/oR1NZuuM15ijt9jtJxZAV/W6OM2iz93GrSV5O06g2erbuHKROiGHeeQeNwYaQ2RWNmhY2ZGvWZupAakn76ervRtnbQ3dt/osHSSQP0le8jN3ktd6Umcu2iy5g/jIPG76dkrJfuzk66OrvpMTQiC7vqPywe78rY2nd5dFUx5c09p/Y2IUnSOZGBo/QbEEbcTX/lGXF3pNwhnXH69HGevCEWV7H2L3nSh131DI8++CSv3hBhmCP9nDzGLeD6xz5n5+vXkhjodF6vqIcTj3E3MP/BD9n54ASizvs1awnHdn/Bs7Pu56PUKgq+07VVPbmZBzi0L4u5N11NqMuFWm5KQ8ADfPXI07zxr5VsrT15k+gdPZEw3zH0vbGC9Prm738zIUnSD5KBo/QbYI61ixe+UVFEfd8U4o23s5Wh3uAvx9zRDy9PHwKchtSCR/qRNNbOOHmHEhXgiK2Z+oLvgkdj5YSTZwhRntZYnlenrooutC31VGQWUdvWTdfpj9uaj1FUY0x+3wSuneqEh53JBVpuSsbaaSgpp7qsjqZBXaiaugTh5ufOCM03ZBW0UDWkHgQkSTqTYdo4Rjpffe31tFmIYMU7QNapk6Qf4Xwaxyj1jDuKUthT2EJFSwcOPUXsWreNfQfTOJiRQUZeCRktVrrGT5amxvS21dCYl8zGwx30dpRTU3KYDTvTyGi2wMHaDOOmXPIzU9hQZoWb4TPaxjIqDq/jUJMDvQ35VGansmH7PjKU9Is76MQUBydL3U1SR3EqB/fvYsPmvezfm0+zkxktFfnUN7bTZemNo7if6S7YyLbDbRzqj+Xua0KwVxvRW5tLYU4mmzNFHiji0MED7DhcSpHWEj/xIbWxkfhgA01lmWz/Ziv709M5pGw/p4TsKiMcXKwwU0ZB0pWK0rVVDbnbd7FvZwopynpialC7Y2puibVpL309TRSlbKCwxZgOE0ccBg2s3t1QRHnuIdaka7FxtMTC3ARtTS7Fe1eykZlMHhnMSLs2arN3sC5pN0nr0yhua6d5oI2GPMN2rO2x6Kmip/BrkkxmEODmRIjz2XsDlaQL1c/dOEYGjr8hRkYqzL1GExsZLoNGSfqRzidw7O9uo3rdE/xjcwX7SpoI60zltX+8waqNm9mQtIlNe9L4ssCOUYEueIgAbKA6g7zVT3L78hq6W7MoPLyJF97dRFJ3KHEhLpjlfc43Hz/LXWnRzI12xUdEVA25Sex561beKBlBT/Eujm77lOfeWU1S0ma+TW2gRWNHQIQP7mZq6lOW8eGHK3hr9T4Km2soOpZB2p4dHGs2xiTkImJcoWHPh2wr7aTALZ4l490RcSPNaZ/z7YoPuOfDGkKsxD6v+pL3txWSow7lilGuWAyIwKzsAPs3r2DpE8tYsz2JzWLaknyYpOxufCN9cbK3xMpkgIGeBhrLtrDqn//lw/dWsmpnktjXJBocJ+Dm4SEC0R4RNOez/ok7SWr0pMMtVrdfx7UeXc/OL//Lwvf6GTspAF83G/pPCxwjVMfIXv8qf315E/vyCimqKiAnbQ/JO5Jo95mBp5c/geatmLQd5pUcDyL9XRnlZydfuUm/ST934Ci/N5IkST+12t0kb97NS2t9uOOLtazS1bX9gs+emsPlax7gsVe+4aPUCv26fVrI/YA3U3soDb6PXRu+ZNdfE0kIOkvzlJ4O2PMGays86Zvzukg7SZf+vydX0bj3cx77KBOlvwznaffzwIsv8d6//8SVVuO5e+kKPtiwi0+ef4TbYsBCDXU1JThZGJEQE3lqbwMthbRnvM39uwMYt+h5dn3yAp/eHoO98qHcr/jk1fd56AMtUz/ewcdb9HWJ17y8hIedX+KZpz9h5a4CGqkVQeMmXr3sUfICbuD6j07WO77JoxHblmxdg7Ufy9IvjtjbX2Ptxuf485Q53Hjpvfzfl7vYKbbz7wUxxHmCmbkFHu4+qKvraWxp03eAL0nSOZOBoyRJ0k+t3BI3hzAS7kgkws8bb90Y9COIiprKn/4Ui2nuMXJzyihQ1h0QgVjPSCbHxTFrxgjcXV1wtzPH7CxdxvSpTCh0mMD4saOZNz5QpO2lS/+iaWMIdbelpqCSKmU9M1tsHRxwsrfBwsgUawdnnN3ccXawxVrTi5FRDXVVbbQ3G2GmOe3V7YAdpkbjuebyOMaNCcHd2QFnaxUqo1oO7NhGba8lY+bfwbyR7oT46MfYDxk9mmmLb2Z0cTYtueUUiLS7Kys5WmmPibMbnoH69ZRp1KRxBAf46Ibp/LGU1uem1o64ujlga2aBlbkNdi767dhbajA1Vt7IGGFsrMaoT2lZPsD3jSsmSdLZycBRkiTpp2bni1fYCKaM98XexBgRGgqWWLkEMHrBRYzsrWegqpYypYWzSix1GUF0WCDRZ+nI+hQicNR4xRAR6EOY6/EO2i11fZU6qtV0F1dRxsD3DA16nNLmuB1tZy9dp4wpb2Bqh4nXaKaO9MLHyVDpsF+k2HyUAwfzyDicTUXudta+9QJvvPQ8zz//PK+98wUrd9dSVV5OfUs7zd02mFj4EhzeR23mar7+fAUfbc6lUQRuNl5eONjb6wZ3kCTpwiEDR0mSpJ9aoCd2QV4Ein+e0kLZVIRJ/kEEm3Vg2d5GszIcpdLQxNMJK2vzIXeDY6wywtPRHmuLM4Rdze30VDagjFo+qGHxGSgvpk0x0YjA9kzdDViYYuTjIgJf9cngrk8Ejg25FJb2kJNZQPb2T/n008HTN6xcnUWjryfW7vbYWLli7RvHZVe7Y1a/m62fvc+y5SvYsncvKXmVVB4fS1+SpAuGDBwlSZJ+Kd0i8CovpaKriybDrF+P8hzUHSdXM+xOjEs/VD7EXnovTxrqEZ7oL1U3bRfTcp5cNIlxDmBm78WY363hjRWreed3EYw68jgLJieQ+NDHfLCn3JCeJEkXChk4SpIk/dTqGmivbaBa/POUbhOVd8KlRRR0O9Bja4fTOQdsPzUjXd2/ltZWKmqUZ5Q/QG0mYs1YokLbMTUqJD27CRNl3H+T0yc1xiqVobGN2IaxCWq1KxEz7+Se179g07t3MacmnYr9h9ldr1tJp7axSRTdqc1WWlvqqKksYOBEd97nR9vZQWVlCT2uDthZW/IzDd4oSb95MnCUJEn6qVUeIH3PFl7fXERHt6EZRmc5Vbm7efONJExixjNiVAT+v1hXgp30D5TR0NRL52n1GT28g1ANmJGflUu9CM6UXhe/l5HYYbMAwiNdsWhPJ/nLd/kqd4D6TsNy2unpyWXLllyKippFoFxDW+V+1qXWUNkAVi7+BI6OY/LYQDy6W9A2tlDfrUFl7IR/iBedBcVk7z9CoUhJV2oVe0k/eIAvD7XpWokPTS0d2iYaxeZPfqaDlqZKstKPERzgj6ezI7IXR0k6PzJwlCRJ+qkZddBck8/h7etZ/+23rF27lrVrVvDNhi18WejB2DmTmTw6ADfD6j8vKyysLfEOaCJv3za2rVvL9tQMckUg19sPbuGjcdJY0pWWTk67CLHO2txYuWTY4Td6KiMDrLEpWsuyT9fy5dcif0oe125k3fpU9ubXUt/eI6K/Lnpay8k/tJOkzRv066zfztqkSoz8g/EO8sTV1ARjE2dCE6bj2V9D1c4v+Vys942y7vZkDhyrp6HHRmz3lM6CzkCpTeqIq5fIV2c2qevX8u23a9lf0EBtUx0NVeXsO6BmVJg3Xq5KepIknQ8ZOEqSJP3URlxO/KTR/F7zCQ/87hYWLlzIwjuf4D/fVBL2jzUsvDiC0SJqNFKpMTa1wsbKFDMT4++ERiq1GaYWNthZmKBWGV78GptgYm6LpZkaE8O8E4w1mFlY6NJT2rvol3ri4T+GOTeGULjmb/zzTwv587+XsSIbtMrjxcAIgmw0xBSlsbOwh+auAV33NhpzS2wtNbrtnr5f9uMWsfjOe3nick/2vngTDywR+VPyuPBv3P2Ho7hPDcQt0gksvLFyHcNc88/54qU/6te5+QEWPnAQy2tv4pL50xnvIPJpYobz9Ju5dIoV7mXL+ZdYb7Gy7hft1LlO4PHrIrG3FvtkrH/9rVKJMrCwxcbCFFP18cuY0ro8momXjMHF/Ahf/WMhN4o0nvsmm4M5hdQW1rKv/BLCQ2xwd9Z/QpKkc2c0IBj+/YOUkRQSEhJYvHgx99xzj2Hu2XV2dhIfH39On5EkSfq11dXV6X67HnzwQd0ICkPRp22m/PO7+HNmFBaBU3jlClfK6rvo69f/zKpNLbB280fp3UYZerq/u4OulhrK2i2xdxABogiO9F336HW31dHa0kQVbviLD1mID/VqW+loLKfJxEsEUyI900H3/9oG6hq0NHVpcPN3QulER3kOp99OlW5funv7MbWyw8bZU7cfKiMtlTs/ZeO3G3hEdRerbo9hjEsvLa3tVGut8PKwwUIEtd95ytDdRkdrA0VVrYNqH5qgMrbRbdvKVAS2Yo4yDGNPSyWVDR20aZXHmUpKZjh4uWNnZYb5iWbnPbTXVdPY2Ezz8X6ErJyxNxP/E/uolJGnuw1WZiYMKGXQUKYrF2c7K+xFYH1cb2sN9SKNulZ9Itau/rTseZGU5GRWmP6NpUsiCXE1/8XHrZekX0pJSYnut+uZZ55h/vz5hrlD9/LLL+tGCVQau1mIG9HTySeOv1HNxQdI/fA+HvgwmdTCX7/9piT9rzE2s8bKJZCw8AgiIyN1U2iQPx5W+qBRodJYYO7kR7CvM06nBY0KjZUTjh5BRIoPKUGjQi3StXEPw8fJ6tSgUWHmgJOHB0FK4Cb+PB6T6bcTQHBouG4/gnw9cRHXA/0DSxHEhccTmziNa+r/xfK129lU2Ie9qzdhvvZYnSloVGjEPjn6EGHIm34KITzMDXtD0KhQnpBq7H3wDQwzrKPsg79uvO6TQaPCBEsnL7yCB6Xn64KHqws2LmI7/o7YiqBR+YiuDDzCCfGwPyVoVKitXXD1CT6RRt/B11i/I5uU7jgWXBuKh53+aawkSefnNx84NuTtJDVlK2syaujtG/LD1SHpFXfRNYc3smLTYbIqmjlTH7q/ls66AvJ3vscHO3PJq+kwzD2V8gSiNOUDvkw5ytHKNsNcSZL+15g6BREQPZ1bJrjiaKk+8YT0t6C/rxsLzxhCxlzC7HDr7wbbkiSdk9/8N6h0xxu8/+7zPP51HlqlJvhPpbuNhoID7Fz5Ok+/t4PkgnrOHJ4NX531ReSufYqlH65k7YEC6s9eK16SpN8wC+cgRi5azlOLZzMnysUw98IXOPsR7v7jvTw8fxRK1cbTn+pKknRu5K3X+SraQsquPTyaOYO/PXYVc8f5YGdYdKGw8RnNxPs386j7RqrS1vDflEEdqkmSJEmSJJ3mNx84+iX+iduXPMJzV4dhZnIu2a2lvmgbby94nJVb88g98SZXeYVTR+aBZAoLyhg1cw5R7k44aNTDvDDrqC/exjsL/8aKLbnktIqDr7TAtHVj7PSLcKxop2xdKofFmsfrpUuSdG5UJhY4Tb2X+2+cx++m+hrmSpIk/Xb85gNHW7+xxIyawPQwxxPdWQxNJ53NxaR/vZPs4gYajkdTSiP01nyySgao7Q9g7jQ/nMzVF8Drjw60zSWkr9lJzqD8GKlUOEZMxc+6DU3VHvaVGLrokCTpnCkNQSx8xjJ+RCijfWRfgZIk/fYMz8BxoJ/uumPkl5SRV1lPT2sZOQf2sT8lhRRl2neIlGMNNHX20ttWQ21JDqmZlTTUFJGfk07KoUwOlLTQ1dtPe00ehQXZZJS16ip8t1UepaS0kILKRjoqjpB+cK8+zf0ZHMipoaWnD21TGWW5Io2MY1T1tVB67AiH96WIv7MobOqntSiNvA5XmpwmMjUIzE2gR/lMYT5pORV0NBSQmXGQlIw8snSNTkSw2V1HZX4macfzoExp+eRVNHNymP82GsvyyR60zpGCSqrblWXKk84umspyKC0sRGSHwfXX+7vb6azMJD27lNL69lOeGur2LTdL7H++yE+zLj9H9h/PjxFd1qEEBffjbFvArv3NdGp/wrqgkiRJkiT9ZgzLwFHp96t60z/5xxvLefyzrTRlvMOjV8xmTny8rm+i+DnXEv/0DvYVNtGSuZb1yx5h2u8+Z+faF/jHwzcSf+3vmPf6Aapausj/5kmee+ZBFr+XQWdPP9lf3Meby57nX1/spPCTO7nxyhmGNG9h7l++4ZAIuspS3+Gdx+5h3uKnWNF5kGX/vIMll8RzxeI/8lxKPxnJ+8jtbqPOxRF3sb/K08YG5TMv/IMFj3xI/q5nufvWK4m/5Qn+8GmWLhCmZjOfP/V7rj+eB2Wa/3ee/OQgNeLz+lAtm5R3/86Dg9ZZ8p8v+DpPWaY0XKkidfnDYjvPsjxDxKKD2rJ01eRQ9NndLHrwbZZtyaPBMF/RkLqc5SI/Vy56ii/aD7Hs6Tv1+Vl0D8+lGlHV5oJfcDBWbpZsTD1Ih/ZkKCtJkiRJknTcMH5V3U9/XSr7t23n6U+cmL/sMz5JSiIp6TM+f+4artzyBE+/9jXv7C6F1hK6Ml7jkWQPQq76F0kfv8QXd47GzcZUBG0D4j9l0qeq+3fBDgoP7eZ5zaP837I1Is3VfPD4xVzW8jqPvrmDLOtLWfzEC3zx9sPMMx/FbQ+/zqtfJ7Hy7aX8cawI8Zrz8XO2JjY8WJ+oQkm3Lp2itNXcvHMMNz7yFkn/fYznZ1nSs/s5bv/jN6Q5X8HvVil50E9vXd+HVeZb3PfUagq0KXz052fZVeTKqNdPrvNgYhA+dXuoFJvQvUE+LT8nKDNEgNqvLBvUHa/CYdwiFuny8xeusozhtgdf1eVnxdsv8Kdx4GoJdvaOOJpZ01tcTlVv7wXXQlySJEmSpJ/f8K7jWNWLpscO1+nxjJ2cQHxCAgkJM5k55SLuvNiG5oyjHDxcQkmvCUbtzgRGxzIuYRIJY0cyzs920FBUp2pW2dBjH0TipIlMTogXaU5n1uRxzB1jQ8GRYip77HEMF2mMCsHD2Bbf4GhiJiSIv8MIsG2gqboZo15j7KyVLnYH6TbDDE8iJsURp6Q7yhcfk0qSV39Oo2MMEfEXM3uGkgf9NOfKyYxyMaVrw1YysnNI2VtP3YArfiKvx9eZND6KSH9nlL7bz/dgmdj74BMexfjRSn7s8A2JITouQfwdRZA9mKnFOiYaTIzVDHRq6RLBp+yYR5IkSZKk0w3vwFHlgWdANJfMG4m7pQaNbqYN1k7hXHTnxUT0NKItruRYrx3GjvHMTQgl3NdWt9bZ9NgFYB8ynutH2+FgoYxDYIGDkycjY0IxraijobWdRv2qp1Ge+TXS0tiHtlM/5xRm7th7jmfhRYF4KmN59dRRV36Utesy6Dc3prs2j6yta1izRj+lFmtpaFGJbRZTWGWFytaSPm0ReQe2sja5iKq2Lmy8vfEKDETJ1fA+WJIkSZIk/dYN71gk3A+H6GCixD/1QaOBMnZidCyjrbU4tjRR02aGUagXTmYa3TBbP8TJ1hofF0fDX4P09MGxChqbO2g2zPouY1Qi1jQ6U8nZWWPi74a7SgSDyt+tlTSV5rIrc4Cd7zzJfx5YrBuz++T0JM9+tpssJw9MvOYwI1GDadVHvP7wvSx45HO2ZBVR3tJOW5d8/idJkiRJ0q/vwnyI1d0N5WVUarXf82Tw52KKkZEHbp4arIfc04YlxiajmP/0xyxfv0s3aPip09d89dFfWRBkyrQbn+Ovb3/LqpcWs6TneV689TIuXvIfHluda0hLkiRJkiTp1zO8A8emVrQNzdSJf57yzK1HCRyLKe6yRGtlg+MZHh7+PJTi0mBiYkRbRxuNTd//XFLH0gUbdy9GB1TS2m+OhaMv4eHhp03BBAd64GimwtrRGw+/UYxLuIwFD/0f9906lVGdpVRsS2anKIROQyG0d3RSU9+gayRzXHe3mFd5jN6e82sR3dbaTEtXByo3ZxyNjTEzzJckSZIkSTpueAeONdkUHt7D5/sraT/+ura7gZbyI2z4ai+dnmH4RAbjP5T30+dFqdNYKwK1bo73UGNkZISLuy/tLV0UF5eh9NL4vb0emjpjJ9adNKaP4tQ1pOzPIndwPzk0UFVVRtrBEvqajpJVUENJjYg3nYKIuuwW5l81nTjbPoyKC8lpU9HTb4WDs4iSO9vJS0mjrK8PrZJMSxk1xw6xam8NDW09upTP7Lv50WunqryMpqY2giNDsNeYYGJYIkmSJEmSdNzwDhzbjnHsyA7eXbmT9MNZ5OTkkJOxi307V/P8ijL8EieTOCWGQMPqPy01xmo19s4VVJYc4+jhHI4VlVLTaYzvyHjMtANUHsmhRMRpvad3jXOCJdYOAYyenoD1sZXs3PQtn+0QeVDyoZsOiGAyjc07cumtO0Dq3jSS92YaluWSU1BPp9oKGzcnbE1UqIwc8Y+Kxt18gKp1q9l49ChpyrrpOzm0bzdrss1p0n7fITUx5KdS5Cf/RH6q2wfo6SqnIK+C5lojEseFY2F2So1SSZIkSZIkneEdOEZdwcQp8Txp9ipL5s/Sd4o9axF3vrgPt8fXsejycUzyMqz7k3MTQdY4rr1rJEUbHufh+fFcefMfWbpfRXXAaKIG2vHPPcL+Sjhb2xVTl1D8r3uN95+8ibCGNTxz88nOvePjX+bjza3E3jEZY/+rmGa6jYPv3qxfljCF+HkfkuY6gVmP3MFlbiIMVSt9Ml7O5BnhTDN6iydmTdN3iv7YRpY1TuDD348g0MXcsOXTuWLnNI5rlkRRsukJ/nK90qH5H3hujwhCCw+Tl+cggsgxxMWCma5ljyRJkiRJ0qmMBgZXlPsBHR0dur4FlRbB99xzj2Hu2XV2duoCoXP5zEBvF2VfLOHRDH86XCbw5iUa9he0oO3WvxTWWNriFplAkKMxpu0lVFdVkdbgzJhoD5ysTE95zdpcfIDipl4azIOJD7KnrWgPlV1W9NoFE+U+qCaftonO2mJ2ZYLnCB+8veyxVIbxK0/nUGET9a09mNs64xYxgWCHRopWvMnXe8vZFHwn798QimNXIUXV7ZT3uOj2w9JYhdLRj45SxI15HM4vp6CyxTBT4Yyrvw8hI72wF391VR4hv7iCY9VKXz/KuNo2uIeG4OvvgeuJYK6LlsoiynKyEUVCn3L07LxwcHQkxryM/XVOuHm542HZTmtxOplEEunjgpe9mX5YwooM0goaqRP5MbMV64aOo2/9TazMCqA78BoeWhKj25cT+y5J/6Pq6up0v10PPvggt9xyi2GuJEnS8FZSUqL77XrmmWeYP3++Ye7QvfzyyyxfvlzXgNdC6cXmNMM+cOwOmMunt8cYlgwf7QW72J2ynff21RI+ZRHz4oKJcP/ZKlv+LDobSihL/YT3V6fSFXklcRddwbwwa8NSSfrfJgNHSZIuRD934Di8X1UPY5YB8cTGTuAmjzxS8yopa9Q1U7mg9LTVUZOxlnzT6QRHxjFFBo2SJEmSJJ2FDBx/BMew6Vz84FrWPHgJMyOcDHMvHDY+o5n00A4+efH33D49mF+sVyNJkiRJki5IMnCUJEmSJEmShmR4Bo4qNXYx13Ld7BncMM7DMFOSJEmSJEn6NQ3LwNFIZYx1+GzmTJ7I3GgXw1xJkiRJkiTp1yRfVUuSJEmSJElDIgNHSZIkSZIkaUhk4ChJkiRJkiQNiQwcJUmSJEmSpCGRgaMkSZIkSZI0JDJwlCRJkiRJkoZEBo6SJEmSJEnSkMjAUZIkSZIkSRoSGThKkiRJkiRJQyIDR0mSJEmSJGlIZOAoSZIkSZIkDYkMHCVJkiRJkqQhkYGjJEmSJEmSNCQycJQkSZIkSZKGRAaOkiRJkiRJ0pDIwFGSJEmSJEkaEqMBwfDvH9TR0UFCQgKLFy/mnnvuMcw9u87OTuLj4wkJCWHatGmGuZIkScNbW1sbzzzzDLNmzWLixImGuZIkScNbd3c32dnZLFq0iLFjxxrmDt3LL7/M8uXL2bVrFxYWFoa5J/3sgWNXVxcLFy7k6NGjhjmSJEmSJEnSz8Hd3Z0PPvgANzc3w5xz86sHjkryyp17X1+fYY4kSZIkSZL0c1CpVFhZWen+fz5+9cBRkiRJkiRJujD8UOAoG8dIkiRJkiRJQyIDR0mSJEmSJGlIZOAoSZIkSZIkDYkMHCVJkiRJkqQhkYGjJEmSJEmSNCQycJQkSZIkSZKGRAaOkiRJkiRJ0pDIwFGSJEmSJEkaEhk4SpIkSZIkSUMiA0dJkiRJkiRpSGTgKEmSJEmSJA2JDBwlSZIkSZKkIZGBoyRJkiRJkjQkMnCUJEmSJEmShkQGjpIkSZIkSdKQyMBRkiRJkiRJGhIZOEqSJEmSJElDIgNHSZIkSZIkaUhk4ChJkiRJkiQNiQwcJUmSJEmSpCGRgaMkSZIkSZI0JEYDguHfP6ijo4OEhARUKhWhoaGGuZIkSZIkSdJvga+vL/Hx8Vx00UWo1WrD3JPOKXDs7u5m6dKllJaWGuZIkiRJkiRJvxVTpkzh2muvNfz1XecUOEqSJEmSJEn/u2QdR0mSJEmSJGlIZOAoSZIkSZIkDYkMHCVJkiRJkqQhkYGjJEmSJEmSNCQycJQkSZIkSZKGRAaOkiRJkiRJ0hDA/wMJBy8r65BX+QAAAABJRU5ErkJggg==)"
      ],
      "metadata": {
        "id": "lT7HDHUrfdvj"
      }
    },
    {
      "cell_type": "code",
      "source": [
        "#!git clone https://github.com/Soyoung-Yoon/bigdata"
      ],
      "metadata": {
        "id": "voULPDO_dAn0"
      },
      "execution_count": null,
      "outputs": []
    },
    {
      "cell_type": "markdown",
      "source": [
        "**2-02. 문제풀이**\n",
        "- XY = pd.read_csv('https://raw.githubusercontent.com/Soyoung-Yoon/bigdata/main/customer_train.csv')\n",
        "- X_submission = pd.read_csv('https://raw.githubusercontent.com/Soyoung-Yoon/bigdata/main/customer_test.csv')"
      ],
      "metadata": {
        "id": "A0FFq795wbDN"
      }
    },
    {
      "cell_type": "code",
      "source": [
        "def get_scores(model, x_train, x_test, y_train, y_test):\n",
        "    # 정확도(accuracy)\n",
        "    y_pred1 = model.predict(x_train)\n",
        "    y_pred2 = model.predict(x_test)\n",
        "    A = accuracy_score(y_train, y_pred1)\n",
        "    B = accuracy_score(y_test, y_pred2)\n",
        "    #  roc_auc_score를 구할 때는 성공의 예측확률을 주는 것이 더 정확합니다.\n",
        "    y_proba1 = model.predict_proba(x_train)[:, 1]\n",
        "    y_proba2 = model.predict_proba(x_test)[:, 1]\n",
        "    C = roc_auc_score(y_train, y_proba1)\n",
        "    D = roc_auc_score(y_test, y_proba2)\n",
        "\n",
        "    return f'acc: {A:.4f} {B:.4f} AUC: {C:.4f} {D:.4f}'"
      ],
      "metadata": {
        "id": "9BPeK_uZdo6U"
      },
      "execution_count": null,
      "outputs": []
    },
    {
      "cell_type": "code",
      "source": [
        "#  여기에 코드를 작성하세요.\n",
        "#  성능평가 함수는 위의 것으로 작업하시는 것을 추천드립니다.\n",
        "\n"
      ],
      "metadata": {
        "id": "cvCEUuJnwzf2"
      },
      "execution_count": null,
      "outputs": []
    },
    {
      "cell_type": "code",
      "source": [],
      "metadata": {
        "id": "1C9g5zaI5nzS"
      },
      "execution_count": null,
      "outputs": []
    },
    {
      "cell_type": "code",
      "source": [],
      "metadata": {
        "id": "LkO9yl9P5qAf"
      },
      "execution_count": null,
      "outputs": []
    },
    {
      "cell_type": "markdown",
      "source": [
        "### 작업3유형 - t검정, 카이제곱검정"
      ],
      "metadata": {
        "id": "BlAKOd8wM086"
      }
    },
    {
      "cell_type": "markdown",
      "source": [
        "**3-01.혈압 전/후 차이 검정**"
      ],
      "metadata": {
        "id": "Xx_EP6dYO0jg"
      }
    },
    {
      "cell_type": "markdown",
      "source": [
        "주어진 데이터(data/blood_pressure.csv)에는 고혈압 환자 120명의 치료 전후의 혈압이 저장되어 있다. 해당 치료가 효과가 있는지 (즉, 치료 후의 혈압이 감소했는지) 쌍체표본 t-검정(paired t-test)를 통해 답하고자 한다.\n",
        "가설은 아래와 같다\n"
      ],
      "metadata": {
        "id": "dXIrkAKmZNQD"
      }
    },
    {
      "cell_type": "markdown",
      "source": [
        "![image.png](data:image/png;base64,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)"
      ],
      "metadata": {
        "id": "dq9M6SI2ZlyT"
      }
    },
    {
      "cell_type": "markdown",
      "source": [
        "bp_before : 치료 전 혈압, bp_after : 치료 후 혈압"
      ],
      "metadata": {
        "id": "EtnOzGHFPdH9"
      }
    },
    {
      "cell_type": "markdown",
      "source": [
        "- (a) ud의 표본 평균을 구하시오 (반올림하여 소수 둘째자리까지 계산)\n",
        "- (b) 위의 가설을 검정하기 위한 검정통계량을 입력하시오.(반올림하여 소수 넷째자리까지 계산)\n",
        "- (c) 위의 통계량에 대한 p-값을 구하여 입력하시오. (반올림하여 소수 넷째자리까지 계산)\n",
        "- (d) 유의수준 0.05 하에서 가설검정의 결과를 (채택/기각) 중 하나를 선택하여 입력하시오."
      ],
      "metadata": {
        "id": "F4AG_sYzPdH-"
      }
    },
    {
      "cell_type": "code",
      "execution_count": null,
      "metadata": {
        "colab": {
          "base_uri": "https://localhost:8080/",
          "height": 206
        },
        "outputId": "d346eb26-ef3c-431b-b3f3-b5f2954f6262",
        "id": "6nwAy9jjPdH-"
      },
      "outputs": [
        {
          "output_type": "execute_result",
          "data": {
            "text/plain": [
              "   patient   sex agegrp  bp_before  bp_after\n",
              "0        1  Male  30-45        143       153\n",
              "1        2  Male  30-45        163       170\n",
              "2        3  Male  30-45        153       168\n",
              "3        4  Male  30-45        153       142\n",
              "4        5  Male  30-45        146       141"
            ],
            "text/html": [
              "\n",
              "  <div id=\"df-c026b280-a3a5-41ff-8c05-0874543dcbee\" class=\"colab-df-container\">\n",
              "    <div>\n",
              "<style scoped>\n",
              "    .dataframe tbody tr th:only-of-type {\n",
              "        vertical-align: middle;\n",
              "    }\n",
              "\n",
              "    .dataframe tbody tr th {\n",
              "        vertical-align: top;\n",
              "    }\n",
              "\n",
              "    .dataframe thead th {\n",
              "        text-align: right;\n",
              "    }\n",
              "</style>\n",
              "<table border=\"1\" class=\"dataframe\">\n",
              "  <thead>\n",
              "    <tr style=\"text-align: right;\">\n",
              "      <th></th>\n",
              "      <th>patient</th>\n",
              "      <th>sex</th>\n",
              "      <th>agegrp</th>\n",
              "      <th>bp_before</th>\n",
              "      <th>bp_after</th>\n",
              "    </tr>\n",
              "  </thead>\n",
              "  <tbody>\n",
              "    <tr>\n",
              "      <th>0</th>\n",
              "      <td>1</td>\n",
              "      <td>Male</td>\n",
              "      <td>30-45</td>\n",
              "      <td>143</td>\n",
              "      <td>153</td>\n",
              "    </tr>\n",
              "    <tr>\n",
              "      <th>1</th>\n",
              "      <td>2</td>\n",
              "      <td>Male</td>\n",
              "      <td>30-45</td>\n",
              "      <td>163</td>\n",
              "      <td>170</td>\n",
              "    </tr>\n",
              "    <tr>\n",
              "      <th>2</th>\n",
              "      <td>3</td>\n",
              "      <td>Male</td>\n",
              "      <td>30-45</td>\n",
              "      <td>153</td>\n",
              "      <td>168</td>\n",
              "    </tr>\n",
              "    <tr>\n",
              "      <th>3</th>\n",
              "      <td>4</td>\n",
              "      <td>Male</td>\n",
              "      <td>30-45</td>\n",
              "      <td>153</td>\n",
              "      <td>142</td>\n",
              "    </tr>\n",
              "    <tr>\n",
              "      <th>4</th>\n",
              "      <td>5</td>\n",
              "      <td>Male</td>\n",
              "      <td>30-45</td>\n",
              "      <td>146</td>\n",
              "      <td>141</td>\n",
              "    </tr>\n",
              "  </tbody>\n",
              "</table>\n",
              "</div>\n",
              "    <div class=\"colab-df-buttons\">\n",
              "\n",
              "  <div class=\"colab-df-container\">\n",
              "    <button class=\"colab-df-convert\" onclick=\"convertToInteractive('df-c026b280-a3a5-41ff-8c05-0874543dcbee')\"\n",
              "            title=\"Convert this dataframe to an interactive table.\"\n",
              "            style=\"display:none;\">\n",
              "\n",
              "  <svg xmlns=\"http://www.w3.org/2000/svg\" height=\"24px\" viewBox=\"0 -960 960 960\">\n",
              "    <path d=\"M120-120v-720h720v720H120Zm60-500h600v-160H180v160Zm220 220h160v-160H400v160Zm0 220h160v-160H400v160ZM180-400h160v-160H180v160Zm440 0h160v-160H620v160ZM180-180h160v-160H180v160Zm440 0h160v-160H620v160Z\"/>\n",
              "  </svg>\n",
              "    </button>\n",
              "\n",
              "  <style>\n",
              "    .colab-df-container {\n",
              "      display:flex;\n",
              "      gap: 12px;\n",
              "    }\n",
              "\n",
              "    .colab-df-convert {\n",
              "      background-color: #E8F0FE;\n",
              "      border: none;\n",
              "      border-radius: 50%;\n",
              "      cursor: pointer;\n",
              "      display: none;\n",
              "      fill: #1967D2;\n",
              "      height: 32px;\n",
              "      padding: 0 0 0 0;\n",
              "      width: 32px;\n",
              "    }\n",
              "\n",
              "    .colab-df-convert:hover {\n",
              "      background-color: #E2EBFA;\n",
              "      box-shadow: 0px 1px 2px rgba(60, 64, 67, 0.3), 0px 1px 3px 1px rgba(60, 64, 67, 0.15);\n",
              "      fill: #174EA6;\n",
              "    }\n",
              "\n",
              "    .colab-df-buttons div {\n",
              "      margin-bottom: 4px;\n",
              "    }\n",
              "\n",
              "    [theme=dark] .colab-df-convert {\n",
              "      background-color: #3B4455;\n",
              "      fill: #D2E3FC;\n",
              "    }\n",
              "\n",
              "    [theme=dark] .colab-df-convert:hover {\n",
              "      background-color: #434B5C;\n",
              "      box-shadow: 0px 1px 3px 1px rgba(0, 0, 0, 0.15);\n",
              "      filter: drop-shadow(0px 1px 2px rgba(0, 0, 0, 0.3));\n",
              "      fill: #FFFFFF;\n",
              "    }\n",
              "  </style>\n",
              "\n",
              "    <script>\n",
              "      const buttonEl =\n",
              "        document.querySelector('#df-c026b280-a3a5-41ff-8c05-0874543dcbee button.colab-df-convert');\n",
              "      buttonEl.style.display =\n",
              "        google.colab.kernel.accessAllowed ? 'block' : 'none';\n",
              "\n",
              "      async function convertToInteractive(key) {\n",
              "        const element = document.querySelector('#df-c026b280-a3a5-41ff-8c05-0874543dcbee');\n",
              "        const dataTable =\n",
              "          await google.colab.kernel.invokeFunction('convertToInteractive',\n",
              "                                                    [key], {});\n",
              "        if (!dataTable) return;\n",
              "\n",
              "        const docLinkHtml = 'Like what you see? Visit the ' +\n",
              "          '<a target=\"_blank\" href=https://colab.research.google.com/notebooks/data_table.ipynb>data table notebook</a>'\n",
              "          + ' to learn more about interactive tables.';\n",
              "        element.innerHTML = '';\n",
              "        dataTable['output_type'] = 'display_data';\n",
              "        await google.colab.output.renderOutput(dataTable, element);\n",
              "        const docLink = document.createElement('div');\n",
              "        docLink.innerHTML = docLinkHtml;\n",
              "        element.appendChild(docLink);\n",
              "      }\n",
              "    </script>\n",
              "  </div>\n",
              "\n",
              "\n",
              "<div id=\"df-125fd485-1645-4328-96af-98a07ce7a16e\">\n",
              "  <button class=\"colab-df-quickchart\" onclick=\"quickchart('df-125fd485-1645-4328-96af-98a07ce7a16e')\"\n",
              "            title=\"Suggest charts\"\n",
              "            style=\"display:none;\">\n",
              "\n",
              "<svg xmlns=\"http://www.w3.org/2000/svg\" height=\"24px\"viewBox=\"0 0 24 24\"\n",
              "     width=\"24px\">\n",
              "    <g>\n",
              "        <path d=\"M19 3H5c-1.1 0-2 .9-2 2v14c0 1.1.9 2 2 2h14c1.1 0 2-.9 2-2V5c0-1.1-.9-2-2-2zM9 17H7v-7h2v7zm4 0h-2V7h2v10zm4 0h-2v-4h2v4z\"/>\n",
              "    </g>\n",
              "</svg>\n",
              "  </button>\n",
              "\n",
              "<style>\n",
              "  .colab-df-quickchart {\n",
              "      --bg-color: #E8F0FE;\n",
              "      --fill-color: #1967D2;\n",
              "      --hover-bg-color: #E2EBFA;\n",
              "      --hover-fill-color: #174EA6;\n",
              "      --disabled-fill-color: #AAA;\n",
              "      --disabled-bg-color: #DDD;\n",
              "  }\n",
              "\n",
              "  [theme=dark] .colab-df-quickchart {\n",
              "      --bg-color: #3B4455;\n",
              "      --fill-color: #D2E3FC;\n",
              "      --hover-bg-color: #434B5C;\n",
              "      --hover-fill-color: #FFFFFF;\n",
              "      --disabled-bg-color: #3B4455;\n",
              "      --disabled-fill-color: #666;\n",
              "  }\n",
              "\n",
              "  .colab-df-quickchart {\n",
              "    background-color: var(--bg-color);\n",
              "    border: none;\n",
              "    border-radius: 50%;\n",
              "    cursor: pointer;\n",
              "    display: none;\n",
              "    fill: var(--fill-color);\n",
              "    height: 32px;\n",
              "    padding: 0;\n",
              "    width: 32px;\n",
              "  }\n",
              "\n",
              "  .colab-df-quickchart:hover {\n",
              "    background-color: var(--hover-bg-color);\n",
              "    box-shadow: 0 1px 2px rgba(60, 64, 67, 0.3), 0 1px 3px 1px rgba(60, 64, 67, 0.15);\n",
              "    fill: var(--button-hover-fill-color);\n",
              "  }\n",
              "\n",
              "  .colab-df-quickchart-complete:disabled,\n",
              "  .colab-df-quickchart-complete:disabled:hover {\n",
              "    background-color: var(--disabled-bg-color);\n",
              "    fill: var(--disabled-fill-color);\n",
              "    box-shadow: none;\n",
              "  }\n",
              "\n",
              "  .colab-df-spinner {\n",
              "    border: 2px solid var(--fill-color);\n",
              "    border-color: transparent;\n",
              "    border-bottom-color: var(--fill-color);\n",
              "    animation:\n",
              "      spin 1s steps(1) infinite;\n",
              "  }\n",
              "\n",
              "  @keyframes spin {\n",
              "    0% {\n",
              "      border-color: transparent;\n",
              "      border-bottom-color: var(--fill-color);\n",
              "      border-left-color: var(--fill-color);\n",
              "    }\n",
              "    20% {\n",
              "      border-color: transparent;\n",
              "      border-left-color: var(--fill-color);\n",
              "      border-top-color: var(--fill-color);\n",
              "    }\n",
              "    30% {\n",
              "      border-color: transparent;\n",
              "      border-left-color: var(--fill-color);\n",
              "      border-top-color: var(--fill-color);\n",
              "      border-right-color: var(--fill-color);\n",
              "    }\n",
              "    40% {\n",
              "      border-color: transparent;\n",
              "      border-right-color: var(--fill-color);\n",
              "      border-top-color: var(--fill-color);\n",
              "    }\n",
              "    60% {\n",
              "      border-color: transparent;\n",
              "      border-right-color: var(--fill-color);\n",
              "    }\n",
              "    80% {\n",
              "      border-color: transparent;\n",
              "      border-right-color: var(--fill-color);\n",
              "      border-bottom-color: var(--fill-color);\n",
              "    }\n",
              "    90% {\n",
              "      border-color: transparent;\n",
              "      border-bottom-color: var(--fill-color);\n",
              "    }\n",
              "  }\n",
              "</style>\n",
              "\n",
              "  <script>\n",
              "    async function quickchart(key) {\n",
              "      const quickchartButtonEl =\n",
              "        document.querySelector('#' + key + ' button');\n",
              "      quickchartButtonEl.disabled = true;  // To prevent multiple clicks.\n",
              "      quickchartButtonEl.classList.add('colab-df-spinner');\n",
              "      try {\n",
              "        const charts = await google.colab.kernel.invokeFunction(\n",
              "            'suggestCharts', [key], {});\n",
              "      } catch (error) {\n",
              "        console.error('Error during call to suggestCharts:', error);\n",
              "      }\n",
              "      quickchartButtonEl.classList.remove('colab-df-spinner');\n",
              "      quickchartButtonEl.classList.add('colab-df-quickchart-complete');\n",
              "    }\n",
              "    (() => {\n",
              "      let quickchartButtonEl =\n",
              "        document.querySelector('#df-125fd485-1645-4328-96af-98a07ce7a16e button');\n",
              "      quickchartButtonEl.style.display =\n",
              "        google.colab.kernel.accessAllowed ? 'block' : 'none';\n",
              "    })();\n",
              "  </script>\n",
              "</div>\n",
              "\n",
              "    </div>\n",
              "  </div>\n"
            ],
            "application/vnd.google.colaboratory.intrinsic+json": {
              "type": "dataframe",
              "variable_name": "a",
              "summary": "{\n  \"name\": \"a\",\n  \"rows\": 120,\n  \"fields\": [\n    {\n      \"column\": \"patient\",\n      \"properties\": {\n        \"dtype\": \"number\",\n        \"std\": 34,\n        \"min\": 1,\n        \"max\": 120,\n        \"num_unique_values\": 120,\n        \"samples\": [\n          45,\n          48,\n          5\n        ],\n        \"semantic_type\": \"\",\n        \"description\": \"\"\n      }\n    },\n    {\n      \"column\": \"sex\",\n      \"properties\": {\n        \"dtype\": \"category\",\n        \"num_unique_values\": 2,\n        \"samples\": [\n          \"Female\",\n          \"Male\"\n        ],\n        \"semantic_type\": \"\",\n        \"description\": \"\"\n      }\n    },\n    {\n      \"column\": \"agegrp\",\n      \"properties\": {\n        \"dtype\": \"category\",\n        \"num_unique_values\": 3,\n        \"samples\": [\n          \"30-45\",\n          \"46-59\"\n        ],\n        \"semantic_type\": \"\",\n        \"description\": \"\"\n      }\n    },\n    {\n      \"column\": \"bp_before\",\n      \"properties\": {\n        \"dtype\": \"number\",\n        \"std\": 11,\n        \"min\": 138,\n        \"max\": 185,\n        \"num_unique_values\": 40,\n        \"samples\": [\n          154,\n          151\n        ],\n        \"semantic_type\": \"\",\n        \"description\": \"\"\n      }\n    },\n    {\n      \"column\": \"bp_after\",\n      \"properties\": {\n        \"dtype\": \"number\",\n        \"std\": 14,\n        \"min\": 125,\n        \"max\": 185,\n        \"num_unique_values\": 49,\n        \"samples\": [\n          162,\n          154\n        ],\n        \"semantic_type\": \"\",\n        \"description\": \"\"\n      }\n    }\n  ]\n}"
            }
          },
          "metadata": {},
          "execution_count": 3
        }
      ],
      "source": [
        "# 예시문제 1)\n",
        "import pandas as pd\n",
        "from scipy.stats import ttest_rel, ttest_1samp\n",
        "\n",
        "a = pd.read_csv(\"https://raw.githubusercontent.com/Soyoung-Yoon/data_02/main/blood_pressure.csv\")\n",
        "a.head()"
      ]
    },
    {
      "cell_type": "code",
      "source": [
        "# 풀이해 보세요\n"
      ],
      "metadata": {
        "id": "loPCVzoAGIo2"
      },
      "execution_count": null,
      "outputs": []
    },
    {
      "cell_type": "markdown",
      "source": [
        "**3-02.타이타닉호 침몰 사건**"
      ],
      "metadata": {
        "id": "SFRyqzsvP6Qb"
      }
    },
    {
      "cell_type": "markdown",
      "source": [
        "제공된 데이터(Titanic.csv)는 타이타닉호의 침몰 사건에서 생존한 승객 및 사망한 승객의 정보를 포함한 자료이다. 아래 데이터를 이용하여 생존여부(Survived)를 예측하고자 한다. 각 문항의 답을 [제출 형식]에 맞춰 답안 작성 페이지에 입력하시오.\n",
        "\n",
        "제공 데이터\n",
        "- PassengerId : 승객 번호\n",
        "- Survivied: 생존여부 (1: 생존, 0: 사망)\n",
        "- Pclass: 좌석 등급 (1등급, 2등급, 3등급)\n",
        "- Name : 승객 이름\n",
        "- Gender: 성별 ('male': 남성, 'female': 여성)\n",
        "- Age: 연령\n",
        "- Sibsp: 동반한 형제/자매 및 배우자 수\n",
        "- Parch: 동반한 부모 및 자녀 수\n",
        "- Ticket: 티켓번호\n",
        "- Fare: 티켓의 요금(달러)\n",
        "- Cabin: 객실 번호\n",
        "- Embarked: 탑승지 위치(C: Cherbourg, Q: Queenstown, S: Southampton)"
      ],
      "metadata": {
        "id": "3JXr39fyQWou"
      }
    },
    {
      "cell_type": "markdown",
      "source": [
        "1) Gender와 Survived 변수 간의 독립성 검정을 실시하였을 때, 카이제곱 통계량은? (반올림하여 소수 셋째 자리까지 계산)"
      ],
      "metadata": {
        "id": "v4IwjpxVZUje"
      }
    },
    {
      "cell_type": "code",
      "source": [
        "# 예시문제 2-1)\n",
        "import pandas as pd\n",
        "from scipy.stats import chi2_contingency\n",
        "df = pd.read_csv('https://raw.githubusercontent.com/Soyoung-Yoon/bigdata/main/titanic_dataq.csv')\n",
        "print(df.head(5))\n"
      ],
      "metadata": {
        "colab": {
          "base_uri": "https://localhost:8080/"
        },
        "id": "trEK4_y6Qn_m",
        "outputId": "840745f9-3c55-462a-e9c9-1688f2d95366"
      },
      "execution_count": null,
      "outputs": [
        {
          "output_type": "stream",
          "name": "stdout",
          "text": [
            "   PassengerId  Survived  Pclass  \\\n",
            "0            1         0       3   \n",
            "1            2         1       1   \n",
            "2            3         1       3   \n",
            "3            4         1       1   \n",
            "4            5         0       3   \n",
            "\n",
            "                                                Name  Gender   Age  SibSp  \\\n",
            "0                            Braund, Mr. Owen Harris    male  22.0      1   \n",
            "1  Cumings, Mrs. John Bradley (Florence Briggs Th...  female  38.0      1   \n",
            "2                             Heikkinen, Miss. Laina  female  26.0      0   \n",
            "3       Futrelle, Mrs. Jacques Heath (Lily May Peel)  female  35.0      1   \n",
            "4                           Allen, Mr. William Henry    male  35.0      0   \n",
            "\n",
            "   Parch            Ticket     Fare Cabin Embarked  \n",
            "0      0         A/5 21171   7.2500   NaN        S  \n",
            "1      0          PC 17599  71.2833   C85        C  \n",
            "2      0  STON/O2. 3101282   7.9250   NaN        S  \n",
            "3      0            113803  53.1000  C123        S  \n",
            "4      0            373450   8.0500   NaN        S  \n"
          ]
        }
      ]
    },
    {
      "cell_type": "markdown",
      "source": [
        "2) Gender, SibSp, Parch, Fare를 독립변수로 사용하여 로지스틱 회귀모형을 실시하였을 때, Parch 변수의 계수값은? (반올림하여 소수 셋째 자리까지 계산)"
      ],
      "metadata": {
        "id": "acyQav51ZfKX"
      }
    },
    {
      "cell_type": "code",
      "source": [
        "# 예시문제 2-2)\n"
      ],
      "metadata": {
        "id": "VEbG90OeZedl"
      },
      "execution_count": null,
      "outputs": []
    },
    {
      "cell_type": "markdown",
      "source": [
        "3) 위 2번 문제에서 추정된 로지스틱 회귀모형에서 SibSp 변수가 한 단위 증가할 때 생존할 오즈비(Odds ratio) 값은? (반올림하여 셋째 자리까지 계산)"
      ],
      "metadata": {
        "id": "Wm9ahUEpZqf3"
      }
    },
    {
      "cell_type": "code",
      "source": [
        "# 예시문제 2-3)\n"
      ],
      "metadata": {
        "id": "SvmwWy5VJSuW"
      },
      "execution_count": null,
      "outputs": []
    },
    {
      "cell_type": "markdown",
      "source": [
        "## 2회 기출 복원"
      ],
      "metadata": {
        "id": "4OW2jCl75y-u"
      }
    },
    {
      "cell_type": "markdown",
      "source": [
        "### 작업1유형"
      ],
      "metadata": {
        "id": "9wr6snMrGMHo"
      }
    },
    {
      "cell_type": "markdown",
      "metadata": {
        "id": "XmsDHqDFBzM3"
      },
      "source": [
        "**1-1. 보스턴 데이터**\n",
        "\n",
        "보스턴 데이터 범죄율 컬럼('CRIM')의 top10 중 10번째 범죄율 값으로 1~10위의 범죄율 값을 변경 후, 'AGE' 변수의 값이 80이상인 것에 대한 범죄율 평균을 산출하라."
      ]
    },
    {
      "cell_type": "code",
      "metadata": {
        "colab": {
          "base_uri": "https://localhost:8080/",
          "height": 112
        },
        "id": "s320bd-r95fx",
        "outputId": "f504fef0-cc63-4a28-b838-fa1e7c53aee3"
      },
      "source": [
        "## sklearn에서 더이상 boston 데이터를 제공하지 않으므로 교체합니다.\n",
        "##from sklearn.datasets import load_boston\n",
        "import pandas as pd\n",
        "df = pd.read_csv('https://raw.githubusercontent.com/Soyoung-Yoon/bigdata/main/boston.csv')\n",
        "df.head(2)"
      ],
      "execution_count": null,
      "outputs": [
        {
          "output_type": "execute_result",
          "data": {
            "text/plain": [
              "      CRIM    ZN  INDUS  CHAS    NOX     RM   AGE     DIS  RAD    TAX  \\\n",
              "0  0.00632  18.0   2.31   0.0  0.538  6.575  65.2  4.0900  1.0  296.0   \n",
              "1  0.02731   0.0   7.07   0.0  0.469  6.421  78.9  4.9671  2.0  242.0   \n",
              "\n",
              "   PTRATIO      B  LSTAT  PRICE  \n",
              "0     15.3  396.9   4.98   24.0  \n",
              "1     17.8  396.9   9.14   21.6  "
            ],
            "text/html": [
              "\n",
              "  <div id=\"df-cac70c19-50df-4de0-aec9-bd1698f53754\">\n",
              "    <div class=\"colab-df-container\">\n",
              "      <div>\n",
              "<style scoped>\n",
              "    .dataframe tbody tr th:only-of-type {\n",
              "        vertical-align: middle;\n",
              "    }\n",
              "\n",
              "    .dataframe tbody tr th {\n",
              "        vertical-align: top;\n",
              "    }\n",
              "\n",
              "    .dataframe thead th {\n",
              "        text-align: right;\n",
              "    }\n",
              "</style>\n",
              "<table border=\"1\" class=\"dataframe\">\n",
              "  <thead>\n",
              "    <tr style=\"text-align: right;\">\n",
              "      <th></th>\n",
              "      <th>CRIM</th>\n",
              "      <th>ZN</th>\n",
              "      <th>INDUS</th>\n",
              "      <th>CHAS</th>\n",
              "      <th>NOX</th>\n",
              "      <th>RM</th>\n",
              "      <th>AGE</th>\n",
              "      <th>DIS</th>\n",
              "      <th>RAD</th>\n",
              "      <th>TAX</th>\n",
              "      <th>PTRATIO</th>\n",
              "      <th>B</th>\n",
              "      <th>LSTAT</th>\n",
              "      <th>PRICE</th>\n",
              "    </tr>\n",
              "  </thead>\n",
              "  <tbody>\n",
              "    <tr>\n",
              "      <th>0</th>\n",
              "      <td>0.00632</td>\n",
              "      <td>18.0</td>\n",
              "      <td>2.31</td>\n",
              "      <td>0.0</td>\n",
              "      <td>0.538</td>\n",
              "      <td>6.575</td>\n",
              "      <td>65.2</td>\n",
              "      <td>4.0900</td>\n",
              "      <td>1.0</td>\n",
              "      <td>296.0</td>\n",
              "      <td>15.3</td>\n",
              "      <td>396.9</td>\n",
              "      <td>4.98</td>\n",
              "      <td>24.0</td>\n",
              "    </tr>\n",
              "    <tr>\n",
              "      <th>1</th>\n",
              "      <td>0.02731</td>\n",
              "      <td>0.0</td>\n",
              "      <td>7.07</td>\n",
              "      <td>0.0</td>\n",
              "      <td>0.469</td>\n",
              "      <td>6.421</td>\n",
              "      <td>78.9</td>\n",
              "      <td>4.9671</td>\n",
              "      <td>2.0</td>\n",
              "      <td>242.0</td>\n",
              "      <td>17.8</td>\n",
              "      <td>396.9</td>\n",
              "      <td>9.14</td>\n",
              "      <td>21.6</td>\n",
              "    </tr>\n",
              "  </tbody>\n",
              "</table>\n",
              "</div>\n",
              "      <button class=\"colab-df-convert\" onclick=\"convertToInteractive('df-cac70c19-50df-4de0-aec9-bd1698f53754')\"\n",
              "              title=\"Convert this dataframe to an interactive table.\"\n",
              "              style=\"display:none;\">\n",
              "        \n",
              "  <svg xmlns=\"http://www.w3.org/2000/svg\" height=\"24px\"viewBox=\"0 0 24 24\"\n",
              "       width=\"24px\">\n",
              "    <path d=\"M0 0h24v24H0V0z\" fill=\"none\"/>\n",
              "    <path d=\"M18.56 5.44l.94 2.06.94-2.06 2.06-.94-2.06-.94-.94-2.06-.94 2.06-2.06.94zm-11 1L8.5 8.5l.94-2.06 2.06-.94-2.06-.94L8.5 2.5l-.94 2.06-2.06.94zm10 10l.94 2.06.94-2.06 2.06-.94-2.06-.94-.94-2.06-.94 2.06-2.06.94z\"/><path d=\"M17.41 7.96l-1.37-1.37c-.4-.4-.92-.59-1.43-.59-.52 0-1.04.2-1.43.59L10.3 9.45l-7.72 7.72c-.78.78-.78 2.05 0 2.83L4 21.41c.39.39.9.59 1.41.59.51 0 1.02-.2 1.41-.59l7.78-7.78 2.81-2.81c.8-.78.8-2.07 0-2.86zM5.41 20L4 18.59l7.72-7.72 1.47 1.35L5.41 20z\"/>\n",
              "  </svg>\n",
              "      </button>\n",
              "      \n",
              "  <style>\n",
              "    .colab-df-container {\n",
              "      display:flex;\n",
              "      flex-wrap:wrap;\n",
              "      gap: 12px;\n",
              "    }\n",
              "\n",
              "    .colab-df-convert {\n",
              "      background-color: #E8F0FE;\n",
              "      border: none;\n",
              "      border-radius: 50%;\n",
              "      cursor: pointer;\n",
              "      display: none;\n",
              "      fill: #1967D2;\n",
              "      height: 32px;\n",
              "      padding: 0 0 0 0;\n",
              "      width: 32px;\n",
              "    }\n",
              "\n",
              "    .colab-df-convert:hover {\n",
              "      background-color: #E2EBFA;\n",
              "      box-shadow: 0px 1px 2px rgba(60, 64, 67, 0.3), 0px 1px 3px 1px rgba(60, 64, 67, 0.15);\n",
              "      fill: #174EA6;\n",
              "    }\n",
              "\n",
              "    [theme=dark] .colab-df-convert {\n",
              "      background-color: #3B4455;\n",
              "      fill: #D2E3FC;\n",
              "    }\n",
              "\n",
              "    [theme=dark] .colab-df-convert:hover {\n",
              "      background-color: #434B5C;\n",
              "      box-shadow: 0px 1px 3px 1px rgba(0, 0, 0, 0.15);\n",
              "      filter: drop-shadow(0px 1px 2px rgba(0, 0, 0, 0.3));\n",
              "      fill: #FFFFFF;\n",
              "    }\n",
              "  </style>\n",
              "\n",
              "      <script>\n",
              "        const buttonEl =\n",
              "          document.querySelector('#df-cac70c19-50df-4de0-aec9-bd1698f53754 button.colab-df-convert');\n",
              "        buttonEl.style.display =\n",
              "          google.colab.kernel.accessAllowed ? 'block' : 'none';\n",
              "\n",
              "        async function convertToInteractive(key) {\n",
              "          const element = document.querySelector('#df-cac70c19-50df-4de0-aec9-bd1698f53754');\n",
              "          const dataTable =\n",
              "            await google.colab.kernel.invokeFunction('convertToInteractive',\n",
              "                                                     [key], {});\n",
              "          if (!dataTable) return;\n",
              "\n",
              "          const docLinkHtml = 'Like what you see? Visit the ' +\n",
              "            '<a target=\"_blank\" href=https://colab.research.google.com/notebooks/data_table.ipynb>data table notebook</a>'\n",
              "            + ' to learn more about interactive tables.';\n",
              "          element.innerHTML = '';\n",
              "          dataTable['output_type'] = 'display_data';\n",
              "          await google.colab.output.renderOutput(dataTable, element);\n",
              "          const docLink = document.createElement('div');\n",
              "          docLink.innerHTML = docLinkHtml;\n",
              "          element.appendChild(docLink);\n",
              "        }\n",
              "      </script>\n",
              "    </div>\n",
              "  </div>\n",
              "  "
            ]
          },
          "metadata": {},
          "execution_count": 18
        }
      ]
    },
    {
      "cell_type": "code",
      "metadata": {
        "id": "dt5U-T52-d1f"
      },
      "source": [
        "# 2-1-1)\n"
      ],
      "execution_count": null,
      "outputs": []
    },
    {
      "cell_type": "code",
      "source": [
        "# DataFrame.sort_values 사용\n"
      ],
      "metadata": {
        "id": "CCui8TQ69cbG"
      },
      "execution_count": null,
      "outputs": []
    },
    {
      "cell_type": "markdown",
      "metadata": {
        "id": "Uv_3WUzRCFV0"
      },
      "source": [
        "**1-2. 하우징 데이터**\n",
        "- 'https://raw.githubusercontent.com/Soyoung-Yoon/bigdata/main/housing.csv' 파일을 사용한다\n",
        "- 주어진 데이터의 첫번째 행 부터 순서대로 80% 까지의 데이터를 추출 후\n",
        "- 'total_bedrooms' 변수의 결측값(NA)을 'total_bedrooms' 변수의 중앙값으로 대체하고,\n",
        "- 대체 전의 'total_bedrooms' 변수 표준편차값과 대체 후의 'total_bedrooms' 변수 표준편차 값을 산출하여\n",
        "- 대체 전 표준편차 값 - 대체 후 표준편차 값을 구해 출력한다."
      ]
    },
    {
      "cell_type": "code",
      "source": [
        "import pandas as pd\n",
        "df = pd.read_csv('https://raw.githubusercontent.com/Soyoung-Yoon/bigdata/main/housing.csv')\n",
        "print(df.shape) # 20640\n",
        "print(df.head(2))"
      ],
      "metadata": {
        "colab": {
          "base_uri": "https://localhost:8080/"
        },
        "id": "CLygG-Z6_xS9",
        "outputId": "700d1e0f-53f2-40da-ede5-c96d9a19067d"
      },
      "execution_count": null,
      "outputs": [
        {
          "output_type": "stream",
          "name": "stdout",
          "text": [
            "(20640, 10)\n",
            "   longitude  latitude  housing_median_age  total_rooms  total_bedrooms  \\\n",
            "0    -122.23     37.88                41.0        880.0           129.0   \n",
            "1    -122.22     37.86                21.0       7099.0          1106.0   \n",
            "\n",
            "   population  households  median_income  median_house_value ocean_proximity  \n",
            "0       322.0       126.0         8.3252            452600.0        NEAR BAY  \n",
            "1      2401.0      1138.0         8.3014            358500.0        NEAR BAY  \n"
          ]
        }
      ]
    },
    {
      "cell_type": "code",
      "metadata": {
        "id": "FTsXafdeKM39",
        "colab": {
          "base_uri": "https://localhost:8080/"
        },
        "outputId": "b020c8b2-5974-4846-c4ec-c0ee927ab73b"
      },
      "source": [
        "# 2-1-2)\n",
        "# 첫번째 행 부터 순서대로 80% 까지의 데이터를 추출\n",
        "p = int(df.shape[0]* 0.8)  # 소수점 아래를 버림\n",
        "p = round(df.shape[0]* 0.8)\n",
        "A = df.iloc[:p, :]\n",
        "# 'total_bedrooms' 변수의 결측값(NA)을 'total_bedrooms' 변수의 중앙값으로 대체\n",
        "A_before = A['total_bedrooms']\n",
        "A_after = A_before.fillna(A_before.median())\n",
        "# 대체 전의 'total_bedrooms' 변수 표준편차값과 대체 후의 'total_bedrooms' 변수 표준편차 값을 산출\n",
        "# 대체 전 표준편차 값 - 대체 후 표준편차 값\n",
        "result1 = A_before.std(ddof=0) - A_after.std(ddof=0)\n",
        "result2 = A_before.std(ddof=1) - A_after.std(ddof=1)\n",
        "print(round(result1, 2), round(result2, 2))\n",
        "print(round(result1), round(result2)) # 반올림해서 정수로 변환"
      ],
      "execution_count": null,
      "outputs": [
        {
          "output_type": "stream",
          "name": "stdout",
          "text": [
            "1.97 1.98\n",
            "2 2\n"
          ]
        }
      ]
    },
    {
      "cell_type": "code",
      "source": [
        "# sklearn - train_test_split\n",
        "from sklearn.model_selection import train_test_split\n",
        "\n",
        "A, _ = train_test_split(df, train_size=0.8, shuffle=False)\n",
        "A_before = A['total_bedrooms']\n",
        "A_after = A_before.fillna(A_before.median())\n",
        "result = A_before.std(ddof=0) - A_after.std(ddof=0)\n",
        "print(round(result, 4))"
      ],
      "metadata": {
        "colab": {
          "base_uri": "https://localhost:8080/"
        },
        "id": "yItJbvOvHLbu",
        "outputId": "c1ebd852-fc68-4f32-f863-d06cea1c817b"
      },
      "execution_count": null,
      "outputs": [
        {
          "output_type": "stream",
          "name": "stdout",
          "text": [
            "1.975\n"
          ]
        }
      ]
    },
    {
      "cell_type": "markdown",
      "metadata": {
        "id": "s0Iohr2QC6As"
      },
      "source": [
        "**1-3. 하우징 데이터**\n",
        "- 'https://raw.githubusercontent.com/Soyoung-Yoon/bigdata/main/housing.csv' 파일을 사용한다\n",
        "- 하우징 데이터에서 'latitude' 컬럼의 이상치를 찾아 이상치들의 합을 산출하시오.\n",
        "- 이상치 기준 : 평균 - (표준편차 * 1.5), 평균 + (표준편차 * 1.5)"
      ]
    },
    {
      "cell_type": "code",
      "source": [
        "import pandas as pd\n",
        "df = pd.read_csv('https://raw.githubusercontent.com/Soyoung-Yoon/bigdata/main/housing.csv')\n",
        "print(df.shape)\n",
        "print(df.head(2))"
      ],
      "metadata": {
        "colab": {
          "base_uri": "https://localhost:8080/"
        },
        "id": "92mZW-YMI9oC",
        "outputId": "67ee302d-86ef-431f-d4ce-a81a087173c1"
      },
      "execution_count": null,
      "outputs": [
        {
          "output_type": "stream",
          "name": "stdout",
          "text": [
            "(20640, 10)\n",
            "   longitude  latitude  housing_median_age  total_rooms  total_bedrooms  \\\n",
            "0    -122.23     37.88                41.0        880.0           129.0   \n",
            "1    -122.22     37.86                21.0       7099.0          1106.0   \n",
            "\n",
            "   population  households  median_income  median_house_value ocean_proximity  \n",
            "0       322.0       126.0         8.3252            452600.0        NEAR BAY  \n",
            "1      2401.0      1138.0         8.3014            358500.0        NEAR BAY  \n"
          ]
        }
      ]
    },
    {
      "cell_type": "code",
      "metadata": {
        "id": "II4-4rISf1Ys"
      },
      "source": [
        "# 평균 - (표준편차 * 1.5), 평균 + (표준편차 * 1.5)\n",
        "# 2-1-3)\n"
      ],
      "execution_count": null,
      "outputs": []
    },
    {
      "cell_type": "code",
      "source": [],
      "metadata": {
        "id": "7P16emR058bs"
      },
      "execution_count": null,
      "outputs": []
    },
    {
      "cell_type": "markdown",
      "metadata": {
        "id": "SxegKonKDHPJ"
      },
      "source": [
        "### 작업2유형 - 2진분류, roc_auc\n"
      ]
    },
    {
      "cell_type": "markdown",
      "metadata": {
        "id": "JWKKfomBts23"
      },
      "source": [
        "**2-01. 문제이해**\n",
        "\n",
        "고객 구매 데이터를 사용해서 고객이 주문한 물품이 제 시간에 도착여부(Reached.on.Time_Y.N) 예측\n",
        "- ontime_train.csv : 학습 및 학습평가에 사용하는 파일\n",
        "- ontime_test.csv : 제출용 데이터 생성에 사용하는 파일\n",
        "- roc_auc_score를 사용하여 평가\n",
        "- 아래의 형식으로 result.csv 로 저장\n",
        "- Reached.on.Time_Y.N은 제 시간도착 여부\n",
        "- https://www.kaggle.com/prachi13/customer-analytics?select=Train.csv\n",
        "        pred\n",
        "        0\n",
        "        0\n",
        "        0\n",
        "        1"
      ]
    },
    {
      "cell_type": "code",
      "execution_count": null,
      "metadata": {
        "id": "7s5cSk-lrLGh"
      },
      "outputs": [],
      "source": [
        "# 기출에서 기억나는 것\n",
        "# - 컬럼 중 1개가 숫자형으로 안내 되었는데 info() 결과 object로 표시됨\n",
        "# - head() 로 해서 표시되지 않았음\n",
        "# - value가 '1', '*7', '4', '9', '*7' 이렇게 되어 있어서 '*'을 제거하고 dtype을 변경해야함"
      ]
    },
    {
      "cell_type": "code",
      "execution_count": null,
      "metadata": {
        "id": "YvUN8uMwtiQk"
      },
      "outputs": [],
      "source": [
        "import pandas as pd\n",
        "# 이상한 것 확인\n",
        "df = pd.DataFrame({'rating': ['1', '2', '4', '*7', '8', '*7', '3', '5', '2', '*4']})\n",
        "df['rating'] = df['rating'].str.replace('*', '').astype('int64')\n",
        "df['rating']\n",
        "#df['rating'].astype('int')   # ValueError: invalid literal for int() with base 10: '*7'"
      ]
    },
    {
      "cell_type": "markdown",
      "source": [
        "**2-02. 문제풀이**\n",
        "- XY = pd.read_csv('https://raw.githubusercontent.com/Soyoung-Yoon/bigdata/main/ontime_train.csv')\n",
        "- X_submission = pd.read_csv('https://raw.githubusercontent.com/Soyoung-Yoon/bigdata/main/ontime_test.csv')\n"
      ],
      "metadata": {
        "id": "hvkce-gfucL9"
      }
    },
    {
      "cell_type": "code",
      "source": [
        "def get_scores(model, x_train, x_test, y_train, y_test):\n",
        "    # 정확도(accuracy)\n",
        "    y_pred1 = model.predict(x_train)\n",
        "    y_pred2 = model.predict(x_test)\n",
        "    A = accuracy_score(y_train, y_pred1)\n",
        "    B = accuracy_score(y_test, y_pred2)\n",
        "    #  roc_auc_score를 구할 때는 성공의 예측확률을 주는 것이 더 정확합니다.\n",
        "    y_proba1 = model.predict_proba(x_train)[:, 1]\n",
        "    y_proba2 = model.predict_proba(x_test)[:, 1]\n",
        "    C = roc_auc_score(y_train, y_proba1)\n",
        "    D = roc_auc_score(y_test, y_proba2)\n",
        "\n",
        "    return f'acc: {A:.4f} {B:.4f} AUC: {C:.4f} {D:.4f}'"
      ],
      "metadata": {
        "id": "aG-tgn2bw8pj"
      },
      "execution_count": null,
      "outputs": []
    },
    {
      "cell_type": "code",
      "source": [
        "#  여기에 작업하세요 ^_^\n",
        "# get_scores는  위의 함수와 같이 y_proba1,  y_proba2를 사용하시는 것이 정확합니다.\n",
        "\n"
      ],
      "metadata": {
        "id": "7nAv81bkxNLA"
      },
      "execution_count": null,
      "outputs": []
    },
    {
      "cell_type": "code",
      "source": [
        "# [답지를 가지고 채점해 봅시다]\n",
        "sol = pd.read_csv('https://raw.githubusercontent.com/Soyoung-Yoon/bigdata/main/ontime_result.csv')\n",
        "sol['Reached.on.Time_Y.N'].value_counts(normalize=True)\n",
        "\n",
        "# 0.68   (model4)\n",
        "# 0.6889 (model3)\n",
        "# 0.7284 (model2)\n",
        "roc_auc_score(sol['Reached.on.Time_Y.N'].to_numpy(), temp['pred'].to_numpy())"
      ],
      "metadata": {
        "colab": {
          "base_uri": "https://localhost:8080/"
        },
        "id": "Phvoj_FBE3DM",
        "outputId": "b92acfb0-8cd3-4829-bb64-e9670c48839d"
      },
      "execution_count": null,
      "outputs": [
        {
          "output_type": "execute_result",
          "data": {
            "text/plain": [
              "0.7284024144869214"
            ]
          },
          "metadata": {},
          "execution_count": 133
        }
      ]
    },
    {
      "cell_type": "markdown",
      "source": [
        "## 3회 기출 복원"
      ],
      "metadata": {
        "id": "EutVuhos6YA2"
      }
    },
    {
      "cell_type": "markdown",
      "source": [
        "### 작업1유형"
      ],
      "metadata": {
        "id": "U4yCvd7_4HQQ"
      }
    },
    {
      "cell_type": "markdown",
      "source": [
        "**1-1.캘리포니어 집값 데이터**\n",
        "\n",
        "결측치를 포함하는 모든 행을 제거한 후, 처음부터 순서대로 70%를 추출하여, 'housing_median_age' 컬럼의 사분위수 Q1의 값을 구하시오\n",
        "- 주의사항 정답 제출시, 정수형으로 제출해야 함\n",
        "- \"https://raw.githubusercontent.com/Soyoung-Yoon/bigdata/main/housing03.csv\" 파일 사용"
      ],
      "metadata": {
        "id": "FbBF6ZmSp4Ge"
      }
    },
    {
      "cell_type": "code",
      "source": [
        "# 한 문자형 컬럼에 빈칸 ''인 데이터 1건이 있어서\n",
        "# 빈칸을 결측으로 처리시 빈칸 제거전 242건에서 빈칸 제거후 243건의 행이 제거됨\n",
        "# 하지만 제거하지 않고 1분위수를 구하더라도 정답은 같음"
      ],
      "metadata": {
        "id": "iWgEGO71cMSR"
      },
      "execution_count": null,
      "outputs": []
    },
    {
      "cell_type": "code",
      "source": [
        "import pandas as pd\n",
        "\n",
        "df = pd.read_csv(\"https://raw.githubusercontent.com/Soyoung-Yoon/bigdata/main/housing03.csv\")\n",
        "df.head(2)"
      ],
      "metadata": {
        "colab": {
          "base_uri": "https://localhost:8080/",
          "height": 112
        },
        "id": "hqEZS2M2M93Y",
        "outputId": "c30a8968-6c31-446d-8a1b-eb4e72e784ef"
      },
      "execution_count": null,
      "outputs": [
        {
          "output_type": "execute_result",
          "data": {
            "text/plain": [
              "   longitude  latitude  housing_median_age  total_rooms  total_bedrooms  \\\n",
              "0    -122.23     37.88                41.0        880.0           129.0   \n",
              "1    -122.22     37.86                21.0       7099.0          1106.0   \n",
              "\n",
              "   population  households  median_income  median_house_value ocean_proximity  \n",
              "0       322.0       126.0         8.3252            452600.0        NEAR BAY  \n",
              "1      2401.0      1138.0         8.3014            358500.0        NEAR BAY  "
            ],
            "text/html": [
              "\n",
              "  <div id=\"df-87e97035-c752-4480-94c4-87b2616334f2\">\n",
              "    <div class=\"colab-df-container\">\n",
              "      <div>\n",
              "<style scoped>\n",
              "    .dataframe tbody tr th:only-of-type {\n",
              "        vertical-align: middle;\n",
              "    }\n",
              "\n",
              "    .dataframe tbody tr th {\n",
              "        vertical-align: top;\n",
              "    }\n",
              "\n",
              "    .dataframe thead th {\n",
              "        text-align: right;\n",
              "    }\n",
              "</style>\n",
              "<table border=\"1\" class=\"dataframe\">\n",
              "  <thead>\n",
              "    <tr style=\"text-align: right;\">\n",
              "      <th></th>\n",
              "      <th>longitude</th>\n",
              "      <th>latitude</th>\n",
              "      <th>housing_median_age</th>\n",
              "      <th>total_rooms</th>\n",
              "      <th>total_bedrooms</th>\n",
              "      <th>population</th>\n",
              "      <th>households</th>\n",
              "      <th>median_income</th>\n",
              "      <th>median_house_value</th>\n",
              "      <th>ocean_proximity</th>\n",
              "    </tr>\n",
              "  </thead>\n",
              "  <tbody>\n",
              "    <tr>\n",
              "      <th>0</th>\n",
              "      <td>-122.23</td>\n",
              "      <td>37.88</td>\n",
              "      <td>41.0</td>\n",
              "      <td>880.0</td>\n",
              "      <td>129.0</td>\n",
              "      <td>322.0</td>\n",
              "      <td>126.0</td>\n",
              "      <td>8.3252</td>\n",
              "      <td>452600.0</td>\n",
              "      <td>NEAR BAY</td>\n",
              "    </tr>\n",
              "    <tr>\n",
              "      <th>1</th>\n",
              "      <td>-122.22</td>\n",
              "      <td>37.86</td>\n",
              "      <td>21.0</td>\n",
              "      <td>7099.0</td>\n",
              "      <td>1106.0</td>\n",
              "      <td>2401.0</td>\n",
              "      <td>1138.0</td>\n",
              "      <td>8.3014</td>\n",
              "      <td>358500.0</td>\n",
              "      <td>NEAR BAY</td>\n",
              "    </tr>\n",
              "  </tbody>\n",
              "</table>\n",
              "</div>\n",
              "      <button class=\"colab-df-convert\" onclick=\"convertToInteractive('df-87e97035-c752-4480-94c4-87b2616334f2')\"\n",
              "              title=\"Convert this dataframe to an interactive table.\"\n",
              "              style=\"display:none;\">\n",
              "        \n",
              "  <svg xmlns=\"http://www.w3.org/2000/svg\" height=\"24px\"viewBox=\"0 0 24 24\"\n",
              "       width=\"24px\">\n",
              "    <path d=\"M0 0h24v24H0V0z\" fill=\"none\"/>\n",
              "    <path d=\"M18.56 5.44l.94 2.06.94-2.06 2.06-.94-2.06-.94-.94-2.06-.94 2.06-2.06.94zm-11 1L8.5 8.5l.94-2.06 2.06-.94-2.06-.94L8.5 2.5l-.94 2.06-2.06.94zm10 10l.94 2.06.94-2.06 2.06-.94-2.06-.94-.94-2.06-.94 2.06-2.06.94z\"/><path d=\"M17.41 7.96l-1.37-1.37c-.4-.4-.92-.59-1.43-.59-.52 0-1.04.2-1.43.59L10.3 9.45l-7.72 7.72c-.78.78-.78 2.05 0 2.83L4 21.41c.39.39.9.59 1.41.59.51 0 1.02-.2 1.41-.59l7.78-7.78 2.81-2.81c.8-.78.8-2.07 0-2.86zM5.41 20L4 18.59l7.72-7.72 1.47 1.35L5.41 20z\"/>\n",
              "  </svg>\n",
              "      </button>\n",
              "      \n",
              "  <style>\n",
              "    .colab-df-container {\n",
              "      display:flex;\n",
              "      flex-wrap:wrap;\n",
              "      gap: 12px;\n",
              "    }\n",
              "\n",
              "    .colab-df-convert {\n",
              "      background-color: #E8F0FE;\n",
              "      border: none;\n",
              "      border-radius: 50%;\n",
              "      cursor: pointer;\n",
              "      display: none;\n",
              "      fill: #1967D2;\n",
              "      height: 32px;\n",
              "      padding: 0 0 0 0;\n",
              "      width: 32px;\n",
              "    }\n",
              "\n",
              "    .colab-df-convert:hover {\n",
              "      background-color: #E2EBFA;\n",
              "      box-shadow: 0px 1px 2px rgba(60, 64, 67, 0.3), 0px 1px 3px 1px rgba(60, 64, 67, 0.15);\n",
              "      fill: #174EA6;\n",
              "    }\n",
              "\n",
              "    [theme=dark] .colab-df-convert {\n",
              "      background-color: #3B4455;\n",
              "      fill: #D2E3FC;\n",
              "    }\n",
              "\n",
              "    [theme=dark] .colab-df-convert:hover {\n",
              "      background-color: #434B5C;\n",
              "      box-shadow: 0px 1px 3px 1px rgba(0, 0, 0, 0.15);\n",
              "      filter: drop-shadow(0px 1px 2px rgba(0, 0, 0, 0.3));\n",
              "      fill: #FFFFFF;\n",
              "    }\n",
              "  </style>\n",
              "\n",
              "      <script>\n",
              "        const buttonEl =\n",
              "          document.querySelector('#df-87e97035-c752-4480-94c4-87b2616334f2 button.colab-df-convert');\n",
              "        buttonEl.style.display =\n",
              "          google.colab.kernel.accessAllowed ? 'block' : 'none';\n",
              "\n",
              "        async function convertToInteractive(key) {\n",
              "          const element = document.querySelector('#df-87e97035-c752-4480-94c4-87b2616334f2');\n",
              "          const dataTable =\n",
              "            await google.colab.kernel.invokeFunction('convertToInteractive',\n",
              "                                                     [key], {});\n",
              "          if (!dataTable) return;\n",
              "\n",
              "          const docLinkHtml = 'Like what you see? Visit the ' +\n",
              "            '<a target=\"_blank\" href=https://colab.research.google.com/notebooks/data_table.ipynb>data table notebook</a>'\n",
              "            + ' to learn more about interactive tables.';\n",
              "          element.innerHTML = '';\n",
              "          dataTable['output_type'] = 'display_data';\n",
              "          await google.colab.output.renderOutput(dataTable, element);\n",
              "          const docLink = document.createElement('div');\n",
              "          docLink.innerHTML = docLinkHtml;\n",
              "          element.appendChild(docLink);\n",
              "        }\n",
              "      </script>\n",
              "    </div>\n",
              "  </div>\n",
              "  "
            ]
          },
          "metadata": {},
          "execution_count": 63
        }
      ]
    },
    {
      "cell_type": "code",
      "execution_count": null,
      "metadata": {
        "id": "_x39Rr17pda0"
      },
      "outputs": [],
      "source": [
        "# 3-1-1)\n"
      ]
    },
    {
      "cell_type": "markdown",
      "source": [
        "**1-2.연도별 나라별 유병률 데이터**\n",
        "\n",
        "2000년 데이터에 대해 국가 전체 유병률 평균 값보다 큰 값을 가진 국가 개수는?\n",
        "(year 변수와 국가들의 결핵 유병률 값을 가진 데이터셋이 주어짐)\n",
        "\n",
        "        year  Afghanistan  Albania  Algeria  Andorra  Angola  Antigua & Barbuda  \\\n",
        "        0  1999            0     89.0     25.0    245.0   217.0              102.0\n",
        "        1  2000            0    132.0      0.0    138.0    57.0              128.0\n",
        "        2  2001            0     54.0     14.0    312.0    45.0               45.0\n",
        "        3  2002            0      4.9      0.7     12.4     5.9                4.9\n",
        "\n",
        "- 'https://raw.githubusercontent.com/Soyoung-Yoon/bigdata/main/worlddata.csv' 파일 사용"
      ],
      "metadata": {
        "id": "dvODvI5fqIUl"
      }
    },
    {
      "cell_type": "code",
      "source": [
        "import pandas as pd\n",
        "\n",
        "df = pd.read_csv(\"https://raw.githubusercontent.com/Soyoung-Yoon/bigdata/main/worlddata.csv\")\n",
        "df"
      ],
      "metadata": {
        "colab": {
          "base_uri": "https://localhost:8080/",
          "height": 303
        },
        "id": "Z3a1QjQNTU6Z",
        "outputId": "d3250683-ddec-4047-e82b-2ebdc093c866"
      },
      "execution_count": null,
      "outputs": [
        {
          "output_type": "execute_result",
          "data": {
            "text/plain": [
              "   year  Afghanistan  Albania  Algeria  Andorra  Angola  Antigua & Barbuda  \\\n",
              "0  1999            0     89.0     25.0    245.0   217.0              102.0   \n",
              "1  2000            0    132.0      0.0    138.0    57.0              128.0   \n",
              "2  2001            0     54.0     14.0    312.0    45.0               45.0   \n",
              "3  2002            0      4.9      0.7     12.4     5.9                4.9   \n",
              "\n",
              "   Argentina  Armenia  Australia  ...  Tanzania    USA  Uruguay  Uzbekistan  \\\n",
              "0      193.0     21.0      261.0  ...      36.0  249.0    115.0        25.0   \n",
              "1       25.0    179.0       72.0  ...       6.0  158.0     35.0       101.0   \n",
              "2      221.0     11.0      212.0  ...       1.0   84.0    220.0         8.0   \n",
              "3        8.3      3.8       10.4  ...       5.7    8.7      6.6         2.4   \n",
              "\n",
              "   Vanuatu  Venezuela  Vietnam  Yemen  Zambia  Zimbabwe  \n",
              "0     21.0      333.0      111    6.0    32.0      64.0  \n",
              "1     18.0      100.0        2    0.0    19.0      18.0  \n",
              "2     11.0        3.0        1    0.0     4.0       4.0  \n",
              "3      0.9        7.7        2    0.1     2.5       4.7  \n",
              "\n",
              "[4 rows x 194 columns]"
            ],
            "text/html": [
              "\n",
              "  <div id=\"df-19fbe293-71f7-4af2-bbe2-f2300ad0d063\">\n",
              "    <div class=\"colab-df-container\">\n",
              "      <div>\n",
              "<style scoped>\n",
              "    .dataframe tbody tr th:only-of-type {\n",
              "        vertical-align: middle;\n",
              "    }\n",
              "\n",
              "    .dataframe tbody tr th {\n",
              "        vertical-align: top;\n",
              "    }\n",
              "\n",
              "    .dataframe thead th {\n",
              "        text-align: right;\n",
              "    }\n",
              "</style>\n",
              "<table border=\"1\" class=\"dataframe\">\n",
              "  <thead>\n",
              "    <tr style=\"text-align: right;\">\n",
              "      <th></th>\n",
              "      <th>year</th>\n",
              "      <th>Afghanistan</th>\n",
              "      <th>Albania</th>\n",
              "      <th>Algeria</th>\n",
              "      <th>Andorra</th>\n",
              "      <th>Angola</th>\n",
              "      <th>Antigua &amp; Barbuda</th>\n",
              "      <th>Argentina</th>\n",
              "      <th>Armenia</th>\n",
              "      <th>Australia</th>\n",
              "      <th>...</th>\n",
              "      <th>Tanzania</th>\n",
              "      <th>USA</th>\n",
              "      <th>Uruguay</th>\n",
              "      <th>Uzbekistan</th>\n",
              "      <th>Vanuatu</th>\n",
              "      <th>Venezuela</th>\n",
              "      <th>Vietnam</th>\n",
              "      <th>Yemen</th>\n",
              "      <th>Zambia</th>\n",
              "      <th>Zimbabwe</th>\n",
              "    </tr>\n",
              "  </thead>\n",
              "  <tbody>\n",
              "    <tr>\n",
              "      <th>0</th>\n",
              "      <td>1999</td>\n",
              "      <td>0</td>\n",
              "      <td>89.0</td>\n",
              "      <td>25.0</td>\n",
              "      <td>245.0</td>\n",
              "      <td>217.0</td>\n",
              "      <td>102.0</td>\n",
              "      <td>193.0</td>\n",
              "      <td>21.0</td>\n",
              "      <td>261.0</td>\n",
              "      <td>...</td>\n",
              "      <td>36.0</td>\n",
              "      <td>249.0</td>\n",
              "      <td>115.0</td>\n",
              "      <td>25.0</td>\n",
              "      <td>21.0</td>\n",
              "      <td>333.0</td>\n",
              "      <td>111</td>\n",
              "      <td>6.0</td>\n",
              "      <td>32.0</td>\n",
              "      <td>64.0</td>\n",
              "    </tr>\n",
              "    <tr>\n",
              "      <th>1</th>\n",
              "      <td>2000</td>\n",
              "      <td>0</td>\n",
              "      <td>132.0</td>\n",
              "      <td>0.0</td>\n",
              "      <td>138.0</td>\n",
              "      <td>57.0</td>\n",
              "      <td>128.0</td>\n",
              "      <td>25.0</td>\n",
              "      <td>179.0</td>\n",
              "      <td>72.0</td>\n",
              "      <td>...</td>\n",
              "      <td>6.0</td>\n",
              "      <td>158.0</td>\n",
              "      <td>35.0</td>\n",
              "      <td>101.0</td>\n",
              "      <td>18.0</td>\n",
              "      <td>100.0</td>\n",
              "      <td>2</td>\n",
              "      <td>0.0</td>\n",
              "      <td>19.0</td>\n",
              "      <td>18.0</td>\n",
              "    </tr>\n",
              "    <tr>\n",
              "      <th>2</th>\n",
              "      <td>2001</td>\n",
              "      <td>0</td>\n",
              "      <td>54.0</td>\n",
              "      <td>14.0</td>\n",
              "      <td>312.0</td>\n",
              "      <td>45.0</td>\n",
              "      <td>45.0</td>\n",
              "      <td>221.0</td>\n",
              "      <td>11.0</td>\n",
              "      <td>212.0</td>\n",
              "      <td>...</td>\n",
              "      <td>1.0</td>\n",
              "      <td>84.0</td>\n",
              "      <td>220.0</td>\n",
              "      <td>8.0</td>\n",
              "      <td>11.0</td>\n",
              "      <td>3.0</td>\n",
              "      <td>1</td>\n",
              "      <td>0.0</td>\n",
              "      <td>4.0</td>\n",
              "      <td>4.0</td>\n",
              "    </tr>\n",
              "    <tr>\n",
              "      <th>3</th>\n",
              "      <td>2002</td>\n",
              "      <td>0</td>\n",
              "      <td>4.9</td>\n",
              "      <td>0.7</td>\n",
              "      <td>12.4</td>\n",
              "      <td>5.9</td>\n",
              "      <td>4.9</td>\n",
              "      <td>8.3</td>\n",
              "      <td>3.8</td>\n",
              "      <td>10.4</td>\n",
              "      <td>...</td>\n",
              "      <td>5.7</td>\n",
              "      <td>8.7</td>\n",
              "      <td>6.6</td>\n",
              "      <td>2.4</td>\n",
              "      <td>0.9</td>\n",
              "      <td>7.7</td>\n",
              "      <td>2</td>\n",
              "      <td>0.1</td>\n",
              "      <td>2.5</td>\n",
              "      <td>4.7</td>\n",
              "    </tr>\n",
              "  </tbody>\n",
              "</table>\n",
              "<p>4 rows × 194 columns</p>\n",
              "</div>\n",
              "      <button class=\"colab-df-convert\" onclick=\"convertToInteractive('df-19fbe293-71f7-4af2-bbe2-f2300ad0d063')\"\n",
              "              title=\"Convert this dataframe to an interactive table.\"\n",
              "              style=\"display:none;\">\n",
              "        \n",
              "  <svg xmlns=\"http://www.w3.org/2000/svg\" height=\"24px\"viewBox=\"0 0 24 24\"\n",
              "       width=\"24px\">\n",
              "    <path d=\"M0 0h24v24H0V0z\" fill=\"none\"/>\n",
              "    <path d=\"M18.56 5.44l.94 2.06.94-2.06 2.06-.94-2.06-.94-.94-2.06-.94 2.06-2.06.94zm-11 1L8.5 8.5l.94-2.06 2.06-.94-2.06-.94L8.5 2.5l-.94 2.06-2.06.94zm10 10l.94 2.06.94-2.06 2.06-.94-2.06-.94-.94-2.06-.94 2.06-2.06.94z\"/><path d=\"M17.41 7.96l-1.37-1.37c-.4-.4-.92-.59-1.43-.59-.52 0-1.04.2-1.43.59L10.3 9.45l-7.72 7.72c-.78.78-.78 2.05 0 2.83L4 21.41c.39.39.9.59 1.41.59.51 0 1.02-.2 1.41-.59l7.78-7.78 2.81-2.81c.8-.78.8-2.07 0-2.86zM5.41 20L4 18.59l7.72-7.72 1.47 1.35L5.41 20z\"/>\n",
              "  </svg>\n",
              "      </button>\n",
              "      \n",
              "  <style>\n",
              "    .colab-df-container {\n",
              "      display:flex;\n",
              "      flex-wrap:wrap;\n",
              "      gap: 12px;\n",
              "    }\n",
              "\n",
              "    .colab-df-convert {\n",
              "      background-color: #E8F0FE;\n",
              "      border: none;\n",
              "      border-radius: 50%;\n",
              "      cursor: pointer;\n",
              "      display: none;\n",
              "      fill: #1967D2;\n",
              "      height: 32px;\n",
              "      padding: 0 0 0 0;\n",
              "      width: 32px;\n",
              "    }\n",
              "\n",
              "    .colab-df-convert:hover {\n",
              "      background-color: #E2EBFA;\n",
              "      box-shadow: 0px 1px 2px rgba(60, 64, 67, 0.3), 0px 1px 3px 1px rgba(60, 64, 67, 0.15);\n",
              "      fill: #174EA6;\n",
              "    }\n",
              "\n",
              "    [theme=dark] .colab-df-convert {\n",
              "      background-color: #3B4455;\n",
              "      fill: #D2E3FC;\n",
              "    }\n",
              "\n",
              "    [theme=dark] .colab-df-convert:hover {\n",
              "      background-color: #434B5C;\n",
              "      box-shadow: 0px 1px 3px 1px rgba(0, 0, 0, 0.15);\n",
              "      filter: drop-shadow(0px 1px 2px rgba(0, 0, 0, 0.3));\n",
              "      fill: #FFFFFF;\n",
              "    }\n",
              "  </style>\n",
              "\n",
              "      <script>\n",
              "        const buttonEl =\n",
              "          document.querySelector('#df-19fbe293-71f7-4af2-bbe2-f2300ad0d063 button.colab-df-convert');\n",
              "        buttonEl.style.display =\n",
              "          google.colab.kernel.accessAllowed ? 'block' : 'none';\n",
              "\n",
              "        async function convertToInteractive(key) {\n",
              "          const element = document.querySelector('#df-19fbe293-71f7-4af2-bbe2-f2300ad0d063');\n",
              "          const dataTable =\n",
              "            await google.colab.kernel.invokeFunction('convertToInteractive',\n",
              "                                                     [key], {});\n",
              "          if (!dataTable) return;\n",
              "\n",
              "          const docLinkHtml = 'Like what you see? Visit the ' +\n",
              "            '<a target=\"_blank\" href=https://colab.research.google.com/notebooks/data_table.ipynb>data table notebook</a>'\n",
              "            + ' to learn more about interactive tables.';\n",
              "          element.innerHTML = '';\n",
              "          dataTable['output_type'] = 'display_data';\n",
              "          await google.colab.output.renderOutput(dataTable, element);\n",
              "          const docLink = document.createElement('div');\n",
              "          docLink.innerHTML = docLinkHtml;\n",
              "          element.appendChild(docLink);\n",
              "        }\n",
              "      </script>\n",
              "    </div>\n",
              "  </div>\n",
              "  "
            ]
          },
          "metadata": {},
          "execution_count": 70
        }
      ]
    },
    {
      "cell_type": "code",
      "source": [
        "# 3-1-2)\n"
      ],
      "metadata": {
        "id": "DyKUpzd2qSx8"
      },
      "execution_count": null,
      "outputs": []
    },
    {
      "cell_type": "markdown",
      "source": [
        "**1-3.타이타닉 데이터**\n",
        "- 각 열의 결측치 비율을 확인 한 후, 결측치의 비율이 가장 높은 변수명을 구하시오\n",
        "- \"https://raw.githubusercontent.com/Soyoung-Yoon/bigdata/main/titanic_train03.csv\" 파일 사용\n",
        "- 원본 데이터 : https://www.kaggle.com/c/2019-1st-ml-month-with-kakr/overview"
      ],
      "metadata": {
        "id": "LP2f9AnEqT6V"
      }
    },
    {
      "cell_type": "code",
      "source": [
        "import pandas as pd\n",
        "\n",
        "df = pd.read_csv(\"https://raw.githubusercontent.com/Soyoung-Yoon/bigdata/main/titanic_train03.csv\")\n",
        "df"
      ],
      "metadata": {
        "id": "kkw4Hp55TgHk"
      },
      "execution_count": null,
      "outputs": []
    },
    {
      "cell_type": "code",
      "source": [
        "# 3-1-3)\n"
      ],
      "metadata": {
        "id": "fSWeR7GcwMNm"
      },
      "execution_count": null,
      "outputs": []
    },
    {
      "cell_type": "code",
      "source": [],
      "metadata": {
        "id": "zqMP4GTA7FL5"
      },
      "execution_count": null,
      "outputs": []
    },
    {
      "cell_type": "code",
      "source": [],
      "metadata": {
        "id": "rIHFa7JK6m8r"
      },
      "execution_count": null,
      "outputs": []
    },
    {
      "cell_type": "markdown",
      "source": [
        "### 작업2유형 - 2진분류, roc_auc\n"
      ],
      "metadata": {
        "id": "_MC0WQLWsd3F"
      }
    },
    {
      "cell_type": "markdown",
      "source": [
        "**2-01. 문제이해**\n",
        "\n",
        "여행자 보험 데이터 - 보험가입여부 예측\n",
        "- 여행자 보험 데이터를 활용해서 보험가입여부를 예측하라.\n",
        "- insurance_train.csv : 학습 및 학습평가에 사용하는 파일\n",
        "- insurance_test.csv : 제출용 데이터 생성에 사용하는 파일\n",
        "- roc_auc_score를 사용하여 평가\n",
        "- 아래의 형식으로 result.csv 로 저장\n",
        "- TravelInsurance: 보험가입여부\n",
        "- 원본 데이터 : https://www.kaggle.com/agileteam/traval-insurance-exam\n",
        "        pred\n",
        "        1\n",
        "        0\n",
        "        0\n",
        "        1"
      ],
      "metadata": {
        "id": "v1i3SZIWr0L9"
      }
    },
    {
      "cell_type": "markdown",
      "source": [
        "**2-02. 문제풀이**\n",
        "- XY = pd.read_csv('https://raw.githubusercontent.com/Soyoung-Yoon/bigdata/main/insurance_train.csv')\n",
        "- X_submission = pd.read_csv('https://raw.githubusercontent.com/Soyoung-Yoon/bigdata/main/insurance_test.csv')\n"
      ],
      "metadata": {
        "id": "9URgluA9BEwu"
      }
    },
    {
      "cell_type": "code",
      "source": [
        "def get_scores(model, x_train, x_test, y_train, y_test):\n",
        "    # 정확도(accuracy)\n",
        "    y_pred1 = model.predict(x_train)\n",
        "    y_pred2 = model.predict(x_test)\n",
        "    A = accuracy_score(y_train, y_pred1)\n",
        "    B = accuracy_score(y_test, y_pred2)\n",
        "    #  roc_auc_score를 구할 때는 성공의 예측확률을 주는 것이 더 정확합니다.\n",
        "    y_proba1 = model.predict_proba(x_train)[:, 1]\n",
        "    y_proba2 = model.predict_proba(x_test)[:, 1]\n",
        "    C = roc_auc_score(y_train, y_proba1)\n",
        "    D = roc_auc_score(y_test, y_proba2)\n",
        "\n",
        "    return f'acc: {A:.4f} {B:.4f} AUC: {C:.4f} {D:.4f}'"
      ],
      "metadata": {
        "id": "wIHremLnGobQ"
      },
      "execution_count": null,
      "outputs": []
    },
    {
      "cell_type": "code",
      "source": [
        "#  여기에 작업하세요 ^_^\n",
        "# get_scores는  위의 함수와 같이 y_proba1,  y_proba2를 사용하시는 것이 정확합니다.\n",
        "\n"
      ],
      "metadata": {
        "id": "ncW8zaw7xT09"
      },
      "execution_count": null,
      "outputs": []
    },
    {
      "cell_type": "markdown",
      "source": [],
      "metadata": {
        "id": "SgKfyD3q6bvX"
      }
    },
    {
      "cell_type": "markdown",
      "source": [
        "## 4회 기출 복원"
      ],
      "metadata": {
        "id": "4onUTRuL6u4R"
      }
    },
    {
      "cell_type": "markdown",
      "source": [
        "### 작업1유형"
      ],
      "metadata": {
        "id": "hRywNHA97Fhc"
      }
    },
    {
      "cell_type": "markdown",
      "metadata": {
        "id": "SqHEFsHW7Fhd"
      },
      "source": [
        "**1-1. 신상 데이터**\n",
        "age 컬럼에 대해 아래의 과정을 수행하고 (다) 단계의 결과값을 출력하여라.\n",
        "- (가) 제 1사분위수와 제 3사분위수를 구하기\n",
        "- (나) 두 값의 차이 절댓값 구하기\n",
        "- (다) 그 값의 소수점 버리기\n",
        "- 'https://raw.githubusercontent.com/Soyoung-Yoon/bigdata/main/basic1_data04.csv' 파일 사용"
      ]
    },
    {
      "cell_type": "code",
      "source": [
        "import pandas as pd\n",
        "df = pd.read_csv('https://raw.githubusercontent.com/Soyoung-Yoon/bigdata/main/basic1_data04.csv')\n",
        "print(df.head(2))"
      ],
      "metadata": {
        "id": "ttr2QTVbvRMC",
        "colab": {
          "base_uri": "https://localhost:8080/"
        },
        "outputId": "31e7033c-a3ab-4c0d-ea9f-fe6c32378edc"
      },
      "execution_count": null,
      "outputs": [
        {
          "output_type": "stream",
          "name": "stdout",
          "text": [
            "     id  age city    f1  f2   f3    f4         f5\n",
            "0  id01  2.0   서울   NaN   0  NaN  ENFJ  91.297791\n",
            "1  id02  9.0   서울  70.0   1  NaN  ENFJ  60.339826\n"
          ]
        }
      ]
    },
    {
      "cell_type": "code",
      "source": [
        "# 4-1-1)\n"
      ],
      "metadata": {
        "id": "UQvNfXEgKp6e"
      },
      "execution_count": null,
      "outputs": []
    },
    {
      "cell_type": "markdown",
      "metadata": {
        "id": "hkJuyn-57Fhf"
      },
      "source": [
        "**1-2. Facebook 데이터**\n",
        "\n",
        "Facebook 데이터셋을 불러와 (loves반응 + wows반응)/(reactions반응) 비율이 0.4보다 크고 0.5보다 작으면서, type이 'video'인 데이터의 갯수를 구하여라\n",
        "- 'https://raw.githubusercontent.com/Soyoung-Yoon/bigdata/main/fb_data04.csv' 파일 사용"
      ]
    },
    {
      "cell_type": "code",
      "source": [
        "import pandas as pd\n",
        "df = pd.read_csv(\"https://raw.githubusercontent.com/Soyoung-Yoon/bigdata/main/fb_data04.csv\")\n",
        "print(df.head(2))"
      ],
      "metadata": {
        "id": "FLkE8PWuwV-I"
      },
      "execution_count": null,
      "outputs": []
    },
    {
      "cell_type": "code",
      "source": [
        "# 4-1-2)\n"
      ],
      "metadata": {
        "id": "tit04baIAv-r"
      },
      "execution_count": null,
      "outputs": []
    },
    {
      "cell_type": "markdown",
      "metadata": {
        "id": "ozF0IP8T7Fhf"
      },
      "source": [
        "**1-3. 넷플릭스 데이터**\n",
        "netflix_subset 데이터셋에서 date_added가 2018년 1월이면서 country가 United Kingdom 단독 제작인 데이터의 개수를 구하여라\n",
        "- 'https://raw.githubusercontent.com/Soyoung-Yoon/bigdata/main/nf_data04.csv' 파일 사용"
      ]
    },
    {
      "cell_type": "code",
      "source": [
        "import pandas as pd\n",
        "df = pd.read_csv(\"https://raw.githubusercontent.com/Soyoung-Yoon/bigdata/main/nf_data04.csv\")\n",
        "df.head(2)"
      ],
      "metadata": {
        "colab": {
          "base_uri": "https://localhost:8080/",
          "height": 190
        },
        "id": "shRP2io2AjZI",
        "outputId": "0aebbd75-b03d-4c48-d464-64c40c00f852"
      },
      "execution_count": null,
      "outputs": [
        {
          "output_type": "execute_result",
          "data": {
            "text/plain": [
              "  show_id     type                 title         director  \\\n",
              "0      s1    Movie  Dick Johnson Is Dead  Kirsten Johnson   \n",
              "1      s2  TV Show         Blood & Water              NaN   \n",
              "\n",
              "                                                cast        country  \\\n",
              "0                                                NaN  United States   \n",
              "1  Ama Qamata, Khosi Ngema, Gail Mabalane, Thaban...   South Africa   \n",
              "\n",
              "           date_added  release_year rating   duration  \\\n",
              "0  September 25, 2021          2020  PG-13     90 min   \n",
              "1  September 24, 2021          2021  TV-MA  2 Seasons   \n",
              "\n",
              "                                         listed_in  \n",
              "0                                    Documentaries  \n",
              "1  International TV Shows, TV Dramas, TV Mysteries  "
            ],
            "text/html": [
              "\n",
              "  <div id=\"df-2a3509ed-057e-4ed6-bfbf-bf5948a319a9\">\n",
              "    <div class=\"colab-df-container\">\n",
              "      <div>\n",
              "<style scoped>\n",
              "    .dataframe tbody tr th:only-of-type {\n",
              "        vertical-align: middle;\n",
              "    }\n",
              "\n",
              "    .dataframe tbody tr th {\n",
              "        vertical-align: top;\n",
              "    }\n",
              "\n",
              "    .dataframe thead th {\n",
              "        text-align: right;\n",
              "    }\n",
              "</style>\n",
              "<table border=\"1\" class=\"dataframe\">\n",
              "  <thead>\n",
              "    <tr style=\"text-align: right;\">\n",
              "      <th></th>\n",
              "      <th>show_id</th>\n",
              "      <th>type</th>\n",
              "      <th>title</th>\n",
              "      <th>director</th>\n",
              "      <th>cast</th>\n",
              "      <th>country</th>\n",
              "      <th>date_added</th>\n",
              "      <th>release_year</th>\n",
              "      <th>rating</th>\n",
              "      <th>duration</th>\n",
              "      <th>listed_in</th>\n",
              "    </tr>\n",
              "  </thead>\n",
              "  <tbody>\n",
              "    <tr>\n",
              "      <th>0</th>\n",
              "      <td>s1</td>\n",
              "      <td>Movie</td>\n",
              "      <td>Dick Johnson Is Dead</td>\n",
              "      <td>Kirsten Johnson</td>\n",
              "      <td>NaN</td>\n",
              "      <td>United States</td>\n",
              "      <td>September 25, 2021</td>\n",
              "      <td>2020</td>\n",
              "      <td>PG-13</td>\n",
              "      <td>90 min</td>\n",
              "      <td>Documentaries</td>\n",
              "    </tr>\n",
              "    <tr>\n",
              "      <th>1</th>\n",
              "      <td>s2</td>\n",
              "      <td>TV Show</td>\n",
              "      <td>Blood &amp; Water</td>\n",
              "      <td>NaN</td>\n",
              "      <td>Ama Qamata, Khosi Ngema, Gail Mabalane, Thaban...</td>\n",
              "      <td>South Africa</td>\n",
              "      <td>September 24, 2021</td>\n",
              "      <td>2021</td>\n",
              "      <td>TV-MA</td>\n",
              "      <td>2 Seasons</td>\n",
              "      <td>International TV Shows, TV Dramas, TV Mysteries</td>\n",
              "    </tr>\n",
              "  </tbody>\n",
              "</table>\n",
              "</div>\n",
              "      <button class=\"colab-df-convert\" onclick=\"convertToInteractive('df-2a3509ed-057e-4ed6-bfbf-bf5948a319a9')\"\n",
              "              title=\"Convert this dataframe to an interactive table.\"\n",
              "              style=\"display:none;\">\n",
              "        \n",
              "  <svg xmlns=\"http://www.w3.org/2000/svg\" height=\"24px\"viewBox=\"0 0 24 24\"\n",
              "       width=\"24px\">\n",
              "    <path d=\"M0 0h24v24H0V0z\" fill=\"none\"/>\n",
              "    <path d=\"M18.56 5.44l.94 2.06.94-2.06 2.06-.94-2.06-.94-.94-2.06-.94 2.06-2.06.94zm-11 1L8.5 8.5l.94-2.06 2.06-.94-2.06-.94L8.5 2.5l-.94 2.06-2.06.94zm10 10l.94 2.06.94-2.06 2.06-.94-2.06-.94-.94-2.06-.94 2.06-2.06.94z\"/><path d=\"M17.41 7.96l-1.37-1.37c-.4-.4-.92-.59-1.43-.59-.52 0-1.04.2-1.43.59L10.3 9.45l-7.72 7.72c-.78.78-.78 2.05 0 2.83L4 21.41c.39.39.9.59 1.41.59.51 0 1.02-.2 1.41-.59l7.78-7.78 2.81-2.81c.8-.78.8-2.07 0-2.86zM5.41 20L4 18.59l7.72-7.72 1.47 1.35L5.41 20z\"/>\n",
              "  </svg>\n",
              "      </button>\n",
              "      \n",
              "  <style>\n",
              "    .colab-df-container {\n",
              "      display:flex;\n",
              "      flex-wrap:wrap;\n",
              "      gap: 12px;\n",
              "    }\n",
              "\n",
              "    .colab-df-convert {\n",
              "      background-color: #E8F0FE;\n",
              "      border: none;\n",
              "      border-radius: 50%;\n",
              "      cursor: pointer;\n",
              "      display: none;\n",
              "      fill: #1967D2;\n",
              "      height: 32px;\n",
              "      padding: 0 0 0 0;\n",
              "      width: 32px;\n",
              "    }\n",
              "\n",
              "    .colab-df-convert:hover {\n",
              "      background-color: #E2EBFA;\n",
              "      box-shadow: 0px 1px 2px rgba(60, 64, 67, 0.3), 0px 1px 3px 1px rgba(60, 64, 67, 0.15);\n",
              "      fill: #174EA6;\n",
              "    }\n",
              "\n",
              "    [theme=dark] .colab-df-convert {\n",
              "      background-color: #3B4455;\n",
              "      fill: #D2E3FC;\n",
              "    }\n",
              "\n",
              "    [theme=dark] .colab-df-convert:hover {\n",
              "      background-color: #434B5C;\n",
              "      box-shadow: 0px 1px 3px 1px rgba(0, 0, 0, 0.15);\n",
              "      filter: drop-shadow(0px 1px 2px rgba(0, 0, 0, 0.3));\n",
              "      fill: #FFFFFF;\n",
              "    }\n",
              "  </style>\n",
              "\n",
              "      <script>\n",
              "        const buttonEl =\n",
              "          document.querySelector('#df-2a3509ed-057e-4ed6-bfbf-bf5948a319a9 button.colab-df-convert');\n",
              "        buttonEl.style.display =\n",
              "          google.colab.kernel.accessAllowed ? 'block' : 'none';\n",
              "\n",
              "        async function convertToInteractive(key) {\n",
              "          const element = document.querySelector('#df-2a3509ed-057e-4ed6-bfbf-bf5948a319a9');\n",
              "          const dataTable =\n",
              "            await google.colab.kernel.invokeFunction('convertToInteractive',\n",
              "                                                     [key], {});\n",
              "          if (!dataTable) return;\n",
              "\n",
              "          const docLinkHtml = 'Like what you see? Visit the ' +\n",
              "            '<a target=\"_blank\" href=https://colab.research.google.com/notebooks/data_table.ipynb>data table notebook</a>'\n",
              "            + ' to learn more about interactive tables.';\n",
              "          element.innerHTML = '';\n",
              "          dataTable['output_type'] = 'display_data';\n",
              "          await google.colab.output.renderOutput(dataTable, element);\n",
              "          const docLink = document.createElement('div');\n",
              "          docLink.innerHTML = docLinkHtml;\n",
              "          element.appendChild(docLink);\n",
              "        }\n",
              "      </script>\n",
              "    </div>\n",
              "  </div>\n",
              "  "
            ]
          },
          "metadata": {},
          "execution_count": 127
        }
      ]
    },
    {
      "cell_type": "code",
      "metadata": {
        "id": "iCuvq7OT7Fhg"
      },
      "source": [
        "# 4-1-3)\n",
        "\n"
      ],
      "execution_count": null,
      "outputs": []
    },
    {
      "cell_type": "code",
      "source": [],
      "metadata": {
        "id": "beJp-WCd60AD"
      },
      "execution_count": null,
      "outputs": []
    },
    {
      "cell_type": "markdown",
      "source": [
        "### 작업2유형 - 다항분류, f1-score(macro)"
      ],
      "metadata": {
        "id": "6jncr5lsEgsh"
      }
    },
    {
      "cell_type": "markdown",
      "metadata": {
        "id": "8Z5Lf16mEYyN"
      },
      "source": [
        "**2-01. 문제이해**\n",
        "\n",
        "자동차 시장 세분화\n",
        "- 자동차 회사는 새로운 전략을 수립하기 위해 4개의 시장으로 세분화했습니다.\n",
        "- 기존 고객 분류 자료를 바탕으로 신규 고객이 어떤 분류에 속할지 예측해주세요!\n",
        "- market_train.csv : 학습 및 학습평가에 사용하는 파일\n",
        "- market_test.csv : 제출용 데이터 생성에 사용하는 파일\n",
        "- 예측할 값(y): \"Segmentation\" (1,2,3,4)\n",
        "- 평가: Macro f1-score\n",
        "- 아래의 형식으로 result.csv 로 저장\n",
        "- 제출형식\n",
        "        pred\n",
        "        1\n",
        "        2\n",
        "        3\n",
        "        4"
      ]
    },
    {
      "cell_type": "markdown",
      "source": [
        "**2-02. 문제풀이**\n",
        "- XY = pd.read_csv('https://raw.githubusercontent.com/Soyoung-Yoon/bigdata/main/market_train.csv')\n",
        "- X_submission = pd.read_csv('https://raw.githubusercontent.com/Soyoung-Yoon/bigdata/main/market_test.csv')"
      ],
      "metadata": {
        "id": "UTweb2XBBT4_"
      }
    },
    {
      "cell_type": "code",
      "source": [],
      "metadata": {
        "id": "1hfzgcQCEcFI"
      },
      "execution_count": null,
      "outputs": []
    },
    {
      "cell_type": "markdown",
      "source": [
        "**2-03. 문제풀이(XGBClassifier)**"
      ],
      "metadata": {
        "id": "Gq3GiC5KHDHT"
      }
    },
    {
      "cell_type": "code",
      "source": [
        "# [0] import\n",
        "import pandas as pd\n",
        "import numpy as np\n",
        "from sklearn.preprocessing import LabelEncoder\n",
        "from sklearn.preprocessing import MinMaxScaler, StandardScaler\n",
        "from sklearn.model_selection import train_test_split\n",
        "from sklearn.metrics import f1_score, roc_auc_score, accuracy_score\n",
        "from xgboost import XGBClassifier\n",
        "from lightgbm import LGBMClassifier\n",
        "#pd.set_option('display.max_rows', 100)\n",
        "pd.set_option('display.max_columns', 30)\n",
        "pd.set_option('display.float_format', '{:.4f}'.format)\n",
        "\n",
        "\n",
        "def get_scores(model, x_train, x_test, y_train, y_test):\n",
        "    y_pred1 = model.predict(x_train)\n",
        "    y_pred2 = model.predict(x_test)\n",
        "    A = accuracy_score(y_train, y_pred1)\n",
        "    B = accuracy_score(y_test, y_pred2)\n",
        "    # [None, 'micro', 'macro', 'weighted']\n",
        "    C = f1_score(y_train, y_pred1, average='macro')\n",
        "    D = f1_score(y_test, y_pred2, average='macro')\n",
        "    return f'acc: {A:.4f} {B:.4f}, f1: {C:.4f} {D:.4f}'\n",
        "\n",
        "\n",
        "# [1] 파일 가져오기 (2개, XX_train.csv, XX_test.csv)\n",
        "XY = pd.read_csv('https://raw.githubusercontent.com/Soyoung-Yoon/bigdata/main/market_train.csv')\n",
        "X_submission = pd.read_csv('https://raw.githubusercontent.com/Soyoung-Yoon/bigdata/main/market_test.csv')\n",
        "\n",
        "X = XY.drop(columns=['Segmentation'])\n",
        "Y = XY['Segmentation']\n",
        "\n",
        "#print(Y.value_counts())  # [1, 2, 3, 4], 비슷한 분포\n",
        "#print(X.shape, Y.shape, X_submission.shape)  # (6665, 10) (6665,) (2154, 10)\n",
        "\n",
        "# [2] 데이터 탐색 (XY.info(), X_submission.info()) 결측치, 컬럼 dtype\n",
        "# [3] 데이터 전처리\n",
        "# [3-1] X, X_submission -> X_all\n",
        "# [3-2] X_all : 컬럼제거, 컬럼 dtype 변경(컬럼의 값을 대체), Encoding(범주형->수치형)\n",
        "# [3-3] X_all : Scaling (안함, MinMaxScaler, StandardScaler, ...)\n",
        "# [3-4] X_all -> X, X_submission 분리\n",
        "\n",
        "X_all = pd.concat([X, X_submission], axis=0)\n",
        "X_all = X_all.drop(columns=['ID'])\n",
        "for colname in ['Gender', 'Ever_Married', 'Graduated']:\n",
        "    X_all[colname] = LabelEncoder().fit_transform(X_all[colname])\n",
        "\n",
        "X_all = pd.get_dummies(X_all)\n",
        "\n",
        "if True:\n",
        "    temp = StandardScaler().fit_transform(X_all)\n",
        "    X_all = pd.DataFrame(temp, columns=X_all.columns)\n",
        "\n",
        "X = X_all.iloc[:len(X), :]\n",
        "X_submission = X_all.iloc[len(X):, :]\n",
        "print(X.shape, X_submission.shape)  # (6665, 25) (2154, 25)\n",
        "# [4] 모델링\n",
        "# [4-1] train_test_split : (X, Y) -> (x_train, x_test, y_train, y_test)\n",
        "# [4-2] 모델객체 생성, 학습 (x_train, y_train)\n",
        "# [4-3] 평가 (x_train, y_train), (x_test, y_test)\n",
        "\n",
        "temp = train_test_split(X, Y, test_size=0.2, stratify=Y, random_state=1234)\n",
        "x_train, x_test, y_train, y_test = temp\n",
        "\n",
        "# Expected: [0 1 2 3], got [1 2 3 4]\n",
        "model5 = XGBClassifier(random_state=0).fit(x_train, y_train)\n",
        "print(get_scores(model5, x_train, x_test, y_train, y_test))\n",
        "\n",
        "# [5] 최종모델 선택, 예측값(X_submission), 제출파일생성\n",
        "fmodel = model5\n",
        "y_pred = fmodel.predict(X_submission)\n",
        "pd.DataFrame({'pred': y_pred}).to_csv('result.csv', index=False)\n",
        "\n",
        "# [6] 제출한 파일 확인\n",
        "temp = pd.read_csv('result.csv')\n",
        "print(temp.shape)  # (2154, 1)\n",
        "#print(temp.head(10))\n",
        "#print(Y.value_counts(normalize=True))\n",
        "print(temp['pred'].value_counts(normalize=True))"
      ],
      "metadata": {
        "id": "xhhanza_E-Yt"
      },
      "execution_count": null,
      "outputs": []
    },
    {
      "cell_type": "code",
      "source": [],
      "metadata": {
        "id": "PMMSjUTQ6z9t"
      },
      "execution_count": null,
      "outputs": []
    },
    {
      "cell_type": "markdown",
      "source": [
        "## 5회 기출 복원"
      ],
      "metadata": {
        "id": "u1AqLqwN7BD3"
      }
    },
    {
      "cell_type": "markdown",
      "source": [
        "### 작업1유형\n",
        "- 출처 : 데이터마님\n",
        "- https://www.datamanim.com/dataset/practice/ex5.html"
      ],
      "metadata": {
        "id": "2VKpHsErTFi8"
      }
    },
    {
      "cell_type": "markdown",
      "source": [
        "**1-1. 종량제 봉투 가격**\n",
        "\n",
        "20L가격과 5L가격이 모두 0원이 아닌 데이터만 필터를 한 후, 각 row별로 20L가격과 5L가격의 차이를 ‘차이가격’ 이라 부른다고 하자. 시도명 별 차이가격의 평균가격을 비교할때 그 값이 가장 큰 금액을 반올림하여 정수로 답하라."
      ],
      "metadata": {
        "id": "-EEFHrN2TPwq"
      }
    },
    {
      "cell_type": "code",
      "source": [
        "import pandas as pd\n",
        "df = pd.read_csv('https://raw.githubusercontent.com/Soyoung-Yoon/bigdata/main/waste_bags.csv')\n",
        "df.head(2)"
      ],
      "metadata": {
        "id": "Soq574tLTTrV",
        "colab": {
          "base_uri": "https://localhost:8080/",
          "height": 112
        },
        "outputId": "44512420-5ee8-4f39-aa70-91dc23098324"
      },
      "execution_count": null,
      "outputs": [
        {
          "output_type": "execute_result",
          "data": {
            "text/plain": [
              "   시도명 시군구명 종량제봉투종류 종량제봉투용도  1L가격  2L가격  5L가격  10L가격  20L가격  30L가격\n",
              "0  경기도  안양시    규격봉투   생활쓰레기     0     0   150    300    550      0\n",
              "1  경기도  안양시    규격봉투   생활쓰레기     0     0   150    300    550      0"
            ],
            "text/html": [
              "\n",
              "  <div id=\"df-90536a34-28f7-4244-9b92-6156ece8bcd6\">\n",
              "    <div class=\"colab-df-container\">\n",
              "      <div>\n",
              "<style scoped>\n",
              "    .dataframe tbody tr th:only-of-type {\n",
              "        vertical-align: middle;\n",
              "    }\n",
              "\n",
              "    .dataframe tbody tr th {\n",
              "        vertical-align: top;\n",
              "    }\n",
              "\n",
              "    .dataframe thead th {\n",
              "        text-align: right;\n",
              "    }\n",
              "</style>\n",
              "<table border=\"1\" class=\"dataframe\">\n",
              "  <thead>\n",
              "    <tr style=\"text-align: right;\">\n",
              "      <th></th>\n",
              "      <th>시도명</th>\n",
              "      <th>시군구명</th>\n",
              "      <th>종량제봉투종류</th>\n",
              "      <th>종량제봉투용도</th>\n",
              "      <th>1L가격</th>\n",
              "      <th>2L가격</th>\n",
              "      <th>5L가격</th>\n",
              "      <th>10L가격</th>\n",
              "      <th>20L가격</th>\n",
              "      <th>30L가격</th>\n",
              "    </tr>\n",
              "  </thead>\n",
              "  <tbody>\n",
              "    <tr>\n",
              "      <th>0</th>\n",
              "      <td>경기도</td>\n",
              "      <td>안양시</td>\n",
              "      <td>규격봉투</td>\n",
              "      <td>생활쓰레기</td>\n",
              "      <td>0</td>\n",
              "      <td>0</td>\n",
              "      <td>150</td>\n",
              "      <td>300</td>\n",
              "      <td>550</td>\n",
              "      <td>0</td>\n",
              "    </tr>\n",
              "    <tr>\n",
              "      <th>1</th>\n",
              "      <td>경기도</td>\n",
              "      <td>안양시</td>\n",
              "      <td>규격봉투</td>\n",
              "      <td>생활쓰레기</td>\n",
              "      <td>0</td>\n",
              "      <td>0</td>\n",
              "      <td>150</td>\n",
              "      <td>300</td>\n",
              "      <td>550</td>\n",
              "      <td>0</td>\n",
              "    </tr>\n",
              "  </tbody>\n",
              "</table>\n",
              "</div>\n",
              "      <button class=\"colab-df-convert\" onclick=\"convertToInteractive('df-90536a34-28f7-4244-9b92-6156ece8bcd6')\"\n",
              "              title=\"Convert this dataframe to an interactive table.\"\n",
              "              style=\"display:none;\">\n",
              "        \n",
              "  <svg xmlns=\"http://www.w3.org/2000/svg\" height=\"24px\"viewBox=\"0 0 24 24\"\n",
              "       width=\"24px\">\n",
              "    <path d=\"M0 0h24v24H0V0z\" fill=\"none\"/>\n",
              "    <path d=\"M18.56 5.44l.94 2.06.94-2.06 2.06-.94-2.06-.94-.94-2.06-.94 2.06-2.06.94zm-11 1L8.5 8.5l.94-2.06 2.06-.94-2.06-.94L8.5 2.5l-.94 2.06-2.06.94zm10 10l.94 2.06.94-2.06 2.06-.94-2.06-.94-.94-2.06-.94 2.06-2.06.94z\"/><path d=\"M17.41 7.96l-1.37-1.37c-.4-.4-.92-.59-1.43-.59-.52 0-1.04.2-1.43.59L10.3 9.45l-7.72 7.72c-.78.78-.78 2.05 0 2.83L4 21.41c.39.39.9.59 1.41.59.51 0 1.02-.2 1.41-.59l7.78-7.78 2.81-2.81c.8-.78.8-2.07 0-2.86zM5.41 20L4 18.59l7.72-7.72 1.47 1.35L5.41 20z\"/>\n",
              "  </svg>\n",
              "      </button>\n",
              "      \n",
              "  <style>\n",
              "    .colab-df-container {\n",
              "      display:flex;\n",
              "      flex-wrap:wrap;\n",
              "      gap: 12px;\n",
              "    }\n",
              "\n",
              "    .colab-df-convert {\n",
              "      background-color: #E8F0FE;\n",
              "      border: none;\n",
              "      border-radius: 50%;\n",
              "      cursor: pointer;\n",
              "      display: none;\n",
              "      fill: #1967D2;\n",
              "      height: 32px;\n",
              "      padding: 0 0 0 0;\n",
              "      width: 32px;\n",
              "    }\n",
              "\n",
              "    .colab-df-convert:hover {\n",
              "      background-color: #E2EBFA;\n",
              "      box-shadow: 0px 1px 2px rgba(60, 64, 67, 0.3), 0px 1px 3px 1px rgba(60, 64, 67, 0.15);\n",
              "      fill: #174EA6;\n",
              "    }\n",
              "\n",
              "    [theme=dark] .colab-df-convert {\n",
              "      background-color: #3B4455;\n",
              "      fill: #D2E3FC;\n",
              "    }\n",
              "\n",
              "    [theme=dark] .colab-df-convert:hover {\n",
              "      background-color: #434B5C;\n",
              "      box-shadow: 0px 1px 3px 1px rgba(0, 0, 0, 0.15);\n",
              "      filter: drop-shadow(0px 1px 2px rgba(0, 0, 0, 0.3));\n",
              "      fill: #FFFFFF;\n",
              "    }\n",
              "  </style>\n",
              "\n",
              "      <script>\n",
              "        const buttonEl =\n",
              "          document.querySelector('#df-90536a34-28f7-4244-9b92-6156ece8bcd6 button.colab-df-convert');\n",
              "        buttonEl.style.display =\n",
              "          google.colab.kernel.accessAllowed ? 'block' : 'none';\n",
              "\n",
              "        async function convertToInteractive(key) {\n",
              "          const element = document.querySelector('#df-90536a34-28f7-4244-9b92-6156ece8bcd6');\n",
              "          const dataTable =\n",
              "            await google.colab.kernel.invokeFunction('convertToInteractive',\n",
              "                                                     [key], {});\n",
              "          if (!dataTable) return;\n",
              "\n",
              "          const docLinkHtml = 'Like what you see? Visit the ' +\n",
              "            '<a target=\"_blank\" href=https://colab.research.google.com/notebooks/data_table.ipynb>data table notebook</a>'\n",
              "            + ' to learn more about interactive tables.';\n",
              "          element.innerHTML = '';\n",
              "          dataTable['output_type'] = 'display_data';\n",
              "          await google.colab.output.renderOutput(dataTable, element);\n",
              "          const docLink = document.createElement('div');\n",
              "          docLink.innerHTML = docLinkHtml;\n",
              "          element.appendChild(docLink);\n",
              "        }\n",
              "      </script>\n",
              "    </div>\n",
              "  </div>\n",
              "  "
            ]
          },
          "metadata": {},
          "execution_count": 108
        }
      ]
    },
    {
      "cell_type": "code",
      "source": [
        "# 5-1-1)\n"
      ],
      "metadata": {
        "id": "H6-eLNzIb9iV"
      },
      "execution_count": null,
      "outputs": []
    },
    {
      "cell_type": "markdown",
      "source": [
        "**1-2. 성인 체중 및 키 데이터**\n",
        "\n",
        "BMI는 몸무게(kg) / (키(M) * 키(M)) 로 정의 된다. 초고도 비만은 BMI 25이상 , 고도 비만은 BMI 25미만 - 23이상 , 정상은 23미만 - 18.5이상 저체중은 18.5미만으로 정의 된다. 주어진 데이터에서 초고도비만 인원 + 저체중 인원 의 숫자는?"
      ],
      "metadata": {
        "id": "Ajrq0NsKThuu"
      }
    },
    {
      "cell_type": "code",
      "source": [
        "import pandas as pd\n",
        "df = pd.read_csv('https://raw.githubusercontent.com/Soyoung-Yoon/bigdata/main/height_weight.csv')\n",
        "df.head(2)"
      ],
      "metadata": {
        "id": "ixFIGSXDTl-t",
        "colab": {
          "base_uri": "https://localhost:8080/",
          "height": 112
        },
        "outputId": "4a6422f6-a191-4a98-e08a-d8cec5ca7f6d"
      },
      "execution_count": null,
      "outputs": [
        {
          "output_type": "execute_result",
          "data": {
            "text/plain": [
              "   ID  height(cm)  weight(kg)\n",
              "0   0       171.2        63.1\n",
              "1   1       171.1        68.5"
            ],
            "text/html": [
              "\n",
              "  <div id=\"df-1707ad85-d912-4c9c-8de2-2ff72f64c7cb\">\n",
              "    <div class=\"colab-df-container\">\n",
              "      <div>\n",
              "<style scoped>\n",
              "    .dataframe tbody tr th:only-of-type {\n",
              "        vertical-align: middle;\n",
              "    }\n",
              "\n",
              "    .dataframe tbody tr th {\n",
              "        vertical-align: top;\n",
              "    }\n",
              "\n",
              "    .dataframe thead th {\n",
              "        text-align: right;\n",
              "    }\n",
              "</style>\n",
              "<table border=\"1\" class=\"dataframe\">\n",
              "  <thead>\n",
              "    <tr style=\"text-align: right;\">\n",
              "      <th></th>\n",
              "      <th>ID</th>\n",
              "      <th>height(cm)</th>\n",
              "      <th>weight(kg)</th>\n",
              "    </tr>\n",
              "  </thead>\n",
              "  <tbody>\n",
              "    <tr>\n",
              "      <th>0</th>\n",
              "      <td>0</td>\n",
              "      <td>171.2</td>\n",
              "      <td>63.1</td>\n",
              "    </tr>\n",
              "    <tr>\n",
              "      <th>1</th>\n",
              "      <td>1</td>\n",
              "      <td>171.1</td>\n",
              "      <td>68.5</td>\n",
              "    </tr>\n",
              "  </tbody>\n",
              "</table>\n",
              "</div>\n",
              "      <button class=\"colab-df-convert\" onclick=\"convertToInteractive('df-1707ad85-d912-4c9c-8de2-2ff72f64c7cb')\"\n",
              "              title=\"Convert this dataframe to an interactive table.\"\n",
              "              style=\"display:none;\">\n",
              "        \n",
              "  <svg xmlns=\"http://www.w3.org/2000/svg\" height=\"24px\"viewBox=\"0 0 24 24\"\n",
              "       width=\"24px\">\n",
              "    <path d=\"M0 0h24v24H0V0z\" fill=\"none\"/>\n",
              "    <path d=\"M18.56 5.44l.94 2.06.94-2.06 2.06-.94-2.06-.94-.94-2.06-.94 2.06-2.06.94zm-11 1L8.5 8.5l.94-2.06 2.06-.94-2.06-.94L8.5 2.5l-.94 2.06-2.06.94zm10 10l.94 2.06.94-2.06 2.06-.94-2.06-.94-.94-2.06-.94 2.06-2.06.94z\"/><path d=\"M17.41 7.96l-1.37-1.37c-.4-.4-.92-.59-1.43-.59-.52 0-1.04.2-1.43.59L10.3 9.45l-7.72 7.72c-.78.78-.78 2.05 0 2.83L4 21.41c.39.39.9.59 1.41.59.51 0 1.02-.2 1.41-.59l7.78-7.78 2.81-2.81c.8-.78.8-2.07 0-2.86zM5.41 20L4 18.59l7.72-7.72 1.47 1.35L5.41 20z\"/>\n",
              "  </svg>\n",
              "      </button>\n",
              "      \n",
              "  <style>\n",
              "    .colab-df-container {\n",
              "      display:flex;\n",
              "      flex-wrap:wrap;\n",
              "      gap: 12px;\n",
              "    }\n",
              "\n",
              "    .colab-df-convert {\n",
              "      background-color: #E8F0FE;\n",
              "      border: none;\n",
              "      border-radius: 50%;\n",
              "      cursor: pointer;\n",
              "      display: none;\n",
              "      fill: #1967D2;\n",
              "      height: 32px;\n",
              "      padding: 0 0 0 0;\n",
              "      width: 32px;\n",
              "    }\n",
              "\n",
              "    .colab-df-convert:hover {\n",
              "      background-color: #E2EBFA;\n",
              "      box-shadow: 0px 1px 2px rgba(60, 64, 67, 0.3), 0px 1px 3px 1px rgba(60, 64, 67, 0.15);\n",
              "      fill: #174EA6;\n",
              "    }\n",
              "\n",
              "    [theme=dark] .colab-df-convert {\n",
              "      background-color: #3B4455;\n",
              "      fill: #D2E3FC;\n",
              "    }\n",
              "\n",
              "    [theme=dark] .colab-df-convert:hover {\n",
              "      background-color: #434B5C;\n",
              "      box-shadow: 0px 1px 3px 1px rgba(0, 0, 0, 0.15);\n",
              "      filter: drop-shadow(0px 1px 2px rgba(0, 0, 0, 0.3));\n",
              "      fill: #FFFFFF;\n",
              "    }\n",
              "  </style>\n",
              "\n",
              "      <script>\n",
              "        const buttonEl =\n",
              "          document.querySelector('#df-1707ad85-d912-4c9c-8de2-2ff72f64c7cb button.colab-df-convert');\n",
              "        buttonEl.style.display =\n",
              "          google.colab.kernel.accessAllowed ? 'block' : 'none';\n",
              "\n",
              "        async function convertToInteractive(key) {\n",
              "          const element = document.querySelector('#df-1707ad85-d912-4c9c-8de2-2ff72f64c7cb');\n",
              "          const dataTable =\n",
              "            await google.colab.kernel.invokeFunction('convertToInteractive',\n",
              "                                                     [key], {});\n",
              "          if (!dataTable) return;\n",
              "\n",
              "          const docLinkHtml = 'Like what you see? Visit the ' +\n",
              "            '<a target=\"_blank\" href=https://colab.research.google.com/notebooks/data_table.ipynb>data table notebook</a>'\n",
              "            + ' to learn more about interactive tables.';\n",
              "          element.innerHTML = '';\n",
              "          dataTable['output_type'] = 'display_data';\n",
              "          await google.colab.output.renderOutput(dataTable, element);\n",
              "          const docLink = document.createElement('div');\n",
              "          docLink.innerHTML = docLinkHtml;\n",
              "          element.appendChild(docLink);\n",
              "        }\n",
              "      </script>\n",
              "    </div>\n",
              "  </div>\n",
              "  "
            ]
          },
          "metadata": {},
          "execution_count": 113
        }
      ]
    },
    {
      "cell_type": "code",
      "source": [
        "# 5-1-2) 단위 조심\n"
      ],
      "metadata": {
        "id": "DWoR-yRQdXau"
      },
      "execution_count": null,
      "outputs": []
    },
    {
      "cell_type": "markdown",
      "source": [
        "**1-3. 년도별 서울 각 구의 초,중,고 전출 전입 인원**\n",
        "\n",
        "순유입인원은 초중고 도내,도외 전입인원에서 초중고 도내, 도외 전출인원을 뺀값이다. 각년도별로 가장 큰 순유입인원을 가진 지역구의 순유입인원을 구하고 전체 기간의 해당 순유입인원들의 합을 구하여라"
      ],
      "metadata": {
        "id": "dXq9IGHYT3r_"
      }
    },
    {
      "cell_type": "code",
      "source": [
        "import pandas as pd\n",
        "df = pd.read_csv('https://raw.githubusercontent.com/Datamanim/datarepo/main/krdatacertificate/e5_p1_3.csv')\n",
        "df.head(2)"
      ],
      "metadata": {
        "colab": {
          "base_uri": "https://localhost:8080/",
          "height": 198
        },
        "id": "w8KJ1SQ5uAko",
        "outputId": "40351558-d436-42b0-fc47-2d2049b480a1"
      },
      "execution_count": null,
      "outputs": [
        {
          "output_type": "execute_result",
          "data": {
            "text/plain": [
              "    지역  초등학교_전출_도내  초등학교_전출_도외  초등학교_전입_도내  초등학교_전입_도외  중학교_전출_도내  중학교_전출_도외  \\\n",
              "0  종로구         221         132         255         126         63         71   \n",
              "1   중구         295         139         203         100         66         43   \n",
              "\n",
              "   중학교_전입_도내  중학교_전입_도외  고등학교_전출_도내  고등학교_전출_도외  고등학교_전입_도내  고등학교_전입_도외    년도  \n",
              "0        104         73         203          72         166          75  2012  \n",
              "1         58         44         156          37         104          39  2012  "
            ],
            "text/html": [
              "\n",
              "  <div id=\"df-5d2e445f-8336-4170-b3c2-05d3cb6933a2\" class=\"colab-df-container\">\n",
              "    <div>\n",
              "<style scoped>\n",
              "    .dataframe tbody tr th:only-of-type {\n",
              "        vertical-align: middle;\n",
              "    }\n",
              "\n",
              "    .dataframe tbody tr th {\n",
              "        vertical-align: top;\n",
              "    }\n",
              "\n",
              "    .dataframe thead th {\n",
              "        text-align: right;\n",
              "    }\n",
              "</style>\n",
              "<table border=\"1\" class=\"dataframe\">\n",
              "  <thead>\n",
              "    <tr style=\"text-align: right;\">\n",
              "      <th></th>\n",
              "      <th>지역</th>\n",
              "      <th>초등학교_전출_도내</th>\n",
              "      <th>초등학교_전출_도외</th>\n",
              "      <th>초등학교_전입_도내</th>\n",
              "      <th>초등학교_전입_도외</th>\n",
              "      <th>중학교_전출_도내</th>\n",
              "      <th>중학교_전출_도외</th>\n",
              "      <th>중학교_전입_도내</th>\n",
              "      <th>중학교_전입_도외</th>\n",
              "      <th>고등학교_전출_도내</th>\n",
              "      <th>고등학교_전출_도외</th>\n",
              "      <th>고등학교_전입_도내</th>\n",
              "      <th>고등학교_전입_도외</th>\n",
              "      <th>년도</th>\n",
              "    </tr>\n",
              "  </thead>\n",
              "  <tbody>\n",
              "    <tr>\n",
              "      <th>0</th>\n",
              "      <td>종로구</td>\n",
              "      <td>221</td>\n",
              "      <td>132</td>\n",
              "      <td>255</td>\n",
              "      <td>126</td>\n",
              "      <td>63</td>\n",
              "      <td>71</td>\n",
              "      <td>104</td>\n",
              "      <td>73</td>\n",
              "      <td>203</td>\n",
              "      <td>72</td>\n",
              "      <td>166</td>\n",
              "      <td>75</td>\n",
              "      <td>2012</td>\n",
              "    </tr>\n",
              "    <tr>\n",
              "      <th>1</th>\n",
              "      <td>중구</td>\n",
              "      <td>295</td>\n",
              "      <td>139</td>\n",
              "      <td>203</td>\n",
              "      <td>100</td>\n",
              "      <td>66</td>\n",
              "      <td>43</td>\n",
              "      <td>58</td>\n",
              "      <td>44</td>\n",
              "      <td>156</td>\n",
              "      <td>37</td>\n",
              "      <td>104</td>\n",
              "      <td>39</td>\n",
              "      <td>2012</td>\n",
              "    </tr>\n",
              "  </tbody>\n",
              "</table>\n",
              "</div>\n",
              "    <div class=\"colab-df-buttons\">\n",
              "\n",
              "  <div class=\"colab-df-container\">\n",
              "    <button class=\"colab-df-convert\" onclick=\"convertToInteractive('df-5d2e445f-8336-4170-b3c2-05d3cb6933a2')\"\n",
              "            title=\"Convert this dataframe to an interactive table.\"\n",
              "            style=\"display:none;\">\n",
              "\n",
              "  <svg xmlns=\"http://www.w3.org/2000/svg\" height=\"24px\" viewBox=\"0 -960 960 960\">\n",
              "    <path d=\"M120-120v-720h720v720H120Zm60-500h600v-160H180v160Zm220 220h160v-160H400v160Zm0 220h160v-160H400v160ZM180-400h160v-160H180v160Zm440 0h160v-160H620v160ZM180-180h160v-160H180v160Zm440 0h160v-160H620v160Z\"/>\n",
              "  </svg>\n",
              "    </button>\n",
              "\n",
              "  <style>\n",
              "    .colab-df-container {\n",
              "      display:flex;\n",
              "      gap: 12px;\n",
              "    }\n",
              "\n",
              "    .colab-df-convert {\n",
              "      background-color: #E8F0FE;\n",
              "      border: none;\n",
              "      border-radius: 50%;\n",
              "      cursor: pointer;\n",
              "      display: none;\n",
              "      fill: #1967D2;\n",
              "      height: 32px;\n",
              "      padding: 0 0 0 0;\n",
              "      width: 32px;\n",
              "    }\n",
              "\n",
              "    .colab-df-convert:hover {\n",
              "      background-color: #E2EBFA;\n",
              "      box-shadow: 0px 1px 2px rgba(60, 64, 67, 0.3), 0px 1px 3px 1px rgba(60, 64, 67, 0.15);\n",
              "      fill: #174EA6;\n",
              "    }\n",
              "\n",
              "    .colab-df-buttons div {\n",
              "      margin-bottom: 4px;\n",
              "    }\n",
              "\n",
              "    [theme=dark] .colab-df-convert {\n",
              "      background-color: #3B4455;\n",
              "      fill: #D2E3FC;\n",
              "    }\n",
              "\n",
              "    [theme=dark] .colab-df-convert:hover {\n",
              "      background-color: #434B5C;\n",
              "      box-shadow: 0px 1px 3px 1px rgba(0, 0, 0, 0.15);\n",
              "      filter: drop-shadow(0px 1px 2px rgba(0, 0, 0, 0.3));\n",
              "      fill: #FFFFFF;\n",
              "    }\n",
              "  </style>\n",
              "\n",
              "    <script>\n",
              "      const buttonEl =\n",
              "        document.querySelector('#df-5d2e445f-8336-4170-b3c2-05d3cb6933a2 button.colab-df-convert');\n",
              "      buttonEl.style.display =\n",
              "        google.colab.kernel.accessAllowed ? 'block' : 'none';\n",
              "\n",
              "      async function convertToInteractive(key) {\n",
              "        const element = document.querySelector('#df-5d2e445f-8336-4170-b3c2-05d3cb6933a2');\n",
              "        const dataTable =\n",
              "          await google.colab.kernel.invokeFunction('convertToInteractive',\n",
              "                                                    [key], {});\n",
              "        if (!dataTable) return;\n",
              "\n",
              "        const docLinkHtml = 'Like what you see? Visit the ' +\n",
              "          '<a target=\"_blank\" href=https://colab.research.google.com/notebooks/data_table.ipynb>data table notebook</a>'\n",
              "          + ' to learn more about interactive tables.';\n",
              "        element.innerHTML = '';\n",
              "        dataTable['output_type'] = 'display_data';\n",
              "        await google.colab.output.renderOutput(dataTable, element);\n",
              "        const docLink = document.createElement('div');\n",
              "        docLink.innerHTML = docLinkHtml;\n",
              "        element.appendChild(docLink);\n",
              "      }\n",
              "    </script>\n",
              "  </div>\n",
              "\n",
              "\n",
              "<div id=\"df-ecfab77d-d695-4e03-93c3-386d22a4a1c6\">\n",
              "  <button class=\"colab-df-quickchart\" onclick=\"quickchart('df-ecfab77d-d695-4e03-93c3-386d22a4a1c6')\"\n",
              "            title=\"Suggest charts.\"\n",
              "            style=\"display:none;\">\n",
              "\n",
              "<svg xmlns=\"http://www.w3.org/2000/svg\" height=\"24px\"viewBox=\"0 0 24 24\"\n",
              "     width=\"24px\">\n",
              "    <g>\n",
              "        <path d=\"M19 3H5c-1.1 0-2 .9-2 2v14c0 1.1.9 2 2 2h14c1.1 0 2-.9 2-2V5c0-1.1-.9-2-2-2zM9 17H7v-7h2v7zm4 0h-2V7h2v10zm4 0h-2v-4h2v4z\"/>\n",
              "    </g>\n",
              "</svg>\n",
              "  </button>\n",
              "\n",
              "<style>\n",
              "  .colab-df-quickchart {\n",
              "      --bg-color: #E8F0FE;\n",
              "      --fill-color: #1967D2;\n",
              "      --hover-bg-color: #E2EBFA;\n",
              "      --hover-fill-color: #174EA6;\n",
              "      --disabled-fill-color: #AAA;\n",
              "      --disabled-bg-color: #DDD;\n",
              "  }\n",
              "\n",
              "  [theme=dark] .colab-df-quickchart {\n",
              "      --bg-color: #3B4455;\n",
              "      --fill-color: #D2E3FC;\n",
              "      --hover-bg-color: #434B5C;\n",
              "      --hover-fill-color: #FFFFFF;\n",
              "      --disabled-bg-color: #3B4455;\n",
              "      --disabled-fill-color: #666;\n",
              "  }\n",
              "\n",
              "  .colab-df-quickchart {\n",
              "    background-color: var(--bg-color);\n",
              "    border: none;\n",
              "    border-radius: 50%;\n",
              "    cursor: pointer;\n",
              "    display: none;\n",
              "    fill: var(--fill-color);\n",
              "    height: 32px;\n",
              "    padding: 0;\n",
              "    width: 32px;\n",
              "  }\n",
              "\n",
              "  .colab-df-quickchart:hover {\n",
              "    background-color: var(--hover-bg-color);\n",
              "    box-shadow: 0 1px 2px rgba(60, 64, 67, 0.3), 0 1px 3px 1px rgba(60, 64, 67, 0.15);\n",
              "    fill: var(--button-hover-fill-color);\n",
              "  }\n",
              "\n",
              "  .colab-df-quickchart-complete:disabled,\n",
              "  .colab-df-quickchart-complete:disabled:hover {\n",
              "    background-color: var(--disabled-bg-color);\n",
              "    fill: var(--disabled-fill-color);\n",
              "    box-shadow: none;\n",
              "  }\n",
              "\n",
              "  .colab-df-spinner {\n",
              "    border: 2px solid var(--fill-color);\n",
              "    border-color: transparent;\n",
              "    border-bottom-color: var(--fill-color);\n",
              "    animation:\n",
              "      spin 1s steps(1) infinite;\n",
              "  }\n",
              "\n",
              "  @keyframes spin {\n",
              "    0% {\n",
              "      border-color: transparent;\n",
              "      border-bottom-color: var(--fill-color);\n",
              "      border-left-color: var(--fill-color);\n",
              "    }\n",
              "    20% {\n",
              "      border-color: transparent;\n",
              "      border-left-color: var(--fill-color);\n",
              "      border-top-color: var(--fill-color);\n",
              "    }\n",
              "    30% {\n",
              "      border-color: transparent;\n",
              "      border-left-color: var(--fill-color);\n",
              "      border-top-color: var(--fill-color);\n",
              "      border-right-color: var(--fill-color);\n",
              "    }\n",
              "    40% {\n",
              "      border-color: transparent;\n",
              "      border-right-color: var(--fill-color);\n",
              "      border-top-color: var(--fill-color);\n",
              "    }\n",
              "    60% {\n",
              "      border-color: transparent;\n",
              "      border-right-color: var(--fill-color);\n",
              "    }\n",
              "    80% {\n",
              "      border-color: transparent;\n",
              "      border-right-color: var(--fill-color);\n",
              "      border-bottom-color: var(--fill-color);\n",
              "    }\n",
              "    90% {\n",
              "      border-color: transparent;\n",
              "      border-bottom-color: var(--fill-color);\n",
              "    }\n",
              "  }\n",
              "</style>\n",
              "\n",
              "  <script>\n",
              "    async function quickchart(key) {\n",
              "      const quickchartButtonEl =\n",
              "        document.querySelector('#' + key + ' button');\n",
              "      quickchartButtonEl.disabled = true;  // To prevent multiple clicks.\n",
              "      quickchartButtonEl.classList.add('colab-df-spinner');\n",
              "      try {\n",
              "        const charts = await google.colab.kernel.invokeFunction(\n",
              "            'suggestCharts', [key], {});\n",
              "      } catch (error) {\n",
              "        console.error('Error during call to suggestCharts:', error);\n",
              "      }\n",
              "      quickchartButtonEl.classList.remove('colab-df-spinner');\n",
              "      quickchartButtonEl.classList.add('colab-df-quickchart-complete');\n",
              "    }\n",
              "    (() => {\n",
              "      let quickchartButtonEl =\n",
              "        document.querySelector('#df-ecfab77d-d695-4e03-93c3-386d22a4a1c6 button');\n",
              "      quickchartButtonEl.style.display =\n",
              "        google.colab.kernel.accessAllowed ? 'block' : 'none';\n",
              "    })();\n",
              "  </script>\n",
              "</div>\n",
              "    </div>\n",
              "  </div>\n"
            ]
          },
          "metadata": {},
          "execution_count": 1
        }
      ]
    },
    {
      "cell_type": "code",
      "source": [
        "# 5-1-3)\n"
      ],
      "metadata": {
        "id": "4Egfo-Fy10BW"
      },
      "execution_count": null,
      "outputs": []
    },
    {
      "cell_type": "code",
      "source": [],
      "metadata": {
        "id": "7C51ZyJe7JUb"
      },
      "execution_count": null,
      "outputs": []
    },
    {
      "cell_type": "markdown",
      "source": [
        "### 작업2유형 - 회귀, rmse"
      ],
      "metadata": {
        "id": "EXM-atmQFPlK"
      }
    },
    {
      "cell_type": "markdown",
      "source": [
        "**2-01. 문제이해**\n",
        "- 벤츠 차량 가격 예측 : https://www.kaggle.com/datasets/mysarahmadbhat/mercedes-used-car-listing\n",
        "- carprice_train.csv : 학습 및 학습평가에 사용하는 파일\n",
        "- carprice_test.csv : 제출용 데이터 생성에 사용하는 파일\n",
        "- 예측할 값(y): price (연속형 데이터)\n",
        "- 평가: rmse\n",
        "- 아래의 형식으로 **result.csv** 로 저장\n",
        "- 제출형식\n",
        "        pred\n",
        "        3756.9578\n",
        "        63325.4373\n",
        "        17166.1540\n",
        "        15094.1601\n",
        "        17072.5395\n"
      ],
      "metadata": {
        "id": "IYox2istFavR"
      }
    },
    {
      "cell_type": "markdown",
      "source": [
        "**2-02. 문제풀이**\n",
        "- XY = pd.read_csv('https://raw.githubusercontent.com/Soyoung-Yoon/bigdata/main/carprice_train.csv')\n",
        "-X_submission = pd.read_csv('https://raw.githubusercontent.com/Soyoung-Yoon/bigdata/main/carprice_test.csv')"
      ],
      "metadata": {
        "id": "aNJfrHKGFT2R"
      }
    },
    {
      "cell_type": "code",
      "source": [],
      "metadata": {
        "id": "GNMvxXcfFR9I"
      },
      "execution_count": null,
      "outputs": []
    },
    {
      "cell_type": "markdown",
      "source": [
        "**[참조] get_dummies**\n",
        "\n",
        "train, test의 범주형 독립변수의 범주가 서로 다른 경우 처리방법\n",
        "- 1) train + test\n",
        "- 2) test.reindex()"
      ],
      "metadata": {
        "id": "8pz6N6j8By6_"
      }
    },
    {
      "cell_type": "code",
      "source": [
        "# 시험 : train - 학습/학습평가, test - 제출용\n",
        "# 실제 사용 : train - 과거~현재 데이터, test - 미래 데이터\n",
        "# train (전처리, 특성파악 기준), test (적용)\n",
        "# train - fit, transform,   test - transfrom"
      ],
      "metadata": {
        "id": "PPPQVwNTKzeM"
      },
      "execution_count": null,
      "outputs": []
    },
    {
      "cell_type": "code",
      "source": [
        "# [문제 상황]\n",
        "import pandas as pd\n",
        "\n",
        "X = pd.DataFrame({'A': ['a', 'b', 'c'], 'B': [1, 2, 3], 'ID':[1, 2, 3]})\n",
        "X_submission = pd.DataFrame({'A': ['a', 'b', 'd'], 'B': [1, 3, 4], 'ID':[4, 5, 6]})\n",
        "\n",
        "X = pd.get_dummies(X, columns=['A', 'B'])\n",
        "X_submission = pd.get_dummies(X_submission, columns=['A', 'B'])\n",
        "print(X)\n",
        "print(X_submission)"
      ],
      "metadata": {
        "id": "ufyFYo5nKSKo"
      },
      "execution_count": null,
      "outputs": []
    },
    {
      "cell_type": "code",
      "source": [
        "# [해결방법1]\n",
        "import pandas as pd\n",
        "\n",
        "X = pd.DataFrame({'A': ['a', 'b', 'c'], 'B': [1, 2, 3], 'ID':[1, 2, 3]})\n",
        "X_submission = pd.DataFrame({'A': ['a', 'b', 'd'], 'B': [1, 3, 4], 'ID':[4, 5, 6]})\n",
        "\n",
        "# 결합, 더미변수 생성, 분할\n",
        "\n",
        "print(X)\n",
        "print(X_submission)"
      ],
      "metadata": {
        "id": "5nUIIyxBBuIQ"
      },
      "execution_count": null,
      "outputs": []
    },
    {
      "cell_type": "code",
      "source": [
        "# [해결방법2]\n",
        "import pandas as pd\n",
        "\n",
        "X = pd.DataFrame({'A': ['a', 'b', 'c'], 'B': [1, 2, 3], 'ID':[1, 2, 3]})\n",
        "X_submission = pd.DataFrame({'A': ['a', 'b', 'd'], 'B': [1, 3, 4], 'ID':[4, 5, 6]})\n",
        "\n",
        "# X에서 더미변수 생성, X_submission에 동일 범주 적용\n",
        "\n",
        "print(X)\n",
        "print(X_submission)"
      ],
      "metadata": {
        "id": "r9zADKEPBYfn"
      },
      "execution_count": null,
      "outputs": []
    },
    {
      "cell_type": "code",
      "source": [
        "# [LabelEncoder - 문제상황]\n",
        "import pandas as pd\n",
        "from sklearn.preprocessing import LabelEncoder\n",
        "\n",
        "X = pd.DataFrame({'A': ['a', 'b', 'c'], 'B': [1, 2, 3], 'ID':[1, 2, 3]})\n",
        "X_submission = pd.DataFrame({'A': ['a', 'b', 'd'], 'B': [1, 3, 4], 'ID':[4, 5, 6]})\n",
        "\n",
        "# X.fit_transform, X_submission.transform\n",
        "encoderA = LabelEncoder()\n",
        "X['A'] = encoderA.fit_transform(X['A'])\n",
        "X_submission['A'] = encoderA.transform(X_submission['A'])  # unseen labels: 'd'\n",
        "print(X)\n",
        "print(X_submission)"
      ],
      "metadata": {
        "id": "_RTFQOmXQa2e"
      },
      "execution_count": null,
      "outputs": []
    },
    {
      "cell_type": "code",
      "source": [
        "# [LabelEncoder - 해결방법2]\n",
        "import pandas as pd\n",
        "import numpy as np\n",
        "from sklearn.preprocessing import LabelEncoder\n",
        "\n",
        "X = pd.DataFrame({'A': ['a', 'b', 'c'], 'B': [1, 2, 3], 'ID':[1, 2, 3]})\n",
        "X_submission = pd.DataFrame({'A': ['a', 'b', 'd'], 'B': [1, 3, 4], 'ID':[4, 5, 6]})\n",
        "\n",
        "# X.fit_transform, X_submission.transform\n",
        "\n",
        "\n",
        "\n",
        "print(X)\n",
        "print(X_submission)"
      ],
      "metadata": {
        "id": "tDUeaF2xSTeM"
      },
      "execution_count": null,
      "outputs": []
    },
    {
      "cell_type": "code",
      "source": [],
      "metadata": {
        "id": "JV7T9VJX7JHp"
      },
      "execution_count": null,
      "outputs": []
    },
    {
      "cell_type": "markdown",
      "source": [
        "## 6회 기출 복원"
      ],
      "metadata": {
        "id": "s8ogQL9C7aSs"
      }
    },
    {
      "cell_type": "markdown",
      "source": [
        "### 작업1유형"
      ],
      "metadata": {
        "id": "JlDr8iL2spFW"
      }
    },
    {
      "cell_type": "markdown",
      "source": [
        "**1-1. 소방서 데이터**\n",
        "\n",
        "소방서별 [출동시간 - 신고시간]의 평균을 구해, 가장 큰 값을 찾고 그 값을 반올림하여 분 단위로 도출하시오."
      ],
      "metadata": {
        "id": "Nry6XZuSNHma"
      }
    },
    {
      "cell_type": "code",
      "source": [
        "import pandas as pd\n",
        "df = pd.read_csv('https://raw.githubusercontent.com/Soyoung-Yoon/bigdata/main/big_6_1_1.csv')\n",
        "df.head()"
      ],
      "metadata": {
        "id": "iENdxTszYvgU",
        "colab": {
          "base_uri": "https://localhost:8080/",
          "height": 206
        },
        "outputId": "6082ef6f-3ae3-4c53-e712-dc77b417a24f"
      },
      "execution_count": null,
      "outputs": [
        {
          "output_type": "execute_result",
          "data": {
            "text/plain": [
              "  소방서명             신고시간             출동시간\n",
              "0   서부  2022-01-01 0:00  2022-01-01 0:01\n",
              "1   동부  2022-01-01 1:25  2022-01-01 1:27\n",
              "2   중부  2022-01-01 2:50  2022-01-01 2:51\n",
              "3   북부  2022-01-01 4:15  2022-01-01 4:16\n",
              "4   남부  2022-01-01 5:40  2022-01-01 5:43"
            ],
            "text/html": [
              "\n",
              "  <div id=\"df-2b92e6fe-fe9c-482f-8a02-10bbe10dab82\" class=\"colab-df-container\">\n",
              "    <div>\n",
              "<style scoped>\n",
              "    .dataframe tbody tr th:only-of-type {\n",
              "        vertical-align: middle;\n",
              "    }\n",
              "\n",
              "    .dataframe tbody tr th {\n",
              "        vertical-align: top;\n",
              "    }\n",
              "\n",
              "    .dataframe thead th {\n",
              "        text-align: right;\n",
              "    }\n",
              "</style>\n",
              "<table border=\"1\" class=\"dataframe\">\n",
              "  <thead>\n",
              "    <tr style=\"text-align: right;\">\n",
              "      <th></th>\n",
              "      <th>소방서명</th>\n",
              "      <th>신고시간</th>\n",
              "      <th>출동시간</th>\n",
              "    </tr>\n",
              "  </thead>\n",
              "  <tbody>\n",
              "    <tr>\n",
              "      <th>0</th>\n",
              "      <td>서부</td>\n",
              "      <td>2022-01-01 0:00</td>\n",
              "      <td>2022-01-01 0:01</td>\n",
              "    </tr>\n",
              "    <tr>\n",
              "      <th>1</th>\n",
              "      <td>동부</td>\n",
              "      <td>2022-01-01 1:25</td>\n",
              "      <td>2022-01-01 1:27</td>\n",
              "    </tr>\n",
              "    <tr>\n",
              "      <th>2</th>\n",
              "      <td>중부</td>\n",
              "      <td>2022-01-01 2:50</td>\n",
              "      <td>2022-01-01 2:51</td>\n",
              "    </tr>\n",
              "    <tr>\n",
              "      <th>3</th>\n",
              "      <td>북부</td>\n",
              "      <td>2022-01-01 4:15</td>\n",
              "      <td>2022-01-01 4:16</td>\n",
              "    </tr>\n",
              "    <tr>\n",
              "      <th>4</th>\n",
              "      <td>남부</td>\n",
              "      <td>2022-01-01 5:40</td>\n",
              "      <td>2022-01-01 5:43</td>\n",
              "    </tr>\n",
              "  </tbody>\n",
              "</table>\n",
              "</div>\n",
              "    <div class=\"colab-df-buttons\">\n",
              "\n",
              "  <div class=\"colab-df-container\">\n",
              "    <button class=\"colab-df-convert\" onclick=\"convertToInteractive('df-2b92e6fe-fe9c-482f-8a02-10bbe10dab82')\"\n",
              "            title=\"Convert this dataframe to an interactive table.\"\n",
              "            style=\"display:none;\">\n",
              "\n",
              "  <svg xmlns=\"http://www.w3.org/2000/svg\" height=\"24px\" viewBox=\"0 -960 960 960\">\n",
              "    <path d=\"M120-120v-720h720v720H120Zm60-500h600v-160H180v160Zm220 220h160v-160H400v160Zm0 220h160v-160H400v160ZM180-400h160v-160H180v160Zm440 0h160v-160H620v160ZM180-180h160v-160H180v160Zm440 0h160v-160H620v160Z\"/>\n",
              "  </svg>\n",
              "    </button>\n",
              "\n",
              "  <style>\n",
              "    .colab-df-container {\n",
              "      display:flex;\n",
              "      gap: 12px;\n",
              "    }\n",
              "\n",
              "    .colab-df-convert {\n",
              "      background-color: #E8F0FE;\n",
              "      border: none;\n",
              "      border-radius: 50%;\n",
              "      cursor: pointer;\n",
              "      display: none;\n",
              "      fill: #1967D2;\n",
              "      height: 32px;\n",
              "      padding: 0 0 0 0;\n",
              "      width: 32px;\n",
              "    }\n",
              "\n",
              "    .colab-df-convert:hover {\n",
              "      background-color: #E2EBFA;\n",
              "      box-shadow: 0px 1px 2px rgba(60, 64, 67, 0.3), 0px 1px 3px 1px rgba(60, 64, 67, 0.15);\n",
              "      fill: #174EA6;\n",
              "    }\n",
              "\n",
              "    .colab-df-buttons div {\n",
              "      margin-bottom: 4px;\n",
              "    }\n",
              "\n",
              "    [theme=dark] .colab-df-convert {\n",
              "      background-color: #3B4455;\n",
              "      fill: #D2E3FC;\n",
              "    }\n",
              "\n",
              "    [theme=dark] .colab-df-convert:hover {\n",
              "      background-color: #434B5C;\n",
              "      box-shadow: 0px 1px 3px 1px rgba(0, 0, 0, 0.15);\n",
              "      filter: drop-shadow(0px 1px 2px rgba(0, 0, 0, 0.3));\n",
              "      fill: #FFFFFF;\n",
              "    }\n",
              "  </style>\n",
              "\n",
              "    <script>\n",
              "      const buttonEl =\n",
              "        document.querySelector('#df-2b92e6fe-fe9c-482f-8a02-10bbe10dab82 button.colab-df-convert');\n",
              "      buttonEl.style.display =\n",
              "        google.colab.kernel.accessAllowed ? 'block' : 'none';\n",
              "\n",
              "      async function convertToInteractive(key) {\n",
              "        const element = document.querySelector('#df-2b92e6fe-fe9c-482f-8a02-10bbe10dab82');\n",
              "        const dataTable =\n",
              "          await google.colab.kernel.invokeFunction('convertToInteractive',\n",
              "                                                    [key], {});\n",
              "        if (!dataTable) return;\n",
              "\n",
              "        const docLinkHtml = 'Like what you see? Visit the ' +\n",
              "          '<a target=\"_blank\" href=https://colab.research.google.com/notebooks/data_table.ipynb>data table notebook</a>'\n",
              "          + ' to learn more about interactive tables.';\n",
              "        element.innerHTML = '';\n",
              "        dataTable['output_type'] = 'display_data';\n",
              "        await google.colab.output.renderOutput(dataTable, element);\n",
              "        const docLink = document.createElement('div');\n",
              "        docLink.innerHTML = docLinkHtml;\n",
              "        element.appendChild(docLink);\n",
              "      }\n",
              "    </script>\n",
              "  </div>\n",
              "\n",
              "\n",
              "<div id=\"df-605dfbc9-0d35-4a92-b796-b98b4fca5ff0\">\n",
              "  <button class=\"colab-df-quickchart\" onclick=\"quickchart('df-605dfbc9-0d35-4a92-b796-b98b4fca5ff0')\"\n",
              "            title=\"Suggest charts.\"\n",
              "            style=\"display:none;\">\n",
              "\n",
              "<svg xmlns=\"http://www.w3.org/2000/svg\" height=\"24px\"viewBox=\"0 0 24 24\"\n",
              "     width=\"24px\">\n",
              "    <g>\n",
              "        <path d=\"M19 3H5c-1.1 0-2 .9-2 2v14c0 1.1.9 2 2 2h14c1.1 0 2-.9 2-2V5c0-1.1-.9-2-2-2zM9 17H7v-7h2v7zm4 0h-2V7h2v10zm4 0h-2v-4h2v4z\"/>\n",
              "    </g>\n",
              "</svg>\n",
              "  </button>\n",
              "\n",
              "<style>\n",
              "  .colab-df-quickchart {\n",
              "      --bg-color: #E8F0FE;\n",
              "      --fill-color: #1967D2;\n",
              "      --hover-bg-color: #E2EBFA;\n",
              "      --hover-fill-color: #174EA6;\n",
              "      --disabled-fill-color: #AAA;\n",
              "      --disabled-bg-color: #DDD;\n",
              "  }\n",
              "\n",
              "  [theme=dark] .colab-df-quickchart {\n",
              "      --bg-color: #3B4455;\n",
              "      --fill-color: #D2E3FC;\n",
              "      --hover-bg-color: #434B5C;\n",
              "      --hover-fill-color: #FFFFFF;\n",
              "      --disabled-bg-color: #3B4455;\n",
              "      --disabled-fill-color: #666;\n",
              "  }\n",
              "\n",
              "  .colab-df-quickchart {\n",
              "    background-color: var(--bg-color);\n",
              "    border: none;\n",
              "    border-radius: 50%;\n",
              "    cursor: pointer;\n",
              "    display: none;\n",
              "    fill: var(--fill-color);\n",
              "    height: 32px;\n",
              "    padding: 0;\n",
              "    width: 32px;\n",
              "  }\n",
              "\n",
              "  .colab-df-quickchart:hover {\n",
              "    background-color: var(--hover-bg-color);\n",
              "    box-shadow: 0 1px 2px rgba(60, 64, 67, 0.3), 0 1px 3px 1px rgba(60, 64, 67, 0.15);\n",
              "    fill: var(--button-hover-fill-color);\n",
              "  }\n",
              "\n",
              "  .colab-df-quickchart-complete:disabled,\n",
              "  .colab-df-quickchart-complete:disabled:hover {\n",
              "    background-color: var(--disabled-bg-color);\n",
              "    fill: var(--disabled-fill-color);\n",
              "    box-shadow: none;\n",
              "  }\n",
              "\n",
              "  .colab-df-spinner {\n",
              "    border: 2px solid var(--fill-color);\n",
              "    border-color: transparent;\n",
              "    border-bottom-color: var(--fill-color);\n",
              "    animation:\n",
              "      spin 1s steps(1) infinite;\n",
              "  }\n",
              "\n",
              "  @keyframes spin {\n",
              "    0% {\n",
              "      border-color: transparent;\n",
              "      border-bottom-color: var(--fill-color);\n",
              "      border-left-color: var(--fill-color);\n",
              "    }\n",
              "    20% {\n",
              "      border-color: transparent;\n",
              "      border-left-color: var(--fill-color);\n",
              "      border-top-color: var(--fill-color);\n",
              "    }\n",
              "    30% {\n",
              "      border-color: transparent;\n",
              "      border-left-color: var(--fill-color);\n",
              "      border-top-color: var(--fill-color);\n",
              "      border-right-color: var(--fill-color);\n",
              "    }\n",
              "    40% {\n",
              "      border-color: transparent;\n",
              "      border-right-color: var(--fill-color);\n",
              "      border-top-color: var(--fill-color);\n",
              "    }\n",
              "    60% {\n",
              "      border-color: transparent;\n",
              "      border-right-color: var(--fill-color);\n",
              "    }\n",
              "    80% {\n",
              "      border-color: transparent;\n",
              "      border-right-color: var(--fill-color);\n",
              "      border-bottom-color: var(--fill-color);\n",
              "    }\n",
              "    90% {\n",
              "      border-color: transparent;\n",
              "      border-bottom-color: var(--fill-color);\n",
              "    }\n",
              "  }\n",
              "</style>\n",
              "\n",
              "  <script>\n",
              "    async function quickchart(key) {\n",
              "      const quickchartButtonEl =\n",
              "        document.querySelector('#' + key + ' button');\n",
              "      quickchartButtonEl.disabled = true;  // To prevent multiple clicks.\n",
              "      quickchartButtonEl.classList.add('colab-df-spinner');\n",
              "      try {\n",
              "        const charts = await google.colab.kernel.invokeFunction(\n",
              "            'suggestCharts', [key], {});\n",
              "      } catch (error) {\n",
              "        console.error('Error during call to suggestCharts:', error);\n",
              "      }\n",
              "      quickchartButtonEl.classList.remove('colab-df-spinner');\n",
              "      quickchartButtonEl.classList.add('colab-df-quickchart-complete');\n",
              "    }\n",
              "    (() => {\n",
              "      let quickchartButtonEl =\n",
              "        document.querySelector('#df-605dfbc9-0d35-4a92-b796-b98b4fca5ff0 button');\n",
              "      quickchartButtonEl.style.display =\n",
              "        google.colab.kernel.accessAllowed ? 'block' : 'none';\n",
              "    })();\n",
              "  </script>\n",
              "</div>\n",
              "    </div>\n",
              "  </div>\n"
            ]
          },
          "metadata": {},
          "execution_count": 2
        }
      ]
    },
    {
      "cell_type": "code",
      "source": [
        "# 6-1-1)\n"
      ],
      "metadata": {
        "id": "Nb3DUHUAuGyA"
      },
      "execution_count": null,
      "outputs": []
    },
    {
      "cell_type": "markdown",
      "source": [
        "**1-2. 초등학교 학생, 교사 수 데이터**\n",
        "\n",
        "초등학교의 학년별 학생 수와 교사수 정보를 사용하여,  교사 한명당 맡은 학생수가 가장 많은 학교를 찾고, 그 학교의 전체 교사 수를 구하시오."
      ],
      "metadata": {
        "id": "bHaNVlLzNQZ_"
      }
    },
    {
      "cell_type": "code",
      "source": [
        "import pandas as pd\n",
        "df = pd.read_csv('https://raw.githubusercontent.com/Soyoung-Yoon/bigdata/main/big_6_1_2.csv')\n",
        "df.head()"
      ],
      "metadata": {
        "colab": {
          "base_uri": "https://localhost:8080/",
          "height": 206
        },
        "id": "EF3eEToJgLkK",
        "outputId": "5ab817c2-a155-47d1-f3c2-c20765086cfa"
      },
      "execution_count": null,
      "outputs": [
        {
          "output_type": "execute_result",
          "data": {
            "text/plain": [
              "      학교명  학년  학생수  교사수\n",
              "0  가경초등학교   1   54    2\n",
              "1  가경초등학교   2   68    4\n",
              "2  가경초등학교   3   38    2\n",
              "3  가경초등학교   4   61    4\n",
              "4  가경초등학교   5   61    3"
            ],
            "text/html": [
              "\n",
              "  <div id=\"df-60b6dcf3-41d1-4359-9432-118f60980e1e\" class=\"colab-df-container\">\n",
              "    <div>\n",
              "<style scoped>\n",
              "    .dataframe tbody tr th:only-of-type {\n",
              "        vertical-align: middle;\n",
              "    }\n",
              "\n",
              "    .dataframe tbody tr th {\n",
              "        vertical-align: top;\n",
              "    }\n",
              "\n",
              "    .dataframe thead th {\n",
              "        text-align: right;\n",
              "    }\n",
              "</style>\n",
              "<table border=\"1\" class=\"dataframe\">\n",
              "  <thead>\n",
              "    <tr style=\"text-align: right;\">\n",
              "      <th></th>\n",
              "      <th>학교명</th>\n",
              "      <th>학년</th>\n",
              "      <th>학생수</th>\n",
              "      <th>교사수</th>\n",
              "    </tr>\n",
              "  </thead>\n",
              "  <tbody>\n",
              "    <tr>\n",
              "      <th>0</th>\n",
              "      <td>가경초등학교</td>\n",
              "      <td>1</td>\n",
              "      <td>54</td>\n",
              "      <td>2</td>\n",
              "    </tr>\n",
              "    <tr>\n",
              "      <th>1</th>\n",
              "      <td>가경초등학교</td>\n",
              "      <td>2</td>\n",
              "      <td>68</td>\n",
              "      <td>4</td>\n",
              "    </tr>\n",
              "    <tr>\n",
              "      <th>2</th>\n",
              "      <td>가경초등학교</td>\n",
              "      <td>3</td>\n",
              "      <td>38</td>\n",
              "      <td>2</td>\n",
              "    </tr>\n",
              "    <tr>\n",
              "      <th>3</th>\n",
              "      <td>가경초등학교</td>\n",
              "      <td>4</td>\n",
              "      <td>61</td>\n",
              "      <td>4</td>\n",
              "    </tr>\n",
              "    <tr>\n",
              "      <th>4</th>\n",
              "      <td>가경초등학교</td>\n",
              "      <td>5</td>\n",
              "      <td>61</td>\n",
              "      <td>3</td>\n",
              "    </tr>\n",
              "  </tbody>\n",
              "</table>\n",
              "</div>\n",
              "    <div class=\"colab-df-buttons\">\n",
              "\n",
              "  <div class=\"colab-df-container\">\n",
              "    <button class=\"colab-df-convert\" onclick=\"convertToInteractive('df-60b6dcf3-41d1-4359-9432-118f60980e1e')\"\n",
              "            title=\"Convert this dataframe to an interactive table.\"\n",
              "            style=\"display:none;\">\n",
              "\n",
              "  <svg xmlns=\"http://www.w3.org/2000/svg\" height=\"24px\" viewBox=\"0 -960 960 960\">\n",
              "    <path d=\"M120-120v-720h720v720H120Zm60-500h600v-160H180v160Zm220 220h160v-160H400v160Zm0 220h160v-160H400v160ZM180-400h160v-160H180v160Zm440 0h160v-160H620v160ZM180-180h160v-160H180v160Zm440 0h160v-160H620v160Z\"/>\n",
              "  </svg>\n",
              "    </button>\n",
              "\n",
              "  <style>\n",
              "    .colab-df-container {\n",
              "      display:flex;\n",
              "      gap: 12px;\n",
              "    }\n",
              "\n",
              "    .colab-df-convert {\n",
              "      background-color: #E8F0FE;\n",
              "      border: none;\n",
              "      border-radius: 50%;\n",
              "      cursor: pointer;\n",
              "      display: none;\n",
              "      fill: #1967D2;\n",
              "      height: 32px;\n",
              "      padding: 0 0 0 0;\n",
              "      width: 32px;\n",
              "    }\n",
              "\n",
              "    .colab-df-convert:hover {\n",
              "      background-color: #E2EBFA;\n",
              "      box-shadow: 0px 1px 2px rgba(60, 64, 67, 0.3), 0px 1px 3px 1px rgba(60, 64, 67, 0.15);\n",
              "      fill: #174EA6;\n",
              "    }\n",
              "\n",
              "    .colab-df-buttons div {\n",
              "      margin-bottom: 4px;\n",
              "    }\n",
              "\n",
              "    [theme=dark] .colab-df-convert {\n",
              "      background-color: #3B4455;\n",
              "      fill: #D2E3FC;\n",
              "    }\n",
              "\n",
              "    [theme=dark] .colab-df-convert:hover {\n",
              "      background-color: #434B5C;\n",
              "      box-shadow: 0px 1px 3px 1px rgba(0, 0, 0, 0.15);\n",
              "      filter: drop-shadow(0px 1px 2px rgba(0, 0, 0, 0.3));\n",
              "      fill: #FFFFFF;\n",
              "    }\n",
              "  </style>\n",
              "\n",
              "    <script>\n",
              "      const buttonEl =\n",
              "        document.querySelector('#df-60b6dcf3-41d1-4359-9432-118f60980e1e button.colab-df-convert');\n",
              "      buttonEl.style.display =\n",
              "        google.colab.kernel.accessAllowed ? 'block' : 'none';\n",
              "\n",
              "      async function convertToInteractive(key) {\n",
              "        const element = document.querySelector('#df-60b6dcf3-41d1-4359-9432-118f60980e1e');\n",
              "        const dataTable =\n",
              "          await google.colab.kernel.invokeFunction('convertToInteractive',\n",
              "                                                    [key], {});\n",
              "        if (!dataTable) return;\n",
              "\n",
              "        const docLinkHtml = 'Like what you see? Visit the ' +\n",
              "          '<a target=\"_blank\" href=https://colab.research.google.com/notebooks/data_table.ipynb>data table notebook</a>'\n",
              "          + ' to learn more about interactive tables.';\n",
              "        element.innerHTML = '';\n",
              "        dataTable['output_type'] = 'display_data';\n",
              "        await google.colab.output.renderOutput(dataTable, element);\n",
              "        const docLink = document.createElement('div');\n",
              "        docLink.innerHTML = docLinkHtml;\n",
              "        element.appendChild(docLink);\n",
              "      }\n",
              "    </script>\n",
              "  </div>\n",
              "\n",
              "\n",
              "<div id=\"df-30e0db48-05cf-4615-a978-7ac7715dfc4f\">\n",
              "  <button class=\"colab-df-quickchart\" onclick=\"quickchart('df-30e0db48-05cf-4615-a978-7ac7715dfc4f')\"\n",
              "            title=\"Suggest charts.\"\n",
              "            style=\"display:none;\">\n",
              "\n",
              "<svg xmlns=\"http://www.w3.org/2000/svg\" height=\"24px\"viewBox=\"0 0 24 24\"\n",
              "     width=\"24px\">\n",
              "    <g>\n",
              "        <path d=\"M19 3H5c-1.1 0-2 .9-2 2v14c0 1.1.9 2 2 2h14c1.1 0 2-.9 2-2V5c0-1.1-.9-2-2-2zM9 17H7v-7h2v7zm4 0h-2V7h2v10zm4 0h-2v-4h2v4z\"/>\n",
              "    </g>\n",
              "</svg>\n",
              "  </button>\n",
              "\n",
              "<style>\n",
              "  .colab-df-quickchart {\n",
              "      --bg-color: #E8F0FE;\n",
              "      --fill-color: #1967D2;\n",
              "      --hover-bg-color: #E2EBFA;\n",
              "      --hover-fill-color: #174EA6;\n",
              "      --disabled-fill-color: #AAA;\n",
              "      --disabled-bg-color: #DDD;\n",
              "  }\n",
              "\n",
              "  [theme=dark] .colab-df-quickchart {\n",
              "      --bg-color: #3B4455;\n",
              "      --fill-color: #D2E3FC;\n",
              "      --hover-bg-color: #434B5C;\n",
              "      --hover-fill-color: #FFFFFF;\n",
              "      --disabled-bg-color: #3B4455;\n",
              "      --disabled-fill-color: #666;\n",
              "  }\n",
              "\n",
              "  .colab-df-quickchart {\n",
              "    background-color: var(--bg-color);\n",
              "    border: none;\n",
              "    border-radius: 50%;\n",
              "    cursor: pointer;\n",
              "    display: none;\n",
              "    fill: var(--fill-color);\n",
              "    height: 32px;\n",
              "    padding: 0;\n",
              "    width: 32px;\n",
              "  }\n",
              "\n",
              "  .colab-df-quickchart:hover {\n",
              "    background-color: var(--hover-bg-color);\n",
              "    box-shadow: 0 1px 2px rgba(60, 64, 67, 0.3), 0 1px 3px 1px rgba(60, 64, 67, 0.15);\n",
              "    fill: var(--button-hover-fill-color);\n",
              "  }\n",
              "\n",
              "  .colab-df-quickchart-complete:disabled,\n",
              "  .colab-df-quickchart-complete:disabled:hover {\n",
              "    background-color: var(--disabled-bg-color);\n",
              "    fill: var(--disabled-fill-color);\n",
              "    box-shadow: none;\n",
              "  }\n",
              "\n",
              "  .colab-df-spinner {\n",
              "    border: 2px solid var(--fill-color);\n",
              "    border-color: transparent;\n",
              "    border-bottom-color: var(--fill-color);\n",
              "    animation:\n",
              "      spin 1s steps(1) infinite;\n",
              "  }\n",
              "\n",
              "  @keyframes spin {\n",
              "    0% {\n",
              "      border-color: transparent;\n",
              "      border-bottom-color: var(--fill-color);\n",
              "      border-left-color: var(--fill-color);\n",
              "    }\n",
              "    20% {\n",
              "      border-color: transparent;\n",
              "      border-left-color: var(--fill-color);\n",
              "      border-top-color: var(--fill-color);\n",
              "    }\n",
              "    30% {\n",
              "      border-color: transparent;\n",
              "      border-left-color: var(--fill-color);\n",
              "      border-top-color: var(--fill-color);\n",
              "      border-right-color: var(--fill-color);\n",
              "    }\n",
              "    40% {\n",
              "      border-color: transparent;\n",
              "      border-right-color: var(--fill-color);\n",
              "      border-top-color: var(--fill-color);\n",
              "    }\n",
              "    60% {\n",
              "      border-color: transparent;\n",
              "      border-right-color: var(--fill-color);\n",
              "    }\n",
              "    80% {\n",
              "      border-color: transparent;\n",
              "      border-right-color: var(--fill-color);\n",
              "      border-bottom-color: var(--fill-color);\n",
              "    }\n",
              "    90% {\n",
              "      border-color: transparent;\n",
              "      border-bottom-color: var(--fill-color);\n",
              "    }\n",
              "  }\n",
              "</style>\n",
              "\n",
              "  <script>\n",
              "    async function quickchart(key) {\n",
              "      const quickchartButtonEl =\n",
              "        document.querySelector('#' + key + ' button');\n",
              "      quickchartButtonEl.disabled = true;  // To prevent multiple clicks.\n",
              "      quickchartButtonEl.classList.add('colab-df-spinner');\n",
              "      try {\n",
              "        const charts = await google.colab.kernel.invokeFunction(\n",
              "            'suggestCharts', [key], {});\n",
              "      } catch (error) {\n",
              "        console.error('Error during call to suggestCharts:', error);\n",
              "      }\n",
              "      quickchartButtonEl.classList.remove('colab-df-spinner');\n",
              "      quickchartButtonEl.classList.add('colab-df-quickchart-complete');\n",
              "    }\n",
              "    (() => {\n",
              "      let quickchartButtonEl =\n",
              "        document.querySelector('#df-30e0db48-05cf-4615-a978-7ac7715dfc4f button');\n",
              "      quickchartButtonEl.style.display =\n",
              "        google.colab.kernel.accessAllowed ? 'block' : 'none';\n",
              "    })();\n",
              "  </script>\n",
              "</div>\n",
              "    </div>\n",
              "  </div>\n"
            ]
          },
          "metadata": {},
          "execution_count": 3
        }
      ]
    },
    {
      "cell_type": "code",
      "source": [
        "# 6-1-2)\n"
      ],
      "metadata": {
        "id": "iiGXi1DsuLHC"
      },
      "execution_count": null,
      "outputs": []
    },
    {
      "cell_type": "markdown",
      "source": [
        "**1-3. 범죄 발생 수 데이터**\n",
        "\n",
        "연도별로 총 범죄 건수(범죄유형별 발생 건수의 합)의 월평균 값을 구한 후, 그 값이 가장 큰 연도를 찾아, 해당 연도의 총 범죄 건수의 월평균 값을 반올림하여 정수로 출력하세요!"
      ],
      "metadata": {
        "id": "xCQLlchIO4XQ"
      }
    },
    {
      "cell_type": "code",
      "source": [
        "import pandas as pd\n",
        "df = pd.read_csv('https://raw.githubusercontent.com/Soyoung-Yoon/bigdata/main/big_6_1_3.csv')\n",
        "df.head()"
      ],
      "metadata": {
        "colab": {
          "base_uri": "https://localhost:8080/",
          "height": 206
        },
        "id": "Lae7zMAg3oNc",
        "outputId": "66a6dde7-5a94-4b43-f7b5-5b12c555aefd"
      },
      "execution_count": null,
      "outputs": [
        {
          "output_type": "execute_result",
          "data": {
            "text/plain": [
              "        월별  강력범죄  교통범죄  사이버범죄  지능범죄  마약범죄   경범죄\n",
              "0  2003-01  1098   248   1109   918   728   860\n",
              "1  2003-02   973   157    142   762   521  1215\n",
              "2  2003-03  1291   370    927   481   920   265\n",
              "3  2003-04   681   411    575   593  1252  1014\n",
              "4  2003-05   766  1123    154  1044   332   842"
            ],
            "text/html": [
              "\n",
              "  <div id=\"df-f9d3aaf6-bc68-463c-8c47-15c798a98169\" class=\"colab-df-container\">\n",
              "    <div>\n",
              "<style scoped>\n",
              "    .dataframe tbody tr th:only-of-type {\n",
              "        vertical-align: middle;\n",
              "    }\n",
              "\n",
              "    .dataframe tbody tr th {\n",
              "        vertical-align: top;\n",
              "    }\n",
              "\n",
              "    .dataframe thead th {\n",
              "        text-align: right;\n",
              "    }\n",
              "</style>\n",
              "<table border=\"1\" class=\"dataframe\">\n",
              "  <thead>\n",
              "    <tr style=\"text-align: right;\">\n",
              "      <th></th>\n",
              "      <th>월별</th>\n",
              "      <th>강력범죄</th>\n",
              "      <th>교통범죄</th>\n",
              "      <th>사이버범죄</th>\n",
              "      <th>지능범죄</th>\n",
              "      <th>마약범죄</th>\n",
              "      <th>경범죄</th>\n",
              "    </tr>\n",
              "  </thead>\n",
              "  <tbody>\n",
              "    <tr>\n",
              "      <th>0</th>\n",
              "      <td>2003-01</td>\n",
              "      <td>1098</td>\n",
              "      <td>248</td>\n",
              "      <td>1109</td>\n",
              "      <td>918</td>\n",
              "      <td>728</td>\n",
              "      <td>860</td>\n",
              "    </tr>\n",
              "    <tr>\n",
              "      <th>1</th>\n",
              "      <td>2003-02</td>\n",
              "      <td>973</td>\n",
              "      <td>157</td>\n",
              "      <td>142</td>\n",
              "      <td>762</td>\n",
              "      <td>521</td>\n",
              "      <td>1215</td>\n",
              "    </tr>\n",
              "    <tr>\n",
              "      <th>2</th>\n",
              "      <td>2003-03</td>\n",
              "      <td>1291</td>\n",
              "      <td>370</td>\n",
              "      <td>927</td>\n",
              "      <td>481</td>\n",
              "      <td>920</td>\n",
              "      <td>265</td>\n",
              "    </tr>\n",
              "    <tr>\n",
              "      <th>3</th>\n",
              "      <td>2003-04</td>\n",
              "      <td>681</td>\n",
              "      <td>411</td>\n",
              "      <td>575</td>\n",
              "      <td>593</td>\n",
              "      <td>1252</td>\n",
              "      <td>1014</td>\n",
              "    </tr>\n",
              "    <tr>\n",
              "      <th>4</th>\n",
              "      <td>2003-05</td>\n",
              "      <td>766</td>\n",
              "      <td>1123</td>\n",
              "      <td>154</td>\n",
              "      <td>1044</td>\n",
              "      <td>332</td>\n",
              "      <td>842</td>\n",
              "    </tr>\n",
              "  </tbody>\n",
              "</table>\n",
              "</div>\n",
              "    <div class=\"colab-df-buttons\">\n",
              "\n",
              "  <div class=\"colab-df-container\">\n",
              "    <button class=\"colab-df-convert\" onclick=\"convertToInteractive('df-f9d3aaf6-bc68-463c-8c47-15c798a98169')\"\n",
              "            title=\"Convert this dataframe to an interactive table.\"\n",
              "            style=\"display:none;\">\n",
              "\n",
              "  <svg xmlns=\"http://www.w3.org/2000/svg\" height=\"24px\" viewBox=\"0 -960 960 960\">\n",
              "    <path d=\"M120-120v-720h720v720H120Zm60-500h600v-160H180v160Zm220 220h160v-160H400v160Zm0 220h160v-160H400v160ZM180-400h160v-160H180v160Zm440 0h160v-160H620v160ZM180-180h160v-160H180v160Zm440 0h160v-160H620v160Z\"/>\n",
              "  </svg>\n",
              "    </button>\n",
              "\n",
              "  <style>\n",
              "    .colab-df-container {\n",
              "      display:flex;\n",
              "      gap: 12px;\n",
              "    }\n",
              "\n",
              "    .colab-df-convert {\n",
              "      background-color: #E8F0FE;\n",
              "      border: none;\n",
              "      border-radius: 50%;\n",
              "      cursor: pointer;\n",
              "      display: none;\n",
              "      fill: #1967D2;\n",
              "      height: 32px;\n",
              "      padding: 0 0 0 0;\n",
              "      width: 32px;\n",
              "    }\n",
              "\n",
              "    .colab-df-convert:hover {\n",
              "      background-color: #E2EBFA;\n",
              "      box-shadow: 0px 1px 2px rgba(60, 64, 67, 0.3), 0px 1px 3px 1px rgba(60, 64, 67, 0.15);\n",
              "      fill: #174EA6;\n",
              "    }\n",
              "\n",
              "    .colab-df-buttons div {\n",
              "      margin-bottom: 4px;\n",
              "    }\n",
              "\n",
              "    [theme=dark] .colab-df-convert {\n",
              "      background-color: #3B4455;\n",
              "      fill: #D2E3FC;\n",
              "    }\n",
              "\n",
              "    [theme=dark] .colab-df-convert:hover {\n",
              "      background-color: #434B5C;\n",
              "      box-shadow: 0px 1px 3px 1px rgba(0, 0, 0, 0.15);\n",
              "      filter: drop-shadow(0px 1px 2px rgba(0, 0, 0, 0.3));\n",
              "      fill: #FFFFFF;\n",
              "    }\n",
              "  </style>\n",
              "\n",
              "    <script>\n",
              "      const buttonEl =\n",
              "        document.querySelector('#df-f9d3aaf6-bc68-463c-8c47-15c798a98169 button.colab-df-convert');\n",
              "      buttonEl.style.display =\n",
              "        google.colab.kernel.accessAllowed ? 'block' : 'none';\n",
              "\n",
              "      async function convertToInteractive(key) {\n",
              "        const element = document.querySelector('#df-f9d3aaf6-bc68-463c-8c47-15c798a98169');\n",
              "        const dataTable =\n",
              "          await google.colab.kernel.invokeFunction('convertToInteractive',\n",
              "                                                    [key], {});\n",
              "        if (!dataTable) return;\n",
              "\n",
              "        const docLinkHtml = 'Like what you see? Visit the ' +\n",
              "          '<a target=\"_blank\" href=https://colab.research.google.com/notebooks/data_table.ipynb>data table notebook</a>'\n",
              "          + ' to learn more about interactive tables.';\n",
              "        element.innerHTML = '';\n",
              "        dataTable['output_type'] = 'display_data';\n",
              "        await google.colab.output.renderOutput(dataTable, element);\n",
              "        const docLink = document.createElement('div');\n",
              "        docLink.innerHTML = docLinkHtml;\n",
              "        element.appendChild(docLink);\n",
              "      }\n",
              "    </script>\n",
              "  </div>\n",
              "\n",
              "\n",
              "<div id=\"df-da8efed2-968a-4cd2-864b-86a342cb1bf9\">\n",
              "  <button class=\"colab-df-quickchart\" onclick=\"quickchart('df-da8efed2-968a-4cd2-864b-86a342cb1bf9')\"\n",
              "            title=\"Suggest charts.\"\n",
              "            style=\"display:none;\">\n",
              "\n",
              "<svg xmlns=\"http://www.w3.org/2000/svg\" height=\"24px\"viewBox=\"0 0 24 24\"\n",
              "     width=\"24px\">\n",
              "    <g>\n",
              "        <path d=\"M19 3H5c-1.1 0-2 .9-2 2v14c0 1.1.9 2 2 2h14c1.1 0 2-.9 2-2V5c0-1.1-.9-2-2-2zM9 17H7v-7h2v7zm4 0h-2V7h2v10zm4 0h-2v-4h2v4z\"/>\n",
              "    </g>\n",
              "</svg>\n",
              "  </button>\n",
              "\n",
              "<style>\n",
              "  .colab-df-quickchart {\n",
              "      --bg-color: #E8F0FE;\n",
              "      --fill-color: #1967D2;\n",
              "      --hover-bg-color: #E2EBFA;\n",
              "      --hover-fill-color: #174EA6;\n",
              "      --disabled-fill-color: #AAA;\n",
              "      --disabled-bg-color: #DDD;\n",
              "  }\n",
              "\n",
              "  [theme=dark] .colab-df-quickchart {\n",
              "      --bg-color: #3B4455;\n",
              "      --fill-color: #D2E3FC;\n",
              "      --hover-bg-color: #434B5C;\n",
              "      --hover-fill-color: #FFFFFF;\n",
              "      --disabled-bg-color: #3B4455;\n",
              "      --disabled-fill-color: #666;\n",
              "  }\n",
              "\n",
              "  .colab-df-quickchart {\n",
              "    background-color: var(--bg-color);\n",
              "    border: none;\n",
              "    border-radius: 50%;\n",
              "    cursor: pointer;\n",
              "    display: none;\n",
              "    fill: var(--fill-color);\n",
              "    height: 32px;\n",
              "    padding: 0;\n",
              "    width: 32px;\n",
              "  }\n",
              "\n",
              "  .colab-df-quickchart:hover {\n",
              "    background-color: var(--hover-bg-color);\n",
              "    box-shadow: 0 1px 2px rgba(60, 64, 67, 0.3), 0 1px 3px 1px rgba(60, 64, 67, 0.15);\n",
              "    fill: var(--button-hover-fill-color);\n",
              "  }\n",
              "\n",
              "  .colab-df-quickchart-complete:disabled,\n",
              "  .colab-df-quickchart-complete:disabled:hover {\n",
              "    background-color: var(--disabled-bg-color);\n",
              "    fill: var(--disabled-fill-color);\n",
              "    box-shadow: none;\n",
              "  }\n",
              "\n",
              "  .colab-df-spinner {\n",
              "    border: 2px solid var(--fill-color);\n",
              "    border-color: transparent;\n",
              "    border-bottom-color: var(--fill-color);\n",
              "    animation:\n",
              "      spin 1s steps(1) infinite;\n",
              "  }\n",
              "\n",
              "  @keyframes spin {\n",
              "    0% {\n",
              "      border-color: transparent;\n",
              "      border-bottom-color: var(--fill-color);\n",
              "      border-left-color: var(--fill-color);\n",
              "    }\n",
              "    20% {\n",
              "      border-color: transparent;\n",
              "      border-left-color: var(--fill-color);\n",
              "      border-top-color: var(--fill-color);\n",
              "    }\n",
              "    30% {\n",
              "      border-color: transparent;\n",
              "      border-left-color: var(--fill-color);\n",
              "      border-top-color: var(--fill-color);\n",
              "      border-right-color: var(--fill-color);\n",
              "    }\n",
              "    40% {\n",
              "      border-color: transparent;\n",
              "      border-right-color: var(--fill-color);\n",
              "      border-top-color: var(--fill-color);\n",
              "    }\n",
              "    60% {\n",
              "      border-color: transparent;\n",
              "      border-right-color: var(--fill-color);\n",
              "    }\n",
              "    80% {\n",
              "      border-color: transparent;\n",
              "      border-right-color: var(--fill-color);\n",
              "      border-bottom-color: var(--fill-color);\n",
              "    }\n",
              "    90% {\n",
              "      border-color: transparent;\n",
              "      border-bottom-color: var(--fill-color);\n",
              "    }\n",
              "  }\n",
              "</style>\n",
              "\n",
              "  <script>\n",
              "    async function quickchart(key) {\n",
              "      const quickchartButtonEl =\n",
              "        document.querySelector('#' + key + ' button');\n",
              "      quickchartButtonEl.disabled = true;  // To prevent multiple clicks.\n",
              "      quickchartButtonEl.classList.add('colab-df-spinner');\n",
              "      try {\n",
              "        const charts = await google.colab.kernel.invokeFunction(\n",
              "            'suggestCharts', [key], {});\n",
              "      } catch (error) {\n",
              "        console.error('Error during call to suggestCharts:', error);\n",
              "      }\n",
              "      quickchartButtonEl.classList.remove('colab-df-spinner');\n",
              "      quickchartButtonEl.classList.add('colab-df-quickchart-complete');\n",
              "    }\n",
              "    (() => {\n",
              "      let quickchartButtonEl =\n",
              "        document.querySelector('#df-da8efed2-968a-4cd2-864b-86a342cb1bf9 button');\n",
              "      quickchartButtonEl.style.display =\n",
              "        google.colab.kernel.accessAllowed ? 'block' : 'none';\n",
              "    })();\n",
              "  </script>\n",
              "</div>\n",
              "    </div>\n",
              "  </div>\n"
            ]
          },
          "metadata": {},
          "execution_count": 4
        }
      ]
    },
    {
      "cell_type": "code",
      "source": [
        "# 6-1-3)\n"
      ],
      "metadata": {
        "id": "FUcgJK_juOv6"
      },
      "execution_count": null,
      "outputs": []
    },
    {
      "cell_type": "code",
      "source": [],
      "metadata": {
        "id": "-sF9HuMh7hyX"
      },
      "execution_count": null,
      "outputs": []
    },
    {
      "cell_type": "markdown",
      "source": [
        "### 작업2유형 - 다항분류, macro f1-score"
      ],
      "metadata": {
        "id": "CyldQZh3-Ofw"
      }
    },
    {
      "cell_type": "markdown",
      "source": [
        "**2-01.문제이해**\n",
        "- 건강 상태 분류문제 : https://www.kaggle.com/datasets/alphiree/cardiovascular-diseases-risk-prediction-dataset\n",
        "- health_train.csv : 학습 및 학습평가에 사용하는 파일\n",
        "- health_test.csv : 제출용 데이터 생성에 사용하는 파일\n",
        "- 예측할 값(y): General_Health\n",
        "- 주의사항 : 예측값이 0, 1, 2 아님 ('Excellent', 'Good', 'Fair')\n",
        "- 평가: f1_score (macro)\n",
        "- 아래의 형식으로 result.csv 로 저장\n",
        "- 제출형식\n",
        "        pred\n",
        "        Good\n",
        "        Fair\n",
        "        Good\n",
        "        Excellent"
      ],
      "metadata": {
        "id": "1ycIsz8I-S0w"
      }
    },
    {
      "cell_type": "markdown",
      "source": [
        "**2-02.문제풀이**\n",
        "- XY = pd.read_csv('https://raw.githubusercontent.com/Soyoung-Yoon/bigdata/main/health_train.csv')\n",
        "- X_submission = pd.read_csv('https://raw.githubusercontent.com/Soyoung-Yoon/bigdata/main/health_test.csv')"
      ],
      "metadata": {
        "id": "AX1Sz50Q-VtA"
      }
    },
    {
      "cell_type": "code",
      "source": [],
      "metadata": {
        "id": "S_KIunOo5OEO"
      },
      "execution_count": null,
      "outputs": []
    },
    {
      "cell_type": "markdown",
      "source": [
        "**2-03.문제풀이(XGBClassifier)**"
      ],
      "metadata": {
        "id": "vy9Fsx-RHrhb"
      }
    },
    {
      "cell_type": "code",
      "source": [
        "# [0] import\n",
        "import pandas as pd\n",
        "import numpy as np\n",
        "from sklearn.preprocessing import LabelEncoder\n",
        "from sklearn.preprocessing import MinMaxScaler, StandardScaler\n",
        "from sklearn.model_selection import train_test_split\n",
        "from xgboost import XGBClassifier\n",
        "from sklearn.metrics import f1_score, roc_auc_score, accuracy_score\n",
        "\n",
        "#pd.set_option('display.max_rows', 100)\n",
        "pd.set_option('display.max_columns', 30)\n",
        "pd.set_option('display.float_format', '{:.4f}'.format)\n",
        "\n",
        "def get_scores(model, x_train, x_test, y_train, y_test):\n",
        "    y_pred1 = model.predict(x_train)\n",
        "    y_pred2 = model.predict(x_test)\n",
        "    A = accuracy_score(y_train, y_pred1)\n",
        "    B = accuracy_score(y_test, y_pred2)\n",
        "    # [None, 'micro', 'macro', 'weighted']\n",
        "    C = f1_score(y_train, y_pred1, average='macro')\n",
        "    D = f1_score(y_test, y_pred2, average='macro')\n",
        "    return f'acc: {A:.4f} {B:.4f}, f1: {C:.4f} {D:.4f}'\n",
        "\n",
        "\n",
        "# [1] 파일 가져오기 (2개, XX_train.csv, XX_test.csv)\n",
        "XY = pd.read_csv('https://raw.githubusercontent.com/Soyoung-Yoon/bigdata/main/health_train.csv')\n",
        "X_submission = pd.read_csv('https://raw.githubusercontent.com/Soyoung-Yoon/bigdata/main/health_test.csv')\n",
        "#print(XY.head(2))\n",
        "#print(X_submission.head(2))\n",
        "\n",
        "X = XY.drop(columns=['General_Health'])\n",
        "Y = XY['General_Health']\n",
        "\n",
        "#print(Y.value_counts(normalize=True))  # ['Good', 'Excellent', 'Fair], 비슷한 분포\n",
        "#print(X.shape, Y.shape, X_submission.shape)  # (8977, 19) (8977,) (3848, 19)\n",
        "\n",
        "# [2] 데이터 탐색 (XY.info(), X_submission.info()) 결측치, 컬럼 dtype\n",
        "label_cat = ['Exercise', 'Heart_Disease', 'Skin_Cancer', 'Other_Cancer',\n",
        "           'Depression', 'Arthritis', 'Sex', 'Smoking_History', 'Age_Category']\n",
        "\n",
        "# [3] 데이터 전처리\n",
        "# [3-1] X, X_submission -> X_all\n",
        "# [3-2] X_all : 컬럼제거, 컬럼 dtype 변경(컬럼의 값을 대체), Encoding(범주형->수치형)\n",
        "# [3-3] X_all : Scaling (안함, MinMaxScaler, StandardScaler, ...)\n",
        "# [3-4] X_all -> X, X_submission 분리\n",
        "\n",
        "# 칼럼 제거 : 'ID'\n",
        "# Label Encoding : label_cat\n",
        "# OneHot Encoding : 'Checkup', 'Diabetes', 'Age_Category'\n",
        "\n",
        "X_all = pd.concat([X, X_submission], axis=0)\n",
        "X_all = X_all.drop(columns=['ID'])\n",
        "for colname in label_cat:\n",
        "    X_all[colname] = LabelEncoder().fit_transform(X_all[colname])\n",
        "\n",
        "X_all = pd.get_dummies(X_all)\n",
        "\n",
        "#X_all.info()\n",
        "if False:\n",
        "    temp = StandardScaler().fit_transform(X_all)\n",
        "    X_all = pd.DataFrame(temp, columns=X_all.columns)\n",
        "\n",
        "X = X_all.iloc[:len(X), :]\n",
        "X_submission = X_all.iloc[len(X):, :]\n",
        "#print(X.shape, X_submission.shape)  # (8977, 25) (3848, 25)\n",
        "\n",
        "# [4] 모델링\n",
        "# [4-1] train_test_split : (X, Y) -> (x_train, x_test, y_train, y_test)\n",
        "# [4-2] 모델객체 생성, 학습 (x_train, y_train)\n",
        "# [4-3] 평가 (x_train, y_train), (x_test, y_test)\n",
        "\n",
        "temp = train_test_split(X, Y, test_size=0.2, stratify=Y, random_state=1234)\n",
        "x_train, x_test, y_train, y_test = temp\n",
        "\n",
        "#Expected: [0 1 2], got ['Excellent' 'Fair' 'Good']\n",
        "model5 = XGBClassifier(random_state=0).fit(x_train, y_train)\n",
        "print(get_scores(model5, x_train, x_test, y_train, y_test))\n",
        "\n",
        "# [5] 최종모델 선택, 예측값(X_submission), 제출파일생성\n",
        "fmodel = model5\n",
        "y_pred = fmodel.predict(X_submission)\n",
        "pd.DataFrame({'pred': y_pred}).to_csv('result.csv', index=False)\n",
        "\n",
        "# [6] 제출한 파일 확인\n",
        "temp = pd.read_csv('result.csv')\n",
        "print(temp.shape)  # (3848, 1)\n",
        "#print(temp.head(10))\n",
        "#print(Y.value_counts(normalize=True))\n",
        "#print(temp['pred'].value_counts(normalize=True))"
      ],
      "metadata": {
        "id": "hZZvQVZjK6p6"
      },
      "execution_count": null,
      "outputs": []
    },
    {
      "cell_type": "markdown",
      "source": [
        "### 작업3유형 - 카이제곱검정, 다중선형회귀"
      ],
      "metadata": {
        "id": "cGqXaKXoF3lT"
      }
    },
    {
      "cell_type": "markdown",
      "source": [
        "**3-1.흡연**\n",
        "- A 도시의 남성 600명과 여성 550명이 있다. 남성들 중 흡연자 비율은 0.2이며 여성들 중 흡연자 비율은 0.26이다.\n",
        "- 남성과 여성 간에 흡연 여부에 따른 비율이 다른지 확인하고 싶다.\n",
        "- 유의 수준 0.05에서 귀무가설에 대해 기각 / 채택 여부와 p-value값을 각각 출력하라 (반올림하여 소숫점아래 3자리까지 출력)\n"
      ],
      "metadata": {
        "id": "cuMcUiS8Z77f"
      }
    },
    {
      "cell_type": "code",
      "source": [
        "from scipy.stats import chisquare  # 적합도 (범주형변수1개)\n",
        "from scipy.stats import chi2_contingency # 동질성, 독립성 (범주형변수2개)"
      ],
      "metadata": {
        "id": "WaZ94a4yrQfY"
      },
      "execution_count": null,
      "outputs": []
    },
    {
      "cell_type": "code",
      "source": [
        "# 6-3-1 (1)\n"
      ],
      "metadata": {
        "id": "7rzU8Dr9xFGE"
      },
      "execution_count": null,
      "outputs": []
    },
    {
      "cell_type": "markdown",
      "source": [
        "- 데이터가 파일로 주어진다면 직접 교차표를 만들어 사용하도록 한다.\n",
        "- https://raw.githubusercontent.com/Soyoung-Yoon/bigdata/main/gender_smoke_data.csv"
      ],
      "metadata": {
        "id": "_mJUV2YRueIP"
      }
    },
    {
      "cell_type": "code",
      "source": [
        "# 6-3-1 (2)\n",
        "import pandas as pd\n",
        "df = pd.read_csv('https://raw.githubusercontent.com/Soyoung-Yoon/bigdata/main/gender_smoke_data.csv')\n",
        "print(df.head())\n"
      ],
      "metadata": {
        "colab": {
          "base_uri": "https://localhost:8080/"
        },
        "id": "FCiVXeIwuuvM",
        "outputId": "3f3db7af-0ec2-4def-e663-3d3a915f8e93"
      },
      "execution_count": null,
      "outputs": [
        {
          "output_type": "stream",
          "name": "stdout",
          "text": [
            "  Gender Smoke\n",
            "0   Male    No\n",
            "1   Male   Yes\n",
            "2   Male    No\n",
            "3   Male   Yes\n",
            "4   Male    No\n"
          ]
        }
      ]
    },
    {
      "cell_type": "markdown",
      "source": [
        "**3-2.콜레스테롤**\n",
        "- 연령과 몸무게, 콜레스테롤 수치 데이터를 사용해 다음을 답하여라.\n",
        "- 연령 몸무게 콜레스테롤 수치 데이터 데이터 출처 : https://www.kaggle.com/datasets/hangawqadir/erbil-heart-disease-dataset\n",
        "- 1) age와 cholesterol을 가지고 weight를 예측하는 선형 회귀 모델을 만들려고한다. age의 회귀 계수를 구하여라\n",
        "- 2) age가 고정일 때 cholesterol와 weight가 선형관계에 있다는 가설을 유의수준 0.05하에 검정하라\n",
        "- 3) age가 55, cholesterol가 72.6일때 위 모델을 기반으로 weight값을 예측하라."
      ],
      "metadata": {
        "id": "PXYwnyKI1Vnw"
      }
    },
    {
      "cell_type": "markdown",
      "source": [
        "- 선형회귀의 귀무가설 : 회귀 모델의 기울기가 0이다\n",
        "즉, 독립 변수와 종속 변수는 선형관계가 아니다.\n",
        "- 선형회귀의 대립가설 : 회귀 모델의 기울기가 0이 아니다.\n",
        "즉, 독립 변수와 종속 변수는 선형관계에 있다."
      ],
      "metadata": {
        "id": "gomzmjX__Tw-"
      }
    },
    {
      "cell_type": "code",
      "source": [
        "# 6-3-2\n",
        "import pandas as pd\n",
        "df= pd.read_csv('https://raw.githubusercontent.com/Soyoung-Yoon/bigdata/main/cholesterol.csv')\n",
        "print(df.head(2))\n"
      ],
      "metadata": {
        "id": "3BxgQW4qZ5TN",
        "colab": {
          "base_uri": "https://localhost:8080/"
        },
        "outputId": "7fd74e4c-1838-403b-9852-720977b0e5ed"
      },
      "execution_count": null,
      "outputs": [
        {
          "output_type": "stream",
          "name": "stdout",
          "text": [
            "   age  cholesterol  weight\n",
            "0   65         73.0   111.0\n",
            "1   54        119.0    81.0\n"
          ]
        }
      ]
    },
    {
      "cell_type": "code",
      "source": [],
      "metadata": {
        "id": "i2mFWl8RWuPC"
      },
      "execution_count": null,
      "outputs": []
    },
    {
      "cell_type": "code",
      "source": [],
      "metadata": {
        "id": "2dFn5oEU7hsY"
      },
      "execution_count": null,
      "outputs": []
    },
    {
      "cell_type": "code",
      "source": [],
      "metadata": {
        "id": "eKotUZBn9KTv"
      },
      "execution_count": null,
      "outputs": []
    },
    {
      "cell_type": "markdown",
      "source": [
        "## 7회 기출 복원"
      ],
      "metadata": {
        "id": "5zrLjAFq9Oz6"
      }
    },
    {
      "cell_type": "markdown",
      "source": [
        "### 작업1유형"
      ],
      "metadata": {
        "id": "PXodp1Y2C1-v"
      }
    },
    {
      "cell_type": "markdown",
      "source": [
        "**1-1.결측치, 표준화, 최댓값**\n",
        "\n",
        "- 'student_scores.csv'를 사용하여 score에서 발생한 결측치를 제거하고, 가장 많은 학생들이 들었던 수업 과목에서 해당 과목의 점수를 표준화하여 가장 높은 점수를 구하여 출력합니다. (반올림하여 소수점아래 3자리까지 출력)\n",
        "\n"
      ],
      "metadata": {
        "id": "5baeKwg_Ep-j"
      }
    },
    {
      "cell_type": "code",
      "source": [
        "# 7-1-1) - 영상에서 사용했던 코드\n",
        "import pandas as pd\n",
        "from sklearn.preprocessing import StandardScaler\n",
        "df = pd.read_csv('https://raw.githubusercontent.com/Soyoung-Yoon/bigdata/main/student_scores.csv')\n",
        "print(df.head(2))\n"
      ],
      "metadata": {
        "colab": {
          "base_uri": "https://localhost:8080/"
        },
        "id": "OHUj84u5E1DS",
        "outputId": "378291f1-cff7-44b2-9add-83ea35df1244"
      },
      "execution_count": null,
      "outputs": [
        {
          "output_type": "stream",
          "name": "stdout",
          "text": [
            "   subject  score\n",
            "0  history   46.0\n",
            "1  science   52.0\n"
          ]
        }
      ]
    },
    {
      "cell_type": "markdown",
      "source": [
        "**1-2.상관계수, 최댓값, 평균값**\n",
        "\n",
        "- 'close_features.csv' 파일에는 77개의 독립변수와 1개의 종속변수가 있다. (종속변수: CLOSE)\n",
        "- CLOSE 변수와의 **상관관계가** 가장 큰 독립변수의 평균값을 구하여라. (반올림하여 소수점아래 3자리까지 출력)\n",
        "- **영상에서는 '상관계수가'라고 했는데,  \"상관관계가'로 수정합니다!**"
      ],
      "metadata": {
        "id": "MNWegCI_E1c7"
      }
    },
    {
      "cell_type": "code",
      "source": [
        "# 7-1-2)\n",
        "import pandas as pd\n",
        "\n",
        "df = pd.read_csv('https://raw.githubusercontent.com/Soyoung-Yoon/bigdata/main/close_features.csv')\n",
        "print(df.head(2))\n"
      ],
      "metadata": {
        "id": "uKUYTbotXUGq"
      },
      "execution_count": null,
      "outputs": []
    },
    {
      "cell_type": "markdown",
      "source": [
        "**1-3.이상치 개수**\n",
        "- 'outlier_data.csv'의 'feature_2' 칼럼 내의 이상치 개수를 구하여라.\n",
        "- ```이상치 < 평균 - IQR * 1.5, 이상치 > 평균 + IQR * 1.5```\n",
        "\n"
      ],
      "metadata": {
        "id": "ewaAI_2uE5uZ"
      }
    },
    {
      "cell_type": "code",
      "source": [
        "# 7-1-3)\n",
        "import pandas as pd\n",
        "df = pd.read_csv('https://raw.githubusercontent.com/Soyoung-Yoon/bigdata/main/outlier_data.csv')\n",
        "print(df.head(2))\n"
      ],
      "metadata": {
        "id": "HEhI7Cn-9e81"
      },
      "execution_count": null,
      "outputs": []
    },
    {
      "cell_type": "code",
      "source": [],
      "metadata": {
        "id": "syRzsTTu9WcK"
      },
      "execution_count": null,
      "outputs": []
    },
    {
      "cell_type": "markdown",
      "source": [
        "### 작업2유형 - 회귀, rmse\n",
        "- 데이터 출처 : https://www.kaggle.com/datasets/brijbhushannanda1979/bigmart-sales-data\n"
      ],
      "metadata": {
        "id": "H963wsd8FG3s"
      }
    },
    {
      "cell_type": "markdown",
      "source": [
        "**2-01. 문제이해**\n",
        "\n",
        "아웃렛의 amount 예측하기\n",
        "- outlet_train.csv : 학습 및 학습평가에 사용하는 파일\n",
        "- outlet_test.csv : 제출용 데이터 생성에 사용하는 파일\n",
        "- 예측할 값(y): amount\n",
        "- 평가: RMSE\n",
        "- 범주형 변수가 여러 개 있었으며, 범주 중에 범주의 가짓수가 42개 되는 것이 있었음\n",
        "- 파라미터 튜닝하면 오히려 점수가 낮음(rmse값이 무지 컸음 거의 5천만..)\n",
        "- 아래의 형식으로 result.csv 로 저장\n",
        "- 제출형식\n",
        "        pred\n",
        "        3865.718799\n",
        "        4335.691752\n",
        "        3140.762272\n",
        "        1411.627756\n",
        "        1866.883742\n",
        "\n",
        "\n"
      ],
      "metadata": {
        "id": "JUtzXQyhSuyr"
      }
    },
    {
      "cell_type": "markdown",
      "source": [
        "**2-02. 문제풀이**\n",
        "- XY = pd.read_csv('https://raw.githubusercontent.com/Soyoung-Yoon/bigdata/main/outlet_train.csv')\n",
        "- X_submission = pd.read_csv('https://raw.githubusercontent.com/Soyoung-Yoon/bigdata/main/outlet_test.csv')\n"
      ],
      "metadata": {
        "id": "SYgEmmnASwte"
      }
    },
    {
      "cell_type": "code",
      "source": [],
      "metadata": {
        "id": "Te6LvUsgw5MD"
      },
      "execution_count": null,
      "outputs": []
    },
    {
      "cell_type": "code",
      "source": [],
      "metadata": {
        "id": "mtZqJEia9WZc"
      },
      "execution_count": null,
      "outputs": []
    },
    {
      "cell_type": "markdown",
      "source": [
        "###작업3유형 - 로지스틱회귀, 다중선형회귀"
      ],
      "metadata": {
        "id": "CvrViMCzj7KW"
      }
    },
    {
      "cell_type": "markdown",
      "source": [
        "**3-1-1. 로지스틱 회귀 - Logit 사용**\n",
        "- 데이터셋을 210번까지는 학습용 211 - 300번까지는 평가용으로 나누어 사용하도록 한다.\n",
        "- 'gender'를 종속변수, age, diameter, height, weight를 독립변수를 하는 로지스틱회귀 모형을 만든다.  \n",
        "- 1) 'weight'를 설명변수로 하였을 때 오즈비는?\n",
        "- 2) 잔차이탈도(residual deviance) 구하기\n",
        "- 3) 평가용으로 모형예측한 결과와 실제값의 오차율"
      ],
      "metadata": {
        "id": "aj53_L7fFWIx"
      }
    },
    {
      "cell_type": "markdown",
      "source": [
        "참고\n",
        "\n",
        "잔차이탈도(Residual Deviance)는 통계학에서 회귀 분석의 적합도를 평가하는데 사용되는 척도로 주로 로지스틱 회귀(Logistic Regression) 및 포아송 회귀(Poisson Regression)와 같은 일반화 선형 모델(Generalized Linear Models, GLMs)에서 사용된다.\n",
        "- llf: \"최종 모델\"의 로그 가능도(Log-Likelihood)를 나타냅니다. 여기서 최종 모델은 실제로 데이터에 적합한 회귀 모델을 의미합니다.\n",
        "- 잔차 이탈도(Residual Deviance) = - 2 * llf\n",
        "- AIC(Akaike Information criterion) = -2 * llf + 2 * k  (k = 모델의 파라미터 수)\n",
        "- model.aic 있음\n"
      ],
      "metadata": {
        "id": "0Aet_4wHrUst"
      }
    },
    {
      "cell_type": "code",
      "source": [
        "# 7-3-1 (1) (오즈비 계산, Residual Deviance 구하기,Error Rate)\n",
        "import pandas as pd\n",
        "df = pd.read_csv('https://raw.githubusercontent.com/Soyoung-Yoon/bigdata/main/gender_classification.csv')\n",
        "print(df.head(5))\n"
      ],
      "metadata": {
        "id": "RLwOwHj7A-Wh"
      },
      "execution_count": null,
      "outputs": []
    },
    {
      "cell_type": "code",
      "source": [
        "import pandas as pd\n",
        "#s = pd.Series([0, 0, 1, 1, 0])\n",
        "s = pd.Series([False, False, True, True, False])\n",
        "#    1의 개수  1의 비율\n",
        "print(s.sum(), s.mean())  # 전체합/개수"
      ],
      "metadata": {
        "colab": {
          "base_uri": "https://localhost:8080/"
        },
        "id": "WGJLiiCvO1kq",
        "outputId": "1f277df2-0fef-415b-9386-708119881acb"
      },
      "execution_count": null,
      "outputs": [
        {
          "output_type": "stream",
          "name": "stdout",
          "text": [
            "2 0.4\n"
          ]
        }
      ]
    },
    {
      "cell_type": "code",
      "source": [
        "# [참고] AIC 구하기\n",
        "print(round(model_logit.aic, 3))"
      ],
      "metadata": {
        "colab": {
          "base_uri": "https://localhost:8080/"
        },
        "id": "MG5X9Ktfsndn",
        "outputId": "ae032ce6-fafc-49c0-cfb6-706c3b29e877"
      },
      "execution_count": null,
      "outputs": [
        {
          "output_type": "stream",
          "name": "stdout",
          "text": [
            "67.294\n"
          ]
        }
      ]
    },
    {
      "cell_type": "markdown",
      "source": [
        "**3-1-2. 로지스틱 회귀 - GLM 사용(추천)**\n",
        "- 데이터셋을 210번까지는 학습용 211 - 300번까지는 평가용으로 나누어 사용하도록 한다.\n",
        "- 'gender'를 종속변수, age, diameter, height, weight를 독립변수를 하는 로지스틱회귀 모형을 만든다.  \n",
        "- 1) 'weight'를 설명변수로 하였을 때 오즈비는?\n",
        "- 2) 잔차이탈도(residual deviance) 구하기\n",
        "- 3) 평가용으로 모형예측한 결과와 실제값의 오차율"
      ],
      "metadata": {
        "id": "hEYR-QECp_x9"
      }
    },
    {
      "cell_type": "code",
      "source": [
        "# 7-3-1 (2) (오즈비 계산, Residual Deviance 구하기,Error Rate)\n",
        "import pandas as pd\n",
        "df = pd.read_csv('https://raw.githubusercontent.com/Soyoung-Yoon/bigdata/main/gender_classification.csv')\n",
        "print(df.head())\n"
      ],
      "metadata": {
        "id": "JqhauQDkp_yD"
      },
      "execution_count": null,
      "outputs": []
    },
    {
      "cell_type": "code",
      "source": [
        "# [참고] AIC 구하기\n",
        "print(round(model_glm.aic, 3))"
      ],
      "metadata": {
        "id": "7TcmF2Xep_yG",
        "colab": {
          "base_uri": "https://localhost:8080/"
        },
        "outputId": "8aadbe40-1a03-477c-99f2-9ae55f4a2147"
      },
      "execution_count": null,
      "outputs": [
        {
          "output_type": "stream",
          "name": "stdout",
          "text": [
            "67.294\n"
          ]
        }
      ]
    },
    {
      "cell_type": "markdown",
      "source": [
        "**3-2. 다중선형회귀모형**\n",
        "\n",
        "- 'target'의 값을 예측하는 모형을 만든다.(독립변수가 많았음)\n",
        "- 1) 가장 높은 회귀계수를 구하시오.\n",
        "- 2) 위 문제에서 적합된 모형 결정계수를 구하시오.\n",
        "- 3) 가장 높은 p-value를 구하시오.\n",
        "- 실제 시험에서는 회귀계수, 결정계수, p-value가 각각 0.901, 0.985, 0.052 였다고 합니다 ^^*!\n",
        "- 예시는 동일한 예제를 구할 수 없어 가상으로 만든 것입니다.\n"
      ],
      "metadata": {
        "id": "RKj-EF7BFjWy"
      }
    },
    {
      "cell_type": "code",
      "source": [
        "import pandas as pd\n",
        "from statsmodels.api import OLS, add_constant\n",
        "df = pd.read_csv('https://raw.githubusercontent.com/Soyoung-Yoon/bigdata/main/mlr_noisy.csv')\n",
        "print(df.columns)\n"
      ],
      "metadata": {
        "id": "bn7TP9q5Gd3b"
      },
      "execution_count": null,
      "outputs": []
    },
    {
      "cell_type": "markdown",
      "source": [
        "참고\n",
        "- 변수가 많은 경우 formula 만들기"
      ],
      "metadata": {
        "id": "R6hfd2s8T4X3"
      }
    },
    {
      "cell_type": "code",
      "source": [
        "import pandas as pd\n",
        "from statsmodels.api import OLS\n",
        "df = pd.read_csv('https://raw.githubusercontent.com/Soyoung-Yoon/bigdata/main/mlr_noisy.csv')\n",
        "print(df.columns)\n"
      ],
      "metadata": {
        "id": "q6-VnxdkWIxQ"
      },
      "execution_count": null,
      "outputs": []
    },
    {
      "cell_type": "code",
      "source": [
        "import pandas as pd\n",
        "XY = pd.read_csv('https://raw.githubusercontent.com/Soyoung-Yoon/bigdata/main/health_train.csv')\n",
        "X_submission = pd.read_csv('https://raw.githubusercontent.com/Soyoung-Yoon/bigdata/main/health_test.csv')\n"
      ],
      "metadata": {
        "id": "d2fmF1uXT-A2"
      },
      "execution_count": null,
      "outputs": []
    },
    {
      "cell_type": "code",
      "source": [],
      "metadata": {
        "id": "q9Bqacwa1PJO"
      },
      "execution_count": null,
      "outputs": []
    },
    {
      "cell_type": "code",
      "source": [],
      "metadata": {
        "id": "WzK6NiyC9b8M"
      },
      "execution_count": null,
      "outputs": []
    },
    {
      "cell_type": "markdown",
      "source": [
        "##8회 기출 복원"
      ],
      "metadata": {
        "id": "LnMhH6UA9gg0"
      }
    },
    {
      "cell_type": "markdown",
      "source": [
        "### 작업1유형"
      ],
      "metadata": {
        "id": "W3YZv9e-J6Ot"
      }
    },
    {
      "cell_type": "markdown",
      "source": [
        "**1-1.맥주 소비량 구하기**\n",
        "'drinks.csv'를 사용하여 다음의 결과를 구하시오.\n",
        "- 1) 대륙별 맥주의 평균 소비량이 가장 많은 곳을 구하시오.\n",
        "-2) 1번에서 구한 대륙에서 다섯번째로 맥주 소비량이 많은 국가를 구하시오.\n",
        "-3) 2번에서 구한 국가의 맥주 소비량을 정수로 작성하시오.\n"
      ],
      "metadata": {
        "id": "pKhm-NVtKCJ7"
      }
    },
    {
      "cell_type": "code",
      "source": [
        "import pandas as pd\n",
        "\n",
        "df = pd.read_csv('https://raw.githubusercontent.com/Soyoung-Yoon/bigdata/main/drinks_09011.csv')\n",
        "print(df.head(3))"
      ],
      "metadata": {
        "colab": {
          "base_uri": "https://localhost:8080/"
        },
        "outputId": "c47fcd39-41e5-4dc0-beb9-645b5ccfa482",
        "id": "Ek2uw8edKCJ7"
      },
      "execution_count": null,
      "outputs": [
        {
          "output_type": "stream",
          "name": "stdout",
          "text": [
            "            국가  맥주  증류주  와인   기타      대륙\n",
            "0  Afghanistan   0    0   0  0.0    Asia\n",
            "1      Albania  89  132  54  4.9  Europe\n",
            "2      Algeria  25    0  14  0.7  Africa\n"
          ]
        }
      ]
    },
    {
      "cell_type": "code",
      "source": [
        "# 8-1-1)\n"
      ],
      "metadata": {
        "id": "IW17Zq72ndvS"
      },
      "execution_count": null,
      "outputs": []
    },
    {
      "cell_type": "markdown",
      "source": [
        "**1-2. 관광객**\n",
        "'tourist_09012.csv' 파일을 사용하여 다음의 결과를 구하시오.\n",
        "- 관광객비율 = 관광 / (관광 + 공무)\n",
        "- 1) 관광객 비율이 두번째로 높은 나라의 '관광'수를 a라고 정의하시오.\n",
        "- 2) 관광객 수가 두 번째로 높은 나라의 '공무'수를 b라고 정의하시오.\n",
        "- 3) a + b의 값을 구하시오."
      ],
      "metadata": {
        "id": "xAv7CvFKKCJ8"
      }
    },
    {
      "cell_type": "code",
      "source": [
        "import pandas as pd\n",
        "df = pd.read_csv('https://raw.githubusercontent.com/Soyoung-Yoon/bigdata/main/tourist_08012.csv')\n",
        "print(df.head(3))"
      ],
      "metadata": {
        "colab": {
          "base_uri": "https://localhost:8080/"
        },
        "id": "4fiTVWunSFev",
        "outputId": "8463773a-e871-4458-d3aa-2983dcd9bedf"
      },
      "execution_count": null,
      "outputs": [
        {
          "output_type": "stream",
          "name": "stdout",
          "text": [
            "   국적    관광     사업    공무     기타\n",
            "0  미주  3375  205.0  1495  14423\n",
            "1  일본  3300  336.0   165    566\n",
            "2  미국  3127  159.0  1447  10722\n"
          ]
        }
      ]
    },
    {
      "cell_type": "code",
      "source": [
        "# 8-1-2)\n"
      ],
      "metadata": {
        "id": "gvfvoxDALOio"
      },
      "execution_count": null,
      "outputs": []
    },
    {
      "cell_type": "markdown",
      "source": [
        "**1-3.스케일링**\n",
        "'environment_09013.csv' 파일을 사용하여, 다음의 결과를 구하시오.\n",
        "- 1) co컬럼과 nmch컬럼을 사용하여 Min-Max Scale을 시행하시오.\n",
        "  - Min-Max Scale = (Xn - Xmin) / (Xmax - Xmin)\n",
        "- 2) Min-Max Scale이 적용된 각 칼럼의 표준편차를 구하시오.\n",
        "  - co칼럼의 표준편차 = a, nmch 칼럼의 표준편차 = b\n",
        "- 3) 2번에서 구한 a, b를 사용하여 두 값의 차이 값인 a - b의 값을 구하시오.\n",
        "  - (단, 실수의 경우 반올림하여 소수점 아래 세자리까지 표시되도록 하세요)\n"
      ],
      "metadata": {
        "id": "WIVl5PMoKCJ9"
      }
    },
    {
      "cell_type": "code",
      "source": [
        "import pandas as pd\n",
        "df = pd.read_csv('https://raw.githubusercontent.com/Soyoung-Yoon/bigdata/main/environment_09013.csv')\n",
        "print(df.head(3))\n"
      ],
      "metadata": {
        "colab": {
          "base_uri": "https://localhost:8080/"
        },
        "outputId": "9592a680-df66-4487-d1ae-a0a62e5a3fc0",
        "id": "iwj7DgZeKCJ9"
      },
      "execution_count": null,
      "outputs": [
        {
          "output_type": "stream",
          "name": "stdout",
          "text": [
            "     nmch    co        no2         so          o3\n",
            "0  80.000  30.0  20.825325  28.177608  118.958663\n",
            "1  55.000  45.0  93.239394  41.516219  128.768338\n",
            "2  63.713  45.0  21.539820  36.553103   78.658787\n"
          ]
        }
      ]
    },
    {
      "cell_type": "code",
      "source": [
        "# 8-1-3) 식을 이용한 방법\n"
      ],
      "metadata": {
        "id": "yZKKi0SCLIPu"
      },
      "execution_count": null,
      "outputs": []
    },
    {
      "cell_type": "code",
      "source": [
        "# 8-1-3) sklearn의 MinMaxScaler을 이용한 방법\n"
      ],
      "metadata": {
        "id": "3kd1ivJmhK9O",
        "collapsed": true
      },
      "execution_count": null,
      "outputs": []
    },
    {
      "cell_type": "code",
      "source": [],
      "metadata": {
        "id": "vSjvJ7ucda13"
      },
      "execution_count": null,
      "outputs": []
    },
    {
      "cell_type": "code",
      "source": [],
      "metadata": {
        "id": "SFkgndO6dazK"
      },
      "execution_count": null,
      "outputs": []
    },
    {
      "cell_type": "markdown",
      "source": [
        "### 작업2유형 - 회귀, mae\n",
        "\n"
      ],
      "metadata": {
        "id": "x4EsVoJBulAO"
      }
    },
    {
      "cell_type": "markdown",
      "source": [
        "**2-01. 문제이해**\n",
        "- 2개의 파일이 주어집니다. traffic_train.csv, traffic_test.csv\n",
        "- 지하철역 인원수를 예측하는 프로그램을 작성하시오.\n",
        "- traffic_volume -> 종속변수\n",
        "- 평가지표 : mae\n",
        "- 제출파일 : result.csv, index는 출력하지 말것\n",
        "- 인원수 출력 (1개 칼럼) (2640개) # 실제시험에서는 2064개\n",
        "-----------------------------------------------\n",
        "- 결측치 없었음, 범주형 변수 여러 개 있음"
      ],
      "metadata": {
        "id": "YXvJgy4YulAO"
      }
    },
    {
      "cell_type": "code",
      "source": [
        "# [0] import\n",
        "import pandas as pd\n",
        "XY = pd.read_csv('https://raw.githubusercontent.com/Soyoung-Yoon/bigdata/main/traffic_train.csv')\n",
        "X_submission = pd.read_csv('https://raw.githubusercontent.com/Soyoung-Yoon/bigdata/main/traffic_test.csv')\n",
        "print(XY.head(3))\n"
      ],
      "metadata": {
        "colab": {
          "base_uri": "https://localhost:8080/"
        },
        "outputId": "b7fb1fca-1c30-4d9e-bf8e-37237776e656",
        "id": "560i1RPoulAO"
      },
      "execution_count": null,
      "outputs": [
        {
          "output_type": "stream",
          "name": "stdout",
          "text": [
            "  name    temp  rain_1h  snow_1h  clouds_all weather_main  year  month  hour  \\\n",
            "0    B  286.74      0.0      0.0          90         Mist  2013      9     3   \n",
            "1    B  287.29      0.0      0.0          40       Clouds  2016      3    11   \n",
            "2    B  273.00      0.0      0.0          90         Snow  2018      3     3   \n",
            "\n",
            "  weekday  traffic_volume  \n",
            "0     Sun            8670  \n",
            "1     Mon          136710  \n",
            "2     Sun           12600  \n"
          ]
        }
      ]
    },
    {
      "cell_type": "markdown",
      "source": [
        "**2-02. 문제풀이**\n",
        "\n",
        "- XY = pd.read_csv('https://raw.githubusercontent.com/Soyoung-Yoon/bigdata/main/traffic_train.csv')\n",
        "- X_submission = pd.read_csv('https://raw.githubusercontent.com/Soyoung-Yoon/bigdata/main/traffic_test.csv')\n"
      ],
      "metadata": {
        "id": "sR-KIAspulAP"
      }
    },
    {
      "cell_type": "code",
      "source": [],
      "metadata": {
        "id": "kb3IXnyj3vAd"
      },
      "execution_count": null,
      "outputs": []
    },
    {
      "cell_type": "code",
      "source": [],
      "metadata": {
        "id": "TV19bodqpIP7"
      },
      "execution_count": null,
      "outputs": []
    },
    {
      "cell_type": "markdown",
      "source": [
        "### 작업3유형 - 로지스틱회귀, 다중선형회귀"
      ],
      "metadata": {
        "id": "xbfNwDDu1Qxx"
      }
    },
    {
      "cell_type": "markdown",
      "source": [
        "**3-1. 로지스틱 회귀**\n",
        "\n",
        "콜센터 데이터를 사용해 로지스틱 회귀를 수행하라.\n",
        "- 상수항(=절편)을 포함하도록 하며, 규제는 사용하지 않고, 종속변수는 churn(이탈지수)이다.\n",
        "- 1) 유의성이 낮은 변수의 갯수를 써라\n",
        "- 2) 유의한 컬럼들을 가지고 다시 모델을 만든 후, 회귀계수의 평균을 구하라.\n",
        "- 3) 오즈비 구하는 문제, number_customer_calls가 5증가하면 오즈비는 몇 배 증가는가?\n",
        "   - (단, 실수의 경우 반올림하여 소수점 아래 세자리까지 표시되도록 하세요)"
      ],
      "metadata": {
        "id": "LYyAdzlwY80E"
      }
    },
    {
      "cell_type": "code",
      "source": [
        "import pandas as pd\n",
        "df = pd.read_csv('https://raw.githubusercontent.com/Soyoung-Yoon/bigdata/main/churn_08031.csv')\n",
        "print(df.head(3))\n",
        "print(df['churn'].unique())"
      ],
      "metadata": {
        "colab": {
          "base_uri": "https://localhost:8080/"
        },
        "outputId": "e0dc9c98-9092-4cb0-b4a6-f5d43881e5d4",
        "id": "IhmXFx_iY80F"
      },
      "execution_count": null,
      "outputs": [
        {
          "output_type": "stream",
          "name": "stdout",
          "text": [
            "   Account Length  vmail_message  Day Mins  Day Calls  Day Charge  Eve Mins  \\\n",
            "0             128             25     265.1        110       45.07     197.4   \n",
            "1             107             26     161.6        123       27.47     195.5   \n",
            "2             137              0     243.4        114       41.38     121.2   \n",
            "\n",
            "   Eve Calls  Eve Charge  Night Mins  Night Calls  Night Charge  Intl Mins  \\\n",
            "0         99       16.78       244.7           91         11.01       10.0   \n",
            "1        103       16.62       254.4          103         11.45       13.7   \n",
            "2        110       10.30       162.6          104          7.32       12.2   \n",
            "\n",
            "   intl_calls  Intl Charge  number_customer_calls  churn  \n",
            "0           3         2.70                      1      0  \n",
            "1           3         3.70                      1      0  \n",
            "2           5         3.29                      0      0  \n",
            "[0 1]\n"
          ]
        }
      ]
    },
    {
      "cell_type": "markdown",
      "source": [
        "**주의사항**\n",
        "- 1) 유의성이 낮은 변수의 갯수를 써라  pvalue > 0.05\n",
        "- 만일 변수의 범위에 절편을 포함하는 것이 아니라면 const를 제외하고 비교하시는 것이 맞습니다.\n",
        "- 본 기출복원에서는 const의 p-value가 0.05 보다 작아서 포함이든 불포함이든 답이 같습니다."
      ],
      "metadata": {
        "id": "uFWETi0UY80G"
      }
    },
    {
      "cell_type": "code",
      "source": [
        "from statsmodels.api import GLM, add_constant, families\n",
        "import pandas as pd\n",
        "import numpy as np\n",
        "df = pd.read_csv('https://raw.githubusercontent.com/Soyoung-Yoon/bigdata/main/churn_08031.csv')\n",
        "\n",
        "\n",
        "# 1) 유의성이 낮은 변수의 갯수를 써라. (통계적 유의미가 없다 pvalue > 0.05)\n",
        "\n",
        "# 2) 유의한 컬럼들을 가지고 다시 모델을 만든 후, 회귀계수의 평균을 구하라.\n",
        "\n",
        "# 3) 오즈비 구하는 문제, number_customer_calls가 5증가하면 오즈비는 몇 배 증가는가?\n"
      ],
      "metadata": {
        "id": "mGJwobTKY80G"
      },
      "execution_count": null,
      "outputs": []
    },
    {
      "cell_type": "markdown",
      "source": [
        "**3-2. 다중선형회귀**\n",
        "\n",
        "다음의 종속변수와 독립변수를 사용하여 다중선형회귀를 적용하시오.\n",
        "- 종속변수: PIQ\n",
        "- 독립변수: Brain, Height, Weight\n",
        "- 1) 가장 유의미한 변수의 회귀계수를 쓰시오.\n",
        "- 2) 결정계수값을 구하시오.\n",
        "- 3) 위에서 구한 모델을 사용하여 키:70, 몸무게:150, 뇌크기:90 인 경우의 PIQ 값을 구하시오.\n",
        "   - (단, 실수의 경우 반올림하여 소수점 아래 세자리까지 표시되도록 하세요)"
      ],
      "metadata": {
        "id": "WXLQp9_1Y80G"
      }
    },
    {
      "cell_type": "code",
      "source": [
        "import pandas as pd\n",
        "from statsmodels.api import OLS\n",
        "df = pd.read_csv('https://raw.githubusercontent.com/Soyoung-Yoon/bigdata/main/iqsize_08032.csv')\n",
        "print(df.head(3))"
      ],
      "metadata": {
        "colab": {
          "base_uri": "https://localhost:8080/"
        },
        "outputId": "ea96b13d-578d-4e37-cd5c-10a25512b221",
        "id": "BGicqrJUY80G"
      },
      "execution_count": null,
      "outputs": [
        {
          "output_type": "stream",
          "name": "stdout",
          "text": [
            "   PIQ   Brain  Height  Weight\n",
            "0  124   98.00    64.5     118\n",
            "1  150  103.84    73.3     143\n",
            "2  128   96.54    68.8     172\n"
          ]
        }
      ]
    },
    {
      "cell_type": "code",
      "source": [
        "# 8-3-2\n",
        "import pandas as pd\n",
        "from statsmodels.api import OLS\n",
        "df = pd.read_csv('https://raw.githubusercontent.com/Soyoung-Yoon/bigdata/main/iqsize_08032.csv')\n",
        "#print(df.head(3))\n",
        "\n",
        "# 1) 가장 유의미한 변수의 회귀계수를 쓰시오.\n",
        "\n",
        "# 2) 결정계수값을 구하시오.\n",
        "\n",
        "# 3) 위에서 구한 모델을 사용하여 키:70, 몸무게:150, 뇌크기:90 인 경우의 PIQ 값을 구하시오.\n"
      ],
      "metadata": {
        "id": "HvzOkHh9J9Al"
      },
      "execution_count": null,
      "outputs": []
    },
    {
      "cell_type": "markdown",
      "source": [
        "##9회 기출 복원"
      ],
      "metadata": {
        "id": "JT8_jTMZbd4U"
      }
    },
    {
      "cell_type": "markdown",
      "source": [
        "### 작업1유형"
      ],
      "metadata": {
        "id": "TlRhBWRJ7LOs"
      }
    },
    {
      "cell_type": "markdown",
      "source": [
        "**1-1. 대출액**\n",
        "- 총대출액은 Bank_Loan + Capital_Loan 이다.\n",
        "- 연도 및 성별별 총대출액의 합계액을 구한다.\n",
        "- 지역별 합계액 차이의 절대값이 가장 큰 지역코드를 도출하시오.\n"
      ],
      "metadata": {
        "id": "ZVDmWj3fU0_5"
      }
    },
    {
      "cell_type": "code",
      "source": [
        "import pandas as pd\n",
        "path = 'https://raw.githubusercontent.com/Soyoung-Yoon/bigdata/main/'\n",
        "df = pd.read_csv(path+'loan_data.csv')\n",
        "df.head(3)"
      ],
      "metadata": {
        "colab": {
          "base_uri": "https://localhost:8080/",
          "height": 143
        },
        "id": "6axdyMo1ctOF",
        "outputId": "2f8192db-ef9c-41d0-bd46-d331451e0d24"
      },
      "execution_count": null,
      "outputs": [
        {
          "output_type": "execute_result",
          "data": {
            "text/plain": [
              "  Gender  Bank_Loan  Capital_Loan Region_Code  Year  Total_Loan\n",
              "0      M   43350000       1360000  4211000000  2023    44710000\n",
              "1      F   42890000      19150000  4111100000  2020    62040000\n",
              "2      M      10000      16380000  4399000000  2023    16390000"
            ],
            "text/html": [
              "\n",
              "  <div id=\"df-9430514e-0a93-4128-b663-528b6eb02c7b\" class=\"colab-df-container\">\n",
              "    <div>\n",
              "<style scoped>\n",
              "    .dataframe tbody tr th:only-of-type {\n",
              "        vertical-align: middle;\n",
              "    }\n",
              "\n",
              "    .dataframe tbody tr th {\n",
              "        vertical-align: top;\n",
              "    }\n",
              "\n",
              "    .dataframe thead th {\n",
              "        text-align: right;\n",
              "    }\n",
              "</style>\n",
              "<table border=\"1\" class=\"dataframe\">\n",
              "  <thead>\n",
              "    <tr style=\"text-align: right;\">\n",
              "      <th></th>\n",
              "      <th>Gender</th>\n",
              "      <th>Bank_Loan</th>\n",
              "      <th>Capital_Loan</th>\n",
              "      <th>Region_Code</th>\n",
              "      <th>Year</th>\n",
              "      <th>Total_Loan</th>\n",
              "    </tr>\n",
              "  </thead>\n",
              "  <tbody>\n",
              "    <tr>\n",
              "      <th>0</th>\n",
              "      <td>M</td>\n",
              "      <td>43350000</td>\n",
              "      <td>1360000</td>\n",
              "      <td>4211000000</td>\n",
              "      <td>2023</td>\n",
              "      <td>44710000</td>\n",
              "    </tr>\n",
              "    <tr>\n",
              "      <th>1</th>\n",
              "      <td>F</td>\n",
              "      <td>42890000</td>\n",
              "      <td>19150000</td>\n",
              "      <td>4111100000</td>\n",
              "      <td>2020</td>\n",
              "      <td>62040000</td>\n",
              "    </tr>\n",
              "    <tr>\n",
              "      <th>2</th>\n",
              "      <td>M</td>\n",
              "      <td>10000</td>\n",
              "      <td>16380000</td>\n",
              "      <td>4399000000</td>\n",
              "      <td>2023</td>\n",
              "      <td>16390000</td>\n",
              "    </tr>\n",
              "  </tbody>\n",
              "</table>\n",
              "</div>\n",
              "    <div class=\"colab-df-buttons\">\n",
              "\n",
              "  <div class=\"colab-df-container\">\n",
              "    <button class=\"colab-df-convert\" onclick=\"convertToInteractive('df-9430514e-0a93-4128-b663-528b6eb02c7b')\"\n",
              "            title=\"Convert this dataframe to an interactive table.\"\n",
              "            style=\"display:none;\">\n",
              "\n",
              "  <svg xmlns=\"http://www.w3.org/2000/svg\" height=\"24px\" viewBox=\"0 -960 960 960\">\n",
              "    <path d=\"M120-120v-720h720v720H120Zm60-500h600v-160H180v160Zm220 220h160v-160H400v160Zm0 220h160v-160H400v160ZM180-400h160v-160H180v160Zm440 0h160v-160H620v160ZM180-180h160v-160H180v160Zm440 0h160v-160H620v160Z\"/>\n",
              "  </svg>\n",
              "    </button>\n",
              "\n",
              "  <style>\n",
              "    .colab-df-container {\n",
              "      display:flex;\n",
              "      gap: 12px;\n",
              "    }\n",
              "\n",
              "    .colab-df-convert {\n",
              "      background-color: #E8F0FE;\n",
              "      border: none;\n",
              "      border-radius: 50%;\n",
              "      cursor: pointer;\n",
              "      display: none;\n",
              "      fill: #1967D2;\n",
              "      height: 32px;\n",
              "      padding: 0 0 0 0;\n",
              "      width: 32px;\n",
              "    }\n",
              "\n",
              "    .colab-df-convert:hover {\n",
              "      background-color: #E2EBFA;\n",
              "      box-shadow: 0px 1px 2px rgba(60, 64, 67, 0.3), 0px 1px 3px 1px rgba(60, 64, 67, 0.15);\n",
              "      fill: #174EA6;\n",
              "    }\n",
              "\n",
              "    .colab-df-buttons div {\n",
              "      margin-bottom: 4px;\n",
              "    }\n",
              "\n",
              "    [theme=dark] .colab-df-convert {\n",
              "      background-color: #3B4455;\n",
              "      fill: #D2E3FC;\n",
              "    }\n",
              "\n",
              "    [theme=dark] .colab-df-convert:hover {\n",
              "      background-color: #434B5C;\n",
              "      box-shadow: 0px 1px 3px 1px rgba(0, 0, 0, 0.15);\n",
              "      filter: drop-shadow(0px 1px 2px rgba(0, 0, 0, 0.3));\n",
              "      fill: #FFFFFF;\n",
              "    }\n",
              "  </style>\n",
              "\n",
              "    <script>\n",
              "      const buttonEl =\n",
              "        document.querySelector('#df-9430514e-0a93-4128-b663-528b6eb02c7b button.colab-df-convert');\n",
              "      buttonEl.style.display =\n",
              "        google.colab.kernel.accessAllowed ? 'block' : 'none';\n",
              "\n",
              "      async function convertToInteractive(key) {\n",
              "        const element = document.querySelector('#df-9430514e-0a93-4128-b663-528b6eb02c7b');\n",
              "        const dataTable =\n",
              "          await google.colab.kernel.invokeFunction('convertToInteractive',\n",
              "                                                    [key], {});\n",
              "        if (!dataTable) return;\n",
              "\n",
              "        const docLinkHtml = 'Like what you see? Visit the ' +\n",
              "          '<a target=\"_blank\" href=https://colab.research.google.com/notebooks/data_table.ipynb>data table notebook</a>'\n",
              "          + ' to learn more about interactive tables.';\n",
              "        element.innerHTML = '';\n",
              "        dataTable['output_type'] = 'display_data';\n",
              "        await google.colab.output.renderOutput(dataTable, element);\n",
              "        const docLink = document.createElement('div');\n",
              "        docLink.innerHTML = docLinkHtml;\n",
              "        element.appendChild(docLink);\n",
              "      }\n",
              "    </script>\n",
              "  </div>\n",
              "\n",
              "\n",
              "<div id=\"df-350fb158-b472-4360-a3d9-44e855f0c535\">\n",
              "  <button class=\"colab-df-quickchart\" onclick=\"quickchart('df-350fb158-b472-4360-a3d9-44e855f0c535')\"\n",
              "            title=\"Suggest charts\"\n",
              "            style=\"display:none;\">\n",
              "\n",
              "<svg xmlns=\"http://www.w3.org/2000/svg\" height=\"24px\"viewBox=\"0 0 24 24\"\n",
              "     width=\"24px\">\n",
              "    <g>\n",
              "        <path d=\"M19 3H5c-1.1 0-2 .9-2 2v14c0 1.1.9 2 2 2h14c1.1 0 2-.9 2-2V5c0-1.1-.9-2-2-2zM9 17H7v-7h2v7zm4 0h-2V7h2v10zm4 0h-2v-4h2v4z\"/>\n",
              "    </g>\n",
              "</svg>\n",
              "  </button>\n",
              "\n",
              "<style>\n",
              "  .colab-df-quickchart {\n",
              "      --bg-color: #E8F0FE;\n",
              "      --fill-color: #1967D2;\n",
              "      --hover-bg-color: #E2EBFA;\n",
              "      --hover-fill-color: #174EA6;\n",
              "      --disabled-fill-color: #AAA;\n",
              "      --disabled-bg-color: #DDD;\n",
              "  }\n",
              "\n",
              "  [theme=dark] .colab-df-quickchart {\n",
              "      --bg-color: #3B4455;\n",
              "      --fill-color: #D2E3FC;\n",
              "      --hover-bg-color: #434B5C;\n",
              "      --hover-fill-color: #FFFFFF;\n",
              "      --disabled-bg-color: #3B4455;\n",
              "      --disabled-fill-color: #666;\n",
              "  }\n",
              "\n",
              "  .colab-df-quickchart {\n",
              "    background-color: var(--bg-color);\n",
              "    border: none;\n",
              "    border-radius: 50%;\n",
              "    cursor: pointer;\n",
              "    display: none;\n",
              "    fill: var(--fill-color);\n",
              "    height: 32px;\n",
              "    padding: 0;\n",
              "    width: 32px;\n",
              "  }\n",
              "\n",
              "  .colab-df-quickchart:hover {\n",
              "    background-color: var(--hover-bg-color);\n",
              "    box-shadow: 0 1px 2px rgba(60, 64, 67, 0.3), 0 1px 3px 1px rgba(60, 64, 67, 0.15);\n",
              "    fill: var(--button-hover-fill-color);\n",
              "  }\n",
              "\n",
              "  .colab-df-quickchart-complete:disabled,\n",
              "  .colab-df-quickchart-complete:disabled:hover {\n",
              "    background-color: var(--disabled-bg-color);\n",
              "    fill: var(--disabled-fill-color);\n",
              "    box-shadow: none;\n",
              "  }\n",
              "\n",
              "  .colab-df-spinner {\n",
              "    border: 2px solid var(--fill-color);\n",
              "    border-color: transparent;\n",
              "    border-bottom-color: var(--fill-color);\n",
              "    animation:\n",
              "      spin 1s steps(1) infinite;\n",
              "  }\n",
              "\n",
              "  @keyframes spin {\n",
              "    0% {\n",
              "      border-color: transparent;\n",
              "      border-bottom-color: var(--fill-color);\n",
              "      border-left-color: var(--fill-color);\n",
              "    }\n",
              "    20% {\n",
              "      border-color: transparent;\n",
              "      border-left-color: var(--fill-color);\n",
              "      border-top-color: var(--fill-color);\n",
              "    }\n",
              "    30% {\n",
              "      border-color: transparent;\n",
              "      border-left-color: var(--fill-color);\n",
              "      border-top-color: var(--fill-color);\n",
              "      border-right-color: var(--fill-color);\n",
              "    }\n",
              "    40% {\n",
              "      border-color: transparent;\n",
              "      border-right-color: var(--fill-color);\n",
              "      border-top-color: var(--fill-color);\n",
              "    }\n",
              "    60% {\n",
              "      border-color: transparent;\n",
              "      border-right-color: var(--fill-color);\n",
              "    }\n",
              "    80% {\n",
              "      border-color: transparent;\n",
              "      border-right-color: var(--fill-color);\n",
              "      border-bottom-color: var(--fill-color);\n",
              "    }\n",
              "    90% {\n",
              "      border-color: transparent;\n",
              "      border-bottom-color: var(--fill-color);\n",
              "    }\n",
              "  }\n",
              "</style>\n",
              "\n",
              "  <script>\n",
              "    async function quickchart(key) {\n",
              "      const quickchartButtonEl =\n",
              "        document.querySelector('#' + key + ' button');\n",
              "      quickchartButtonEl.disabled = true;  // To prevent multiple clicks.\n",
              "      quickchartButtonEl.classList.add('colab-df-spinner');\n",
              "      try {\n",
              "        const charts = await google.colab.kernel.invokeFunction(\n",
              "            'suggestCharts', [key], {});\n",
              "      } catch (error) {\n",
              "        console.error('Error during call to suggestCharts:', error);\n",
              "      }\n",
              "      quickchartButtonEl.classList.remove('colab-df-spinner');\n",
              "      quickchartButtonEl.classList.add('colab-df-quickchart-complete');\n",
              "    }\n",
              "    (() => {\n",
              "      let quickchartButtonEl =\n",
              "        document.querySelector('#df-350fb158-b472-4360-a3d9-44e855f0c535 button');\n",
              "      quickchartButtonEl.style.display =\n",
              "        google.colab.kernel.accessAllowed ? 'block' : 'none';\n",
              "    })();\n",
              "  </script>\n",
              "</div>\n",
              "\n",
              "    </div>\n",
              "  </div>\n"
            ],
            "application/vnd.google.colaboratory.intrinsic+json": {
              "type": "dataframe",
              "variable_name": "df",
              "summary": "{\n  \"name\": \"df\",\n  \"rows\": 4000,\n  \"fields\": [\n    {\n      \"column\": \"Gender\",\n      \"properties\": {\n        \"dtype\": \"category\",\n        \"num_unique_values\": 2,\n        \"samples\": [\n          \"F\",\n          \"M\"\n        ],\n        \"semantic_type\": \"\",\n        \"description\": \"\"\n      }\n    },\n    {\n      \"column\": \"Bank_Loan\",\n      \"properties\": {\n        \"dtype\": \"number\",\n        \"std\": 14435494,\n        \"min\": 0,\n        \"max\": 49990000,\n        \"num_unique_values\": 2739,\n        \"samples\": [\n          35100000,\n          12540000\n        ],\n        \"semantic_type\": \"\",\n        \"description\": \"\"\n      }\n    },\n    {\n      \"column\": \"Capital_Loan\",\n      \"properties\": {\n        \"dtype\": \"number\",\n        \"std\": 8810625,\n        \"min\": 0,\n        \"max\": 29990000,\n        \"num_unique_values\": 2211,\n        \"samples\": [\n          24430000,\n          12060000\n        ],\n        \"semantic_type\": \"\",\n        \"description\": \"\"\n      }\n    },\n    {\n      \"column\": \"Region_Code\",\n      \"properties\": {\n        \"dtype\": \"category\",\n        \"num_unique_values\": 10,\n        \"samples\": [\n          \"GANGWON\",\n          \"4111100000\"\n        ],\n        \"semantic_type\": \"\",\n        \"description\": \"\"\n      }\n    },\n    {\n      \"column\": \"Year\",\n      \"properties\": {\n        \"dtype\": \"number\",\n        \"std\": 1,\n        \"min\": 2020,\n        \"max\": 2024,\n        \"num_unique_values\": 5,\n        \"samples\": [\n          2020,\n          2021\n        ],\n        \"semantic_type\": \"\",\n        \"description\": \"\"\n      }\n    },\n    {\n      \"column\": \"Total_Loan\",\n      \"properties\": {\n        \"dtype\": \"number\",\n        \"std\": 16891358,\n        \"min\": 690000,\n        \"max\": 79330000,\n        \"num_unique_values\": 3026,\n        \"samples\": [\n          24550000,\n          13380000\n        ],\n        \"semantic_type\": \"\",\n        \"description\": \"\"\n      }\n    }\n  ]\n}"
            }
          },
          "metadata": {},
          "execution_count": 51
        }
      ]
    },
    {
      "cell_type": "code",
      "source": [],
      "metadata": {
        "id": "7Yt_j4h1bpkP"
      },
      "execution_count": null,
      "outputs": []
    },
    {
      "cell_type": "markdown",
      "source": [
        "**1-2. 검거율**\n",
        "- 검거율 = 검거건수 / 발생건수이다.\n",
        "- 범죄유형별 검거율을 계산하여 각 연도별 검거율이 가장 높은 범죄유형의 검거건수를 구해 그 합을 출력하라."
      ],
      "metadata": {
        "id": "n16uJFbgo9oD"
      }
    },
    {
      "cell_type": "code",
      "source": [
        "import pandas as pd\n",
        "path = 'https://raw.githubusercontent.com/Soyoung-Yoon/bigdata/main/'\n",
        "df = pd.read_csv(path+'crime_data.csv')\n",
        "df.head(3)"
      ],
      "metadata": {
        "id": "7OzzwuMLVAAz",
        "colab": {
          "base_uri": "https://localhost:8080/",
          "height": 143
        },
        "outputId": "fbd464ad-68e4-4e77-c370-555f41b5419b"
      },
      "execution_count": null,
      "outputs": [
        {
          "output_type": "execute_result",
          "data": {
            "text/plain": [
              "     연도    구분  범죄유형1  범죄유형2  범죄유형3  범죄유형4  범죄유형5  범죄유형6  범죄유형7  범죄유형8  범죄유형9  \\\n",
              "0  2014  검거건수    808    816    824    841    840    848    856    864    872   \n",
              "1  2014  발생건수   1152   1346   1558    973   1437   1008   1432   1107   1082   \n",
              "2  2015  검거건수    890    898    906    914    922    930    938    946    954   \n",
              "\n",
              "   범죄유형10  \n",
              "0     880  \n",
              "1    1120  \n",
              "2     962  "
            ],
            "text/html": [
              "\n",
              "  <div id=\"df-41a28e7a-5c70-4750-92c2-4c2b81e971b8\" class=\"colab-df-container\">\n",
              "    <div>\n",
              "<style scoped>\n",
              "    .dataframe tbody tr th:only-of-type {\n",
              "        vertical-align: middle;\n",
              "    }\n",
              "\n",
              "    .dataframe tbody tr th {\n",
              "        vertical-align: top;\n",
              "    }\n",
              "\n",
              "    .dataframe thead th {\n",
              "        text-align: right;\n",
              "    }\n",
              "</style>\n",
              "<table border=\"1\" class=\"dataframe\">\n",
              "  <thead>\n",
              "    <tr style=\"text-align: right;\">\n",
              "      <th></th>\n",
              "      <th>연도</th>\n",
              "      <th>구분</th>\n",
              "      <th>범죄유형1</th>\n",
              "      <th>범죄유형2</th>\n",
              "      <th>범죄유형3</th>\n",
              "      <th>범죄유형4</th>\n",
              "      <th>범죄유형5</th>\n",
              "      <th>범죄유형6</th>\n",
              "      <th>범죄유형7</th>\n",
              "      <th>범죄유형8</th>\n",
              "      <th>범죄유형9</th>\n",
              "      <th>범죄유형10</th>\n",
              "    </tr>\n",
              "  </thead>\n",
              "  <tbody>\n",
              "    <tr>\n",
              "      <th>0</th>\n",
              "      <td>2014</td>\n",
              "      <td>검거건수</td>\n",
              "      <td>808</td>\n",
              "      <td>816</td>\n",
              "      <td>824</td>\n",
              "      <td>841</td>\n",
              "      <td>840</td>\n",
              "      <td>848</td>\n",
              "      <td>856</td>\n",
              "      <td>864</td>\n",
              "      <td>872</td>\n",
              "      <td>880</td>\n",
              "    </tr>\n",
              "    <tr>\n",
              "      <th>1</th>\n",
              "      <td>2014</td>\n",
              "      <td>발생건수</td>\n",
              "      <td>1152</td>\n",
              "      <td>1346</td>\n",
              "      <td>1558</td>\n",
              "      <td>973</td>\n",
              "      <td>1437</td>\n",
              "      <td>1008</td>\n",
              "      <td>1432</td>\n",
              "      <td>1107</td>\n",
              "      <td>1082</td>\n",
              "      <td>1120</td>\n",
              "    </tr>\n",
              "    <tr>\n",
              "      <th>2</th>\n",
              "      <td>2015</td>\n",
              "      <td>검거건수</td>\n",
              "      <td>890</td>\n",
              "      <td>898</td>\n",
              "      <td>906</td>\n",
              "      <td>914</td>\n",
              "      <td>922</td>\n",
              "      <td>930</td>\n",
              "      <td>938</td>\n",
              "      <td>946</td>\n",
              "      <td>954</td>\n",
              "      <td>962</td>\n",
              "    </tr>\n",
              "  </tbody>\n",
              "</table>\n",
              "</div>\n",
              "    <div class=\"colab-df-buttons\">\n",
              "\n",
              "  <div class=\"colab-df-container\">\n",
              "    <button class=\"colab-df-convert\" onclick=\"convertToInteractive('df-41a28e7a-5c70-4750-92c2-4c2b81e971b8')\"\n",
              "            title=\"Convert this dataframe to an interactive table.\"\n",
              "            style=\"display:none;\">\n",
              "\n",
              "  <svg xmlns=\"http://www.w3.org/2000/svg\" height=\"24px\" viewBox=\"0 -960 960 960\">\n",
              "    <path d=\"M120-120v-720h720v720H120Zm60-500h600v-160H180v160Zm220 220h160v-160H400v160Zm0 220h160v-160H400v160ZM180-400h160v-160H180v160Zm440 0h160v-160H620v160ZM180-180h160v-160H180v160Zm440 0h160v-160H620v160Z\"/>\n",
              "  </svg>\n",
              "    </button>\n",
              "\n",
              "  <style>\n",
              "    .colab-df-container {\n",
              "      display:flex;\n",
              "      gap: 12px;\n",
              "    }\n",
              "\n",
              "    .colab-df-convert {\n",
              "      background-color: #E8F0FE;\n",
              "      border: none;\n",
              "      border-radius: 50%;\n",
              "      cursor: pointer;\n",
              "      display: none;\n",
              "      fill: #1967D2;\n",
              "      height: 32px;\n",
              "      padding: 0 0 0 0;\n",
              "      width: 32px;\n",
              "    }\n",
              "\n",
              "    .colab-df-convert:hover {\n",
              "      background-color: #E2EBFA;\n",
              "      box-shadow: 0px 1px 2px rgba(60, 64, 67, 0.3), 0px 1px 3px 1px rgba(60, 64, 67, 0.15);\n",
              "      fill: #174EA6;\n",
              "    }\n",
              "\n",
              "    .colab-df-buttons div {\n",
              "      margin-bottom: 4px;\n",
              "    }\n",
              "\n",
              "    [theme=dark] .colab-df-convert {\n",
              "      background-color: #3B4455;\n",
              "      fill: #D2E3FC;\n",
              "    }\n",
              "\n",
              "    [theme=dark] .colab-df-convert:hover {\n",
              "      background-color: #434B5C;\n",
              "      box-shadow: 0px 1px 3px 1px rgba(0, 0, 0, 0.15);\n",
              "      filter: drop-shadow(0px 1px 2px rgba(0, 0, 0, 0.3));\n",
              "      fill: #FFFFFF;\n",
              "    }\n",
              "  </style>\n",
              "\n",
              "    <script>\n",
              "      const buttonEl =\n",
              "        document.querySelector('#df-41a28e7a-5c70-4750-92c2-4c2b81e971b8 button.colab-df-convert');\n",
              "      buttonEl.style.display =\n",
              "        google.colab.kernel.accessAllowed ? 'block' : 'none';\n",
              "\n",
              "      async function convertToInteractive(key) {\n",
              "        const element = document.querySelector('#df-41a28e7a-5c70-4750-92c2-4c2b81e971b8');\n",
              "        const dataTable =\n",
              "          await google.colab.kernel.invokeFunction('convertToInteractive',\n",
              "                                                    [key], {});\n",
              "        if (!dataTable) return;\n",
              "\n",
              "        const docLinkHtml = 'Like what you see? Visit the ' +\n",
              "          '<a target=\"_blank\" href=https://colab.research.google.com/notebooks/data_table.ipynb>data table notebook</a>'\n",
              "          + ' to learn more about interactive tables.';\n",
              "        element.innerHTML = '';\n",
              "        dataTable['output_type'] = 'display_data';\n",
              "        await google.colab.output.renderOutput(dataTable, element);\n",
              "        const docLink = document.createElement('div');\n",
              "        docLink.innerHTML = docLinkHtml;\n",
              "        element.appendChild(docLink);\n",
              "      }\n",
              "    </script>\n",
              "  </div>\n",
              "\n",
              "\n",
              "<div id=\"df-712c8a9d-7782-4414-8123-53348b29e5a7\">\n",
              "  <button class=\"colab-df-quickchart\" onclick=\"quickchart('df-712c8a9d-7782-4414-8123-53348b29e5a7')\"\n",
              "            title=\"Suggest charts\"\n",
              "            style=\"display:none;\">\n",
              "\n",
              "<svg xmlns=\"http://www.w3.org/2000/svg\" height=\"24px\"viewBox=\"0 0 24 24\"\n",
              "     width=\"24px\">\n",
              "    <g>\n",
              "        <path d=\"M19 3H5c-1.1 0-2 .9-2 2v14c0 1.1.9 2 2 2h14c1.1 0 2-.9 2-2V5c0-1.1-.9-2-2-2zM9 17H7v-7h2v7zm4 0h-2V7h2v10zm4 0h-2v-4h2v4z\"/>\n",
              "    </g>\n",
              "</svg>\n",
              "  </button>\n",
              "\n",
              "<style>\n",
              "  .colab-df-quickchart {\n",
              "      --bg-color: #E8F0FE;\n",
              "      --fill-color: #1967D2;\n",
              "      --hover-bg-color: #E2EBFA;\n",
              "      --hover-fill-color: #174EA6;\n",
              "      --disabled-fill-color: #AAA;\n",
              "      --disabled-bg-color: #DDD;\n",
              "  }\n",
              "\n",
              "  [theme=dark] .colab-df-quickchart {\n",
              "      --bg-color: #3B4455;\n",
              "      --fill-color: #D2E3FC;\n",
              "      --hover-bg-color: #434B5C;\n",
              "      --hover-fill-color: #FFFFFF;\n",
              "      --disabled-bg-color: #3B4455;\n",
              "      --disabled-fill-color: #666;\n",
              "  }\n",
              "\n",
              "  .colab-df-quickchart {\n",
              "    background-color: var(--bg-color);\n",
              "    border: none;\n",
              "    border-radius: 50%;\n",
              "    cursor: pointer;\n",
              "    display: none;\n",
              "    fill: var(--fill-color);\n",
              "    height: 32px;\n",
              "    padding: 0;\n",
              "    width: 32px;\n",
              "  }\n",
              "\n",
              "  .colab-df-quickchart:hover {\n",
              "    background-color: var(--hover-bg-color);\n",
              "    box-shadow: 0 1px 2px rgba(60, 64, 67, 0.3), 0 1px 3px 1px rgba(60, 64, 67, 0.15);\n",
              "    fill: var(--button-hover-fill-color);\n",
              "  }\n",
              "\n",
              "  .colab-df-quickchart-complete:disabled,\n",
              "  .colab-df-quickchart-complete:disabled:hover {\n",
              "    background-color: var(--disabled-bg-color);\n",
              "    fill: var(--disabled-fill-color);\n",
              "    box-shadow: none;\n",
              "  }\n",
              "\n",
              "  .colab-df-spinner {\n",
              "    border: 2px solid var(--fill-color);\n",
              "    border-color: transparent;\n",
              "    border-bottom-color: var(--fill-color);\n",
              "    animation:\n",
              "      spin 1s steps(1) infinite;\n",
              "  }\n",
              "\n",
              "  @keyframes spin {\n",
              "    0% {\n",
              "      border-color: transparent;\n",
              "      border-bottom-color: var(--fill-color);\n",
              "      border-left-color: var(--fill-color);\n",
              "    }\n",
              "    20% {\n",
              "      border-color: transparent;\n",
              "      border-left-color: var(--fill-color);\n",
              "      border-top-color: var(--fill-color);\n",
              "    }\n",
              "    30% {\n",
              "      border-color: transparent;\n",
              "      border-left-color: var(--fill-color);\n",
              "      border-top-color: var(--fill-color);\n",
              "      border-right-color: var(--fill-color);\n",
              "    }\n",
              "    40% {\n",
              "      border-color: transparent;\n",
              "      border-right-color: var(--fill-color);\n",
              "      border-top-color: var(--fill-color);\n",
              "    }\n",
              "    60% {\n",
              "      border-color: transparent;\n",
              "      border-right-color: var(--fill-color);\n",
              "    }\n",
              "    80% {\n",
              "      border-color: transparent;\n",
              "      border-right-color: var(--fill-color);\n",
              "      border-bottom-color: var(--fill-color);\n",
              "    }\n",
              "    90% {\n",
              "      border-color: transparent;\n",
              "      border-bottom-color: var(--fill-color);\n",
              "    }\n",
              "  }\n",
              "</style>\n",
              "\n",
              "  <script>\n",
              "    async function quickchart(key) {\n",
              "      const quickchartButtonEl =\n",
              "        document.querySelector('#' + key + ' button');\n",
              "      quickchartButtonEl.disabled = true;  // To prevent multiple clicks.\n",
              "      quickchartButtonEl.classList.add('colab-df-spinner');\n",
              "      try {\n",
              "        const charts = await google.colab.kernel.invokeFunction(\n",
              "            'suggestCharts', [key], {});\n",
              "      } catch (error) {\n",
              "        console.error('Error during call to suggestCharts:', error);\n",
              "      }\n",
              "      quickchartButtonEl.classList.remove('colab-df-spinner');\n",
              "      quickchartButtonEl.classList.add('colab-df-quickchart-complete');\n",
              "    }\n",
              "    (() => {\n",
              "      let quickchartButtonEl =\n",
              "        document.querySelector('#df-712c8a9d-7782-4414-8123-53348b29e5a7 button');\n",
              "      quickchartButtonEl.style.display =\n",
              "        google.colab.kernel.accessAllowed ? 'block' : 'none';\n",
              "    })();\n",
              "  </script>\n",
              "</div>\n",
              "\n",
              "    </div>\n",
              "  </div>\n"
            ],
            "application/vnd.google.colaboratory.intrinsic+json": {
              "type": "dataframe",
              "variable_name": "df",
              "summary": "{\n  \"name\": \"df\",\n  \"rows\": 14,\n  \"fields\": [\n    {\n      \"column\": \"\\uc5f0\\ub3c4\",\n      \"properties\": {\n        \"dtype\": \"number\",\n        \"std\": 2,\n        \"min\": 2014,\n        \"max\": 2020,\n        \"num_unique_values\": 7,\n        \"samples\": [\n          2014,\n          2015,\n          2019\n        ],\n        \"semantic_type\": \"\",\n        \"description\": \"\"\n      }\n    },\n    {\n      \"column\": \"\\uad6c\\ubd84\",\n      \"properties\": {\n        \"dtype\": \"category\",\n        \"num_unique_values\": 2,\n        \"samples\": [\n          \"\\ubc1c\\uc0dd\\uac74\\uc218\",\n          \"\\uac80\\uac70\\uac74\\uc218\"\n        ],\n        \"semantic_type\": \"\",\n        \"description\": \"\"\n      }\n    },\n    {\n      \"column\": \"\\ubc94\\uc8c4\\uc720\\ud6151\",\n      \"properties\": {\n        \"dtype\": \"number\",\n        \"std\": 392,\n        \"min\": 808,\n        \"max\": 2086,\n        \"num_unique_values\": 14,\n        \"samples\": [\n          1394,\n          2040\n        ],\n        \"semantic_type\": \"\",\n        \"description\": \"\"\n      }\n    },\n    {\n      \"column\": \"\\ubc94\\uc8c4\\uc720\\ud6152\",\n      \"properties\": {\n        \"dtype\": \"number\",\n        \"std\": 305,\n        \"min\": 816,\n        \"max\": 1800,\n        \"num_unique_values\": 14,\n        \"samples\": [\n          1466,\n          1739\n        ],\n        \"semantic_type\": \"\",\n        \"description\": \"\"\n      }\n    },\n    {\n      \"column\": \"\\ubc94\\uc8c4\\uc720\\ud6153\",\n      \"properties\": {\n        \"dtype\": \"number\",\n        \"std\": 365,\n        \"min\": 824,\n        \"max\": 1931,\n        \"num_unique_values\": 14,\n        \"samples\": [\n          1864,\n          1803\n        ],\n        \"semantic_type\": \"\",\n        \"description\": \"\"\n      }\n    },\n    {\n      \"column\": \"\\ubc94\\uc8c4\\uc720\\ud6154\",\n      \"properties\": {\n        \"dtype\": \"number\",\n        \"std\": 308,\n        \"min\": 841,\n        \"max\": 1933,\n        \"num_unique_values\": 14,\n        \"samples\": [\n          1933,\n          1709\n        ],\n        \"semantic_type\": \"\",\n        \"description\": \"\"\n      }\n    },\n    {\n      \"column\": \"\\ubc94\\uc8c4\\uc720\\ud6155\",\n      \"properties\": {\n        \"dtype\": \"number\",\n        \"std\": 356,\n        \"min\": 840,\n        \"max\": 2024,\n        \"num_unique_values\": 14,\n        \"samples\": [\n          1598,\n          2024\n        ],\n        \"semantic_type\": \"\",\n        \"description\": \"\"\n      }\n    },\n    {\n      \"column\": \"\\ubc94\\uc8c4\\uc720\\ud6156\",\n      \"properties\": {\n        \"dtype\": \"number\",\n        \"std\": 388,\n        \"min\": 848,\n        \"max\": 2213,\n        \"num_unique_values\": 13,\n        \"samples\": [\n          1328,\n          1424\n        ],\n        \"semantic_type\": \"\",\n        \"description\": \"\"\n      }\n    },\n    {\n      \"column\": \"\\ubc94\\uc8c4\\uc720\\ud6157\",\n      \"properties\": {\n        \"dtype\": \"number\",\n        \"std\": 326,\n        \"min\": 856,\n        \"max\": 1942,\n        \"num_unique_values\": 13,\n        \"samples\": [\n          1336,\n          1669\n        ],\n        \"semantic_type\": \"\",\n        \"description\": \"\"\n      }\n    },\n    {\n      \"column\": \"\\ubc94\\uc8c4\\uc720\\ud6158\",\n      \"properties\": {\n        \"dtype\": \"number\",\n        \"std\": 282,\n        \"min\": 864,\n        \"max\": 1762,\n        \"num_unique_values\": 14,\n        \"samples\": [\n          1624,\n          1691\n        ],\n        \"semantic_type\": \"\",\n        \"description\": \"\"\n      }\n    },\n    {\n      \"column\": \"\\ubc94\\uc8c4\\uc720\\ud6159\",\n      \"properties\": {\n        \"dtype\": \"number\",\n        \"std\": 376,\n        \"min\": 872,\n        \"max\": 2136,\n        \"num_unique_values\": 14,\n        \"samples\": [\n          1928,\n          1472\n        ],\n        \"semantic_type\": \"\",\n        \"description\": \"\"\n      }\n    },\n    {\n      \"column\": \"\\ubc94\\uc8c4\\uc720\\ud61510\",\n      \"properties\": {\n        \"dtype\": \"number\",\n        \"std\": 363,\n        \"min\": 880,\n        \"max\": 1946,\n        \"num_unique_values\": 14,\n        \"samples\": [\n          1946,\n          1938\n        ],\n        \"semantic_type\": \"\",\n        \"description\": \"\"\n      }\n    }\n  ]\n}"
            }
          },
          "metadata": {},
          "execution_count": 4
        }
      ]
    },
    {
      "cell_type": "code",
      "source": [],
      "metadata": {
        "id": "YjP-v3GVzMr8"
      },
      "execution_count": null,
      "outputs": []
    },
    {
      "cell_type": "markdown",
      "source": [
        "**1-3. 근속연수**\n",
        "- 평균만족도에 존재하는 결측치는 전체 평균만족도의 평균으로 채우기 한다.\n",
        "- 근속연수에 존재하는 결측치는 부서와 성과등급이 같은 사원의 근속연수 평균을 정수로 변환하여 채우기 한다.\n",
        "- a를 부서가 'Sales'이고, 성과등급이 'C'인 사람들의 평균 근속연수,\n",
        "- b를 부서가 'Operations' 이고, 평균만족도가 2.5 이상인 사람들의 평균 교육참가횟수로 하여 a + b의 값을 구하여라\n"
      ],
      "metadata": {
        "id": "FD9c71Wu3ydR"
      }
    },
    {
      "cell_type": "code",
      "source": [
        "import pandas as pd\n",
        "path = 'https://raw.githubusercontent.com/Soyoung-Yoon/bigdata/main/'\n",
        "df = pd.read_csv(path+'hr_data_2.csv')\n",
        "df.head(3)"
      ],
      "metadata": {
        "colab": {
          "base_uri": "https://localhost:8080/",
          "height": 143
        },
        "id": "uvEffP8NpIQ3",
        "outputId": "c5eea248-53e7-4dfe-9e73-afe7b3ddf3dc"
      },
      "execution_count": null,
      "outputs": [
        {
          "output_type": "execute_result",
          "data": {
            "text/plain": [
              "   ID       부서 성과등급  근속연수  교육참가횟수  평균만족도\n",
              "0   1  Finance    B  16.0      12   3.80\n",
              "1   2       IT    A  14.0      12   1.42\n",
              "2   3    Sales    B  18.0      13   2.60"
            ],
            "text/html": [
              "\n",
              "  <div id=\"df-7d7513ee-b254-4b11-8ace-93ba77a16ec5\" class=\"colab-df-container\">\n",
              "    <div>\n",
              "<style scoped>\n",
              "    .dataframe tbody tr th:only-of-type {\n",
              "        vertical-align: middle;\n",
              "    }\n",
              "\n",
              "    .dataframe tbody tr th {\n",
              "        vertical-align: top;\n",
              "    }\n",
              "\n",
              "    .dataframe thead th {\n",
              "        text-align: right;\n",
              "    }\n",
              "</style>\n",
              "<table border=\"1\" class=\"dataframe\">\n",
              "  <thead>\n",
              "    <tr style=\"text-align: right;\">\n",
              "      <th></th>\n",
              "      <th>ID</th>\n",
              "      <th>부서</th>\n",
              "      <th>성과등급</th>\n",
              "      <th>근속연수</th>\n",
              "      <th>교육참가횟수</th>\n",
              "      <th>평균만족도</th>\n",
              "    </tr>\n",
              "  </thead>\n",
              "  <tbody>\n",
              "    <tr>\n",
              "      <th>0</th>\n",
              "      <td>1</td>\n",
              "      <td>Finance</td>\n",
              "      <td>B</td>\n",
              "      <td>16.0</td>\n",
              "      <td>12</td>\n",
              "      <td>3.80</td>\n",
              "    </tr>\n",
              "    <tr>\n",
              "      <th>1</th>\n",
              "      <td>2</td>\n",
              "      <td>IT</td>\n",
              "      <td>A</td>\n",
              "      <td>14.0</td>\n",
              "      <td>12</td>\n",
              "      <td>1.42</td>\n",
              "    </tr>\n",
              "    <tr>\n",
              "      <th>2</th>\n",
              "      <td>3</td>\n",
              "      <td>Sales</td>\n",
              "      <td>B</td>\n",
              "      <td>18.0</td>\n",
              "      <td>13</td>\n",
              "      <td>2.60</td>\n",
              "    </tr>\n",
              "  </tbody>\n",
              "</table>\n",
              "</div>\n",
              "    <div class=\"colab-df-buttons\">\n",
              "\n",
              "  <div class=\"colab-df-container\">\n",
              "    <button class=\"colab-df-convert\" onclick=\"convertToInteractive('df-7d7513ee-b254-4b11-8ace-93ba77a16ec5')\"\n",
              "            title=\"Convert this dataframe to an interactive table.\"\n",
              "            style=\"display:none;\">\n",
              "\n",
              "  <svg xmlns=\"http://www.w3.org/2000/svg\" height=\"24px\" viewBox=\"0 -960 960 960\">\n",
              "    <path d=\"M120-120v-720h720v720H120Zm60-500h600v-160H180v160Zm220 220h160v-160H400v160Zm0 220h160v-160H400v160ZM180-400h160v-160H180v160Zm440 0h160v-160H620v160ZM180-180h160v-160H180v160Zm440 0h160v-160H620v160Z\"/>\n",
              "  </svg>\n",
              "    </button>\n",
              "\n",
              "  <style>\n",
              "    .colab-df-container {\n",
              "      display:flex;\n",
              "      gap: 12px;\n",
              "    }\n",
              "\n",
              "    .colab-df-convert {\n",
              "      background-color: #E8F0FE;\n",
              "      border: none;\n",
              "      border-radius: 50%;\n",
              "      cursor: pointer;\n",
              "      display: none;\n",
              "      fill: #1967D2;\n",
              "      height: 32px;\n",
              "      padding: 0 0 0 0;\n",
              "      width: 32px;\n",
              "    }\n",
              "\n",
              "    .colab-df-convert:hover {\n",
              "      background-color: #E2EBFA;\n",
              "      box-shadow: 0px 1px 2px rgba(60, 64, 67, 0.3), 0px 1px 3px 1px rgba(60, 64, 67, 0.15);\n",
              "      fill: #174EA6;\n",
              "    }\n",
              "\n",
              "    .colab-df-buttons div {\n",
              "      margin-bottom: 4px;\n",
              "    }\n",
              "\n",
              "    [theme=dark] .colab-df-convert {\n",
              "      background-color: #3B4455;\n",
              "      fill: #D2E3FC;\n",
              "    }\n",
              "\n",
              "    [theme=dark] .colab-df-convert:hover {\n",
              "      background-color: #434B5C;\n",
              "      box-shadow: 0px 1px 3px 1px rgba(0, 0, 0, 0.15);\n",
              "      filter: drop-shadow(0px 1px 2px rgba(0, 0, 0, 0.3));\n",
              "      fill: #FFFFFF;\n",
              "    }\n",
              "  </style>\n",
              "\n",
              "    <script>\n",
              "      const buttonEl =\n",
              "        document.querySelector('#df-7d7513ee-b254-4b11-8ace-93ba77a16ec5 button.colab-df-convert');\n",
              "      buttonEl.style.display =\n",
              "        google.colab.kernel.accessAllowed ? 'block' : 'none';\n",
              "\n",
              "      async function convertToInteractive(key) {\n",
              "        const element = document.querySelector('#df-7d7513ee-b254-4b11-8ace-93ba77a16ec5');\n",
              "        const dataTable =\n",
              "          await google.colab.kernel.invokeFunction('convertToInteractive',\n",
              "                                                    [key], {});\n",
              "        if (!dataTable) return;\n",
              "\n",
              "        const docLinkHtml = 'Like what you see? Visit the ' +\n",
              "          '<a target=\"_blank\" href=https://colab.research.google.com/notebooks/data_table.ipynb>data table notebook</a>'\n",
              "          + ' to learn more about interactive tables.';\n",
              "        element.innerHTML = '';\n",
              "        dataTable['output_type'] = 'display_data';\n",
              "        await google.colab.output.renderOutput(dataTable, element);\n",
              "        const docLink = document.createElement('div');\n",
              "        docLink.innerHTML = docLinkHtml;\n",
              "        element.appendChild(docLink);\n",
              "      }\n",
              "    </script>\n",
              "  </div>\n",
              "\n",
              "\n",
              "<div id=\"df-9ca433c5-00f4-4ff7-a510-4bffe27450d2\">\n",
              "  <button class=\"colab-df-quickchart\" onclick=\"quickchart('df-9ca433c5-00f4-4ff7-a510-4bffe27450d2')\"\n",
              "            title=\"Suggest charts\"\n",
              "            style=\"display:none;\">\n",
              "\n",
              "<svg xmlns=\"http://www.w3.org/2000/svg\" height=\"24px\"viewBox=\"0 0 24 24\"\n",
              "     width=\"24px\">\n",
              "    <g>\n",
              "        <path d=\"M19 3H5c-1.1 0-2 .9-2 2v14c0 1.1.9 2 2 2h14c1.1 0 2-.9 2-2V5c0-1.1-.9-2-2-2zM9 17H7v-7h2v7zm4 0h-2V7h2v10zm4 0h-2v-4h2v4z\"/>\n",
              "    </g>\n",
              "</svg>\n",
              "  </button>\n",
              "\n",
              "<style>\n",
              "  .colab-df-quickchart {\n",
              "      --bg-color: #E8F0FE;\n",
              "      --fill-color: #1967D2;\n",
              "      --hover-bg-color: #E2EBFA;\n",
              "      --hover-fill-color: #174EA6;\n",
              "      --disabled-fill-color: #AAA;\n",
              "      --disabled-bg-color: #DDD;\n",
              "  }\n",
              "\n",
              "  [theme=dark] .colab-df-quickchart {\n",
              "      --bg-color: #3B4455;\n",
              "      --fill-color: #D2E3FC;\n",
              "      --hover-bg-color: #434B5C;\n",
              "      --hover-fill-color: #FFFFFF;\n",
              "      --disabled-bg-color: #3B4455;\n",
              "      --disabled-fill-color: #666;\n",
              "  }\n",
              "\n",
              "  .colab-df-quickchart {\n",
              "    background-color: var(--bg-color);\n",
              "    border: none;\n",
              "    border-radius: 50%;\n",
              "    cursor: pointer;\n",
              "    display: none;\n",
              "    fill: var(--fill-color);\n",
              "    height: 32px;\n",
              "    padding: 0;\n",
              "    width: 32px;\n",
              "  }\n",
              "\n",
              "  .colab-df-quickchart:hover {\n",
              "    background-color: var(--hover-bg-color);\n",
              "    box-shadow: 0 1px 2px rgba(60, 64, 67, 0.3), 0 1px 3px 1px rgba(60, 64, 67, 0.15);\n",
              "    fill: var(--button-hover-fill-color);\n",
              "  }\n",
              "\n",
              "  .colab-df-quickchart-complete:disabled,\n",
              "  .colab-df-quickchart-complete:disabled:hover {\n",
              "    background-color: var(--disabled-bg-color);\n",
              "    fill: var(--disabled-fill-color);\n",
              "    box-shadow: none;\n",
              "  }\n",
              "\n",
              "  .colab-df-spinner {\n",
              "    border: 2px solid var(--fill-color);\n",
              "    border-color: transparent;\n",
              "    border-bottom-color: var(--fill-color);\n",
              "    animation:\n",
              "      spin 1s steps(1) infinite;\n",
              "  }\n",
              "\n",
              "  @keyframes spin {\n",
              "    0% {\n",
              "      border-color: transparent;\n",
              "      border-bottom-color: var(--fill-color);\n",
              "      border-left-color: var(--fill-color);\n",
              "    }\n",
              "    20% {\n",
              "      border-color: transparent;\n",
              "      border-left-color: var(--fill-color);\n",
              "      border-top-color: var(--fill-color);\n",
              "    }\n",
              "    30% {\n",
              "      border-color: transparent;\n",
              "      border-left-color: var(--fill-color);\n",
              "      border-top-color: var(--fill-color);\n",
              "      border-right-color: var(--fill-color);\n",
              "    }\n",
              "    40% {\n",
              "      border-color: transparent;\n",
              "      border-right-color: var(--fill-color);\n",
              "      border-top-color: var(--fill-color);\n",
              "    }\n",
              "    60% {\n",
              "      border-color: transparent;\n",
              "      border-right-color: var(--fill-color);\n",
              "    }\n",
              "    80% {\n",
              "      border-color: transparent;\n",
              "      border-right-color: var(--fill-color);\n",
              "      border-bottom-color: var(--fill-color);\n",
              "    }\n",
              "    90% {\n",
              "      border-color: transparent;\n",
              "      border-bottom-color: var(--fill-color);\n",
              "    }\n",
              "  }\n",
              "</style>\n",
              "\n",
              "  <script>\n",
              "    async function quickchart(key) {\n",
              "      const quickchartButtonEl =\n",
              "        document.querySelector('#' + key + ' button');\n",
              "      quickchartButtonEl.disabled = true;  // To prevent multiple clicks.\n",
              "      quickchartButtonEl.classList.add('colab-df-spinner');\n",
              "      try {\n",
              "        const charts = await google.colab.kernel.invokeFunction(\n",
              "            'suggestCharts', [key], {});\n",
              "      } catch (error) {\n",
              "        console.error('Error during call to suggestCharts:', error);\n",
              "      }\n",
              "      quickchartButtonEl.classList.remove('colab-df-spinner');\n",
              "      quickchartButtonEl.classList.add('colab-df-quickchart-complete');\n",
              "    }\n",
              "    (() => {\n",
              "      let quickchartButtonEl =\n",
              "        document.querySelector('#df-9ca433c5-00f4-4ff7-a510-4bffe27450d2 button');\n",
              "      quickchartButtonEl.style.display =\n",
              "        google.colab.kernel.accessAllowed ? 'block' : 'none';\n",
              "    })();\n",
              "  </script>\n",
              "</div>\n",
              "\n",
              "    </div>\n",
              "  </div>\n"
            ],
            "application/vnd.google.colaboratory.intrinsic+json": {
              "type": "dataframe",
              "variable_name": "df",
              "summary": "{\n  \"name\": \"df\",\n  \"rows\": 1000,\n  \"fields\": [\n    {\n      \"column\": \"ID\",\n      \"properties\": {\n        \"dtype\": \"number\",\n        \"std\": 288,\n        \"min\": 1,\n        \"max\": 1000,\n        \"num_unique_values\": 1000,\n        \"samples\": [\n          522,\n          738,\n          741\n        ],\n        \"semantic_type\": \"\",\n        \"description\": \"\"\n      }\n    },\n    {\n      \"column\": \"\\ubd80\\uc11c\",\n      \"properties\": {\n        \"dtype\": \"category\",\n        \"num_unique_values\": 6,\n        \"samples\": [\n          \"Finance\",\n          \"IT\",\n          \"Marketing\"\n        ],\n        \"semantic_type\": \"\",\n        \"description\": \"\"\n      }\n    },\n    {\n      \"column\": \"\\uc131\\uacfc\\ub4f1\\uae09\",\n      \"properties\": {\n        \"dtype\": \"category\",\n        \"num_unique_values\": 3,\n        \"samples\": [\n          \"B\",\n          \"A\",\n          \"C\"\n        ],\n        \"semantic_type\": \"\",\n        \"description\": \"\"\n      }\n    },\n    {\n      \"column\": \"\\uadfc\\uc18d\\uc5f0\\uc218\",\n      \"properties\": {\n        \"dtype\": \"number\",\n        \"std\": 4.3341138820946,\n        \"min\": 5.0,\n        \"max\": 20.0,\n        \"num_unique_values\": 33,\n        \"samples\": [\n          11.840909090909092,\n          13.34,\n          11.304347826086955\n        ],\n        \"semantic_type\": \"\",\n        \"description\": \"\"\n      }\n    },\n    {\n      \"column\": \"\\uad50\\uc721\\ucc38\\uac00\\ud69f\\uc218\",\n      \"properties\": {\n        \"dtype\": \"number\",\n        \"std\": 2,\n        \"min\": 5,\n        \"max\": 15,\n        \"num_unique_values\": 11,\n        \"samples\": [\n          8,\n          12,\n          15\n        ],\n        \"semantic_type\": \"\",\n        \"description\": \"\"\n      }\n    },\n    {\n      \"column\": \"\\ud3c9\\uade0\\ub9cc\\uc871\\ub3c4\",\n      \"properties\": {\n        \"dtype\": \"number\",\n        \"std\": 1.1075205127832137,\n        \"min\": 1.0,\n        \"max\": 5.0,\n        \"num_unique_values\": 369,\n        \"samples\": [\n          2.77,\n          4.04,\n          4.37\n        ],\n        \"semantic_type\": \"\",\n        \"description\": \"\"\n      }\n    }\n  ]\n}"
            }
          },
          "metadata": {},
          "execution_count": 49
        }
      ]
    },
    {
      "cell_type": "code",
      "source": [],
      "metadata": {
        "id": "mtNPwA4A5IEV"
      },
      "execution_count": null,
      "outputs": []
    },
    {
      "cell_type": "markdown",
      "source": [
        "### 작업2유형 - 다항분류, macro f1_score\n",
        "\n"
      ],
      "metadata": {
        "id": "eYP4nJ4H7ZAk"
      }
    },
    {
      "cell_type": "markdown",
      "source": [
        "**2-01. 문제이해**\n",
        "- 2개의 파일이 주어집니다. farm_train.csv, farm_test2.csv\n",
        "- 연계 농업 작업 분류 데이터 구성\n",
        " - 작업 연도, 작업 소요 일수, 작업 순서, 작업 분류, 작물명, 작물 분류,\n",
        " - 작업 상위 분류, 지역, 작업 시작일, 연속 작업 여부, 재배면적 및 등급\n",
        "- 작업 분류를 예측하는 프로그램을 작성하시오.\n",
        "- 종속변수 : SUB_CATEGORY(작업 분류, 0: 수확 및 출하관리, 1: 비료영양관리 및 병해충관리, 2: 재배관리)\n",
        "- 평가지표 : f1 score, macro\n",
        "- 제출파일 : result.csv, index는 출력하지 말것\n",
        "- SUB_CATEGORY 출력 (1개 칼럼) (1400개)\n",
        "- 제출형식\n",
        "        0\n",
        "        0\n",
        "        1\n",
        "        2\n",
        "        0\n",
        "        2\n",
        "- 결측치 없었음, 범주형 변수 여러 개 있음"
      ],
      "metadata": {
        "id": "9ftk1xzu7iBZ"
      }
    },
    {
      "cell_type": "code",
      "source": [
        "import pandas as pd\n",
        "XY = pd.read_csv('https://raw.githubusercontent.com/Soyoung-Yoon/bigdata/main/farm_train.csv')\n",
        "X_submission = pd.read_csv('https://raw.githubusercontent.com/Soyoung-Yoon/bigdata/main/farm_test2.csv')\n",
        "print(XY.head(3))\n",
        "print(X_submission.head(3))"
      ],
      "metadata": {
        "colab": {
          "base_uri": "https://localhost:8080/"
        },
        "id": "x_KBhHJY6iA-",
        "outputId": "a4f4593e-4f99-4749-aaae-b52119ca0cae"
      },
      "execution_count": null,
      "outputs": [
        {
          "output_type": "stream",
          "name": "stdout",
          "text": [
            "   YEAR  DAYS  ORDER  SUB_CATEGORY   ITEM CROP_TYPE CATEGORY REGION  \\\n",
            "0  2020   140      2             0  방울토마토     과일과채류     재배관리   경기권역   \n",
            "1  2023    70      2             0  방울토마토     과일과채류     재배관리   경기권역   \n",
            "2  2024   140      2             2  방울토마토     과일과채류     재배관리   경기권역   \n",
            "\n",
            "   START_DATE  IS_CONTINUOUS  SCALED_AREA RANK_GRADE  \n",
            "0         311              0     0.371429          C  \n",
            "1         311              0     0.171429          C  \n",
            "2         311              0     0.371429          C  \n",
            "   YEAR  DAYS  ORDER ITEM CROP_TYPE CATEGORY REGION  START_DATE  \\\n",
            "0  2020    40      1   딸기     과일과채류     재배관리   중부권역         201   \n",
            "1  2024    20      1    벼       미곡류     재배관리   중부권역         511   \n",
            "2  2025   180      2    벼       미곡류     재배관리   영남권역         601   \n",
            "\n",
            "   IS_CONTINUOUS  SCALED_AREA RANK_GRADE  \n",
            "0              0     0.085714          C  \n",
            "1              1     0.028571          C  \n",
            "2              1     0.485714          C  \n"
          ]
        }
      ]
    },
    {
      "cell_type": "code",
      "source": [],
      "metadata": {
        "id": "J6anhylg8D1F"
      },
      "execution_count": null,
      "outputs": []
    },
    {
      "cell_type": "markdown",
      "source": [
        "**2-02. 문제풀이**\n",
        "- XY = pd.read_csv('https://raw.githubusercontent.com/Soyoung-Yoon/bigdata/main/farm_train.csv')\n",
        "- X_submission = pd.read_csv('https://raw.githubusercontent.com/Soyoung-Yoon/bigdata/main/farm_test2.csv')\n"
      ],
      "metadata": {
        "id": "lg8lowMA8Dlw"
      }
    },
    {
      "cell_type": "code",
      "source": [],
      "metadata": {
        "id": "KdFioDXWCeZx"
      },
      "execution_count": null,
      "outputs": []
    },
    {
      "cell_type": "markdown",
      "source": [
        "### 작업3유형 - 로지스틱회귀, 다중선형회귀"
      ],
      "metadata": {
        "id": "VIFh-QSo8PqK"
      }
    },
    {
      "cell_type": "markdown",
      "source": [
        "**3-1. 다중선형회귀**\n",
        "\n",
        "미술학과의 시험에 관련된 데이터를 사용하여 다음의 값을 구하시오.\n",
        "- 종속변수 'design', 독립변수 'drawing', 'color_theory', 'composition', '3D_modeling'\n",
        "- train : 140개, test : 나머지데이터\n",
        "- 1) 유의한 변수의 개수는 몇 개인가?\n",
        "- 2) 1)에서 구한 유의한 변수만 사용하여 다시 모델을 만들고, train 데이터를 사용하여 해당 모델의 예측값과 실제값의 피어슨 상관계수를 구하여라.\n",
        "- 3) 2)에서 생성된 모델을 사용해 test 데이터에 대한 rmse를 구하여라."
      ],
      "metadata": {
        "id": "Vpbiyf8M8JfC"
      }
    },
    {
      "cell_type": "code",
      "source": [
        "import pandas as pd\n",
        "path = 'https://raw.githubusercontent.com/Soyoung-Yoon/bigdata/main/'\n",
        "df = pd.read_csv(path+'design_data.csv')\n",
        "df.head(3)"
      ],
      "metadata": {
        "colab": {
          "base_uri": "https://localhost:8080/",
          "height": 143
        },
        "id": "VT5m4Wdg748a",
        "outputId": "73f31c68-6bee-4549-ea41-c342f2a3c0fd"
      },
      "execution_count": null,
      "outputs": [
        {
          "output_type": "execute_result",
          "data": {
            "text/plain": [
              "   tenure  drawing  color_theory  composition  modeling_3D     design\n",
              "0       5       99            65           86           99  81.422124\n",
              "1       6       62            94           92           90  79.054525\n",
              "2       2       75            81           77           92  78.762014"
            ],
            "text/html": [
              "\n",
              "  <div id=\"df-d66c7827-f369-4fec-a841-1fff7d4b6374\" class=\"colab-df-container\">\n",
              "    <div>\n",
              "<style scoped>\n",
              "    .dataframe tbody tr th:only-of-type {\n",
              "        vertical-align: middle;\n",
              "    }\n",
              "\n",
              "    .dataframe tbody tr th {\n",
              "        vertical-align: top;\n",
              "    }\n",
              "\n",
              "    .dataframe thead th {\n",
              "        text-align: right;\n",
              "    }\n",
              "</style>\n",
              "<table border=\"1\" class=\"dataframe\">\n",
              "  <thead>\n",
              "    <tr style=\"text-align: right;\">\n",
              "      <th></th>\n",
              "      <th>tenure</th>\n",
              "      <th>drawing</th>\n",
              "      <th>color_theory</th>\n",
              "      <th>composition</th>\n",
              "      <th>modeling_3D</th>\n",
              "      <th>design</th>\n",
              "    </tr>\n",
              "  </thead>\n",
              "  <tbody>\n",
              "    <tr>\n",
              "      <th>0</th>\n",
              "      <td>5</td>\n",
              "      <td>99</td>\n",
              "      <td>65</td>\n",
              "      <td>86</td>\n",
              "      <td>99</td>\n",
              "      <td>81.422124</td>\n",
              "    </tr>\n",
              "    <tr>\n",
              "      <th>1</th>\n",
              "      <td>6</td>\n",
              "      <td>62</td>\n",
              "      <td>94</td>\n",
              "      <td>92</td>\n",
              "      <td>90</td>\n",
              "      <td>79.054525</td>\n",
              "    </tr>\n",
              "    <tr>\n",
              "      <th>2</th>\n",
              "      <td>2</td>\n",
              "      <td>75</td>\n",
              "      <td>81</td>\n",
              "      <td>77</td>\n",
              "      <td>92</td>\n",
              "      <td>78.762014</td>\n",
              "    </tr>\n",
              "  </tbody>\n",
              "</table>\n",
              "</div>\n",
              "    <div class=\"colab-df-buttons\">\n",
              "\n",
              "  <div class=\"colab-df-container\">\n",
              "    <button class=\"colab-df-convert\" onclick=\"convertToInteractive('df-d66c7827-f369-4fec-a841-1fff7d4b6374')\"\n",
              "            title=\"Convert this dataframe to an interactive table.\"\n",
              "            style=\"display:none;\">\n",
              "\n",
              "  <svg xmlns=\"http://www.w3.org/2000/svg\" height=\"24px\" viewBox=\"0 -960 960 960\">\n",
              "    <path d=\"M120-120v-720h720v720H120Zm60-500h600v-160H180v160Zm220 220h160v-160H400v160Zm0 220h160v-160H400v160ZM180-400h160v-160H180v160Zm440 0h160v-160H620v160ZM180-180h160v-160H180v160Zm440 0h160v-160H620v160Z\"/>\n",
              "  </svg>\n",
              "    </button>\n",
              "\n",
              "  <style>\n",
              "    .colab-df-container {\n",
              "      display:flex;\n",
              "      gap: 12px;\n",
              "    }\n",
              "\n",
              "    .colab-df-convert {\n",
              "      background-color: #E8F0FE;\n",
              "      border: none;\n",
              "      border-radius: 50%;\n",
              "      cursor: pointer;\n",
              "      display: none;\n",
              "      fill: #1967D2;\n",
              "      height: 32px;\n",
              "      padding: 0 0 0 0;\n",
              "      width: 32px;\n",
              "    }\n",
              "\n",
              "    .colab-df-convert:hover {\n",
              "      background-color: #E2EBFA;\n",
              "      box-shadow: 0px 1px 2px rgba(60, 64, 67, 0.3), 0px 1px 3px 1px rgba(60, 64, 67, 0.15);\n",
              "      fill: #174EA6;\n",
              "    }\n",
              "\n",
              "    .colab-df-buttons div {\n",
              "      margin-bottom: 4px;\n",
              "    }\n",
              "\n",
              "    [theme=dark] .colab-df-convert {\n",
              "      background-color: #3B4455;\n",
              "      fill: #D2E3FC;\n",
              "    }\n",
              "\n",
              "    [theme=dark] .colab-df-convert:hover {\n",
              "      background-color: #434B5C;\n",
              "      box-shadow: 0px 1px 3px 1px rgba(0, 0, 0, 0.15);\n",
              "      filter: drop-shadow(0px 1px 2px rgba(0, 0, 0, 0.3));\n",
              "      fill: #FFFFFF;\n",
              "    }\n",
              "  </style>\n",
              "\n",
              "    <script>\n",
              "      const buttonEl =\n",
              "        document.querySelector('#df-d66c7827-f369-4fec-a841-1fff7d4b6374 button.colab-df-convert');\n",
              "      buttonEl.style.display =\n",
              "        google.colab.kernel.accessAllowed ? 'block' : 'none';\n",
              "\n",
              "      async function convertToInteractive(key) {\n",
              "        const element = document.querySelector('#df-d66c7827-f369-4fec-a841-1fff7d4b6374');\n",
              "        const dataTable =\n",
              "          await google.colab.kernel.invokeFunction('convertToInteractive',\n",
              "                                                    [key], {});\n",
              "        if (!dataTable) return;\n",
              "\n",
              "        const docLinkHtml = 'Like what you see? Visit the ' +\n",
              "          '<a target=\"_blank\" href=https://colab.research.google.com/notebooks/data_table.ipynb>data table notebook</a>'\n",
              "          + ' to learn more about interactive tables.';\n",
              "        element.innerHTML = '';\n",
              "        dataTable['output_type'] = 'display_data';\n",
              "        await google.colab.output.renderOutput(dataTable, element);\n",
              "        const docLink = document.createElement('div');\n",
              "        docLink.innerHTML = docLinkHtml;\n",
              "        element.appendChild(docLink);\n",
              "      }\n",
              "    </script>\n",
              "  </div>\n",
              "\n",
              "\n",
              "<div id=\"df-4fde31a2-99b3-4296-bdb2-69cec04341ee\">\n",
              "  <button class=\"colab-df-quickchart\" onclick=\"quickchart('df-4fde31a2-99b3-4296-bdb2-69cec04341ee')\"\n",
              "            title=\"Suggest charts\"\n",
              "            style=\"display:none;\">\n",
              "\n",
              "<svg xmlns=\"http://www.w3.org/2000/svg\" height=\"24px\"viewBox=\"0 0 24 24\"\n",
              "     width=\"24px\">\n",
              "    <g>\n",
              "        <path d=\"M19 3H5c-1.1 0-2 .9-2 2v14c0 1.1.9 2 2 2h14c1.1 0 2-.9 2-2V5c0-1.1-.9-2-2-2zM9 17H7v-7h2v7zm4 0h-2V7h2v10zm4 0h-2v-4h2v4z\"/>\n",
              "    </g>\n",
              "</svg>\n",
              "  </button>\n",
              "\n",
              "<style>\n",
              "  .colab-df-quickchart {\n",
              "      --bg-color: #E8F0FE;\n",
              "      --fill-color: #1967D2;\n",
              "      --hover-bg-color: #E2EBFA;\n",
              "      --hover-fill-color: #174EA6;\n",
              "      --disabled-fill-color: #AAA;\n",
              "      --disabled-bg-color: #DDD;\n",
              "  }\n",
              "\n",
              "  [theme=dark] .colab-df-quickchart {\n",
              "      --bg-color: #3B4455;\n",
              "      --fill-color: #D2E3FC;\n",
              "      --hover-bg-color: #434B5C;\n",
              "      --hover-fill-color: #FFFFFF;\n",
              "      --disabled-bg-color: #3B4455;\n",
              "      --disabled-fill-color: #666;\n",
              "  }\n",
              "\n",
              "  .colab-df-quickchart {\n",
              "    background-color: var(--bg-color);\n",
              "    border: none;\n",
              "    border-radius: 50%;\n",
              "    cursor: pointer;\n",
              "    display: none;\n",
              "    fill: var(--fill-color);\n",
              "    height: 32px;\n",
              "    padding: 0;\n",
              "    width: 32px;\n",
              "  }\n",
              "\n",
              "  .colab-df-quickchart:hover {\n",
              "    background-color: var(--hover-bg-color);\n",
              "    box-shadow: 0 1px 2px rgba(60, 64, 67, 0.3), 0 1px 3px 1px rgba(60, 64, 67, 0.15);\n",
              "    fill: var(--button-hover-fill-color);\n",
              "  }\n",
              "\n",
              "  .colab-df-quickchart-complete:disabled,\n",
              "  .colab-df-quickchart-complete:disabled:hover {\n",
              "    background-color: var(--disabled-bg-color);\n",
              "    fill: var(--disabled-fill-color);\n",
              "    box-shadow: none;\n",
              "  }\n",
              "\n",
              "  .colab-df-spinner {\n",
              "    border: 2px solid var(--fill-color);\n",
              "    border-color: transparent;\n",
              "    border-bottom-color: var(--fill-color);\n",
              "    animation:\n",
              "      spin 1s steps(1) infinite;\n",
              "  }\n",
              "\n",
              "  @keyframes spin {\n",
              "    0% {\n",
              "      border-color: transparent;\n",
              "      border-bottom-color: var(--fill-color);\n",
              "      border-left-color: var(--fill-color);\n",
              "    }\n",
              "    20% {\n",
              "      border-color: transparent;\n",
              "      border-left-color: var(--fill-color);\n",
              "      border-top-color: var(--fill-color);\n",
              "    }\n",
              "    30% {\n",
              "      border-color: transparent;\n",
              "      border-left-color: var(--fill-color);\n",
              "      border-top-color: var(--fill-color);\n",
              "      border-right-color: var(--fill-color);\n",
              "    }\n",
              "    40% {\n",
              "      border-color: transparent;\n",
              "      border-right-color: var(--fill-color);\n",
              "      border-top-color: var(--fill-color);\n",
              "    }\n",
              "    60% {\n",
              "      border-color: transparent;\n",
              "      border-right-color: var(--fill-color);\n",
              "    }\n",
              "    80% {\n",
              "      border-color: transparent;\n",
              "      border-right-color: var(--fill-color);\n",
              "      border-bottom-color: var(--fill-color);\n",
              "    }\n",
              "    90% {\n",
              "      border-color: transparent;\n",
              "      border-bottom-color: var(--fill-color);\n",
              "    }\n",
              "  }\n",
              "</style>\n",
              "\n",
              "  <script>\n",
              "    async function quickchart(key) {\n",
              "      const quickchartButtonEl =\n",
              "        document.querySelector('#' + key + ' button');\n",
              "      quickchartButtonEl.disabled = true;  // To prevent multiple clicks.\n",
              "      quickchartButtonEl.classList.add('colab-df-spinner');\n",
              "      try {\n",
              "        const charts = await google.colab.kernel.invokeFunction(\n",
              "            'suggestCharts', [key], {});\n",
              "      } catch (error) {\n",
              "        console.error('Error during call to suggestCharts:', error);\n",
              "      }\n",
              "      quickchartButtonEl.classList.remove('colab-df-spinner');\n",
              "      quickchartButtonEl.classList.add('colab-df-quickchart-complete');\n",
              "    }\n",
              "    (() => {\n",
              "      let quickchartButtonEl =\n",
              "        document.querySelector('#df-4fde31a2-99b3-4296-bdb2-69cec04341ee button');\n",
              "      quickchartButtonEl.style.display =\n",
              "        google.colab.kernel.accessAllowed ? 'block' : 'none';\n",
              "    })();\n",
              "  </script>\n",
              "</div>\n",
              "\n",
              "    </div>\n",
              "  </div>\n"
            ],
            "application/vnd.google.colaboratory.intrinsic+json": {
              "type": "dataframe",
              "variable_name": "df",
              "summary": "{\n  \"name\": \"df\",\n  \"rows\": 210,\n  \"fields\": [\n    {\n      \"column\": \"tenure\",\n      \"properties\": {\n        \"dtype\": \"number\",\n        \"std\": 2,\n        \"min\": 1,\n        \"max\": 10,\n        \"num_unique_values\": 10,\n        \"samples\": [\n          3,\n          6,\n          8\n        ],\n        \"semantic_type\": \"\",\n        \"description\": \"\"\n      }\n    },\n    {\n      \"column\": \"drawing\",\n      \"properties\": {\n        \"dtype\": \"number\",\n        \"std\": 14,\n        \"min\": 50,\n        \"max\": 99,\n        \"num_unique_values\": 48,\n        \"samples\": [\n          80,\n          59,\n          78\n        ],\n        \"semantic_type\": \"\",\n        \"description\": \"\"\n      }\n    },\n    {\n      \"column\": \"color_theory\",\n      \"properties\": {\n        \"dtype\": \"number\",\n        \"std\": 14,\n        \"min\": 50,\n        \"max\": 99,\n        \"num_unique_values\": 48,\n        \"samples\": [\n          98,\n          97,\n          69\n        ],\n        \"semantic_type\": \"\",\n        \"description\": \"\"\n      }\n    },\n    {\n      \"column\": \"composition\",\n      \"properties\": {\n        \"dtype\": \"number\",\n        \"std\": 14,\n        \"min\": 50,\n        \"max\": 99,\n        \"num_unique_values\": 49,\n        \"samples\": [\n          75,\n          87,\n          51\n        ],\n        \"semantic_type\": \"\",\n        \"description\": \"\"\n      }\n    },\n    {\n      \"column\": \"modeling_3D\",\n      \"properties\": {\n        \"dtype\": \"number\",\n        \"std\": 14,\n        \"min\": 50,\n        \"max\": 99,\n        \"num_unique_values\": 50,\n        \"samples\": [\n          82,\n          93,\n          75\n        ],\n        \"semantic_type\": \"\",\n        \"description\": \"\"\n      }\n    },\n    {\n      \"column\": \"design\",\n      \"properties\": {\n        \"dtype\": \"number\",\n        \"std\": 12.382085386668388,\n        \"min\": 27.269861279447426,\n        \"max\": 97.75409820548369,\n        \"num_unique_values\": 210,\n        \"samples\": [\n          55.2948340925384,\n          54.51883420552155,\n          71.02112388772036\n        ],\n        \"semantic_type\": \"\",\n        \"description\": \"\"\n      }\n    }\n  ]\n}"
            }
          },
          "metadata": {},
          "execution_count": 3
        }
      ]
    },
    {
      "cell_type": "code",
      "source": [],
      "metadata": {
        "id": "gKrCMcgA-3_D"
      },
      "execution_count": null,
      "outputs": []
    },
    {
      "cell_type": "markdown",
      "source": [
        "**3-2. 로지스틱회귀**\n",
        "\n",
        "고객이탈도에 대한 데이터셋을 사용하여 다음의 값을 구하시오.\n",
        "- 종속변수 Churn, 독립변수는 MonthlyCharges, ServiceSatisfactionScore, FamilyPlanSize, PhoneService를 사용한다.\n",
        "- 1) 변수 'FamilyPlanSize'에 대한 p-value를 구하시오.\n",
        "- 2) 다른 변수의 영향은 무시하고 'PhoneService' 변수가 0에서 1이 됐을 때의 오즈비를 구하라\n",
        "- 3) 생성된 모델에 데이터를 넣어 고객이 이탈 할 확률값을 출력한 다음 그 확률값이 0.4보다 큰 고객의 수를 계산하라."
      ],
      "metadata": {
        "id": "nW20MAHubi-B"
      }
    },
    {
      "cell_type": "code",
      "source": [
        "import pandas as pd\n",
        "path = 'https://raw.githubusercontent.com/Soyoung-Yoon/bigdata/main/'\n",
        "df = pd.read_csv(path+'churn_delco.csv')\n",
        "print(df.columns)"
      ],
      "metadata": {
        "colab": {
          "base_uri": "https://localhost:8080/"
        },
        "id": "AZJ0YJJV_5e5",
        "outputId": "3e57f01a-feb7-4498-ee60-cbda86a3a986"
      },
      "execution_count": null,
      "outputs": [
        {
          "output_type": "stream",
          "name": "stdout",
          "text": [
            "Index(['customerID', 'SeniorCitizen', 'Partner', 'tenure', 'PhoneService',\n",
            "       'MultipleLines', 'InternetService', 'TechSupport', 'StreamingTV',\n",
            "       'StreamingMovies', 'Contract', 'PaperlessBilling', 'MonthlyCharges',\n",
            "       'Churn', 'TechInsurance', 'ServiceSatisfactionScore',\n",
            "       'MonthlyBonusUsage', 'FamilyPlanSize'],\n",
            "      dtype='object')\n"
          ]
        }
      ]
    },
    {
      "cell_type": "code",
      "source": [],
      "metadata": {
        "id": "f1TnAz802qsE"
      },
      "execution_count": null,
      "outputs": []
    },
    {
      "cell_type": "markdown",
      "source": [
        "**3-1. 로지스틱 회귀**\n",
        "\n",
        "콜센터 데이터를 사용해 로지스틱 회귀를 구행하라.\n",
        "- 상수항/절편을 포함하도록 하며, 종속변수는 churn(이탈지수)이다.\n",
        "- 1) 유의성이 낮은 변수의 갯수를 써라.\n",
        "- 2) 유의한 컬럼들을 가지고 다시 모델을 만든 후, 회귀계수의 평균을 구하라.\n",
        "- 3) 오즈비 구하는 문제, number_customer_calls가 5증가하면 오즈비는 몇 배 증가는가?\n",
        "   - (단, 실수의 경우 반올림하여 소수점 아래 세자리까지 표시되도록 하세요)"
      ],
      "metadata": {
        "id": "J9dPgueb1Qxy"
      }
    },
    {
      "cell_type": "code",
      "source": [
        "import pandas as pd\n",
        "import numpy as np\n",
        "from statsmodels.api import Logit, add_constant\n",
        "df = pd.read_csv('https://raw.githubusercontent.com/Soyoung-Yoon/bigdata/main/churn_08031.csv')\n",
        "print(df.head(3))"
      ],
      "metadata": {
        "id": "8DegZufpCfKB",
        "colab": {
          "base_uri": "https://localhost:8080/"
        },
        "outputId": "d7919885-1c93-4b71-b56c-314bf96d21f6"
      },
      "execution_count": null,
      "outputs": [
        {
          "output_type": "stream",
          "name": "stdout",
          "text": [
            "   Account Length  vmail_message  Day Mins  Day Calls  Day Charge  Eve Mins  \\\n",
            "0             128             25     265.1        110       45.07     197.4   \n",
            "1             107             26     161.6        123       27.47     195.5   \n",
            "2             137              0     243.4        114       41.38     121.2   \n",
            "\n",
            "   Eve Calls  Eve Charge  Night Mins  Night Calls  Night Charge  Intl Mins  \\\n",
            "0         99       16.78       244.7           91         11.01       10.0   \n",
            "1        103       16.62       254.4          103         11.45       13.7   \n",
            "2        110       10.30       162.6          104          7.32       12.2   \n",
            "\n",
            "   intl_calls  Intl Charge  number_customer_calls  churn  \n",
            "0           3         2.70                      1      0  \n",
            "1           3         3.70                      1      0  \n",
            "2           5         3.29                      0      0  \n"
          ]
        }
      ]
    },
    {
      "cell_type": "markdown",
      "source": [
        "**주의사항**\n",
        "- 1) 유의성이 낮은 변수의 갯수를 써라  pvalue > 0.05\n",
        "- 만일 변수의 범위에 절편을 포함하는 것이 아니라면 const를 제외하고 비교하시는 것이 맞습니다.\n",
        "- 본 기출복원에서는 const의 p-value가 0.05 보다 작아서 포함이든 불포함이든 답이 같습니다."
      ],
      "metadata": {
        "id": "1iQkmAYmxBma"
      }
    },
    {
      "cell_type": "code",
      "source": [
        "# const를 제외하고 구한 방법\n",
        "# result1 = model.pvalues[1:][model.pvalues > 0.05].shape[0]\n",
        "# result1 = (model.pvalues[1:] > 0.05).sum()\n",
        "\n",
        "# 영상에서는 const를 제외하지 않고 구했습니다.\n"
      ],
      "metadata": {
        "id": "6D7QSxS_wog9"
      },
      "execution_count": null,
      "outputs": []
    },
    {
      "cell_type": "code",
      "source": [],
      "metadata": {
        "id": "EM1aCsedxc65"
      },
      "execution_count": null,
      "outputs": []
    },
    {
      "cell_type": "markdown",
      "source": [
        "**3-2. 다중선형회귀**\n",
        "\n",
        "다음의 종속변수와 독립변수를 사용하여 다중선형회귀를 적용하시오.\n",
        "- 종속변수: PIQ\n",
        "- 독립변수: Brain, Height, Weight\n",
        "- 1) 가장 유의미한 변수의 회귀계수를 쓰시오.\n",
        "- 2) 결정계수값을 구하시오.\n",
        "- 3) 위에서 구한 모델을 사용하여 키:70, 몸무게:150, 뇌크기:90 인 경우의 PIQ 값을 구하시오.\n",
        "   - (단, 실수의 경우 반올림하여 소수점 아래 세자리까지 표시되도록 하세요)"
      ],
      "metadata": {
        "id": "5ThC67hU1Qxy"
      }
    },
    {
      "cell_type": "code",
      "source": [
        "import pandas as pd\n",
        "from statsmodels.api import OLS\n",
        "df = pd.read_csv('https://raw.githubusercontent.com/Soyoung-Yoon/bigdata/main/iqsize_08032.csv')\n",
        "print(df.head(3))\n"
      ],
      "metadata": {
        "colab": {
          "base_uri": "https://localhost:8080/"
        },
        "outputId": "7c1f590e-e4f8-4462-e7d6-8815bd3fa657",
        "id": "J_-q2vyw1Qxz"
      },
      "execution_count": null,
      "outputs": [
        {
          "output_type": "stream",
          "name": "stdout",
          "text": [
            "   PIQ   Brain  Height  Weight\n",
            "0  124   98.00    64.5     118\n",
            "1  150  103.84    73.3     143\n",
            "2  128   96.54    68.8     172\n"
          ]
        }
      ]
    }
  ],
  "metadata": {
    "colab": {
      "provenance": [],
      "toc_visible": true,
      "include_colab_link": true
    },
    "kernelspec": {
      "display_name": "Python 3",
      "name": "python3"
    },
    "language_info": {
      "name": "python"
    }
  },
  "nbformat": 4,
  "nbformat_minor": 0
}